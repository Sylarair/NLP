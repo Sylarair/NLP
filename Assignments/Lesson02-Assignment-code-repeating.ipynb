{
 "cells": [
  {
   "cell_type": "markdown",
   "metadata": {},
   "source": [
    "## City information"
   ]
  },
  {
   "cell_type": "code",
   "execution_count": 19,
   "metadata": {},
   "outputs": [],
   "source": [
    "import re\n",
    "import math"
   ]
  },
  {
   "cell_type": "code",
   "execution_count": 2,
   "metadata": {},
   "outputs": [],
   "source": [
    "coordination_source = \"\"\"\n",
    "{name:'兰州', geoCoord:[103.73, 36.03]},\n",
    "{name:'嘉峪关', geoCoord:[98.17, 39.47]},\n",
    "{name:'西宁', geoCoord:[101.74, 36.56]},\n",
    "{name:'成都', geoCoord:[104.06, 30.67]},\n",
    "{name:'石家庄', geoCoord:[114.48, 38.03]},\n",
    "{name:'拉萨', geoCoord:[102.73, 25.04]},\n",
    "{name:'贵阳', geoCoord:[106.71, 26.57]},\n",
    "{name:'武汉', geoCoord:[114.31, 30.52]},\n",
    "{name:'郑州', geoCoord:[113.65, 34.76]},\n",
    "{name:'济南', geoCoord:[117, 36.65]},\n",
    "{name:'南京', geoCoord:[118.78, 32.04]},\n",
    "{name:'合肥', geoCoord:[117.27, 31.86]},\n",
    "{name:'杭州', geoCoord:[120.19, 30.26]},\n",
    "{name:'南昌', geoCoord:[115.89, 28.68]},\n",
    "{name:'福州', geoCoord:[119.3, 26.08]},\n",
    "{name:'广州', geoCoord:[113.23, 23.16]},\n",
    "{name:'长沙', geoCoord:[113, 28.21]},\n",
    "//{name:'海口', geoCoord:[110.35, 20.02]},\n",
    "{name:'沈阳', geoCoord:[123.38, 41.8]},\n",
    "{name:'长春', geoCoord:[125.35, 43.88]},\n",
    "{name:'哈尔滨', geoCoord:[126.63, 45.75]},\n",
    "{name:'太原', geoCoord:[112.53, 37.87]},\n",
    "{name:'西安', geoCoord:[108.95, 34.27]},\n",
    "//{name:'台湾', geoCoord:[121.30, 25.03]},\n",
    "{name:'北京', geoCoord:[116.46, 39.92]},\n",
    "{name:'上海', geoCoord:[121.48, 31.22]},\n",
    "{name:'重庆', geoCoord:[106.54, 29.59]},\n",
    "{name:'天津', geoCoord:[117.2, 39.13]},\n",
    "{name:'呼和浩特', geoCoord:[111.65, 40.82]},\n",
    "{name:'南宁', geoCoord:[108.33, 22.84]},\n",
    "//{name:'西藏', geoCoord:[91.11, 29.97]},\n",
    "{name:'银川', geoCoord:[106.27, 38.47]},\n",
    "{name:'乌鲁木齐', geoCoord:[87.68, 43.77]},\n",
    "{name:'香港', geoCoord:[114.17, 22.28]},\n",
    "{name:'澳门', geoCoord:[113.54, 22.19]}\n",
    "\"\"\""
   ]
  },
  {
   "cell_type": "code",
   "execution_count": 5,
   "metadata": {},
   "outputs": [
    {
     "name": "stdout",
     "output_type": "stream",
     "text": [
      "<class 'str'>\n"
     ]
    }
   ],
   "source": [
    "print(type(coordination_source))"
   ]
  },
  {
   "cell_type": "code",
   "execution_count": 16,
   "metadata": {},
   "outputs": [],
   "source": [
    "def get_city_info(_city_infomation):\n",
    "    city_coord = {}\n",
    "    for _line in _city_infomation.split('\\n'):\n",
    "        if _line.startswith('//') or _line == '':\n",
    "            pass\n",
    "        else:\n",
    "            city = re.findall(\"name:'(\\w+)'\", _line)[0]\n",
    "            x_y = re.findall(\"geoCoord:\\[(\\d+.\\d+),\\s(\\d+.\\d+)]\", _line)[0]\n",
    "            city_coord[city] = tuple(map(float,x_y))\n",
    "    return city_coord"
   ]
  },
  {
   "cell_type": "code",
   "execution_count": 43,
   "metadata": {},
   "outputs": [
    {
     "name": "stdout",
     "output_type": "stream",
     "text": [
      "{'兰州': (103.73, 36.03), '嘉峪关': (98.17, 39.47), '西宁': (101.74, 36.56), '成都': (104.06, 30.67), '石家庄': (114.48, 38.03), '拉萨': (102.73, 25.04), '贵阳': (106.71, 26.57), '武汉': (114.31, 30.52), '郑州': (113.65, 34.76), '济南': (117.0, 36.65), '南京': (118.78, 32.04), '合肥': (117.27, 31.86), '杭州': (120.19, 30.26), '南昌': (115.89, 28.68), '福州': (119.3, 26.08), '广州': (113.23, 23.16), '长沙': (113.0, 28.21), '沈阳': (123.38, 41.8), '长春': (125.35, 43.88), '哈尔滨': (126.63, 45.75), '太原': (112.53, 37.87), '西安': (108.95, 34.27), '北京': (116.46, 39.92), '上海': (121.48, 31.22), '重庆': (106.54, 29.59), '天津': (117.2, 39.13), '呼和浩特': (111.65, 40.82), '南宁': (108.33, 22.84), '银川': (106.27, 38.47), '乌鲁木齐': (87.68, 43.77), '香港': (114.17, 22.28), '澳门': (113.54, 22.19)}\n"
     ]
    }
   ],
   "source": [
    "city_coord = get_city_info(coordination_source)\n",
    "print(city_coord)"
   ]
  },
  {
   "cell_type": "code",
   "execution_count": 26,
   "metadata": {},
   "outputs": [],
   "source": [
    "def get_geo_distance(origin, destination):\n",
    "    \"\"\"\n",
    "    Calculate the Haversine distance.\n",
    "\n",
    "    Parameters\n",
    "    ----------\n",
    "    origin : tuple of float\n",
    "        (lat, long)\n",
    "    destination : tuple of float\n",
    "        (lat, long)\n",
    "\n",
    "    Returns\n",
    "    -------\n",
    "    distance_in_km : float\n",
    "\n",
    "    Examples\n",
    "    --------\n",
    "    >>> origin = (48.1372, 11.5756)  # Munich\n",
    "    >>> destination = (52.5186, 13.4083)  # Berlin\n",
    "    >>> round(distance(origin, destination), 1)\n",
    "    504.2\n",
    "    \"\"\"\n",
    "    lat1, lon1 = origin\n",
    "    lat2, lon2 = destination\n",
    "    radius = 6371  # km\n",
    "\n",
    "    dlat = math.radians(lat2 - lat1)\n",
    "    dlon = math.radians(lon2 - lon1)\n",
    "    a = (math.sin(dlat / 2) * math.sin(dlat / 2) +\n",
    "         math.cos(math.radians(lat1)) * math.cos(math.radians(lat2)) *\n",
    "         math.sin(dlon / 2) * math.sin(dlon / 2))\n",
    "    c = 2 * math.atan2(math.sqrt(a), math.sqrt(1 - a))\n",
    "    d = radius * c\n",
    "\n",
    "    return d"
   ]
  },
  {
   "cell_type": "code",
   "execution_count": 25,
   "metadata": {},
   "outputs": [
    {
     "name": "stdout",
     "output_type": "stream",
     "text": [
      "[-0.08761552845011553, 0.15184364492350672]\n",
      "0.0032565059055805453\n",
      "0.11419364258198242 727.52769688981\n"
     ]
    }
   ],
   "source": [
    "city1_coord = city_coord['上海']\n",
    "city2_coord = city_coord['北京']\n",
    "lat1, lon1 = city1_coord\n",
    "lat2, lon2 = city2_coord\n",
    "radius = 6371  # km\n",
    "    \n",
    "dlat = math.radians(lat2 - lat1)\n",
    "dlon = math.radians(lon2 - lon1)\n",
    "a = (math.sin(dlat / 2) * math.sin(dlat / 2) +\n",
    "         math.cos(math.radians(lat1)) * math.cos(math.radians(lat2)) *\n",
    "         math.sin(dlon / 2) * math.sin(dlon / 2))\n",
    "c = 2 * math.atan2(math.sqrt(a), math.sqrt(1 - a))\n",
    "d = radius * c\n",
    "print([dlat, dlon])\n",
    "print(a)\n",
    "print(c, d)"
   ]
  },
  {
   "cell_type": "code",
   "execution_count": 45,
   "metadata": {},
   "outputs": [],
   "source": [
    "def get_distance_between_cities(city1, city2):\n",
    "#     print(city_coord[city1])\n",
    "    return get_geo_distance(city_coord[city1], city_coord[city2])"
   ]
  },
  {
   "cell_type": "code",
   "execution_count": 46,
   "metadata": {},
   "outputs": [
    {
     "data": {
      "text/plain": [
       "727.52769688981"
      ]
     },
     "execution_count": 46,
     "metadata": {},
     "output_type": "execute_result"
    }
   ],
   "source": [
    "get_distance_between_cities('北京', '上海')"
   ]
  },
  {
   "cell_type": "code",
   "execution_count": 36,
   "metadata": {},
   "outputs": [
    {
     "data": {
      "image/png": "[encoded data removed]",
      "text/plain": [
       "<Figure size 432x288 with 1 Axes>"
      ]
     },
     "metadata": {},
     "output_type": "display_data"
    }
   ],
   "source": [
    "import networkx as nx\n",
    "import matplotlib.pyplot as plt\n",
    "\n",
    "plt.rcParams['font.sans-serif'] = ['FangSong'] # 指定默认字体  \n",
    "plt.rcParams['axes.unicode_minus'] = False # 解决保存图像是负号'-'显示为方块的问题 \n",
    "    \n",
    "city_graph = nx.Graph()\n",
    "city_graph.add_nodes_from(list(city_coord.keys()))\n",
    "nx.draw(city_graph, city_coord, with_labels = True, node_size = 20)"
   ]
  },
  {
   "cell_type": "markdown",
   "metadata": {},
   "source": [
    "## Build connection between. Let's assume that two cities are connected if their distance is less than 700 km."
   ]
  },
  {
   "cell_type": "code",
   "execution_count": 49,
   "metadata": {},
   "outputs": [
    {
     "name": "stdout",
     "output_type": "stream",
     "text": [
      "defaultdict(<class 'list'>, {})\n",
      "<class 'collections.defaultdict'>\n",
      "[]\n",
      "defaultdict(<class 'list'>, {'兰州': ['嘉峪关', '西宁', '成都', '拉萨', '贵阳', '西安', '重庆', '南宁', '银川'], '嘉峪关': ['兰州', '西宁', '成都', '拉萨'], '西宁': ['兰州', '嘉峪关', '成都', '拉萨', '贵阳', '重庆', '银川'], '成都': ['兰州', '嘉峪关', '西宁', '拉萨', '贵阳', '西安', '重庆', '南宁', '银川'], '石家庄': ['武汉', '郑州', '济南', '南京', '合肥', '南昌', '广州', '长沙', '太原', '西安', '北京', '天津', '呼和浩特'], '拉萨': ['兰州', '嘉峪关', '西宁', '成都', '贵阳', '重庆', '南宁', '银川'], '贵阳': ['兰州', '西宁', '成都', '拉萨', '西安', '重庆', '南宁', '银川'], '武汉': ['石家庄', '郑州', '济南', '南京', '合肥', '杭州', '南昌', '福州', '广州', '长沙', '太原', '西安', '北京', '天津', '呼和浩特', '香港', '澳门'], '郑州': ['石家庄', '武汉', '济南', '南京', '合肥', '南昌', '广州', '长沙', '太原', '西安', '北京', '天津', '呼和浩特', '香港', '澳门'], '济南': ['石家庄', '武汉', '郑州', '南京', '合肥', '杭州', '南昌', '福州', '长沙', '太原', '北京', '上海', '天津', '呼和浩特'], '南京': ['石家庄', '武汉', '郑州', '济南', '合肥', '杭州', '南昌', '福州', '长沙', '北京', '上海', '天津'], '合肥': ['石家庄', '武汉', '郑州', '济南', '南京', '杭州', '南昌', '福州', '广州', '长沙', '太原', '北京', '上海', '天津', '香港', '澳门'], '杭州': ['武汉', '济南', '南京', '合肥', '南昌', '福州', '北京', '上海', '天津'], '南昌': ['石家庄', '武汉', '郑州', '济南', '南京', '合肥', '杭州', '福州', '广州', '长沙', '太原', '北京', '上海', '天津', '香港', '澳门'], '福州': ['武汉', '济南', '南京', '合肥', '杭州', '南昌', '广州', '上海', '香港', '澳门'], '广州': ['石家庄', '武汉', '郑州', '合肥', '南昌', '福州', '长沙', '太原', '西安', '南宁', '香港', '澳门'], '长沙': ['石家庄', '武汉', '郑州', '济南', '南京', '合肥', '南昌', '广州', '太原', '西安', '北京', '天津', '呼和浩特', '南宁', '香港', '澳门'], '沈阳': ['长春', '哈尔滨', '上海'], '长春': ['沈阳', '哈尔滨'], '哈尔滨': ['沈阳', '长春'], '太原': ['石家庄', '武汉', '郑州', '济南', '合肥', '南昌', '广州', '长沙', '西安', '北京', '天津', '呼和浩特', '银川', '澳门'], '西安': ['兰州', '成都', '石家庄', '贵阳', '武汉', '郑州', '广州', '长沙', '太原', '重庆', '呼和浩特', '南宁', '银川'], '北京': ['石家庄', '武汉', '郑州', '济南', '南京', '合肥', '杭州', '南昌', '长沙', '太原', '天津', '呼和浩特'], '上海': ['济南', '南京', '合肥', '杭州', '南昌', '福州', '沈阳', '天津'], '重庆': ['兰州', '西宁', '成都', '拉萨', '贵阳', '西安', '呼和浩特', '南宁', '银川'], '天津': ['石家庄', '武汉', '郑州', '济南', '南京', '合肥', '杭州', '南昌', '长沙', '太原', '北京', '上海', '呼和浩特'], '呼和浩特': ['石家庄', '武汉', '郑州', '济南', '长沙', '太原', '西安', '北京', '重庆', '天津', '银川'], '南宁': ['兰州', '成都', '拉萨', '贵阳', '广州', '长沙', '西安', '重庆', '银川', '香港', '澳门'], '银川': ['兰州', '西宁', '成都', '拉萨', '贵阳', '太原', '西安', '重庆', '呼和浩特', '南宁'], '香港': ['武汉', '郑州', '合肥', '南昌', '福州', '广州', '长沙', '南宁', '澳门'], '澳门': ['武汉', '郑州', '合肥', '南昌', '福州', '广州', '长沙', '太原', '南宁', '香港']})\n"
     ]
    }
   ],
   "source": [
    "threshold = 700\n",
    "\n",
    "from collections import defaultdict\n",
    "print(defaultdict(list))\n",
    "print(type(defaultdict(list)))\n",
    "print(defaultdict(list)['北京'])\n",
    "def build_connection_between_cities(city_info):\n",
    "    city_connections = defaultdict(list)\n",
    "    cities = list(city_info.keys())\n",
    "    \n",
    "    for city1 in cities:\n",
    "        for city2 in cities:\n",
    "            if city1 == city2:\n",
    "                pass\n",
    "            elif get_distance_between_cities(city1, city2) >= threshold:\n",
    "                pass\n",
    "            else:\n",
    "                city_connections[city1].append(city2)\n",
    "                \n",
    "    return city_connections\n",
    "        \n",
    "city_connections = build_connection_between_cities(city_coord)\n",
    "print(city_connections)"
   ]
  },
  {
   "cell_type": "code",
   "execution_count": 52,
   "metadata": {},
   "outputs": [
    {
     "data": {
      "image/png": "[encoded data removed]",
      "text/plain": [
       "<Figure size 432x288 with 1 Axes>"
      ]
     },
     "metadata": {},
     "output_type": "display_data"
    }
   ],
   "source": [
    "city_connections_graph = nx.Graph(city_connections)\n",
    "nx.draw(city_connections_graph, city_coord, with_labels = True, node_size = 10)"
   ]
  },
  {
   "cell_type": "markdown",
   "metadata": {},
   "source": [
    "### BFS"
   ]
  },
  {
   "cell_type": "code",
   "execution_count": 71,
   "metadata": {},
   "outputs": [],
   "source": [
    "def bfs(searching_dict, origin, destination):\n",
    "    pathes = [[origin]]\n",
    "    visited = set()\n",
    "    \n",
    "    while pathes:\n",
    "        path = pathes.pop(0)\n",
    "        frontier = path[-1]\n",
    "        \n",
    "        if frontier in visited:\n",
    "            pass\n",
    "        \n",
    "        successors = searching_dict[frontier]\n",
    "        \n",
    "        for city in successors:\n",
    "            if city in path:\n",
    "                pass\n",
    "            else:\n",
    "                new_path = path + [city]\n",
    "                pathes.append(new_path)\n",
    "                \n",
    "            if city == destination:\n",
    "                return new_path\n",
    "        visited.add(frontier)\n",
    "            "
   ]
  },
  {
   "cell_type": "code",
   "execution_count": 66,
   "metadata": {},
   "outputs": [],
   "source": [
    "def search_1(graph,start,destination):\n",
    "    pathes = [[start]]\n",
    "    visited = set()\n",
    "    \n",
    "    while pathes:\n",
    "        path = pathes.pop(0)\n",
    "        froniter = path[-1]\n",
    "        \n",
    "        if froniter in visited: continue\n",
    "            \n",
    "        successsors = graph[froniter]\n",
    "        \n",
    "        for city in successsors:\n",
    "            if city in path: continue  # check loop\n",
    "            \n",
    "            new_path = path+[city]\n",
    "            \n",
    "            pathes.append(new_path)  #bfs\n",
    "            #pathes = [new_path] + pathes #dfs\n",
    "            \n",
    "            if city == destination:\n",
    "                return new_path\n",
    "        visited.add(froniter)"
   ]
  },
  {
   "cell_type": "code",
   "execution_count": 72,
   "metadata": {},
   "outputs": [
    {
     "data": {
      "text/plain": [
       "['上海', '合肥', '香港']"
      ]
     },
     "execution_count": 72,
     "metadata": {},
     "output_type": "execute_result"
    }
   ],
   "source": [
    "bfs(city_connections, '上海', '香港')\n",
    "# search_1(city_connections, '上海', '香港')"
   ]
  },
  {
   "cell_type": "code",
   "execution_count": 84,
   "metadata": {},
   "outputs": [
    {
     "data": {
      "text/plain": [
       "['北京', '济南', '上海']"
      ]
     },
     "execution_count": 84,
     "metadata": {},
     "output_type": "execute_result"
    }
   ],
   "source": [
    "def bfs_with_strategy(searching_dict, origin, destination, strategy):\n",
    "    pathes = [[origin]]\n",
    "#     visited = set()\n",
    "    \n",
    "    while pathes:\n",
    "        path = pathes.pop(0)\n",
    "        frontier = path[-1]\n",
    "        \n",
    "#         if frontier in visited:\n",
    "#             pass\n",
    "        \n",
    "        successors = searching_dict[frontier]\n",
    "        \n",
    "        for city in successors:\n",
    "            if city in path:\n",
    "                pass\n",
    "            else:\n",
    "                new_path = path + [city]\n",
    "                pathes.append(new_path)\n",
    "        \n",
    "        pathes = strategy(pathes)\n",
    "                \n",
    "        if pathes and pathes[0][-1] == destination:\n",
    "#             return new_path\n",
    "            return pathes[0]\n",
    "#         visited.add(frontier)\n",
    "\n",
    "# test_pathes = bfs_with_strategy(city_connections, '北京', '上海', strategy = lambda x:x)\n",
    "# sorted(test_pathes, key = lambda x:x[1])\n",
    "bfs_with_strategy(city_connections, '北京', '上海', strategy = lambda x:x)"
   ]
  },
  {
   "cell_type": "code",
   "execution_count": 85,
   "metadata": {},
   "outputs": [],
   "source": [
    "def sorted_by_distance(pathes):\n",
    "    def get_path_distance(path):\n",
    "        distance = 0\n",
    "        for i,_ in enumerate(path[:-1]):\n",
    "            distance += get_distance_between_cities(path[i], path[i+1])\n",
    "            \n",
    "        return distance\n",
    "    \n",
    "    return sorted(pathes, key = get_path_distance)"
   ]
  },
  {
   "cell_type": "code",
   "execution_count": 142,
   "metadata": {},
   "outputs": [],
   "source": [
    "def dfs(searching_dict, origin, destination):\n",
    "    pathes = [[origin]]\n",
    "    visited = set()\n",
    "    \n",
    "    while pathes:\n",
    "        path = pathes.pop(0)\n",
    "        frontier = path[-1]\n",
    "        \n",
    "        if frontier in visited:\n",
    "            pass\n",
    "        \n",
    "        successors = searching_dict[frontier]\n",
    "        \n",
    "        for city in successors:\n",
    "            if city in path:\n",
    "                pass\n",
    "            else:\n",
    "                new_path = [city] + path \n",
    "                pathes.append(new_path)\n",
    "                \n",
    "            if city == destination:\n",
    "                return new_path\n",
    "        visited.add(frontier)"
   ]
  },
  {
   "cell_type": "code",
   "execution_count": 87,
   "metadata": {},
   "outputs": [
    {
     "data": {
      "text/plain": [
       "['北京', '武汉', '广州']"
      ]
     },
     "execution_count": 87,
     "metadata": {},
     "output_type": "execute_result"
    }
   ],
   "source": [
    "bfs_with_strategy(city_connections, '北京', '广州', strategy = sorted_by_distance)"
   ]
  },
  {
   "cell_type": "code",
   "execution_count": 144,
   "metadata": {},
   "outputs": [
    {
     "ename": "KeyboardInterrupt",
     "evalue": "",
     "output_type": "error",
     "traceback": [
      "\u001b[0;31m---------------------------------------------------------------------------\u001b[0m",
      "\u001b[0;31mKeyboardInterrupt\u001b[0m                         Traceback (most recent call last)",
      "\u001b[0;32m<ipython-input-144-26060d539b0e>\u001b[0m in \u001b[0;36m<module>\u001b[0;34m\u001b[0m\n\u001b[0;32m----> 1\u001b[0;31m \u001b[0mdfs\u001b[0m\u001b[0;34m(\u001b[0m\u001b[0mcity_connections\u001b[0m\u001b[0;34m,\u001b[0m \u001b[0;34m'北京'\u001b[0m\u001b[0;34m,\u001b[0m \u001b[0;34m'广州'\u001b[0m\u001b[0;34m)\u001b[0m\u001b[0;34m\u001b[0m\u001b[0m\n\u001b[0m",
      "\u001b[0;32m<ipython-input-142-cbdb675d0c47>\u001b[0m in \u001b[0;36mdfs\u001b[0;34m(searching_dict, origin, destination)\u001b[0m\n\u001b[1;32m      4\u001b[0m \u001b[0;34m\u001b[0m\u001b[0m\n\u001b[1;32m      5\u001b[0m     \u001b[0;32mwhile\u001b[0m \u001b[0mpathes\u001b[0m\u001b[0;34m:\u001b[0m\u001b[0;34m\u001b[0m\u001b[0m\n\u001b[0;32m----> 6\u001b[0;31m         \u001b[0mpath\u001b[0m \u001b[0;34m=\u001b[0m \u001b[0mpathes\u001b[0m\u001b[0;34m.\u001b[0m\u001b[0mpop\u001b[0m\u001b[0;34m(\u001b[0m\u001b[0;36m0\u001b[0m\u001b[0;34m)\u001b[0m\u001b[0;34m\u001b[0m\u001b[0m\n\u001b[0m\u001b[1;32m      7\u001b[0m         \u001b[0mfrontier\u001b[0m \u001b[0;34m=\u001b[0m \u001b[0mpath\u001b[0m\u001b[0;34m[\u001b[0m\u001b[0;34m-\u001b[0m\u001b[0;36m1\u001b[0m\u001b[0;34m]\u001b[0m\u001b[0;34m\u001b[0m\u001b[0m\n\u001b[1;32m      8\u001b[0m \u001b[0;34m\u001b[0m\u001b[0m\n",
      "\u001b[0;31mKeyboardInterrupt\u001b[0m: "
     ]
    }
   ],
   "source": [
    "dfs(city_connections, '北京', '广州')"
   ]
  },
  {
   "cell_type": "markdown",
   "metadata": {},
   "source": [
    "## Machine Learning"
   ]
  },
  {
   "cell_type": "code",
   "execution_count": 89,
   "metadata": {},
   "outputs": [],
   "source": [
    "from sklearn.datasets import load_boston\n",
    "import random"
   ]
  },
  {
   "cell_type": "code",
   "execution_count": 96,
   "metadata": {},
   "outputs": [],
   "source": [
    "dataset = load_boston()\n",
    "# dataset.shape"
   ]
  },
  {
   "cell_type": "code",
   "execution_count": 92,
   "metadata": {},
   "outputs": [],
   "source": [
    "x, y = dataset['data'], dataset['target']"
   ]
  },
  {
   "cell_type": "code",
   "execution_count": 97,
   "metadata": {},
   "outputs": [
    {
     "name": "stdout",
     "output_type": "stream",
     "text": [
      "(506, 13)\n"
     ]
    },
    {
     "data": {
      "text/plain": [
       "(506,)"
      ]
     },
     "execution_count": 97,
     "metadata": {},
     "output_type": "execute_result"
    }
   ],
   "source": [
    "print(x.shape)\n",
    "y.shape"
   ]
  },
  {
   "cell_type": "code",
   "execution_count": 100,
   "metadata": {},
   "outputs": [
    {
     "data": {
      "text/plain": [
       "array(['CRIM', 'ZN', 'INDUS', 'CHAS', 'NOX', 'RM', 'AGE', 'DIS', 'RAD',\n",
       "       'TAX', 'PTRATIO', 'B', 'LSTAT'], dtype='<U7')"
      ]
     },
     "execution_count": 100,
     "metadata": {},
     "output_type": "execute_result"
    }
   ],
   "source": [
    "dataset.feature_names"
   ]
  },
  {
   "cell_type": "code",
   "execution_count": 102,
   "metadata": {},
   "outputs": [
    {
     "data": {
      "text/plain": [
       "\".. _boston_dataset:\\n\\nBoston house prices dataset\\n---------------------------\\n\\n**Data Set Characteristics:**  \\n\\n    :Number of Instances: 506 \\n\\n    :Number of Attributes: 13 numeric/categorical predictive. Median Value (attribute 14) is usually the target.\\n\\n    :Attribute Information (in order):\\n        - CRIM     per capita crime rate by town\\n        - ZN       proportion of residential land zoned for lots over 25,000 sq.ft.\\n        - INDUS    proportion of non-retail business acres per town\\n        - CHAS     Charles River dummy variable (= 1 if tract bounds river; 0 otherwise)\\n        - NOX      nitric oxides concentration (parts per 10 million)\\n        - RM       average number of rooms per dwelling\\n        - AGE      proportion of owner-occupied units built prior to 1940\\n        - DIS      weighted distances to five Boston employment centres\\n        - RAD      index of accessibility to radial highways\\n        - TAX      full-value property-tax rate per $10,000\\n        - PTRATIO  pupil-teacher ratio by town\\n        - B        1000(Bk - 0.63)^2 where Bk is the proportion of blacks by town\\n        - LSTAT    % lower status of the population\\n        - MEDV     Median value of owner-occupied homes in $1000's\\n\\n    :Missing Attribute Values: None\\n\\n    :Creator: Harrison, D. and Rubinfeld, D.L.\\n\\nThis is a copy of UCI ML housing dataset.\\nhttps://archive.ics.uci.edu/ml/machine-learning-databases/housing/\\n\\n\\nThis dataset was taken from the StatLib library which is maintained at Carnegie Mellon University.\\n\\nThe Boston house-price data of Harrison, D. and Rubinfeld, D.L. 'Hedonic\\nprices and the demand for clean air', J. Environ. Economics & Management,\\nvol.5, 81-102, 1978.   Used in Belsley, Kuh & Welsch, 'Regression diagnostics\\n...', Wiley, 1980.   N.B. Various transformations are used in the table on\\npages 244-261 of the latter.\\n\\nThe Boston house-price data has been used in many machine learning papers that address regression\\nproblems.   \\n     \\n.. topic:: References\\n\\n   - Belsley, Kuh & Welsch, 'Regression diagnostics: Identifying Influential Data and Sources of Collinearity', Wiley, 1980. 244-261.\\n   - Quinlan,R. (1993). Combining Instance-Based and Model-Based Learning. In Proceedings on the Tenth International Conference of Machine Learning, 236-243, University of Massachusetts, Amherst. Morgan Kaufmann.\\n\""
      ]
     },
     "execution_count": 102,
     "metadata": {},
     "output_type": "execute_result"
    }
   ],
   "source": [
    "dataset['DESCR']"
   ]
  },
  {
   "cell_type": "code",
   "execution_count": 107,
   "metadata": {},
   "outputs": [
    {
     "name": "stdout",
     "output_type": "stream",
     "text": [
      "(506, 13)\n"
     ]
    },
    {
     "data": {
      "text/plain": [
       "(506,)"
      ]
     },
     "execution_count": 107,
     "metadata": {},
     "output_type": "execute_result"
    }
   ],
   "source": [
    "print(x[:,6].shape)\n",
    "y.shape"
   ]
  },
  {
   "cell_type": "code",
   "execution_count": 108,
   "metadata": {},
   "outputs": [
    {
     "data": {
      "text/plain": [
       "<matplotlib.collections.PathCollection at 0x12b456a20>"
      ]
     },
     "execution_count": 108,
     "metadata": {},
     "output_type": "execute_result"
    },
    {
     "data": {
      "image/png": "[encoded data removed]",
      "text/plain": [
       "<Figure size 432x288 with 1 Axes>"
      ]
     },
     "metadata": {
      "needs_background": "light"
     },
     "output_type": "display_data"
    }
   ],
   "source": [
    "plt.scatter(x[:,5], y)"
   ]
  },
  {
   "cell_type": "markdown",
   "metadata": {},
   "source": [
    "## Gradient decent"
   ]
  },
  {
   "cell_type": "markdown",
   "metadata": {},
   "source": [
    "$$ y = k*x + b $$"
   ]
  },
  {
   "cell_type": "markdown",
   "metadata": {},
   "source": [
    "### Loss fucntion\n",
    "$$ loss = \\frac{1}{n} \\sum{(y_i - \\hat{y_i})}^2 $$\n",
    "$$ loss = \\frac{1}{n} \\sum{(y_i - (k*x_i + b_i))}^2 $$"
   ]
  },
  {
   "cell_type": "code",
   "execution_count": 123,
   "metadata": {},
   "outputs": [],
   "source": [
    "def loss(y, y_hat):\n",
    "    return sum((y_i - y_hat_i)**2 for y_i, y_hat_i in zip(list(y), list(y_hat))) / len(list(y))"
   ]
  },
  {
   "cell_type": "markdown",
   "metadata": {},
   "source": [
    "### Define partial derivative\n",
    "$$ \\frac{\\partial{loss}}{\\partial{k}} = -\\frac{2}{n} \\sum(y_i - \\hat{y_i})x_i $$\n",
    "$$ \\frac{\\partial{loss}}{\\partial{b}} = -\\frac{2}{n} \\sum(y_i - \\hat{y_i}) $$"
   ]
  },
  {
   "cell_type": "code",
   "execution_count": 130,
   "metadata": {},
   "outputs": [],
   "source": [
    "def partial_derivative_for_k(x, y, y_hat):\n",
    "    partial_derivative_k = 0\n",
    "    \n",
    "    for i in range(len(list(y))):\n",
    "        partial_derivative_k += (list(y)[i] - list(y_hat)[i]) * list(x)[i]\n",
    "        \n",
    "    return -2 * partial_derivative_k / len(y)\n",
    "\n",
    "def partial_derivative_for_b(y, y_hat):\n",
    "    partial_derivative_b = 0\n",
    "    \n",
    "    for i in range(len(list(y))):\n",
    "        partial_derivative_b += (list(y)[i] - list(y_hat)[i])\n",
    "        \n",
    "    return -2 * partial_derivative_b / len(y)"
   ]
  },
  {
   "cell_type": "code",
   "execution_count": 115,
   "metadata": {},
   "outputs": [],
   "source": [
    "def linear_function(k, b, x):\n",
    "    return k * x + b"
   ]
  },
  {
   "cell_type": "code",
   "execution_count": 138,
   "metadata": {},
   "outputs": [
    {
     "name": "stdout",
     "output_type": "stream",
     "text": [
      "<class 'list'>\n",
      "<class 'list'>\n",
      "This is the 1 time's iteration. The loss is 96238.46456161771. The k is -38.37370930958074, and b is -44.659967363446405\n",
      "This is the 2 time's iteration. The loss is 3176.1277663996425. The k is 0.8523966762482829, and b is -38.49281722775062\n",
      "This is the 3 time's iteration. The loss is 145.6793915512659. The k is 7.930827285486046, and b is -37.37944478597768\n",
      "This is the 4 time's iteration. The loss is 46.996929865689566. The k is 9.20808193439407, and b is -37.17804676134618\n",
      "This is the 5 time's iteration. The loss is 43.78343503004236. The k is 9.438491309268665, and b is -37.14121826696596\n",
      "This is the 6 time's iteration. The loss is 43.67875718346831. The k is 9.479993306049533, and b is -37.13408711608344\n",
      "This is the 7 time's iteration. The loss is 43.675313747764264. The k is 9.487406232893866, and b is -37.132315085740835\n",
      "This is the 8 time's iteration. The loss is 43.67516688957835. The k is 9.488667669725562, and b is -37.13151024670421\n",
      "This is the 9 time's iteration. The loss is 43.67512739665262. The k is 9.488819064037068, and b is -37.13088005783412\n",
      "This is the 10 time's iteration. The loss is 43.67509141662233. The k is 9.4887701650904, and b is -37.130281501899354\n",
      "This is the 11 time's iteration. The loss is 43.67505556766858. The k is 9.488685140756543, and b is -37.129688770843245\n",
      "This is the 12 time's iteration. The loss is 43.675019739659035. The k is 9.48859361577684, and b is -37.12909720747121\n",
      "This is the 13 time's iteration. The loss is 43.674983928999325. The k is 9.488500936049377, and b is -37.12850597134593\n",
      "This is the 14 time's iteration. The loss is 43.674948135564414. The k is 9.488408066258339, and b is -37.127914910779104\n",
      "This is the 15 time's iteration. The loss is 43.67491235934218. The k is 9.488315180480422, and b is -37.127323998369974\n",
      "This is the 16 time's iteration. The loss is 43.67487660032433. The k is 9.488222310124051, and b is -37.12673322914594\n",
      "This is the 17 time's iteration. The loss is 43.67484085850254. The k is 9.488129460852605, and b is -37.12614260218169\n",
      "This is the 18 time's iteration. The loss is 43.674805133868446. The k is 9.488036633683658, and b is -37.12555211728223\n",
      "This is the 19 time's iteration. The loss is 43.67476942641387. The k is 9.487943828796437, and b is -37.12496177438441\n",
      "This is the 20 time's iteration. The loss is 43.67473373613051. The k is 9.487851046218886, and b is -37.12437157344883\n",
      "This is the 21 time's iteration. The loss is 43.67469806301021. The k is 9.487758285951646, and b is -37.12378151444042\n",
      "This is the 22 time's iteration. The loss is 43.67466240704458. The k is 9.48766554799044, and b is -37.12319159732486\n",
      "This is the 23 time's iteration. The loss is 43.67462676822547. The k is 9.487572832330098, and b is -37.12260182206802\n",
      "This is the 24 time's iteration. The loss is 43.67459114654456. The k is 9.487480138965292, and b is -37.12201218863577\n",
      "This is the 25 time's iteration. The loss is 43.67455554199364. The k is 9.48738746789067, and b is -37.12142269699401\n",
      "This is the 26 time's iteration. The loss is 43.674519954564474. The k is 9.48729481910087, and b is -37.120833347108636\n",
      "This is the 27 time's iteration. The loss is 43.67448438424884. The k is 9.487202192590534, and b is -37.120244138945566\n",
      "This is the 28 time's iteration. The loss is 43.67444883103854. The k is 9.487109588354304, and b is -37.119655072470714\n",
      "This is the 29 time's iteration. The loss is 43.6744132949252. The k is 9.487017006386825, and b is -37.11906614765001\n",
      "This is the 30 time's iteration. The loss is 43.67437777590076. The k is 9.48692444668274, and b is -37.11847736444939\n",
      "This is the 31 time's iteration. The loss is 43.67434227395704. The k is 9.486831909236699, and b is -37.1178887228348\n",
      "This is the 32 time's iteration. The loss is 43.67430678908557. The k is 9.486739394043346, and b is -37.117300222772194\n",
      "This is the 33 time's iteration. The loss is 43.67427132127842. The k is 9.48664690109733, and b is -37.116711864227526\n",
      "This is the 34 time's iteration. The loss is 43.67423587052725. The k is 9.486554430393303, and b is -37.11612364716677\n",
      "This is the 35 time's iteration. The loss is 43.674200436823824. The k is 9.486461981925917, and b is -37.11553557155591\n",
      "This is the 36 time's iteration. The loss is 43.67416502016. The k is 9.486369555689821, and b is -37.11494763736091\n",
      "This is the 37 time's iteration. The loss is 43.67412962052758. The k is 9.486277151679671, and b is -37.114359844547785\n",
      "This is the 38 time's iteration. The loss is 43.67409423791842. The k is 9.486184769890123, and b is -37.113772193082525\n",
      "This is the 39 time's iteration. The loss is 43.67405887232427. The k is 9.486092410315834, and b is -37.11318468293114\n",
      "This is the 40 time's iteration. The loss is 43.674023523737. The k is 9.486000072951459, and b is -37.112597314059656\n",
      "This is the 41 time's iteration. The loss is 43.67398819214832. The k is 9.48590775779166, and b is -37.1120100864341\n",
      "This is the 42 time's iteration. The loss is 43.67395287755012. The k is 9.485815464831097, and b is -37.111423000020494\n",
      "This is the 43 time's iteration. The loss is 43.673917579934304. The k is 9.485723194064432, and b is -37.11083605478489\n",
      "This is the 44 time's iteration. The loss is 43.673882299292615. The k is 9.485630945486326, and b is -37.110249250693336\n",
      "This is the 45 time's iteration. The loss is 43.673847035616944. The k is 9.485538719091444, and b is -37.10966258771189\n",
      "This is the 46 time's iteration. The loss is 43.67381178889907. The k is 9.485446514874454, and b is -37.10907606580661\n",
      "This is the 47 time's iteration. The loss is 43.67377655913095. The k is 9.485354332830019, and b is -37.108489684943585\n",
      "This is the 48 time's iteration. The loss is 43.67374134630422. The k is 9.485262172952808, and b is -37.107903445088894\n",
      "This is the 49 time's iteration. The loss is 43.67370615041097. The k is 9.485170035237493, and b is -37.10731734620863\n",
      "This is the 50 time's iteration. The loss is 43.67367097144291. The k is 9.485077919678742, and b is -37.10673138826889\n",
      "This is the 51 time's iteration. The loss is 43.673635809392. The k is 9.484985826271227, and b is -37.10614557123578\n",
      "This is the 52 time's iteration. The loss is 43.67360066425. The k is 9.484893755009624, and b is -37.105559895075416\n",
      "This is the 53 time's iteration. The loss is 43.67356553600889. The k is 9.484801705888605, and b is -37.104974359753925\n",
      "This is the 54 time's iteration. The loss is 43.6735304246604. The k is 9.484709678902846, and b is -37.10438896523744\n",
      "This is the 55 time's iteration. The loss is 43.67349533019654. The k is 9.484617674047024, and b is -37.1038037114921\n",
      "This is the 56 time's iteration. The loss is 43.67346025260911. The k is 9.48452569131582, and b is -37.10321859848405\n",
      "This is the 57 time's iteration. The loss is 43.673425191890104. The k is 9.48443373070391, and b is -37.10263362617945\n",
      "This is the 58 time's iteration. The loss is 43.67339014803122. The k is 9.484341792205976, and b is -37.102048794544466\n",
      "This is the 59 time's iteration. The loss is 43.67335512102457. The k is 9.484249875816703, and b is -37.10146410354527\n",
      "This is the 60 time's iteration. The loss is 43.67332011086187. The k is 9.484157981530771, and b is -37.10087955314804\n",
      "This is the 61 time's iteration. The loss is 43.67328511753513. The k is 9.484066109342866, and b is -37.10029514331897\n",
      "This is the 62 time's iteration. The loss is 43.67325014103621. The k is 9.483974259247674, and b is -37.09971087402425\n",
      "This is the 63 time's iteration. The loss is 43.673215181357. The k is 9.48388243123988, and b is -37.09912674523009\n",
      "This is the 64 time's iteration. The loss is 43.673180238489444. The k is 9.483790625314178, and b is -37.0985427569027\n",
      "This is the 65 time's iteration. The loss is 43.67314531242543. The k is 9.483698841465253, and b is -37.09795890900831\n",
      "This is the 66 time's iteration. The loss is 43.67311040315694. The k is 9.483607079687799, and b is -37.097375201513145\n",
      "This is the 67 time's iteration. The loss is 43.67307551067583. The k is 9.483515339976506, and b is -37.09679163438344\n",
      "This is the 68 time's iteration. The loss is 43.67304063497407. The k is 9.483423622326072, and b is -37.09620820758545\n",
      "This is the 69 time's iteration. The loss is 43.673005776043574. The k is 9.483331926731186, and b is -37.09562492108542\n",
      "This is the 70 time's iteration. The loss is 43.672970933876236. The k is 9.483240253186548, and b is -37.09504177484961\n",
      "This is the 71 time's iteration. The loss is 43.67293610846404. The k is 9.483148601686855, and b is -37.094458768844305\n"
     ]
    },
    {
     "name": "stdout",
     "output_type": "stream",
     "text": [
      "This is the 72 time's iteration. The loss is 43.67290129979895. The k is 9.483056972226807, and b is -37.093875903035766\n",
      "This is the 73 time's iteration. The loss is 43.67286650787286. The k is 9.482965364801101, and b is -37.09329317739029\n",
      "This is the 74 time's iteration. The loss is 43.67283173267777. The k is 9.48287377940444, and b is -37.092710591874166\n",
      "This is the 75 time's iteration. The loss is 43.67279697420552. The k is 9.482782216031527, and b is -37.0921281464537\n",
      "This is the 76 time's iteration. The loss is 43.672762232448264. The k is 9.482690674677066, and b is -37.09154584109521\n",
      "This is the 77 time's iteration. The loss is 43.67272750739779. The k is 9.48259915533576, and b is -37.090963675765\n",
      "This is the 78 time's iteration. The loss is 43.67269279904622. The k is 9.48250765800232, and b is -37.090381650429414\n",
      "This is the 79 time's iteration. The loss is 43.67265810738536. The k is 9.48241618267145, and b is -37.08979976505477\n",
      "This is the 80 time's iteration. The loss is 43.672623432407256. The k is 9.48232472933786, and b is -37.08921801960742\n",
      "This is the 81 time's iteration. The loss is 43.67258877410387. The k is 9.482233297996258, and b is -37.08863641405372\n",
      "This is the 82 time's iteration. The loss is 43.672554132467255. The k is 9.482141888641358, and b is -37.08805494836002\n",
      "This is the 83 time's iteration. The loss is 43.67251950748933. The k is 9.482050501267874, and b is -37.08747362249269\n",
      "This is the 84 time's iteration. The loss is 43.67248489916213. The k is 9.481959135870518, and b is -37.086892436418104\n",
      "This is the 85 time's iteration. The loss is 43.67245030747757. The k is 9.481867792444007, and b is -37.08631139010265\n",
      "This is the 86 time's iteration. The loss is 43.67241573242768. The k is 9.481776470983055, and b is -37.08573048351272\n",
      "This is the 87 time's iteration. The loss is 43.67238117400447. The k is 9.481685171482383, and b is -37.085149716614715\n",
      "This is the 88 time's iteration. The loss is 43.67234663219995. The k is 9.481593893936706, and b is -37.08456908937504\n",
      "This is the 89 time's iteration. The loss is 43.67231210700616. The k is 9.481502638340748, and b is -37.08398860176011\n",
      "This is the 90 time's iteration. The loss is 43.67227759841502. The k is 9.481411404689231, and b is -37.08340825373635\n",
      "This is the 91 time's iteration. The loss is 43.67224310641867. The k is 9.481320192976876, and b is -37.0828280452702\n",
      "This is the 92 time's iteration. The loss is 43.67220863100903. The k is 9.481229003198408, and b is -37.082247976328084\n",
      "This is the 93 time's iteration. The loss is 43.67217417217814. The k is 9.481137835348552, and b is -37.081668046876466\n",
      "This is the 94 time's iteration. The loss is 43.672139729918044. The k is 9.481046689422037, and b is -37.08108825688179\n",
      "This is the 95 time's iteration. The loss is 43.67210530422079. The k is 9.480955565413588, and b is -37.08050860631053\n",
      "This is the 96 time's iteration. The loss is 43.67207089507837. The k is 9.480864463317934, and b is -37.07992909512915\n",
      "This is the 97 time's iteration. The loss is 43.67203650248294. The k is 9.480773383129808, and b is -37.07934972330414\n",
      "This is the 98 time's iteration. The loss is 43.67200212642636. The k is 9.480682324843942, and b is -37.078770490801986\n",
      "This is the 99 time's iteration. The loss is 43.671967766900764. The k is 9.480591288455068, and b is -37.07819139758918\n",
      "This is the 100 time's iteration. The loss is 43.671933423898246. The k is 9.480500273957919, and b is -37.07761244363223\n",
      "This is the 101 time's iteration. The loss is 43.67189909741082. The k is 9.480409281347233, and b is -37.07703362889765\n",
      "This is the 102 time's iteration. The loss is 43.67186478743055. The k is 9.480318310617747, and b is -37.07645495335196\n",
      "This is the 103 time's iteration. The loss is 43.67183049394941. The k is 9.480227361764198, and b is -37.07587641696169\n",
      "This is the 104 time's iteration. The loss is 43.67179621695969. The k is 9.480136434781326, and b is -37.07529801969337\n",
      "This is the 105 time's iteration. The loss is 43.67176195645326. The k is 9.48004552966387, and b is -37.074719761513556\n",
      "This is the 106 time's iteration. The loss is 43.67172771242225. The k is 9.479954646406574, and b is -37.074141642388796\n",
      "This is the 107 time's iteration. The loss is 43.6716934848587. The k is 9.47986378500418, and b is -37.07356366228564\n",
      "This is the 108 time's iteration. The loss is 43.671659273754734. The k is 9.479772945451435, and b is -37.072985821170676\n",
      "This is the 109 time's iteration. The loss is 43.67162507910249. The k is 9.47968212774308, and b is -37.07240811901047\n",
      "This is the 110 time's iteration. The loss is 43.67159090089392. The k is 9.479591331873866, and b is -37.07183055577161\n",
      "This is the 111 time's iteration. The loss is 43.67155673912123. The k is 9.479500557838541, and b is -37.07125313142069\n",
      "This is the 112 time's iteration. The loss is 43.671522593776515. The k is 9.479409805631853, and b is -37.07067584592431\n",
      "This is the 113 time's iteration. The loss is 43.67148846485183. The k is 9.479319075248554, and b is -37.07009869924909\n",
      "This is the 114 time's iteration. The loss is 43.67145435233925. The k is 9.479228366683397, and b is -37.06952169136163\n",
      "This is the 115 time's iteration. The loss is 43.671420256230974. The k is 9.479137679931133, and b is -37.06894482222856\n",
      "This is the 116 time's iteration. The loss is 43.67138617651904. The k is 9.479047014986518, and b is -37.06836809181652\n",
      "This is the 117 time's iteration. The loss is 43.6713521131956. The k is 9.478956371844307, and b is -37.06779150009214\n",
      "This is the 118 time's iteration. The loss is 43.67131806625278. The k is 9.478865750499256, and b is -37.06721504702209\n",
      "This is the 119 time's iteration. The loss is 43.67128403568262. The k is 9.478775150946127, and b is -37.066638732573004\n",
      "This is the 120 time's iteration. The loss is 43.67125002147735. The k is 9.478684573179677, and b is -37.066062556711564\n",
      "This is the 121 time's iteration. The loss is 43.67121602362905. The k is 9.478594017194668, and b is -37.06548651940444\n",
      "This is the 122 time's iteration. The loss is 43.67118204212986. The k is 9.478503482985861, and b is -37.064910620618306\n",
      "This is the 123 time's iteration. The loss is 43.6711480769719. The k is 9.478412970548021, and b is -37.06433486031986\n",
      "This is the 124 time's iteration. The loss is 43.67111412814734. The k is 9.478322479875912, and b is -37.0637592384758\n",
      "This is the 125 time's iteration. The loss is 43.67108019564836. The k is 9.478232010964298, and b is -37.06318375505282\n",
      "This is the 126 time's iteration. The loss is 43.67104627946703. The k is 9.478141563807949, and b is -37.06260841001764\n",
      "This is the 127 time's iteration. The loss is 43.67101237959556. The k is 9.478051138401632, and b is -37.06203320333699\n",
      "This is the 128 time's iteration. The loss is 43.67097849602606. The k is 9.477960734740117, and b is -37.061458134977585\n",
      "This is the 129 time's iteration. The loss is 43.67094462875076. The k is 9.477870352818176, and b is -37.060883204906176\n",
      "This is the 130 time's iteration. The loss is 43.67091077776173. The k is 9.47777999263058, and b is -37.0603084130895\n",
      "This is the 131 time's iteration. The loss is 43.670876943051255. The k is 9.477689654172103, and b is -37.059733759494314\n",
      "This is the 132 time's iteration. The loss is 43.67084312461136. The k is 9.47759933743752, and b is -37.059159244087375\n",
      "This is the 133 time's iteration. The loss is 43.67080932243441. The k is 9.477509042421605, and b is -37.05858486683546\n",
      "This is the 134 time's iteration. The loss is 43.670775536512394. The k is 9.477418769119138, and b is -37.05801062770534\n",
      "This is the 135 time's iteration. The loss is 43.670741766837594. The k is 9.477328517524896, and b is -37.05743652666381\n",
      "This is the 136 time's iteration. The loss is 43.67070801340225. The k is 9.477238287633659, and b is -37.05686256367765\n",
      "This is the 137 time's iteration. The loss is 43.6706742761984. The k is 9.477148079440209, and b is -37.05628873871367\n",
      "This is the 138 time's iteration. The loss is 43.67064055521834. The k is 9.477057892939326, and b is -37.05571505173868\n",
      "This is the 139 time's iteration. The loss is 43.67060685045425. The k is 9.476967728125796, and b is -37.05514150271949\n",
      "This is the 140 time's iteration. The loss is 43.67057316189834. The k is 9.476877584994403, and b is -37.05456809162294\n",
      "This is the 141 time's iteration. The loss is 43.67053948954277. The k is 9.476787463539933, and b is -37.05399481841585\n"
     ]
    },
    {
     "name": "stdout",
     "output_type": "stream",
     "text": [
      "This is the 142 time's iteration. The loss is 43.67050583337985. The k is 9.476697363757173, and b is -37.05342168306507\n",
      "This is the 143 time's iteration. The loss is 43.67047219340171. The k is 9.476607285640911, and b is -37.05284868553744\n",
      "This is the 144 time's iteration. The loss is 43.67043856960059. The k is 9.476517229185939, and b is -37.052275825799825\n",
      "This is the 145 time's iteration. The loss is 43.6704049619687. The k is 9.476427194387046, and b is -37.05170310381909\n",
      "This is the 146 time's iteration. The loss is 43.6703713704983. The k is 9.476337181239025, and b is -37.0511305195621\n",
      "This is the 147 time's iteration. The loss is 43.67033779518156. The k is 9.476247189736668, and b is -37.05055807299574\n",
      "This is the 148 time's iteration. The loss is 43.670304236010764. The k is 9.476157219874771, and b is -37.049985764086905\n",
      "This is the 149 time's iteration. The loss is 43.670270692978086. The k is 9.476067271648132, and b is -37.04941359280249\n",
      "This is the 150 time's iteration. The loss is 43.67023716607585. The k is 9.475977345051545, and b is -37.0488415591094\n",
      "This is the 151 time's iteration. The loss is 43.67020365529628. The k is 9.475887440079813, and b is -37.04826966297454\n",
      "This is the 152 time's iteration. The loss is 43.67017016063147. The k is 9.47579755672773, and b is -37.047697904364846\n",
      "This is the 153 time's iteration. The loss is 43.67013668207393. The k is 9.475707694990103, and b is -37.04712628324724\n",
      "This is the 154 time's iteration. The loss is 43.67010321961571. The k is 9.47561785486173, and b is -37.046554799588655\n",
      "This is the 155 time's iteration. The loss is 43.670069773249175. The k is 9.475528036337415, and b is -37.04598345335604\n",
      "This is the 156 time's iteration. The loss is 43.67003634296656. The k is 9.475438239411965, and b is -37.04541224451634\n",
      "This is the 157 time's iteration. The loss is 43.67000292876011. The k is 9.475348464080184, and b is -37.04484117303653\n",
      "This is the 158 time's iteration. The loss is 43.66996953062214. The k is 9.475258710336883, and b is -37.04427023888357\n",
      "This is the 159 time's iteration. The loss is 43.66993614854483. The k is 9.475168978176866, and b is -37.04369944202444\n",
      "This is the 160 time's iteration. The loss is 43.66990278252058. The k is 9.475079267594944, and b is -37.04312878242612\n",
      "This is the 161 time's iteration. The loss is 43.66986943254158. The k is 9.47498957858593, and b is -37.04255826005561\n",
      "This is the 162 time's iteration. The loss is 43.669836098600115. The k is 9.474899911144634, and b is -37.0419878748799\n",
      "This is the 163 time's iteration. The loss is 43.66980278068852. The k is 9.474810265265871, and b is -37.04141762686601\n",
      "This is the 164 time's iteration. The loss is 43.66976947879905. The k is 9.474720640944454, and b is -37.04084751598094\n",
      "This is the 165 time's iteration. The loss is 43.66973619292407. The k is 9.474631038175202, and b is -37.04027754219173\n",
      "This is the 166 time's iteration. The loss is 43.66970292305577. The k is 9.474541456952931, and b is -37.03970770546541\n",
      "This is the 167 time's iteration. The loss is 43.66966966918651. The k is 9.47445189727246, and b is -37.03913800576902\n",
      "This is the 168 time's iteration. The loss is 43.66963643130866. The k is 9.474362359128605, and b is -37.0385684430696\n",
      "This is the 169 time's iteration. The loss is 43.66960320941438. The k is 9.474272842516193, and b is -37.037999017334215\n",
      "This is the 170 time's iteration. The loss is 43.66957000349608. The k is 9.474183347430042, and b is -37.03742972852992\n",
      "This is the 171 time's iteration. The loss is 43.669536813546095. The k is 9.474093873864977, and b is -37.0368605766238\n",
      "This is the 172 time's iteration. The loss is 43.6695036395567. The k is 9.474004421815822, and b is -37.03629156158293\n",
      "This is the 173 time's iteration. The loss is 43.669470481520264. The k is 9.473914991277406, and b is -37.03572268337439\n",
      "This is the 174 time's iteration. The loss is 43.66943733942906. The k is 9.473825582244553, and b is -37.03515394196528\n",
      "This is the 175 time's iteration. The loss is 43.669404213275406. The k is 9.473736194712092, and b is -37.0345853373227\n",
      "This is the 176 time's iteration. The loss is 43.66937110305173. The k is 9.473646828674854, and b is -37.03401686941377\n",
      "This is the 177 time's iteration. The loss is 43.6693380087503. The k is 9.473557484127669, and b is -37.033448538205604\n",
      "This is the 178 time's iteration. The loss is 43.669304930363545. The k is 9.47346816106537, and b is -37.03288034366533\n",
      "This is the 179 time's iteration. The loss is 43.669271867883666. The k is 9.47337885948279, and b is -37.032312285760085\n",
      "This is the 180 time's iteration. The loss is 43.66923882130309. The k is 9.473289579374763, and b is -37.031744364457005\n",
      "This is the 181 time's iteration. The loss is 43.66920579061422. The k is 9.473200320736124, and b is -37.03117657972325\n",
      "This is the 182 time's iteration. The loss is 43.66917277580941. The k is 9.473111083561713, and b is -37.030608931525975\n",
      "This is the 183 time's iteration. The loss is 43.66913977688087. The k is 9.473021867846368, and b is -37.030041419832344\n",
      "This is the 184 time's iteration. The loss is 43.669106793821115. The k is 9.472932673584928, and b is -37.029474044609536\n",
      "This is the 185 time's iteration. The loss is 43.6690738266225. The k is 9.472843500772234, and b is -37.02890680582473\n",
      "This is the 186 time's iteration. The loss is 43.66904087527737. The k is 9.472754349403127, and b is -37.02833970344513\n",
      "This is the 187 time's iteration. The loss is 43.669007939778105. The k is 9.472665219472454, and b is -37.027772737437914\n",
      "This is the 188 time's iteration. The loss is 43.66897502011709. The k is 9.472576110975055, and b is -37.027205907770295\n",
      "This is the 189 time's iteration. The loss is 43.66894211628664. The k is 9.472487023905778, and b is -37.02663921440949\n",
      "This is the 190 time's iteration. The loss is 43.668909228279276. The k is 9.47239795825947, and b is -37.02607265732272\n",
      "This is the 191 time's iteration. The loss is 43.6688763560873. The k is 9.472308914030982, and b is -37.02550623647722\n",
      "This is the 192 time's iteration. The loss is 43.66884349970315. The k is 9.47221989121516, and b is -37.02493995184022\n",
      "This is the 193 time's iteration. The loss is 43.6688106591191. The k is 9.472130889806856, and b is -37.024373803378964\n",
      "This is the 194 time's iteration. The loss is 43.668777834327706. The k is 9.47204190980092, and b is -37.02380779106071\n",
      "This is the 195 time's iteration. The loss is 43.668745025321314. The k is 9.47195295119221, and b is -37.023241914852726\n",
      "This is the 196 time's iteration. The loss is 43.66871223209233. The k is 9.471864013975576, and b is -37.02267617472227\n",
      "This is the 197 time's iteration. The loss is 43.66867945463317. The k is 9.471775098145876, and b is -37.02211057063663\n",
      "This is the 198 time's iteration. The loss is 43.66864669293637. The k is 9.471686203697969, and b is -37.02154510256308\n",
      "This is the 199 time's iteration. The loss is 43.66861394699411. The k is 9.471597330626711, and b is -37.02097977046892\n",
      "This is the 200 time's iteration. The loss is 43.66858121679898. The k is 9.47150847892696, and b is -37.02041457432145\n",
      "This is the 201 time's iteration. The loss is 43.66854850234332. The k is 9.47141964859358, and b is -37.01984951408797\n",
      "This is the 202 time's iteration. The loss is 43.6685158036197. The k is 9.47133083962143, and b is -37.01928458973581\n",
      "This is the 203 time's iteration. The loss is 43.668483120620344. The k is 9.471242052005374, and b is -37.01871980123229\n",
      "This is the 204 time's iteration. The loss is 43.66845045333788. The k is 9.471153285740279, and b is -37.01815514854473\n",
      "This is the 205 time's iteration. The loss is 43.668417801764704. The k is 9.471064540821008, and b is -37.01759063164048\n",
      "This is the 206 time's iteration. The loss is 43.66838516589317. The k is 9.470975817242426, and b is -37.01702625048689\n",
      "This is the 207 time's iteration. The loss is 43.6683525457158. The k is 9.470887114999407, and b is -37.01646200505132\n",
      "This is the 208 time's iteration. The loss is 43.66831994122508. The k is 9.470798434086815, and b is -37.01589789530112\n",
      "This is the 209 time's iteration. The loss is 43.668287352413394. The k is 9.470709774499523, and b is -37.01533392120368\n"
     ]
    },
    {
     "name": "stdout",
     "output_type": "stream",
     "text": [
      "This is the 210 time's iteration. The loss is 43.66825477927325. The k is 9.470621136232404, and b is -37.01477008272636\n",
      "This is the 211 time's iteration. The loss is 43.668222221797066. The k is 9.470532519280331, and b is -37.01420637983655\n",
      "This is the 212 time's iteration. The loss is 43.668189679977374. The k is 9.470443923638175, and b is -37.01364281250166\n",
      "This is the 213 time's iteration. The loss is 43.66815715380659. The k is 9.470355349300814, and b is -37.01307938068908\n",
      "This is the 214 time's iteration. The loss is 43.668124643277245. The k is 9.470266796263125, and b is -37.01251608436622\n",
      "This is the 215 time's iteration. The loss is 43.66809214838173. The k is 9.470178264519985, and b is -37.0119529235005\n",
      "This is the 216 time's iteration. The loss is 43.66805966911258. The k is 9.470089754066274, and b is -37.01138989805935\n",
      "This is the 217 time's iteration. The loss is 43.66802720546228. The k is 9.47000126489687, and b is -37.0108270080102\n",
      "This is the 218 time's iteration. The loss is 43.66799475742337. The k is 9.469912797006659, and b is -37.0102642533205\n",
      "This is the 219 time's iteration. The loss is 43.66796232498826. The k is 9.469824350390521, and b is -37.00970163395769\n",
      "This is the 220 time's iteration. The loss is 43.667929908149475. The k is 9.469735925043341, and b is -37.00913914988923\n",
      "This is the 221 time's iteration. The loss is 43.667897506899585. The k is 9.469647520960004, and b is -37.00857680108259\n",
      "This is the 222 time's iteration. The loss is 43.66786512123091. The k is 9.469559138135399, and b is -37.008014587505244\n",
      "This is the 223 time's iteration. The loss is 43.66783275113612. The k is 9.46947077656441, and b is -37.00745250912467\n",
      "This is the 224 time's iteration. The loss is 43.667800396607646. The k is 9.46938243624193, and b is -37.00689056590835\n",
      "This is the 225 time's iteration. The loss is 43.66776805763803. The k is 9.469294117162844, and b is -37.00632875782379\n",
      "This is the 226 time's iteration. The loss is 43.66773573421987. The k is 9.469205819322049, and b is -37.00576708483849\n",
      "This is the 227 time's iteration. The loss is 43.66770342634561. The k is 9.469117542714436, and b is -37.00520554691997\n",
      "This is the 228 time's iteration. The loss is 43.667671134007726. The k is 9.469029287334898, and b is -37.00464414403574\n",
      "This is the 229 time's iteration. The loss is 43.66763885719874. The k is 9.468941053178332, and b is -37.004082876153326\n",
      "This is the 230 time's iteration. The loss is 43.6676065959114. The k is 9.46885284023963, and b is -37.00352174324028\n",
      "This is the 231 time's iteration. The loss is 43.667574350137954. The k is 9.468764648513696, and b is -37.002960745264126\n",
      "This is the 232 time's iteration. The loss is 43.66754211987114. The k is 9.468676477995425, and b is -37.00239988219243\n",
      "This is the 233 time's iteration. The loss is 43.66750990510342. The k is 9.468588328679719, and b is -37.00183915399275\n",
      "This is the 234 time's iteration. The loss is 43.66747770582729. The k is 9.468500200561477, and b is -37.00127856063264\n",
      "This is the 235 time's iteration. The loss is 43.667445522035436. The k is 9.468412093635603, and b is -37.000718102079695\n",
      "This is the 236 time's iteration. The loss is 43.66741335372032. The k is 9.468324007897003, and b is -37.000157778301485\n",
      "This is the 237 time's iteration. The loss is 43.667381200874516. The k is 9.468235943340579, and b is -36.9995975892656\n",
      "This is the 238 time's iteration. The loss is 43.667349063490576. The k is 9.468147899961238, and b is -36.99903753493964\n",
      "This is the 239 time's iteration. The loss is 43.667316941561126. The k is 9.468059877753888, and b is -36.99847761529121\n",
      "This is the 240 time's iteration. The loss is 43.6672848350786. The k is 9.467971876713436, and b is -36.997917830287925\n",
      "This is the 241 time's iteration. The loss is 43.66725274403571. The k is 9.467883896834795, and b is -36.99735817989741\n",
      "This is the 242 time's iteration. The loss is 43.66722066842496. The k is 9.467795938112873, and b is -36.996798664087294\n",
      "This is the 243 time's iteration. The loss is 43.66718860823894. The k is 9.467708000542586, and b is -36.99623928282521\n",
      "This is the 244 time's iteration. The loss is 43.66715656347029. The k is 9.467620084118845, and b is -36.9956800360788\n",
      "This is the 245 time's iteration. The loss is 43.66712453411145. The k is 9.467532188836566, and b is -36.995120923815726\n",
      "This is the 246 time's iteration. The loss is 43.66709252015522. The k is 9.467444314690663, and b is -36.99456194600364\n",
      "This is the 247 time's iteration. The loss is 43.667060521593996. The k is 9.467356461676056, and b is -36.994003102610215\n",
      "This is the 248 time's iteration. The loss is 43.66702853842045. The k is 9.467268629787661, and b is -36.99344439360313\n",
      "This is the 249 time's iteration. The loss is 43.66699657062721. The k is 9.467180819020399, and b is -36.99288581895006\n",
      "This is the 250 time's iteration. The loss is 43.66696461820684. The k is 9.467093029369192, and b is -36.9923273786187\n",
      "This is the 251 time's iteration. The loss is 43.66693268115199. The k is 9.46700526082896, and b is -36.99176907257675\n",
      "This is the 252 time's iteration. The loss is 43.666900759455295. The k is 9.466917513394629, and b is -36.99121090079192\n",
      "This is the 253 time's iteration. The loss is 43.66686885310919. The k is 9.466829787061123, and b is -36.99065286323192\n",
      "This is the 254 time's iteration. The loss is 43.66683696210647. The k is 9.466742081823364, and b is -36.99009495986448\n",
      "This is the 255 time's iteration. The loss is 43.66680508643977. The k is 9.466654397676283, and b is -36.98953719065732\n",
      "This is the 256 time's iteration. The loss is 43.66677322610162. The k is 9.466566734614808, and b is -36.98897955557819\n",
      "This is the 257 time's iteration. The loss is 43.666741381084655. The k is 9.466479092633868, and b is -36.98842205459483\n",
      "This is the 258 time's iteration. The loss is 43.666709551381594. The k is 9.466391471728395, and b is -36.987864687674985\n",
      "This is the 259 time's iteration. The loss is 43.666677736984916. The k is 9.466303871893317, and b is -36.98730745478643\n",
      "This is the 260 time's iteration. The loss is 43.66664593788747. The k is 9.46621629312357, and b is -36.98675035589693\n",
      "This is the 261 time's iteration. The loss is 43.6666141540817. The k is 9.466128735414088, and b is -36.98619339097426\n",
      "This is the 262 time's iteration. The loss is 43.666582385560346. The k is 9.466041198759807, and b is -36.985636559986204\n",
      "This is the 263 time's iteration. The loss is 43.66655063231613. The k is 9.465953683155663, and b is -36.985079862900555\n",
      "This is the 264 time's iteration. The loss is 43.66651889434153. The k is 9.465866188596594, and b is -36.984523299685115\n",
      "This is the 265 time's iteration. The loss is 43.66648717162936. The k is 9.46577871507754, and b is -36.98396687030769\n",
      "This is the 266 time's iteration. The loss is 43.66645546417222. The k is 9.465691262593442, and b is -36.9834105747361\n",
      "This is the 267 time's iteration. The loss is 43.666423771962734. The k is 9.465603831139239, and b is -36.98285441293816\n",
      "This is the 268 time's iteration. The loss is 43.666392094993626. The k is 9.465516420709877, and b is -36.98229838488171\n",
      "This is the 269 time's iteration. The loss is 43.666360433257594. The k is 9.465429031300298, and b is -36.981742490534586\n",
      "This is the 270 time's iteration. The loss is 43.66632878674722. The k is 9.46534166290545, and b is -36.98118672986463\n",
      "This is the 271 time's iteration. The loss is 43.66629715545526. The k is 9.465254315520276, and b is -36.98063110283971\n",
      "This is the 272 time's iteration. The loss is 43.666265539374336. The k is 9.465166989139727, and b is -36.98007560942767\n",
      "This is the 273 time's iteration. The loss is 43.666233938497214. The k is 9.465079683758749, and b is -36.97952024959639\n",
      "This is the 274 time's iteration. The loss is 43.66620235281648. The k is 9.464992399372292, and b is -36.97896502331375\n",
      "This is the 275 time's iteration. The loss is 43.66617078232488. The k is 9.464905135975313, and b is -36.97840993054763\n",
      "This is the 276 time's iteration. The loss is 43.66613922701519. The k is 9.464817893562758, and b is -36.97785497126592\n",
      "This is the 277 time's iteration. The loss is 43.666107686879975. The k is 9.464730672129583, and b is -36.97730014543653\n"
     ]
    },
    {
     "name": "stdout",
     "output_type": "stream",
     "text": [
      "This is the 278 time's iteration. The loss is 43.66607616191195. The k is 9.464643471670746, and b is -36.97674545302736\n",
      "This is the 279 time's iteration. The loss is 43.66604465210394. The k is 9.4645562921812, and b is -36.97619089400633\n",
      "This is the 280 time's iteration. The loss is 43.66601315744855. The k is 9.464469133655902, and b is -36.975636468341364\n",
      "This is the 281 time's iteration. The loss is 43.66598167793848. The k is 9.464381996089811, and b is -36.97508217600039\n",
      "This is the 282 time's iteration. The loss is 43.66595021356653. The k is 9.46429487947789, and b is -36.97452801695135\n",
      "This is the 283 time's iteration. The loss is 43.665918764325355. The k is 9.464207783815096, and b is -36.9739739911622\n",
      "This is the 284 time's iteration. The loss is 43.665887330207724. The k is 9.464120709096395, and b is -36.973420098600876\n",
      "This is the 285 time's iteration. The loss is 43.665855911206265. The k is 9.464033655316749, and b is -36.97286633923535\n",
      "This is the 286 time's iteration. The loss is 43.66582450731391. The k is 9.463946622471122, and b is -36.972312713033595\n",
      "This is the 287 time's iteration. The loss is 43.66579311852323. The k is 9.46385961055448, and b is -36.97175921996359\n",
      "This is the 288 time's iteration. The loss is 43.66576174482698. The k is 9.463772619561789, and b is -36.97120585999331\n",
      "This is the 289 time's iteration. The loss is 43.66573038621792. The k is 9.46368564948802, and b is -36.97065263309076\n",
      "This is the 290 time's iteration. The loss is 43.66569904268882. The k is 9.463598700328141, and b is -36.97009953922393\n",
      "This is the 291 time's iteration. The loss is 43.66566771423239. The k is 9.463511772077124, and b is -36.969546578360834\n",
      "This is the 292 time's iteration. The loss is 43.66563640084139. The k is 9.46342486472994, and b is -36.96899375046949\n",
      "This is the 293 time's iteration. The loss is 43.66560510250857. The k is 9.463337978281563, and b is -36.968441055517914\n",
      "This is the 294 time's iteration. The loss is 43.66557381922673. The k is 9.463251112726967, and b is -36.96788849347415\n",
      "This is the 295 time's iteration. The loss is 43.66554255098864. The k is 9.463164268061126, and b is -36.96733606430623\n",
      "This is the 296 time's iteration. The loss is 43.665511297786985. The k is 9.46307744427902, and b is -36.96678376798221\n",
      "This is the 297 time's iteration. The loss is 43.66548005961458. The k is 9.462990641375626, and b is -36.96623160447013\n",
      "This is the 298 time's iteration. The loss is 43.66544883646416. The k is 9.462903859345921, and b is -36.965679573738065\n",
      "This is the 299 time's iteration. The loss is 43.66541762832862. The k is 9.462817098184889, and b is -36.965127675754076\n",
      "This is the 300 time's iteration. The loss is 43.6653864352006. The k is 9.462730357887509, and b is -36.964575910486246\n",
      "This is the 301 time's iteration. The loss is 43.66535525707297. The k is 9.462643638448764, and b is -36.96402427790266\n",
      "This is the 302 time's iteration. The loss is 43.66532409393846. The k is 9.462556939863639, and b is -36.963472777971404\n",
      "This is the 303 time's iteration. The loss is 43.6652929457899. The k is 9.462470262127118, and b is -36.962921410660584\n",
      "This is the 304 time's iteration. The loss is 43.665261812620024. The k is 9.462383605234189, and b is -36.96237017593831\n",
      "This is the 305 time's iteration. The loss is 43.66523069442179. The k is 9.46229696917984, and b is -36.9618190737727\n",
      "This is the 306 time's iteration. The loss is 43.66519959118778. The k is 9.462210353959058, and b is -36.961268104131875\n",
      "This is the 307 time's iteration. The loss is 43.665168502910895. The k is 9.462123759566834, and b is -36.96071726698397\n",
      "This is the 308 time's iteration. The loss is 43.66513742958408. The k is 9.462037185998161, and b is -36.96016656229712\n",
      "This is the 309 time's iteration. The loss is 43.66510637119989. The k is 9.46195063324803, and b is -36.95961599003947\n",
      "This is the 310 time's iteration. The loss is 43.665075327751254. The k is 9.461864101311434, and b is -36.959065550179176\n",
      "This is the 311 time's iteration. The loss is 43.66504429923109. The k is 9.461777590183369, and b is -36.9585152426844\n",
      "This is the 312 time's iteration. The loss is 43.66501328563207. The k is 9.46169109985883, and b is -36.95796506752331\n",
      "This is the 313 time's iteration. The loss is 43.664982286947094. The k is 9.461604630332817, and b is -36.957415024664094\n",
      "This is the 314 time's iteration. The loss is 43.66495130316895. The k is 9.461518181600324, and b is -36.95686511407493\n",
      "This is the 315 time's iteration. The loss is 43.66492033429048. The k is 9.461431753656354, and b is -36.95631533572401\n",
      "This is the 316 time's iteration. The loss is 43.664889380304615. The k is 9.461345346495909, and b is -36.95576568957953\n",
      "This is the 317 time's iteration. The loss is 43.66485844120407. The k is 9.46125896011399, and b is -36.955216175609706\n",
      "This is the 318 time's iteration. The loss is 43.66482751698169. The k is 9.461172594505598, and b is -36.95466679378275\n",
      "This is the 319 time's iteration. The loss is 43.66479660763037. The k is 9.461086249665739, and b is -36.95411754406688\n",
      "This is the 320 time's iteration. The loss is 43.66476571314297. The k is 9.46099992558942, and b is -36.95356842643034\n",
      "This is the 321 time's iteration. The loss is 43.6647348335123. The k is 9.460913622271645, and b is -36.95301944084135\n",
      "This is the 322 time's iteration. The loss is 43.664703968731246. The k is 9.460827339707427, and b is -36.952470587268174\n",
      "This is the 323 time's iteration. The loss is 43.664673118792685. The k is 9.46074107789177, and b is -36.95192186567906\n",
      "This is the 324 time's iteration. The loss is 43.66464228368937. The k is 9.460654836819689, and b is -36.95137327604227\n",
      "This is the 325 time's iteration. The loss is 43.66461146341431. The k is 9.460568616486194, and b is -36.95082481832607\n",
      "This is the 326 time's iteration. The loss is 43.6645806579603. The k is 9.460482416886297, and b is -36.95027649249874\n",
      "This is the 327 time's iteration. The loss is 43.664549867320204. The k is 9.460396238015013, and b is -36.94972829852856\n",
      "This is the 328 time's iteration. The loss is 43.664519091486945. The k is 9.460310079867357, and b is -36.94918023638383\n",
      "This is the 329 time's iteration. The loss is 43.664488330453324. The k is 9.460223942438347, and b is -36.94863230603284\n",
      "This is the 330 time's iteration. The loss is 43.66445758421232. The k is 9.460137825722999, and b is -36.9480845074439\n",
      "This is the 331 time's iteration. The loss is 43.66442685275677. The k is 9.460051729716332, and b is -36.94753684058533\n",
      "This is the 332 time's iteration. The loss is 43.664396136079546. The k is 9.459965654413367, and b is -36.94698930542545\n",
      "This is the 333 time's iteration. The loss is 43.66436543417356. The k is 9.459879599809124, and b is -36.94644190193259\n",
      "This is the 334 time's iteration. The loss is 43.66433474703173. The k is 9.459793565898627, and b is -36.94589463007508\n",
      "This is the 335 time's iteration. The loss is 43.66430407464698. The k is 9.459707552676898, and b is -36.94534748982128\n",
      "This is the 336 time's iteration. The loss is 43.66427341701208. The k is 9.459621560138965, and b is -36.94480048113953\n",
      "This is the 337 time's iteration. The loss is 43.66424277412012. The k is 9.459535588279852, and b is -36.9442536039982\n",
      "This is the 338 time's iteration. The loss is 43.664212145963845. The k is 9.459449637094586, and b is -36.94370685836565\n",
      "This is the 339 time's iteration. The loss is 43.66418153253627. The k is 9.459363706578197, and b is -36.94316024421026\n",
      "This is the 340 time's iteration. The loss is 43.66415093383031. The k is 9.459277796725711, and b is -36.94261376150042\n",
      "This is the 341 time's iteration. The loss is 43.66412034983885. The k is 9.459191907532164, and b is -36.94206741020451\n",
      "This is the 342 time's iteration. The loss is 43.66408978055479. The k is 9.459106038992585, and b is -36.94152119029093\n",
      "This is the 343 time's iteration. The loss is 43.664059225971165. The k is 9.45902019110201, and b is -36.94097510172809\n",
      "This is the 344 time's iteration. The loss is 43.66402868608076. The k is 9.45893436385547, and b is -36.940429144484405\n",
      "This is the 345 time's iteration. The loss is 43.663998160876616. The k is 9.458848557248002, and b is -36.939883318528295\n"
     ]
    },
    {
     "name": "stdout",
     "output_type": "stream",
     "text": [
      "This is the 346 time's iteration. The loss is 43.66396765035159. The k is 9.458762771274644, and b is -36.93933762382819\n",
      "This is the 347 time's iteration. The loss is 43.66393715449871. The k is 9.458677005930433, and b is -36.93879206035252\n",
      "This is the 348 time's iteration. The loss is 43.6639066733109. The k is 9.458591261210408, and b is -36.938246628069734\n",
      "This is the 349 time's iteration. The loss is 43.66387620678106. The k is 9.45850553710961, and b is -36.937701326948286\n",
      "This is the 350 time's iteration. The loss is 43.66384575490221. The k is 9.458419833623081, and b is -36.93715615695663\n",
      "This is the 351 time's iteration. The loss is 43.6638153176672. The k is 9.458334150745863, and b is -36.93661111806324\n",
      "This is the 352 time's iteration. The loss is 43.66378489506911. The k is 9.458248488473, and b is -36.93606621023658\n",
      "This is the 353 time's iteration. The loss is 43.66375448710086. The k is 9.458162846799539, and b is -36.935521433445146\n",
      "This is the 354 time's iteration. The loss is 43.66372409375533. The k is 9.458077225720524, and b is -36.93497678765742\n",
      "This is the 355 time's iteration. The loss is 43.66369371502559. The k is 9.457991625231005, and b is -36.934432272841896\n",
      "This is the 356 time's iteration. The loss is 43.66366335090454. The k is 9.457906045326027, and b is -36.933887888967085\n",
      "This is the 357 time's iteration. The loss is 43.66363300138522. The k is 9.457820486000644, and b is -36.933343636001496\n",
      "This is the 358 time's iteration. The loss is 43.663602666460555. The k is 9.457734947249905, and b is -36.93279951391365\n",
      "This is the 359 time's iteration. The loss is 43.66357234612361. The k is 9.457649429068866, and b is -36.93225552267207\n",
      "This is the 360 time's iteration. The loss is 43.66354204036724. The k is 9.457563931452574, and b is -36.9317116622453\n",
      "This is the 361 time's iteration. The loss is 43.663511749184536. The k is 9.457478454396089, and b is -36.93116793260187\n",
      "This is the 362 time's iteration. The loss is 43.66348147256844. The k is 9.457392997894464, and b is -36.93062433371035\n",
      "This is the 363 time's iteration. The loss is 43.663451210512015. The k is 9.45730756194276, and b is -36.930080865539274\n",
      "This is the 364 time's iteration. The loss is 43.663420963008186. The k is 9.45722214653603, and b is -36.929537528057224\n",
      "This is the 365 time's iteration. The loss is 43.663390730049976. The k is 9.457136751669337, and b is -36.92899432123277\n",
      "This is the 366 time's iteration. The loss is 43.663360511630394. The k is 9.45705137733774, and b is -36.92845124503449\n",
      "This is the 367 time's iteration. The loss is 43.66333030774245. The k is 9.456966023536303, and b is -36.92790829943097\n",
      "This is the 368 time's iteration. The loss is 43.66330011837916. The k is 9.456880690260087, and b is -36.927365484390805\n",
      "This is the 369 time's iteration. The loss is 43.66326994353351. The k is 9.456795377504157, and b is -36.92682279988261\n",
      "This is the 370 time's iteration. The loss is 43.66323978319855. The k is 9.456710085263579, and b is -36.926280245874985\n",
      "This is the 371 time's iteration. The loss is 43.66320963736728. The k is 9.45662481353342, and b is -36.92573782233655\n",
      "This is the 372 time's iteration. The loss is 43.663179506032826. The k is 9.456539562308746, and b is -36.92519552923593\n",
      "This is the 373 time's iteration. The loss is 43.66314938918802. The k is 9.456454331584627, and b is -36.92465336654176\n",
      "This is the 374 time's iteration. The loss is 43.663119286826095. The k is 9.456369121356133, and b is -36.92411133422268\n",
      "This is the 375 time's iteration. The loss is 43.66308919893992. The k is 9.456283931618335, and b is -36.92356943224734\n",
      "This is the 376 time's iteration. The loss is 43.66305912552262. The k is 9.456198762366308, and b is -36.923027660584395\n",
      "This is the 377 time's iteration. The loss is 43.66302906656724. The k is 9.456113613595123, and b is -36.92248601920251\n",
      "This is the 378 time's iteration. The loss is 43.66299902206685. The k is 9.456028485299855, and b is -36.92194450807035\n",
      "This is the 379 time's iteration. The loss is 43.66296899201441. The k is 9.455943377475583, and b is -36.921403127156594\n",
      "This is the 380 time's iteration. The loss is 43.66293897640309. The k is 9.45585829011738, and b is -36.92086187642994\n",
      "This is the 381 time's iteration. The loss is 43.662908975225776. The k is 9.455773223220326, and b is -36.920320755859066\n",
      "This is the 382 time's iteration. The loss is 43.66287898847568. The k is 9.455688176779503, and b is -36.919779765412684\n",
      "This is the 383 time's iteration. The loss is 43.66284901614586. The k is 9.45560315078999, and b is -36.9192389050595\n",
      "This is the 384 time's iteration. The loss is 43.66281905822927. The k is 9.455518145246868, and b is -36.91869817476823\n",
      "This is the 385 time's iteration. The loss is 43.66278911471905. The k is 9.455433160145223, and b is -36.918157574507596\n",
      "This is the 386 time's iteration. The loss is 43.66275918560834. The k is 9.455348195480136, and b is -36.91761710424633\n",
      "This is the 387 time's iteration. The loss is 43.66272927089002. The k is 9.455263251246697, and b is -36.917076763953176\n",
      "This is the 388 time's iteration. The loss is 43.66269937055739. The k is 9.455178327439988, and b is -36.91653655359687\n",
      "This is the 389 time's iteration. The loss is 43.662669484603384. The k is 9.4550934240551, and b is -36.91599647314617\n",
      "This is the 390 time's iteration. The loss is 43.66263961302115. The k is 9.45500854108712, and b is -36.91545652256984\n",
      "This is the 391 time's iteration. The loss is 43.66260975580377. The k is 9.45492367853114, and b is -36.914916701836646\n",
      "This is the 392 time's iteration. The loss is 43.66257991294427. The k is 9.45483883638225, and b is -36.914377010915366\n",
      "This is the 393 time's iteration. The loss is 43.662550084435864. The k is 9.454754014635544, and b is -36.91383744977478\n",
      "This is the 394 time's iteration. The loss is 43.6625202702716. The k is 9.454669213286115, and b is -36.91329801838369\n",
      "This is the 395 time's iteration. The loss is 43.66249047044454. The k is 9.45458443232906, and b is -36.91275871671089\n",
      "This is the 396 time's iteration. The loss is 43.66246068494784. The k is 9.454499671759473, and b is -36.912219544725176\n",
      "This is the 397 time's iteration. The loss is 43.66243091377456. The k is 9.454414931572453, and b is -36.91168050239537\n",
      "This is the 398 time's iteration. The loss is 43.662401156917866. The k is 9.454330211763095, and b is -36.911141589690295\n",
      "This is the 399 time's iteration. The loss is 43.66237141437082. The k is 9.454245512326503, and b is -36.91060280657878\n",
      "This is the 400 time's iteration. The loss is 43.66234168612663. The k is 9.454160833257776, and b is -36.91006415302966\n",
      "This is the 401 time's iteration. The loss is 43.6623119721783. The k is 9.454076174552016, and b is -36.909525629011775\n",
      "This is the 402 time's iteration. The loss is 43.66228227251906. The k is 9.453991536204327, and b is -36.90898723449398\n",
      "This is the 403 time's iteration. The loss is 43.662252587141914. The k is 9.453906918209814, and b is -36.90844896944513\n",
      "This is the 404 time's iteration. The loss is 43.66222291604019. The k is 9.45382232056358, and b is -36.9079108338341\n",
      "This is the 405 time's iteration. The loss is 43.662193259206795. The k is 9.453737743260735, and b is -36.90737282762976\n",
      "This is the 406 time's iteration. The loss is 43.66216361663501. The k is 9.453653186296384, and b is -36.906834950800985\n",
      "This is the 407 time's iteration. The loss is 43.66213398831797. The k is 9.453568649665637, and b is -36.90629720331667\n",
      "This is the 408 time's iteration. The loss is 43.66210437424877. The k is 9.453484133363606, and b is -36.90575958514571\n",
      "This is the 409 time's iteration. The loss is 43.6620747744206. The k is 9.453399637385402, and b is -36.905222096257006\n",
      "This is the 410 time's iteration. The loss is 43.66204518882658. The k is 9.453315161726136, and b is -36.90468473661947\n",
      "This is the 411 time's iteration. The loss is 43.66201561745984. The k is 9.453230706380925, and b is -36.90414750620203\n",
      "This is the 412 time's iteration. The loss is 43.66198606031361. The k is 9.453146271344881, and b is -36.9036104049736\n",
      "This is the 413 time's iteration. The loss is 43.66195651738106. The k is 9.45306185661312, and b is -36.90307343290312\n",
      "This is the 414 time's iteration. The loss is 43.66192698865524. The k is 9.452977462180762, and b is -36.90253658995953\n",
      "This is the 415 time's iteration. The loss is 43.66189747412942. The k is 9.452893088042924, and b is -36.90199987611178\n"
     ]
    },
    {
     "name": "stdout",
     "output_type": "stream",
     "text": [
      "This is the 416 time's iteration. The loss is 43.661867973796774. The k is 9.452808734194726, and b is -36.901463291328824\n",
      "This is the 417 time's iteration. The loss is 43.661838487650456. The k is 9.45272440063129, and b is -36.900926835579625\n",
      "This is the 418 time's iteration. The loss is 43.66180901568361. The k is 9.452640087347735, and b is -36.900390508833155\n",
      "This is the 419 time's iteration. The loss is 43.66177955788938. The k is 9.452555794339188, and b is -36.89985431105839\n",
      "This is the 420 time's iteration. The loss is 43.66175011426107. The k is 9.45247152160077, and b is -36.89931824222432\n",
      "This is the 421 time's iteration. The loss is 43.66172068479185. The k is 9.452387269127609, and b is -36.89878230229993\n",
      "This is the 422 time's iteration. The loss is 43.661691269474815. The k is 9.45230303691483, and b is -36.89824649125423\n",
      "This is the 423 time's iteration. The loss is 43.66166186830316. The k is 9.452218824957562, and b is -36.89771080905622\n",
      "This is the 424 time's iteration. The loss is 43.661632481270225. The k is 9.452134633250935, and b is -36.897175255674924\n",
      "This is the 425 time's iteration. The loss is 43.6616031083691. The k is 9.452050461790076, and b is -36.89663983107936\n",
      "This is the 426 time's iteration. The loss is 43.66157374959303. The k is 9.451966310570121, and b is -36.896104535238564\n",
      "This is the 427 time's iteration. The loss is 43.66154440493521. The k is 9.4518821795862, and b is -36.89556936812157\n",
      "This is the 428 time's iteration. The loss is 43.661515074388795. The k is 9.451798068833446, and b is -36.895034329697424\n",
      "This is the 429 time's iteration. The loss is 43.66148575794708. The k is 9.451713978306996, and b is -36.89449941993518\n",
      "This is the 430 time's iteration. The loss is 43.66145645560322. The k is 9.451629908001985, and b is -36.893964638803894\n",
      "This is the 431 time's iteration. The loss is 43.6614271673505. The k is 9.451545857913551, and b is -36.893429986272636\n",
      "This is the 432 time's iteration. The loss is 43.661397893182134. The k is 9.451461828036832, and b is -36.892895462310484\n",
      "This is the 433 time's iteration. The loss is 43.661368633091264. The k is 9.451377818366966, and b is -36.89236106688652\n",
      "This is the 434 time's iteration. The loss is 43.66133938707121. The k is 9.451293828899097, and b is -36.891826799969834\n",
      "This is the 435 time's iteration. The loss is 43.661310155115174. The k is 9.451209859628365, and b is -36.89129266152952\n",
      "This is the 436 time's iteration. The loss is 43.66128093721642. The k is 9.451125910549914, and b is -36.89075865153469\n",
      "This is the 437 time's iteration. The loss is 43.661251733368175. The k is 9.451041981658888, and b is -36.89022476995445\n",
      "This is the 438 time's iteration. The loss is 43.66122254356366. The k is 9.450958072950431, and b is -36.88969101675792\n",
      "This is the 439 time's iteration. The loss is 43.66119336779613. The k is 9.450874184419693, and b is -36.88915739191423\n",
      "This is the 440 time's iteration. The loss is 43.66116420605881. The k is 9.450790316061818, and b is -36.88862389539252\n",
      "This is the 441 time's iteration. The loss is 43.661135058345. The k is 9.450706467871958, and b is -36.88809052716192\n",
      "This is the 442 time's iteration. The loss is 43.66110592464797. The k is 9.450622639845262, and b is -36.88755728719159\n",
      "This is the 443 time's iteration. The loss is 43.66107680496092. The k is 9.450538831976882, and b is -36.887024175450684\n",
      "This is the 444 time's iteration. The loss is 43.661047699277134. The k is 9.45045504426197, and b is -36.88649119190836\n",
      "This is the 445 time's iteration. The loss is 43.661018607589824. The k is 9.450371276695678, and b is -36.8859583365338\n",
      "This is the 446 time's iteration. The loss is 43.6609895298924. The k is 9.450287529273163, and b is -36.88542560929617\n",
      "This is the 447 time's iteration. The loss is 43.660960466178096. The k is 9.45020380198958, and b is -36.88489301016467\n",
      "This is the 448 time's iteration. The loss is 43.66093141644003. The k is 9.450120094840086, and b is -36.884360539108485\n",
      "This is the 449 time's iteration. The loss is 43.660902380671715. The k is 9.450036407819841, and b is -36.88382819609682\n",
      "This is the 450 time's iteration. The loss is 43.660873358866226. The k is 9.449952740924001, and b is -36.88329598109889\n",
      "This is the 451 time's iteration. The loss is 43.660844351016976. The k is 9.449869094147731, and b is -36.8827638940839\n",
      "This is the 452 time's iteration. The loss is 43.66081535711725. The k is 9.449785467486189, and b is -36.88223193502108\n",
      "This is the 453 time's iteration. The loss is 43.660786377160214. The k is 9.44970186093454, and b is -36.881700103879666\n",
      "This is the 454 time's iteration. The loss is 43.660757411139286. The k is 9.44961827448795, and b is -36.88116840062889\n",
      "This is the 455 time's iteration. The loss is 43.66072845904777. The k is 9.44953470814158, and b is -36.88063682523799\n",
      "This is the 456 time's iteration. The loss is 43.66069952087889. The k is 9.449451161890599, and b is -36.88010537767624\n",
      "This is the 457 time's iteration. The loss is 43.660670596626. The k is 9.449367635730175, and b is -36.879574057912876\n",
      "This is the 458 time's iteration. The loss is 43.66064168628244. The k is 9.449284129655474, and b is -36.879042865917185\n",
      "This is the 459 time's iteration. The loss is 43.66061278984144. The k is 9.44920064366167, and b is -36.87851180165843\n",
      "This is the 460 time's iteration. The loss is 43.66058390729633. The k is 9.44911717774393, and b is -36.877980865105904\n",
      "This is the 461 time's iteration. The loss is 43.6605550386405. The k is 9.449033731897428, and b is -36.87745005622889\n",
      "This is the 462 time's iteration. The loss is 43.6605261838672. The k is 9.448950306117338, and b is -36.87691937499669\n",
      "This is the 463 time's iteration. The loss is 43.66049734296978. The k is 9.448866900398833, and b is -36.876388821378605\n",
      "This is the 464 time's iteration. The loss is 43.66046851594161. The k is 9.448783514737093, and b is -36.87585839534395\n",
      "This is the 465 time's iteration. The loss is 43.660439702775896. The k is 9.448700149127289, and b is -36.87532809686204\n",
      "This is the 466 time's iteration. The loss is 43.66041090346612. The k is 9.448616803564603, and b is -36.874797925902215\n",
      "This is the 467 time's iteration. The loss is 43.66038211800547. The k is 9.448533478044213, and b is -36.8742678824338\n",
      "This is the 468 time's iteration. The loss is 43.660353346387424. The k is 9.4484501725613, and b is -36.873737966426134\n",
      "This is the 469 time's iteration. The loss is 43.660324588605214. The k is 9.448366887111044, and b is -36.87320817784857\n",
      "This is the 470 time's iteration. The loss is 43.660295844652275. The k is 9.44828362168863, and b is -36.87267851667046\n",
      "This is the 471 time's iteration. The loss is 43.66026711452197. The k is 9.44820037628924, and b is -36.87214898286118\n",
      "This is the 472 time's iteration. The loss is 43.66023839820753. The k is 9.44811715090806, and b is -36.87161957639009\n",
      "This is the 473 time's iteration. The loss is 43.660209695702406. The k is 9.448033945540274, and b is -36.87109029722657\n",
      "This is the 474 time's iteration. The loss is 43.66018100699995. The k is 9.447950760181072, and b is -36.87056114534001\n",
      "This is the 475 time's iteration. The loss is 43.66015233209345. The k is 9.447867594825643, and b is -36.870032120699804\n",
      "This is the 476 time's iteration. The loss is 43.66012367097642. The k is 9.447784449469173, and b is -36.86950322327535\n",
      "This is the 477 time's iteration. The loss is 43.66009502364213. The k is 9.447701324106857, and b is -36.86897445303606\n",
      "This is the 478 time's iteration. The loss is 43.66006639008391. The k is 9.447618218733885, and b is -36.868445809951346\n",
      "This is the 479 time's iteration. The loss is 43.660037770295176. The k is 9.44753513334545, and b is -36.86791729399063\n",
      "This is the 480 time's iteration. The loss is 43.660009164269376. The k is 9.447452067936746, and b is -36.86738890512334\n",
      "This is the 481 time's iteration. The loss is 43.659980571999796. The k is 9.447369022502969, and b is -36.86686064331892\n",
      "This is the 482 time's iteration. The loss is 43.65995199347986. The k is 9.447285997039316, and b is -36.86633250854681\n",
      "This is the 483 time's iteration. The loss is 43.659923428702974. The k is 9.447202991540983, and b is -36.86580450077647\n"
     ]
    },
    {
     "name": "stdout",
     "output_type": "stream",
     "text": [
      "This is the 484 time's iteration. The loss is 43.65989487766248. The k is 9.447120006003171, and b is -36.86527661997735\n",
      "This is the 485 time's iteration. The loss is 43.65986634035183. The k is 9.44703704042108, and b is -36.86474886611892\n",
      "This is the 486 time's iteration. The loss is 43.65983781676433. The k is 9.446954094789909, and b is -36.864221239170654\n",
      "This is the 487 time's iteration. The loss is 43.65980930689352. The k is 9.446871169104861, and b is -36.86369373910203\n",
      "This is the 488 time's iteration. The loss is 43.65978081073277. The k is 9.44678826336114, and b is -36.86316636588255\n",
      "This is the 489 time's iteration. The loss is 43.65975232827531. The k is 9.446705377553952, and b is -36.8626391194817\n",
      "This is the 490 time's iteration. The loss is 43.659723859514784. The k is 9.446622511678502, and b is -36.86211199986898\n",
      "This is the 491 time's iteration. The loss is 43.65969540444449. The k is 9.446539665729997, and b is -36.86158500701391\n",
      "This is the 492 time's iteration. The loss is 43.65966696305783. The k is 9.446456839703643, and b is -36.861058140886\n",
      "This is the 493 time's iteration. The loss is 43.65963853534828. The k is 9.446374033594651, and b is -36.860531401454786\n",
      "This is the 494 time's iteration. The loss is 43.6596101213092. The k is 9.446291247398232, and b is -36.86000478868979\n",
      "This is the 495 time's iteration. The loss is 43.659581720934085. The k is 9.446208481109597, and b is -36.85947830256057\n",
      "This is the 496 time's iteration. The loss is 43.65955333421633. The k is 9.44612573472396, and b is -36.85895194303665\n",
      "This is the 497 time's iteration. The loss is 43.659524961149316. The k is 9.446043008236533, and b is -36.8584257100876\n",
      "This is the 498 time's iteration. The loss is 43.659496601726644. The k is 9.44596030164253, and b is -36.85789960368298\n",
      "This is the 499 time's iteration. The loss is 43.65946825594159. The k is 9.445877614937173, and b is -36.857373623792355\n",
      "This is the 500 time's iteration. The loss is 43.659439923787595. The k is 9.445794948115672, and b is -36.85684777038531\n",
      "This is the 501 time's iteration. The loss is 43.65941160525823. The k is 9.44571230117325, and b is -36.85632204343142\n",
      "This is the 502 time's iteration. The loss is 43.65938330034683. The k is 9.445629674105124, and b is -36.85579644290028\n",
      "This is the 503 time's iteration. The loss is 43.659355009046905. The k is 9.445547066906517, and b is -36.85527096876149\n",
      "This is the 504 time's iteration. The loss is 43.65932673135188. The k is 9.44546447957265, and b is -36.85474562098465\n",
      "This is the 505 time's iteration. The loss is 43.659298467255255. The k is 9.445381912098744, and b is -36.854220399539386\n",
      "This is the 506 time's iteration. The loss is 43.65927021675038. The k is 9.445299364480029, and b is -36.85369530439531\n",
      "This is the 507 time's iteration. The loss is 43.65924197983087. The k is 9.445216836711724, and b is -36.85317033552205\n",
      "This is the 508 time's iteration. The loss is 43.6592137564901. The k is 9.44513432878906, and b is -36.852645492889245\n",
      "This is the 509 time's iteration. The loss is 43.659185546721524. The k is 9.445051840707261, and b is -36.852120776466535\n",
      "This is the 510 time's iteration. The loss is 43.659157350518726. The k is 9.444969372461559, and b is -36.851596186223574\n",
      "This is the 511 time's iteration. The loss is 43.659129167875015. The k is 9.444886924047182, and b is -36.851071722130015\n",
      "This is the 512 time's iteration. The loss is 43.65910099878401. The k is 9.444804495459362, and b is -36.850547384155526\n",
      "This is the 513 time's iteration. The loss is 43.65907284323913. The k is 9.444722086693332, and b is -36.85002317226977\n",
      "This is the 514 time's iteration. The loss is 43.659044701233945. The k is 9.444639697744325, and b is -36.849499086442435\n",
      "This is the 515 time's iteration. The loss is 43.659016572761786. The k is 9.444557328607573, and b is -36.848975126643204\n",
      "This is the 516 time's iteration. The loss is 43.65898845781624. The k is 9.444474979278315, and b is -36.84845129284177\n",
      "This is the 517 time's iteration. The loss is 43.65896035639083. The k is 9.444392649751785, and b is -36.847927585007845\n",
      "This is the 518 time's iteration. The loss is 43.65893226847906. The k is 9.444310340023225, and b is -36.84740400311112\n",
      "This is the 519 time's iteration. The loss is 43.658904194074324. The k is 9.44422805008787, and b is -36.84688054712132\n",
      "This is the 520 time's iteration. The loss is 43.65887613317024. The k is 9.444145779940962, and b is -36.84635721700817\n",
      "This is the 521 time's iteration. The loss is 43.65884808576024. The k is 9.444063529577743, and b is -36.84583401274139\n",
      "This is the 522 time's iteration. The loss is 43.658820051837914. The k is 9.443981298993455, and b is -36.84531093429073\n",
      "This is the 523 time's iteration. The loss is 43.658792031396686. The k is 9.443899088183342, and b is -36.84478798162593\n",
      "This is the 524 time's iteration. The loss is 43.65876402443006. The k is 9.443816897142648, and b is -36.84426515471674\n",
      "This is the 525 time's iteration. The loss is 43.65873603093172. The k is 9.44373472586662, and b is -36.84374245353292\n",
      "This is the 526 time's iteration. The loss is 43.658708050895065. The k is 9.443652574350505, and b is -36.84321987804424\n",
      "This is the 527 time's iteration. The loss is 43.658680084313566. The k is 9.443570442589552, and b is -36.84269742822047\n",
      "This is the 528 time's iteration. The loss is 43.658652131180915. The k is 9.443488330579008, and b is -36.84217510403139\n",
      "This is the 529 time's iteration. The loss is 43.6586241914905. The k is 9.443406238314125, and b is -36.84165290544679\n",
      "This is the 530 time's iteration. The loss is 43.65859626523596. The k is 9.443324165790155, and b is -36.84113083243647\n",
      "This is the 531 time's iteration. The loss is 43.65856835241073. The k is 9.443242113002352, and b is -36.84060888497022\n",
      "This is the 532 time's iteration. The loss is 43.65854045300839. The k is 9.443160079945967, and b is -36.84008706301787\n",
      "This is the 533 time's iteration. The loss is 43.658512567022534. The k is 9.443078066616257, and b is -36.839565366549216\n",
      "This is the 534 time's iteration. The loss is 43.65848469444666. The k is 9.442996073008478, and b is -36.839043795534096\n",
      "This is the 535 time's iteration. The loss is 43.658456835274336. The k is 9.442914099117889, and b is -36.83852234994234\n",
      "This is the 536 time's iteration. The loss is 43.65842898949915. The k is 9.442832144939745, and b is -36.83800102974378\n",
      "This is the 537 time's iteration. The loss is 43.65840115711455. The k is 9.442750210469308, and b is -36.83747983490827\n",
      "This is the 538 time's iteration. The loss is 43.658373338114316. The k is 9.44266829570184, and b is -36.83695876540567\n",
      "This is the 539 time's iteration. The loss is 43.65834553249177. The k is 9.4425864006326, and b is -36.83643782120583\n",
      "This is the 540 time's iteration. The loss is 43.65831774024059. The k is 9.442504525256853, and b is -36.83591700227861\n",
      "This is the 541 time's iteration. The loss is 43.65828996135432. The k is 9.442422669569863, and b is -36.83539630859391\n",
      "This is the 542 time's iteration. The loss is 43.65826219582661. The k is 9.442340833566895, and b is -36.83487574012159\n",
      "This is the 543 time's iteration. The loss is 43.6582344436509. The k is 9.442259017243217, and b is -36.83435529683155\n",
      "This is the 544 time's iteration. The loss is 43.6582067048209. The k is 9.442177220594095, and b is -36.833834978693694\n",
      "This is the 545 time's iteration. The loss is 43.658178979330074. The k is 9.442095443614798, and b is -36.83331478567791\n",
      "This is the 546 time's iteration. The loss is 43.65815126717209. The k is 9.442013686300598, and b is -36.832794717754126\n",
      "This is the 547 time's iteration. The loss is 43.658123568340564. The k is 9.441931948646763, and b is -36.83227477489225\n",
      "This is the 548 time's iteration. The loss is 43.65809588282896. The k is 9.441850230648567, and b is -36.83175495706221\n",
      "This is the 549 time's iteration. The loss is 43.658068210630965. The k is 9.441768532301284, and b is -36.83123526423394\n",
      "This is the 550 time's iteration. The loss is 43.658040551740235. The k is 9.441686853600185, and b is -36.830715696377375\n",
      "This is the 551 time's iteration. The loss is 43.65801290615023. The k is 9.44160519454055, and b is -36.830196253462475\n",
      "This is the 552 time's iteration. The loss is 43.65798527385464. The k is 9.441523555117653, and b is -36.82967693545918\n",
      "This is the 553 time's iteration. The loss is 43.657957654847095. The k is 9.441441935326772, and b is -36.82915774233747\n"
     ]
    },
    {
     "name": "stdout",
     "output_type": "stream",
     "text": [
      "This is the 554 time's iteration. The loss is 43.65793004912107. The k is 9.441360335163187, and b is -36.82863867406731\n",
      "This is the 555 time's iteration. The loss is 43.65790245667035. The k is 9.44127875462218, and b is -36.82811973061866\n",
      "This is the 556 time's iteration. The loss is 43.65787487748845. The k is 9.441197193699029, and b is -36.82760091196152\n",
      "This is the 557 time's iteration. The loss is 43.657847311568965. The k is 9.44111565238902, and b is -36.827082218065875\n",
      "This is the 558 time's iteration. The loss is 43.65781975890561. The k is 9.44103413068743, and b is -36.826563648901725\n",
      "This is the 559 time's iteration. The loss is 43.65779221949198. The k is 9.440952628589551, and b is -36.826045204439076\n",
      "This is the 560 time's iteration. The loss is 43.65776469332166. The k is 9.440871146090666, and b is -36.82552688464794\n",
      "This is the 561 time's iteration. The loss is 43.65773718038831. The k is 9.440789683186061, and b is -36.82500868949834\n",
      "This is the 562 time's iteration. The loss is 43.657709680685585. The k is 9.440708239871025, and b is -36.8244906189603\n",
      "This is the 563 time's iteration. The loss is 43.65768219420707. The k is 9.440626816140847, and b is -36.82397267300385\n",
      "This is the 564 time's iteration. The loss is 43.65765472094644. The k is 9.440545411990819, and b is -36.823454851599045\n",
      "This is the 565 time's iteration. The loss is 43.657627260897385. The k is 9.440464027416231, and b is -36.82293715471592\n",
      "This is the 566 time's iteration. The loss is 43.65759981405347. The k is 9.440382662412377, and b is -36.82241958232454\n",
      "This is the 567 time's iteration. The loss is 43.65757238040834. The k is 9.440301316974548, and b is -36.82190213439497\n",
      "This is the 568 time's iteration. The loss is 43.65754495995571. The k is 9.440219991098042, and b is -36.821384810897264\n",
      "This is the 569 time's iteration. The loss is 43.65751755268928. The k is 9.440138684778152, and b is -36.82086761180152\n",
      "This is the 570 time's iteration. The loss is 43.657490158602535. The k is 9.440057398010177, and b is -36.82035053707781\n",
      "This is the 571 time's iteration. The loss is 43.65746277768931. The k is 9.439976130789416, and b is -36.81983358669623\n",
      "This is the 572 time's iteration. The loss is 43.6574354099432. The k is 9.439894883111167, and b is -36.81931676062687\n",
      "This is the 573 time's iteration. The loss is 43.65740805535785. The k is 9.439813654970731, and b is -36.81880005883985\n",
      "This is the 574 time's iteration. The loss is 43.65738071392695. The k is 9.43973244636341, and b is -36.81828348130528\n",
      "This is the 575 time's iteration. The loss is 43.65735338564416. The k is 9.439651257284506, and b is -36.81776702799328\n",
      "This is the 576 time's iteration. The loss is 43.65732607050322. The k is 9.439570087729324, and b is -36.81725069887397\n",
      "This is the 577 time's iteration. The loss is 43.657298768497746. The k is 9.439488937693168, and b is -36.816734493917494\n",
      "This is the 578 time's iteration. The loss is 43.657271479621464. The k is 9.439407807171346, and b is -36.81621841309399\n",
      "This is the 579 time's iteration. The loss is 43.65724420386804. The k is 9.439326696159164, and b is -36.815702456373614\n",
      "This is the 580 time's iteration. The loss is 43.657216941231155. The k is 9.43924560465193, and b is -36.81518662372652\n",
      "This is the 581 time's iteration. The loss is 43.657189691704524. The k is 9.439164532644954, and b is -36.81467091512287\n",
      "This is the 582 time's iteration. The loss is 43.657162455281764. The k is 9.439083480133549, and b is -36.814155330532834\n",
      "This is the 583 time's iteration. The loss is 43.657135231956715. The k is 9.439002447113024, and b is -36.81363986992659\n",
      "This is the 584 time's iteration. The loss is 43.657108021723005. The k is 9.438921433578692, and b is -36.813124533274326\n",
      "This is the 585 time's iteration. The loss is 43.65708082457424. The k is 9.438840439525869, and b is -36.81260932054624\n",
      "This is the 586 time's iteration. The loss is 43.65705364050432. The k is 9.438759464949868, and b is -36.812094231712514\n",
      "This is the 587 time's iteration. The loss is 43.6570264695068. The k is 9.438678509846007, and b is -36.81157926674337\n",
      "This is the 588 time's iteration. The loss is 43.65699931157552. The k is 9.438597574209604, and b is -36.81106442560902\n",
      "This is the 589 time's iteration. The loss is 43.65697216670405. The k is 9.438516658035976, and b is -36.81054970827968\n",
      "This is the 590 time's iteration. The loss is 43.656945034886235. The k is 9.438435761320443, and b is -36.81003511472558\n",
      "This is the 591 time's iteration. The loss is 43.65691791611568. The k is 9.438354884058327, and b is -36.80952064491696\n",
      "This is the 592 time's iteration. The loss is 43.65689081038624. The k is 9.43827402624495, and b is -36.80900629882406\n",
      "This is the 593 time's iteration. The loss is 43.65686371769159. The k is 9.438193187875633, and b is -36.808492076417124\n",
      "This is the 594 time's iteration. The loss is 43.65683663802545. The k is 9.438112368945701, and b is -36.80797797766642\n",
      "This is the 595 time's iteration. The loss is 43.656809571381515. The k is 9.438031569450482, and b is -36.807464002542204\n",
      "This is the 596 time's iteration. The loss is 43.65678251775371. The k is 9.4379507893853, and b is -36.80695015101475\n",
      "This is the 597 time's iteration. The loss is 43.65675547713549. The k is 9.437870028745483, and b is -36.806436423054336\n",
      "This is the 598 time's iteration. The loss is 43.65672844952082. The k is 9.437789287526359, and b is -36.805922818631245\n",
      "This is the 599 time's iteration. The loss is 43.65670143490329. The k is 9.43770856572326, and b is -36.80540933771577\n",
      "This is the 600 time's iteration. The loss is 43.65667443327678. The k is 9.437627863331514, and b is -36.80489598027822\n",
      "This is the 601 time's iteration. The loss is 43.65664744463503. The k is 9.437547180346456, and b is -36.80438274628889\n",
      "This is the 602 time's iteration. The loss is 43.656620468971695. The k is 9.437466516763418, and b is -36.8038696357181\n",
      "This is the 603 time's iteration. The loss is 43.656593506280664. The k is 9.437385872577734, and b is -36.80335664853617\n",
      "This is the 604 time's iteration. The loss is 43.65656655655558. The k is 9.43730524778474, and b is -36.80284378471343\n",
      "This is the 605 time's iteration. The loss is 43.656539619790195. The k is 9.437224642379773, and b is -36.80233104422022\n",
      "This is the 606 time's iteration. The loss is 43.65651269597845. The k is 9.43714405635817, and b is -36.80181842702687\n",
      "This is the 607 time's iteration. The loss is 43.656485785114. The k is 9.43706348971527, and b is -36.80130593310374\n",
      "This is the 608 time's iteration. The loss is 43.65645888719059. The k is 9.436982942446413, and b is -36.800793562421184\n",
      "This is the 609 time's iteration. The loss is 43.656432002202024. The k is 9.43690241454694, and b is -36.800281314949565\n",
      "This is the 610 time's iteration. The loss is 43.65640513014211. The k is 9.436821906012193, and b is -36.799769190659255\n",
      "This is the 611 time's iteration. The loss is 43.65637827100467. The k is 9.436741416837517, and b is -36.79925718952063\n",
      "This is the 612 time's iteration. The loss is 43.656351424783324. The k is 9.436660947018254, and b is -36.79874531150408\n",
      "This is the 613 time's iteration. The loss is 43.65632459147204. The k is 9.43658049654975, and b is -36.798233556579994\n",
      "This is the 614 time's iteration. The loss is 43.656297771064594. The k is 9.436500065427353, and b is -36.79772192471877\n",
      "This is the 615 time's iteration. The loss is 43.6562709635546. The k is 9.436419653646409, and b is -36.797210415890824\n",
      "This is the 616 time's iteration. The loss is 43.65624416893603. The k is 9.436339261202269, and b is -36.79669903006656\n",
      "This is the 617 time's iteration. The loss is 43.656217387202666. The k is 9.436258888090281, and b is -36.79618776721641\n",
      "This is the 618 time's iteration. The loss is 43.656190618348234. The k is 9.436178534305798, and b is -36.79567662731079\n",
      "This is the 619 time's iteration. The loss is 43.65616386236661. The k is 9.436098199844173, and b is -36.79516561032014\n",
      "This is the 620 time's iteration. The loss is 43.656137119251575. The k is 9.436017884700755, and b is -36.7946547162149\n",
      "This is the 621 time's iteration. The loss is 43.65611038899695. The k is 9.435937588870903, and b is -36.794143944965526\n"
     ]
    },
    {
     "name": "stdout",
     "output_type": "stream",
     "text": [
      "This is the 622 time's iteration. The loss is 43.65608367159664. The k is 9.43585731234997, and b is -36.79363329654247\n",
      "This is the 623 time's iteration. The loss is 43.6560569670442. The k is 9.435777055133315, and b is -36.79312277091619\n",
      "This is the 624 time's iteration. The loss is 43.65603027533371. The k is 9.435696817216295, and b is -36.79261236805717\n",
      "This is the 625 time's iteration. The loss is 43.656003596458945. The k is 9.435616598594267, and b is -36.79210208793588\n",
      "This is the 626 time's iteration. The loss is 43.655976930413644. The k is 9.435536399262592, and b is -36.791591930522806\n",
      "This is the 627 time's iteration. The loss is 43.65595027719171. The k is 9.435456219216633, and b is -36.79108189578844\n",
      "This is the 628 time's iteration. The loss is 43.65592363678694. The k is 9.435376058451752, and b is -36.79057198370327\n",
      "This is the 629 time's iteration. The loss is 43.655897009193154. The k is 9.435295916963309, and b is -36.79006219423783\n",
      "This is the 630 time's iteration. The loss is 43.65587039440433. The k is 9.435215794746673, and b is -36.7895525273626\n",
      "This is the 631 time's iteration. The loss is 43.65584379241406. The k is 9.435135691797207, and b is -36.78904298304813\n",
      "This is the 632 time's iteration. The loss is 43.65581720321646. The k is 9.435055608110279, and b is -36.78853356126493\n",
      "This is the 633 time's iteration. The loss is 43.655790626805214. The k is 9.434975543681256, and b is -36.78802426198354\n",
      "This is the 634 time's iteration. The loss is 43.65576406317423. The k is 9.434895498505508, and b is -36.7875150851745\n",
      "This is the 635 time's iteration. The loss is 43.655737512317295. The k is 9.434815472578405, and b is -36.78700603080836\n",
      "This is the 636 time's iteration. The loss is 43.65571097422834. The k is 9.434735465895317, and b is -36.786497098855676\n",
      "This is the 637 time's iteration. The loss is 43.655684448901226. The k is 9.434655478451617, and b is -36.78598828928701\n",
      "This is the 638 time's iteration. The loss is 43.6556579363298. The k is 9.43457551024268, and b is -36.78547960207293\n",
      "This is the 639 time's iteration. The loss is 43.65563143650783. The k is 9.434495561263878, and b is -36.78497103718402\n",
      "This is the 640 time's iteration. The loss is 43.65560494942935. The k is 9.43441563151059, and b is -36.78446259459086\n",
      "This is the 641 time's iteration. The loss is 43.65557847508804. The k is 9.434335720978188, and b is -36.78395427426405\n",
      "This is the 642 time's iteration. The loss is 43.65555201347804. The k is 9.434255829662053, and b is -36.783446076174165\n",
      "This is the 643 time's iteration. The loss is 43.655525564593. The k is 9.434175957557565, and b is -36.78293800029183\n",
      "This is the 644 time's iteration. The loss is 43.65549912842684. The k is 9.434096104660101, and b is -36.78243004658765\n",
      "This is the 645 time's iteration. The loss is 43.65547270497356. The k is 9.434016270965046, and b is -36.781922215032246\n",
      "This is the 646 time's iteration. The loss is 43.65544629422687. The k is 9.433936456467778, and b is -36.78141450559625\n",
      "This is the 647 time's iteration. The loss is 43.65541989618087. The k is 9.433856661163684, and b is -36.780906918250295\n",
      "This is the 648 time's iteration. The loss is 43.655393510829306. The k is 9.433776885048148, and b is -36.780399452965014\n",
      "This is the 649 time's iteration. The loss is 43.655367138166056. The k is 9.433697128116554, and b is -36.77989210971106\n",
      "This is the 650 time's iteration. The loss is 43.655340778185135. The k is 9.43361739036429, and b is -36.779384888459084\n",
      "This is the 651 time's iteration. The loss is 43.6553144308803. The k is 9.433537671786745, and b is -36.77887778917975\n",
      "This is the 652 time's iteration. The loss is 43.65528809624562. The k is 9.433457972379307, and b is -36.77837081184373\n",
      "This is the 653 time's iteration. The loss is 43.65526177427481. The k is 9.433378292137364, and b is -36.7778639564217\n",
      "This is the 654 time's iteration. The loss is 43.655235464961976. The k is 9.43329863105631, and b is -36.77735722288433\n",
      "This is the 655 time's iteration. The loss is 43.65520916830093. The k is 9.433218989131538, and b is -36.776850611202335\n",
      "This is the 656 time's iteration. The loss is 43.65518288428558. The k is 9.433139366358438, and b is -36.77634412134639\n",
      "This is the 657 time's iteration. The loss is 43.655156612909884. The k is 9.433059762732407, and b is -36.775837753287206\n",
      "This is the 658 time's iteration. The loss is 43.655130354167675. The k is 9.43298017824884, and b is -36.7753315069955\n",
      "This is the 659 time's iteration. The loss is 43.655104108053. The k is 9.432900612903135, and b is -36.77482538244198\n",
      "This is the 660 time's iteration. The loss is 43.655077874559765. The k is 9.432821066690687, and b is -36.77431937959738\n",
      "This is the 661 time's iteration. The loss is 43.655051653681774. The k is 9.432741539606898, and b is -36.77381349843243\n",
      "This is the 662 time's iteration. The loss is 43.6550254454131. The k is 9.432662031647165, and b is -36.77330773891787\n",
      "This is the 663 time's iteration. The loss is 43.65499924974773. The k is 9.432582542806893, and b is -36.772802101024446\n",
      "This is the 664 time's iteration. The loss is 43.65497306667938. The k is 9.432503073081483, and b is -36.77229658472291\n",
      "This is the 665 time's iteration. The loss is 43.65494689620212. The k is 9.432423622466336, and b is -36.77179118998402\n",
      "This is the 666 time's iteration. The loss is 43.65492073830999. The k is 9.43234419095686, and b is -36.77128591677855\n",
      "This is the 667 time's iteration. The loss is 43.65489459299674. The k is 9.432264778548458, and b is -36.770780765077276\n",
      "This is the 668 time's iteration. The loss is 43.65486846025651. The k is 9.432185385236536, and b is -36.77027573485097\n",
      "This is the 669 time's iteration. The loss is 43.654842340083114. The k is 9.432106011016506, and b is -36.76977082607043\n",
      "This is the 670 time's iteration. The loss is 43.65481623247059. The k is 9.432026655883773, and b is -36.76926603870644\n",
      "This is the 671 time's iteration. The loss is 43.65479013741286. The k is 9.431947319833748, and b is -36.76876137272981\n",
      "This is the 672 time's iteration. The loss is 43.65476405490388. The k is 9.431868002861844, and b is -36.768256828111355\n",
      "This is the 673 time's iteration. The loss is 43.65473798493758. The k is 9.43178870496347, and b is -36.767752404821884\n",
      "This is the 674 time's iteration. The loss is 43.65471192750811. The k is 9.431709426134043, and b is -36.76724810283223\n",
      "This is the 675 time's iteration. The loss is 43.65468588260922. The k is 9.431630166368974, and b is -36.76674392211321\n",
      "This is the 676 time's iteration. The loss is 43.65465985023503. The k is 9.43155092566368, and b is -36.766239862635665\n",
      "This is the 677 time's iteration. The loss is 43.65463383037945. The k is 9.43147170401358, and b is -36.765735924370446\n",
      "This is the 678 time's iteration. The loss is 43.65460782303642. The k is 9.431392501414088, and b is -36.765232107288405\n",
      "This is the 679 time's iteration. The loss is 43.65458182819999. The k is 9.431313317860624, and b is -36.764728411360394\n",
      "This is the 680 time's iteration. The loss is 43.65455584586413. The k is 9.431234153348608, and b is -36.76422483655729\n",
      "This is the 681 time's iteration. The loss is 43.654529876022906. The k is 9.431155007873462, and b is -36.76372138284995\n",
      "This is the 682 time's iteration. The loss is 43.65450391867021. The k is 9.431075881430608, and b is -36.76321805020927\n",
      "This is the 683 time's iteration. The loss is 43.654477973799985. The k is 9.430996774015469, and b is -36.76271483860612\n",
      "This is the 684 time's iteration. The loss is 43.65445204140637. The k is 9.430917685623468, and b is -36.76221174801141\n",
      "This is the 685 time's iteration. The loss is 43.654426121483255. The k is 9.430838616250032, and b is -36.761708778396034\n",
      "This is the 686 time's iteration. The loss is 43.65440021402474. The k is 9.430759565890588, and b is -36.7612059297309\n",
      "This is the 687 time's iteration. The loss is 43.654374319024726. The k is 9.430680534540562, and b is -36.76070320198692\n",
      "This is the 688 time's iteration. The loss is 43.65434843647726. The k is 9.430601522195383, and b is -36.760200595135025\n",
      "This is the 689 time's iteration. The loss is 43.65432256637639. The k is 9.430522528850483, and b is -36.759698109146136\n",
      "This is the 690 time's iteration. The loss is 43.65429670871614. The k is 9.430443554501291, and b is -36.759195743991185\n",
      "This is the 691 time's iteration. The loss is 43.65427086349049. The k is 9.430364599143239, and b is -36.758693499641126\n",
      "This is the 692 time's iteration. The loss is 43.654245030693424. The k is 9.430285662771762, and b is -36.7581913760669\n"
     ]
    },
    {
     "name": "stdout",
     "output_type": "stream",
     "text": [
      "This is the 693 time's iteration. The loss is 43.654219210319056. The k is 9.430206745382293, and b is -36.757689373239465\n",
      "This is the 694 time's iteration. The loss is 43.6541934023613. The k is 9.430127846970265, and b is -36.757187491129784\n",
      "This is the 695 time's iteration. The loss is 43.65416760681433. The k is 9.430048967531118, and b is -36.756685729708835\n",
      "This is the 696 time's iteration. The loss is 43.65414182367202. The k is 9.429970107060289, and b is -36.75618408894759\n",
      "This is the 697 time's iteration. The loss is 43.65411605292848. The k is 9.429891265553216, and b is -36.755682568817036\n",
      "This is the 698 time's iteration. The loss is 43.65409029457782. The k is 9.429812443005337, and b is -36.75518116928816\n",
      "This is the 699 time's iteration. The loss is 43.654064548613945. The k is 9.429733639412095, and b is -36.754679890331964\n",
      "This is the 700 time's iteration. The loss is 43.65403881503098. The k is 9.429654854768932, and b is -36.75417873191945\n",
      "This is the 701 time's iteration. The loss is 43.65401309382296. The k is 9.429576089071292, and b is -36.75367769402164\n",
      "This is the 702 time's iteration. The loss is 43.65398738498392. The k is 9.429497342314615, and b is -36.75317677660954\n",
      "This is the 703 time's iteration. The loss is 43.65396168850791. The k is 9.42941861449435, and b is -36.75267597965419\n",
      "This is the 704 time's iteration. The loss is 43.653936004389024. The k is 9.429339905605943, and b is -36.75217530312662\n",
      "This is the 705 time's iteration. The loss is 43.65391033262125. The k is 9.42926121564484, and b is -36.751674746997864\n",
      "This is the 706 time's iteration. The loss is 43.653884673198704. The k is 9.429182544606489, and b is -36.75117431123898\n",
      "This is the 707 time's iteration. The loss is 43.653859026115484. The k is 9.429103892486342, and b is -36.750673995821\n",
      "This is the 708 time's iteration. The loss is 43.65383339136551. The k is 9.429025259279847, and b is -36.75017380071501\n",
      "This is the 709 time's iteration. The loss is 43.65380776894299. The k is 9.428946644982457, and b is -36.74967372589207\n",
      "This is the 710 time's iteration. The loss is 43.65378215884192. The k is 9.428868049589626, and b is -36.74917377132326\n",
      "This is the 711 time's iteration. The loss is 43.65375656105648. The k is 9.428789473096808, and b is -36.74867393697965\n",
      "This is the 712 time's iteration. The loss is 43.653730975580615. The k is 9.428710915499456, and b is -36.74817422283234\n",
      "This is the 713 time's iteration. The loss is 43.65370540240851. The k is 9.428632376793027, and b is -36.747674628852415\n",
      "This is the 714 time's iteration. The loss is 43.65367984153414. The k is 9.428553856972979, and b is -36.74717515501099\n",
      "This is the 715 time's iteration. The loss is 43.65365429295174. The k is 9.42847535603477, and b is -36.746675801279174\n",
      "This is the 716 time's iteration. The loss is 43.653628756655266. The k is 9.42839687397386, and b is -36.746176567628076\n",
      "This is the 717 time's iteration. The loss is 43.65360323263885. The k is 9.428318410785707, and b is -36.74567745402882\n",
      "This is the 718 time's iteration. The loss is 43.653577720896614. The k is 9.428239966465775, and b is -36.74517846045255\n",
      "This is the 719 time's iteration. The loss is 43.65355222142261. The k is 9.428161541009526, and b is -36.74467958687039\n",
      "This is the 720 time's iteration. The loss is 43.65352673421095. The k is 9.428083134412425, and b is -36.74418083325349\n",
      "This is the 721 time's iteration. The loss is 43.653501259255776. The k is 9.428004746669934, and b is -36.743682199572994\n",
      "This is the 722 time's iteration. The loss is 43.65347579655118. The k is 9.427926377777522, and b is -36.743183685800076\n",
      "This is the 723 time's iteration. The loss is 43.65345034609129. The k is 9.427848027730656, and b is -36.74268529190589\n",
      "This is the 724 time's iteration. The loss is 43.65342490787013. The k is 9.427769696524802, and b is -36.74218701786162\n",
      "This is the 725 time's iteration. The loss is 43.65339948188193. The k is 9.42769138415543, and b is -36.74168886363843\n",
      "This is the 726 time's iteration. The loss is 43.65337406812065. The k is 9.427613090618012, and b is -36.74119082920751\n",
      "This is the 727 time's iteration. The loss is 43.65334866658061. The k is 9.427534815908016, and b is -36.74069291454006\n",
      "This is the 728 time's iteration. The loss is 43.65332327725579. The k is 9.42745656002092, and b is -36.74019511960728\n",
      "This is the 729 time's iteration. The loss is 43.65329790014037. The k is 9.427378322952192, and b is -36.73969744438037\n",
      "This is the 730 time's iteration. The loss is 43.65327253522846. The k is 9.42730010469731, and b is -36.73919988883055\n",
      "This is the 731 time's iteration. The loss is 43.65324718251417. The k is 9.427221905251747, and b is -36.73870245292904\n",
      "This is the 732 time's iteration. The loss is 43.65322184199172. The k is 9.427143724610984, and b is -36.73820513664707\n",
      "This is the 733 time's iteration. The loss is 43.653196513655175. The k is 9.427065562770494, and b is -36.73770793995587\n",
      "This is the 734 time's iteration. The loss is 43.65317119749865. The k is 9.42698741972576, and b is -36.73721086282668\n",
      "This is the 735 time's iteration. The loss is 43.65314589351633. The k is 9.426909295472262, and b is -36.73671390523075\n",
      "This is the 736 time's iteration. The loss is 43.65312060170242. The k is 9.426831190005478, and b is -36.73621706713934\n",
      "This is the 737 time's iteration. The loss is 43.65309532205097. The k is 9.426753103320895, and b is -36.735720348523714\n",
      "This is the 738 time's iteration. The loss is 43.653070054556174. The k is 9.426675035413991, and b is -36.735223749355136\n",
      "This is the 739 time's iteration. The loss is 43.65304479921218. The k is 9.426596986280254, and b is -36.73472726960489\n",
      "This is the 740 time's iteration. The loss is 43.65301955601314. The k is 9.42651895591517, and b is -36.734230909244246\n",
      "This is the 741 time's iteration. The loss is 43.65299432495323. The k is 9.426440944314225, and b is -36.73373466824451\n",
      "This is the 742 time's iteration. The loss is 43.65296910602657. The k is 9.426362951472905, and b is -36.73323854657696\n",
      "This is the 743 time's iteration. The loss is 43.65294389922738. The k is 9.4262849773867, and b is -36.73274254421292\n",
      "This is the 744 time's iteration. The loss is 43.652918704549755. The k is 9.4262070220511, and b is -36.73224666112368\n",
      "This is the 745 time's iteration. The loss is 43.65289352198804. The k is 9.426129085461596, and b is -36.73175089728058\n",
      "This is the 746 time's iteration. The loss is 43.652868351536185. The k is 9.42605116761368, and b is -36.731255252654925\n",
      "This is the 747 time's iteration. The loss is 43.65284319318848. The k is 9.425973268502846, and b is -36.73075972721806\n",
      "This is the 748 time's iteration. The loss is 43.6528180469391. The k is 9.425895388124587, and b is -36.730264320941316\n",
      "This is the 749 time's iteration. The loss is 43.652792912782225. The k is 9.425817526474399, and b is -36.729769033796046\n",
      "This is the 750 time's iteration. The loss is 43.652767790712005. The k is 9.425739683547778, and b is -36.72927386575359\n",
      "This is the 751 time's iteration. The loss is 43.65274268072265. The k is 9.425661859340224, and b is -36.728778816785315\n",
      "This is the 752 time's iteration. The loss is 43.6527175828084. The k is 9.425584053847231, and b is -36.72828388686259\n",
      "This is the 753 time's iteration. The loss is 43.652692496963354. The k is 9.425506267064302, and b is -36.727789075956785\n",
      "This is the 754 time's iteration. The loss is 43.65266742318174. The k is 9.425428498986935, and b is -36.727294384039276\n",
      "This is the 755 time's iteration. The loss is 43.652642361457865. The k is 9.425350749610635, and b is -36.72679981108145\n",
      "This is the 756 time's iteration. The loss is 43.65261731178577. The k is 9.425273018930904, and b is -36.726305357054706\n",
      "This is the 757 time's iteration. The loss is 43.65259227415976. The k is 9.425195306943245, and b is -36.72581102193044\n",
      "This is the 758 time's iteration. The loss is 43.652567248573995. The k is 9.425117613643163, and b is -36.72531680568006\n",
      "This is the 759 time's iteration. The loss is 43.65254223502274. The k is 9.425039939026165, and b is -36.72482270827498\n",
      "This is the 760 time's iteration. The loss is 43.652517233500134. The k is 9.424962283087758, and b is -36.72432872968662\n"
     ]
    },
    {
     "name": "stdout",
     "output_type": "stream",
     "text": [
      "This is the 761 time's iteration. The loss is 43.65249224400042. The k is 9.42488464582345, and b is -36.72383486988641\n",
      "This is the 762 time's iteration. The loss is 43.65246726651782. The k is 9.424807027228752, and b is -36.72334112884579\n",
      "This is the 763 time's iteration. The loss is 43.65244230104654. The k is 9.424729427299173, and b is -36.72284750653619\n",
      "This is the 764 time's iteration. The loss is 43.65241734758089. The k is 9.424651846030224, and b is -36.722354002929066\n",
      "This is the 765 time's iteration. The loss is 43.65239240611501. The k is 9.424574283417419, and b is -36.72186061799587\n",
      "This is the 766 time's iteration. The loss is 43.65236747664312. The k is 9.42449673945627, and b is -36.72136735170807\n",
      "This is the 767 time's iteration. The loss is 43.65234255915952. The k is 9.424419214142294, and b is -36.72087420403712\n",
      "This is the 768 time's iteration. The loss is 43.65231765365833. The k is 9.424341707471005, and b is -36.72038117495452\n",
      "This is the 769 time's iteration. The loss is 43.652292760133925. The k is 9.42426421943792, and b is -36.71988826443173\n",
      "This is the 770 time's iteration. The loss is 43.65226787858052. The k is 9.424186750038558, and b is -36.719395472440254\n",
      "This is the 771 time's iteration. The loss is 43.65224300899228. The k is 9.424109299268439, and b is -36.71890279895158\n",
      "This is the 772 time's iteration. The loss is 43.65221815136343. The k is 9.424031867123082, and b is -36.71841024393722\n",
      "This is the 773 time's iteration. The loss is 43.652193305688385. The k is 9.423954453598007, and b is -36.71791780736868\n",
      "This is the 774 time's iteration. The loss is 43.65216847196126. The k is 9.423877058688738, and b is -36.71742548921747\n",
      "This is the 775 time's iteration. The loss is 43.65214365017633. The k is 9.423799682390799, and b is -36.71693328945512\n",
      "This is the 776 time's iteration. The loss is 43.65211884032786. The k is 9.423722324699712, and b is -36.71644120805316\n",
      "This is the 777 time's iteration. The loss is 43.65209404241012. The k is 9.423644985611004, and b is -36.715949244983136\n",
      "This is the 778 time's iteration. The loss is 43.65206925641745. The k is 9.423567665120203, and b is -36.71545740021658\n",
      "This is the 779 time's iteration. The loss is 43.65204448234395. The k is 9.423490363222834, and b is -36.71496567372505\n",
      "This is the 780 time's iteration. The loss is 43.65201972018395. The k is 9.423413079914429, and b is -36.7144740654801\n",
      "This is the 781 time's iteration. The loss is 43.6519949699318. The k is 9.423335815190514, and b is -36.713982575453294\n",
      "This is the 782 time's iteration. The loss is 43.65197023158169. The k is 9.423258569046624, and b is -36.713491203616215\n",
      "This is the 783 time's iteration. The loss is 43.651945505127955. The k is 9.423181341478289, and b is -36.71299994994043\n",
      "This is the 784 time's iteration. The loss is 43.65192079056479. The k is 9.423104132481042, and b is -36.71250881439753\n",
      "This is the 785 time's iteration. The loss is 43.65189608788662. The k is 9.423026942050416, and b is -36.71201779695911\n",
      "This is the 786 time's iteration. The loss is 43.65187139708756. The k is 9.42294977018195, and b is -36.71152689759676\n",
      "This is the 787 time's iteration. The loss is 43.651846718161956. The k is 9.422872616871176, and b is -36.711036116282095\n",
      "This is the 788 time's iteration. The loss is 43.65182205110425. The k is 9.422795482113633, and b is -36.71054545298672\n",
      "This is the 789 time's iteration. The loss is 43.65179739590839. The k is 9.422718365904862, and b is -36.71005490768226\n",
      "This is the 790 time's iteration. The loss is 43.65177275256905. The k is 9.422641268240397, and b is -36.70956448034034\n",
      "This is the 791 time's iteration. The loss is 43.651748121080296. The k is 9.422564189115784, and b is -36.70907417093259\n",
      "This is the 792 time's iteration. The loss is 43.65172350143657. The k is 9.422487128526562, and b is -36.70858397943065\n",
      "This is the 793 time's iteration. The loss is 43.651698893632016. The k is 9.422410086468274, and b is -36.70809390580617\n",
      "This is the 794 time's iteration. The loss is 43.65167429766109. The k is 9.422333062936465, and b is -36.70760395003081\n",
      "This is the 795 time's iteration. The loss is 43.651649713518026. The k is 9.422256057926678, and b is -36.70711411207622\n",
      "This is the 796 time's iteration. The loss is 43.65162514119713. The k is 9.42217907143446, and b is -36.706624391914076\n",
      "This is the 797 time's iteration. The loss is 43.651600580692794. The k is 9.422102103455359, and b is -36.70613478951605\n",
      "This is the 798 time's iteration. The loss is 43.65157603199917. The k is 9.422025153984922, and b is -36.70564530485382\n",
      "This is the 799 time's iteration. The loss is 43.651551495110745. The k is 9.421948223018699, and b is -36.70515593789907\n",
      "This is the 800 time's iteration. The loss is 43.651526970021834. The k is 9.42187131055224, and b is -36.704666688623504\n",
      "This is the 801 time's iteration. The loss is 43.6515024567267. The k is 9.421794416581093, and b is -36.704177556998815\n",
      "This is the 802 time's iteration. The loss is 43.65147795521962. The k is 9.421717541100815, and b is -36.703688542996716\n",
      "This is the 803 time's iteration. The loss is 43.65145346549502. The k is 9.421640684106958, and b is -36.70319964658892\n",
      "This is the 804 time's iteration. The loss is 43.65142898754717. The k is 9.421563845595077, and b is -36.70271086774715\n",
      "This is the 805 time's iteration. The loss is 43.651404521370445. The k is 9.421487025560726, and b is -36.70222220644314\n",
      "This is the 806 time's iteration. The loss is 43.65138006695923. The k is 9.421410223999462, and b is -36.701733662648614\n",
      "This is the 807 time's iteration. The loss is 43.65135562430779. The k is 9.421333440906844, and b is -36.701245236335325\n",
      "This is the 808 time's iteration. The loss is 43.651331193410485. The k is 9.42125667627843, and b is -36.70075692747501\n",
      "This is the 809 time's iteration. The loss is 43.65130677426168. The k is 9.42117993010978, and b is -36.70026873603944\n",
      "This is the 810 time's iteration. The loss is 43.65128236685579. The k is 9.421103202396456, and b is -36.699780662000364\n",
      "This is the 811 time's iteration. The loss is 43.651257971187015. The k is 9.421026493134017, and b is -36.69929270532956\n",
      "This is the 812 time's iteration. The loss is 43.651233587249784. The k is 9.42094980231803, and b is -36.6988048659988\n",
      "This is the 813 time's iteration. The loss is 43.65120921503848. The k is 9.420873129944056, and b is -36.69831714397987\n",
      "This is the 814 time's iteration. The loss is 43.65118485454745. The k is 9.420796476007661, and b is -36.69782953924456\n",
      "This is the 815 time's iteration. The loss is 43.651160505771074. The k is 9.420719840504411, and b is -36.69734205176466\n",
      "This is the 816 time's iteration. The loss is 43.6511361687037. The k is 9.420643223429876, and b is -36.69685468151197\n",
      "This is the 817 time's iteration. The loss is 43.651111843339685. The k is 9.42056662477962, and b is -36.696367428458316\n",
      "This is the 818 time's iteration. The loss is 43.65108752967342. The k is 9.420490044549215, and b is -36.69588029257551\n",
      "This is the 819 time's iteration. The loss is 43.65106322769927. The k is 9.420413482734233, and b is -36.695393273835364\n",
      "This is the 820 time's iteration. The loss is 43.651038937411684. The k is 9.420336939330243, and b is -36.69490637220972\n",
      "This is the 821 time's iteration. The loss is 43.65101465880483. The k is 9.420260414332818, and b is -36.69441958767042\n",
      "This is the 822 time's iteration. The loss is 43.65099039187335. The k is 9.420183907737533, and b is -36.69393292018929\n",
      "This is the 823 time's iteration. The loss is 43.650966136611444. The k is 9.420107419539962, and b is -36.6934463697382\n",
      "This is the 824 time's iteration. The loss is 43.65094189301364. The k is 9.420030949735681, and b is -36.692959936288986\n",
      "This is the 825 time's iteration. The loss is 43.65091766107416. The k is 9.419954498320267, and b is -36.69247361981353\n",
      "This is the 826 time's iteration. The loss is 43.65089344078761. The k is 9.419878065289298, and b is -36.6919874202837\n",
      "This is the 827 time's iteration. The loss is 43.650869232148196. The k is 9.419801650638354, and b is -36.69150133767137\n",
      "This is the 828 time's iteration. The loss is 43.650845035150454. The k is 9.419725254363012, and b is -36.691015371948424\n",
      "This is the 829 time's iteration. The loss is 43.650820849788694. The k is 9.419648876458856, and b is -36.69052952308676\n",
      "This is the 830 time's iteration. The loss is 43.65079667605735. The k is 9.419572516921468, and b is -36.690043791058265\n"
     ]
    },
    {
     "name": "stdout",
     "output_type": "stream",
     "text": [
      "This is the 831 time's iteration. The loss is 43.65077251395087. The k is 9.41949617574643, and b is -36.689558175834854\n",
      "This is the 832 time's iteration. The loss is 43.65074836346354. The k is 9.419419852929328, and b is -36.68907267738844\n",
      "This is the 833 time's iteration. The loss is 43.650724224589965. The k is 9.419343548465747, and b is -36.68858729569093\n",
      "This is the 834 time's iteration. The loss is 43.65070009732435. The k is 9.419267262351273, and b is -36.688102030714255\n",
      "This is the 835 time's iteration. The loss is 43.650675981661244. The k is 9.419190994581491, and b is -36.68761688243035\n",
      "This is the 836 time's iteration. The loss is 43.650651877595074. The k is 9.419114745151996, and b is -36.68713185081115\n",
      "This is the 837 time's iteration. The loss is 43.65062778512018. The k is 9.419038514058371, and b is -36.6866469358286\n",
      "This is the 838 time's iteration. The loss is 43.65060370423111. The k is 9.41896230129621, and b is -36.68616213745465\n",
      "This is the 839 time's iteration. The loss is 43.650579634922195. The k is 9.418886106861105, and b is -36.68567745566127\n",
      "This is the 840 time's iteration. The loss is 43.65055557718787. The k is 9.41880993074865, and b is -36.68519289042042\n",
      "This is the 841 time's iteration. The loss is 43.650531531022594. The k is 9.418733772954434, and b is -36.68470844170406\n",
      "This is the 842 time's iteration. The loss is 43.65050749642079. The k is 9.418657633474057, and b is -36.684224109484184\n",
      "This is the 843 time's iteration. The loss is 43.650483473376944. The k is 9.418581512303113, and b is -36.68373989373278\n",
      "This is the 844 time's iteration. The loss is 43.65045946188543. The k is 9.4185054094372, and b is -36.683255794421825\n",
      "This is the 845 time's iteration. The loss is 43.65043546194073. The k is 9.418429324871914, and b is -36.68277181152333\n",
      "This is the 846 time's iteration. The loss is 43.65041147353726. The k is 9.418353258602856, and b is -36.6822879450093\n",
      "This is the 847 time's iteration. The loss is 43.65038749666947. The k is 9.418277210625627, and b is -36.68180419485174\n",
      "This is the 848 time's iteration. The loss is 43.65036353133193. The k is 9.418201180935826, and b is -36.68132056102268\n",
      "This is the 849 time's iteration. The loss is 43.65033957751893. The k is 9.418125169529057, and b is -36.680837043494144\n",
      "This is the 850 time's iteration. The loss is 43.65031563522503. The k is 9.418049176400924, and b is -36.68035364223816\n",
      "This is the 851 time's iteration. The loss is 43.650291704444626. The k is 9.41797320154703, and b is -36.67987035722677\n",
      "This is the 852 time's iteration. The loss is 43.650267785172346. The k is 9.41789724496298, and b is -36.67938718843202\n",
      "This is the 853 time's iteration. The loss is 43.65024387740239. The k is 9.417821306644383, and b is -36.67890413582596\n",
      "This is the 854 time's iteration. The loss is 43.650219981129396. The k is 9.417745386586844, and b is -36.67842119938066\n",
      "This is the 855 time's iteration. The loss is 43.65019609634778. The k is 9.417669484785973, and b is -36.67793837906817\n",
      "This is the 856 time's iteration. The loss is 43.65017222305206. The k is 9.417593601237382, and b is -36.67745567486058\n",
      "This is the 857 time's iteration. The loss is 43.65014836123667. The k is 9.417517735936677, and b is -36.676973086729966\n",
      "This is the 858 time's iteration. The loss is 43.65012451089616. The k is 9.417441888879473, and b is -36.67649061464841\n",
      "This is the 859 time's iteration. The loss is 43.65010067202493. The k is 9.417366060061385, and b is -36.676008258588006\n",
      "This is the 860 time's iteration. The loss is 43.65007684461754. The k is 9.417290249478022, and b is -36.675526018520856\n",
      "This is the 861 time's iteration. The loss is 43.650053028668374. The k is 9.417214457125002, and b is -36.67504389441907\n",
      "This is the 862 time's iteration. The loss is 43.65002922417196. The k is 9.417138682997942, and b is -36.67456188625476\n",
      "This is the 863 time's iteration. The loss is 43.65000543112285. The k is 9.417062927092458, and b is -36.67407999400004\n",
      "This is the 864 time's iteration. The loss is 43.64998164951553. The k is 9.416987189404168, and b is -36.67359821762704\n",
      "This is the 865 time's iteration. The loss is 43.64995787934442. The k is 9.416911469928689, and b is -36.673116557107896\n",
      "This is the 866 time's iteration. The loss is 43.64993412060409. The k is 9.416835768661645, and b is -36.67263501241475\n",
      "This is the 867 time's iteration. The loss is 43.649910373289025. The k is 9.416760085598657, and b is -36.672153583519744\n",
      "This is the 868 time's iteration. The loss is 43.649886637393756. The k is 9.416684420735345, and b is -36.671672270395035\n",
      "This is the 869 time's iteration. The loss is 43.649862912912724. The k is 9.416608774067335, and b is -36.671191073012785\n",
      "This is the 870 time's iteration. The loss is 43.64983919984044. The k is 9.41653314559025, and b is -36.670709991345156\n",
      "This is the 871 time's iteration. The loss is 43.64981549817156. The k is 9.416457535299717, and b is -36.67022902536433\n",
      "This is the 872 time's iteration. The loss is 43.64979180790038. The k is 9.416381943191361, and b is -36.66974817504248\n",
      "This is the 873 time's iteration. The loss is 43.64976812902162. The k is 9.41630636926081, and b is -36.66926744035179\n",
      "This is the 874 time's iteration. The loss is 43.64974446152974. The k is 9.416230813503695, and b is -36.66878682126446\n",
      "This is the 875 time's iteration. The loss is 43.649720805419165. The k is 9.416155275915642, and b is -36.668306317752695\n",
      "This is the 876 time's iteration. The loss is 43.64969716068453. The k is 9.416079756492286, and b is -36.66782592978869\n",
      "This is the 877 time's iteration. The loss is 43.64967352732035. The k is 9.416004255229254, and b is -36.66734565734467\n",
      "This is the 878 time's iteration. The loss is 43.649649905321134. The k is 9.415928772122182, and b is -36.66686550039285\n",
      "This is the 879 time's iteration. The loss is 43.64962629468137. The k is 9.415853307166705, and b is -36.66638545890547\n",
      "This is the 880 time's iteration. The loss is 43.64960269539572. The k is 9.415777860358455, and b is -36.665905532854744\n",
      "This is the 881 time's iteration. The loss is 43.64957910745865. The k is 9.415702431693072, and b is -36.66542572221292\n",
      "This is the 882 time's iteration. The loss is 43.649555530864625. The k is 9.41562702116619, and b is -36.66494602695225\n",
      "This is the 883 time's iteration. The loss is 43.649531965608354. The k is 9.415551628773446, and b is -36.66446644704499\n",
      "This is the 884 time's iteration. The loss is 43.6495084116843. The k is 9.415476254510484, and b is -36.663986982463385\n",
      "This is the 885 time's iteration. The loss is 43.64948486908697. The k is 9.41540089837294, and b is -36.66350763317972\n",
      "This is the 886 time's iteration. The loss is 43.649461337810976. The k is 9.41532556035646, and b is -36.66302839916626\n",
      "This is the 887 time's iteration. The loss is 43.64943781785086. The k is 9.415250240456679, and b is -36.66254928039529\n",
      "This is the 888 time's iteration. The loss is 43.64941430920117. The k is 9.415174938669248, and b is -36.662070276839096\n",
      "This is the 889 time's iteration. The loss is 43.64939081185648. The k is 9.415099654989808, and b is -36.66159138846997\n",
      "This is the 890 time's iteration. The loss is 43.64936732581141. The k is 9.415024389414004, and b is -36.661112615260215\n",
      "This is the 891 time's iteration. The loss is 43.6493438510604. The k is 9.414949141937482, and b is -36.660633957182135\n",
      "This is the 892 time's iteration. The loss is 43.64932038759812. The k is 9.414873912555892, and b is -36.66015541420805\n",
      "This is the 893 time's iteration. The loss is 43.649296935419095. The k is 9.414798701264882, and b is -36.659676986310274\n",
      "This is the 894 time's iteration. The loss is 43.64927349451794. The k is 9.414723508060103, and b is -36.65919867346114\n",
      "This is the 895 time's iteration. The loss is 43.649250064889124. The k is 9.414648332937203, and b is -36.658720475632975\n",
      "This is the 896 time's iteration. The loss is 43.64922664652732. The k is 9.414573175891833, and b is -36.65824239279813\n",
      "This is the 897 time's iteration. The loss is 43.649203239427116. The k is 9.41449803691965, and b is -36.65776442492894\n",
      "This is the 898 time's iteration. The loss is 43.64917984358313. The k is 9.414422916016305, and b is -36.65728657199777\n"
     ]
    },
    {
     "name": "stdout",
     "output_type": "stream",
     "text": [
      "This is the 899 time's iteration. The loss is 43.64915645898987. The k is 9.414347813177454, and b is -36.656808833976974\n",
      "This is the 900 time's iteration. The loss is 43.64913308564192. The k is 9.414272728398752, and b is -36.65633121083892\n",
      "This is the 901 time's iteration. The loss is 43.64910972353389. The k is 9.414197661675857, and b is -36.65585370255599\n",
      "This is the 902 time's iteration. The loss is 43.64908637266042. The k is 9.414122613004427, and b is -36.65537630910055\n",
      "This is the 903 time's iteration. The loss is 43.649063033016056. The k is 9.41404758238012, and b is -36.654899030444994\n",
      "This is the 904 time's iteration. The loss is 43.649039704595424. The k is 9.413972569798597, and b is -36.65442186656172\n",
      "This is the 905 time's iteration. The loss is 43.649016387393104. The k is 9.41389757525552, and b is -36.653944817423124\n",
      "This is the 906 time's iteration. The loss is 43.64899308140372. The k is 9.41382259874655, and b is -36.65346788300162\n",
      "This is the 907 time's iteration. The loss is 43.64896978662194. The k is 9.413747640267353, and b is -36.65299106326961\n",
      "This is the 908 time's iteration. The loss is 43.648946503042225. The k is 9.413672699813588, and b is -36.652514358199525\n",
      "This is the 909 time's iteration. The loss is 43.64892323065931. The k is 9.413597777380927, and b is -36.65203776776379\n",
      "This is the 910 time's iteration. The loss is 43.64889996946782. The k is 9.41352287296503, and b is -36.651561291934826\n",
      "This is the 911 time's iteration. The loss is 43.64887671946222. The k is 9.41344798656157, and b is -36.65108493068509\n",
      "This is the 912 time's iteration. The loss is 43.6488534806373. The k is 9.413373118166211, and b is -36.650608683987016\n",
      "This is the 913 time's iteration. The loss is 43.648830252987594. The k is 9.413298267774625, and b is -36.650132551813066\n",
      "This is the 914 time's iteration. The loss is 43.64880703650781. The k is 9.413223435382482, and b is -36.649656534135694\n",
      "This is the 915 time's iteration. The loss is 43.64878383119251. The k is 9.413148620985453, and b is -36.649180630927376\n",
      "This is the 916 time's iteration. The loss is 43.648760637036325. The k is 9.413073824579213, and b is -36.648704842160576\n",
      "This is the 917 time's iteration. The loss is 43.648737454033906. The k is 9.412999046159433, and b is -36.64822916780778\n",
      "This is the 918 time's iteration. The loss is 43.64871428217986. The k is 9.412924285721788, and b is -36.64775360784147\n",
      "This is the 919 time's iteration. The loss is 43.648691121468865. The k is 9.412849543261956, and b is -36.647278162234144\n",
      "This is the 920 time's iteration. The loss is 43.648667971895556. The k is 9.412774818775613, and b is -36.6468028309583\n",
      "This is the 921 time's iteration. The loss is 43.648644833454604. The k is 9.412700112258436, and b is -36.64632761398644\n",
      "This is the 922 time's iteration. The loss is 43.648621706140524. The k is 9.412625423706103, and b is -36.64585251129109\n",
      "This is the 923 time's iteration. The loss is 43.64859858994813. The k is 9.412550753114298, and b is -36.645377522844754\n",
      "This is the 924 time's iteration. The loss is 43.64857548487195. The k is 9.412476100478697, and b is -36.64490264861997\n",
      "This is the 925 time's iteration. The loss is 43.648552390906765. The k is 9.412401465794984, and b is -36.64442788858926\n",
      "This is the 926 time's iteration. The loss is 43.648529308047124. The k is 9.412326849058845, and b is -36.643953242725175\n",
      "This is the 927 time's iteration. The loss is 43.64850623628773. The k is 9.41225225026596, and b is -36.64347871100025\n",
      "This is the 928 time's iteration. The loss is 43.64848317562324. The k is 9.412177669412014, and b is -36.643004293387044\n",
      "This is the 929 time's iteration. The loss is 43.648460126048356. The k is 9.412103106492696, and b is -36.64252998985811\n",
      "This is the 930 time's iteration. The loss is 43.64843708755765. The k is 9.412028561503691, and b is -36.642055800386025\n",
      "This is the 931 time's iteration. The loss is 43.648414060145846. The k is 9.411954034440688, and b is -36.64158172494336\n",
      "This is the 932 time's iteration. The loss is 43.64839104380769. The k is 9.411879525299378, and b is -36.64110776350268\n",
      "This is the 933 time's iteration. The loss is 43.64836803853768. The k is 9.411805034075451, and b is -36.640633916036585\n",
      "This is the 934 time's iteration. The loss is 43.64834504433064. The k is 9.411730560764594, and b is -36.64016018251766\n",
      "This is the 935 time's iteration. The loss is 43.64832206118124. The k is 9.411656105362505, and b is -36.63968656291851\n",
      "This is the 936 time's iteration. The loss is 43.64829908908411. The k is 9.411581667864874, and b is -36.63921305721174\n",
      "This is the 937 time's iteration. The loss is 43.64827612803394. The k is 9.411507248267398, and b is -36.638739665369954\n",
      "This is the 938 time's iteration. The loss is 43.64825317802547. The k is 9.41143284656577, and b is -36.638266387365775\n",
      "This is the 939 time's iteration. The loss is 43.6482302390533. The k is 9.411358462755686, and b is -36.63779322317183\n",
      "This is the 940 time's iteration. The loss is 43.64820731111223. The k is 9.411284096832848, and b is -36.63732017276075\n",
      "This is the 941 time's iteration. The loss is 43.648184394196846. The k is 9.41120974879295, and b is -36.636847236105176\n",
      "This is the 942 time's iteration. The loss is 43.64816148830198. The k is 9.411135418631694, and b is -36.63637441317775\n",
      "This is the 943 time's iteration. The loss is 43.64813859342221. The k is 9.41106110634478, and b is -36.63590170395112\n",
      "This is the 944 time's iteration. The loss is 43.648115709552286. The k is 9.410986811927911, and b is -36.63542910839795\n",
      "This is the 945 time's iteration. The loss is 43.64809283668691. The k is 9.410912535376786, and b is -36.634956626490904\n",
      "This is the 946 time's iteration. The loss is 43.64806997482074. The k is 9.410838276687114, and b is -36.63448425820265\n",
      "This is the 947 time's iteration. The loss is 43.648047123948565. The k is 9.410764035854596, and b is -36.634012003505866\n",
      "This is the 948 time's iteration. The loss is 43.64802428406514. The k is 9.41068981287494, and b is -36.63353986237324\n",
      "This is the 949 time's iteration. The loss is 43.648001455165065. The k is 9.410615607743852, and b is -36.633067834777464\n",
      "This is the 950 time's iteration. The loss is 43.6479786372431. The k is 9.410541420457038, and b is -36.63259592069123\n",
      "This is the 951 time's iteration. The loss is 43.647955830293945. The k is 9.41046725101021, and b is -36.63212412008724\n",
      "This is the 952 time's iteration. The loss is 43.647933034312395. The k is 9.410393099399077, and b is -36.63165243293821\n",
      "This is the 953 time's iteration. The loss is 43.64791024929308. The k is 9.410318965619348, and b is -36.63118085921686\n",
      "This is the 954 time's iteration. The loss is 43.647887475230796. The k is 9.41024484966674, and b is -36.63070939889591\n",
      "This is the 955 time's iteration. The loss is 43.647864712120374. The k is 9.41017075153696, and b is -36.63023805194809\n",
      "This is the 956 time's iteration. The loss is 43.647841959956246. The k is 9.410096671225727, and b is -36.629766818346134\n",
      "This is the 957 time's iteration. The loss is 43.647819218733446. The k is 9.410022608728752, and b is -36.62929569806279\n",
      "This is the 958 time's iteration. The loss is 43.647796488446524. The k is 9.409948564041754, and b is -36.62882469107081\n",
      "This is the 959 time's iteration. The loss is 43.64777376909038. The k is 9.40987453716045, and b is -36.628353797342946\n",
      "This is the 960 time's iteration. The loss is 43.64775106065957. The k is 9.409800528080558, and b is -36.62788301685196\n",
      "This is the 961 time's iteration. The loss is 43.647728363149035. The k is 9.409726536797796, and b is -36.627412349570626\n",
      "This is the 962 time's iteration. The loss is 43.647705676553386. The k is 9.409652563307885, and b is -36.62694179547172\n",
      "This is the 963 time's iteration. The loss is 43.64768300086741. The k is 9.409578607606548, and b is -36.62647135452803\n",
      "This is the 964 time's iteration. The loss is 43.647660336085934. The k is 9.409504669689506, and b is -36.62600102671233\n",
      "This is the 965 time's iteration. The loss is 43.64763768220355. The k is 9.409430749552481, and b is -36.62553081199743\n",
      "This is the 966 time's iteration. The loss is 43.64761503921521. The k is 9.4093568471912, and b is -36.625060710356124\n",
      "This is the 967 time's iteration. The loss is 43.64759240711551. The k is 9.409282962601386, and b is -36.62459072176122\n",
      "This is the 968 time's iteration. The loss is 43.647569785899286. The k is 9.409209095778769, and b is -36.62412084618554\n"
     ]
    },
    {
     "name": "stdout",
     "output_type": "stream",
     "text": [
      "This is the 969 time's iteration. The loss is 43.647547175561364. The k is 9.409135246719071, and b is -36.62365108360191\n",
      "This is the 970 time's iteration. The loss is 43.647524576096394. The k is 9.409061415418025, and b is -36.62318143398314\n",
      "This is the 971 time's iteration. The loss is 43.64750198749923. The k is 9.408987601871358, and b is -36.62271189730208\n",
      "This is the 972 time's iteration. The loss is 43.64747940976461. The k is 9.408913806074802, and b is -36.62224247353157\n",
      "This is the 973 time's iteration. The loss is 43.64745684288737. The k is 9.408840028024088, and b is -36.62177316264446\n",
      "This is the 974 time's iteration. The loss is 43.6474342868622. The k is 9.40876626771495, and b is -36.621303964613595\n",
      "This is the 975 time's iteration. The loss is 43.64741174168392. The k is 9.40869252514312, and b is -36.620834879411845\n",
      "This is the 976 time's iteration. The loss is 43.64738920734734. The k is 9.408618800304332, and b is -36.62036590701208\n",
      "This is the 977 time's iteration. The loss is 43.647366683847245. The k is 9.408545093194324, and b is -36.61989704738716\n",
      "This is the 978 time's iteration. The loss is 43.64734417117831. The k is 9.408471403808832, and b is -36.61942830050998\n",
      "This is the 979 time's iteration. The loss is 43.647321669335476. The k is 9.408397732143593, and b is -36.618959666353426\n",
      "This is the 980 time's iteration. The loss is 43.647299178313524. The k is 9.408324078194346, and b is -36.618491144890385\n",
      "This is the 981 time's iteration. The loss is 43.64727669810707. The k is 9.40825044195683, and b is -36.618022736093764\n",
      "This is the 982 time's iteration. The loss is 43.64725422871121. The k is 9.408176823426787, and b is -36.61755443993646\n",
      "This is the 983 time's iteration. The loss is 43.647231770120456. The k is 9.408103222599959, and b is -36.6170862563914\n",
      "This is the 984 time's iteration. The loss is 43.6472093223298. The k is 9.408029639472089, and b is -36.6166181854315\n",
      "This is the 985 time's iteration. The loss is 43.64718688533398. The k is 9.40795607403892, and b is -36.61615022702968\n",
      "This is the 986 time's iteration. The loss is 43.64716445912783. The k is 9.407882526296197, and b is -36.61568238115887\n",
      "This is the 987 time's iteration. The loss is 43.647142043706154. The k is 9.407808996239666, and b is -36.615214647792016\n",
      "This is the 988 time's iteration. The loss is 43.647119639063725. The k is 9.407735483865075, and b is -36.614747026902066\n",
      "This is the 989 time's iteration. The loss is 43.647097245195404. The k is 9.40766198916817, and b is -36.61427951846197\n",
      "This is the 990 time's iteration. The loss is 43.647074862096005. The k is 9.407588512144702, and b is -36.613812122444685\n",
      "This is the 991 time's iteration. The loss is 43.64705248976033. The k is 9.40751505279042, and b is -36.61334483882318\n",
      "This is the 992 time's iteration. The loss is 43.647030128183175. The k is 9.407441611101074, and b is -36.61287766757043\n",
      "This is the 993 time's iteration. The loss is 43.64700777735946. The k is 9.407368187072418, and b is -36.6124106086594\n",
      "This is the 994 time's iteration. The loss is 43.64698543728396. The k is 9.407294780700205, and b is -36.61194366206309\n",
      "This is the 995 time's iteration. The loss is 43.646963107951436. The k is 9.407221391980187, and b is -36.61147682775449\n",
      "This is the 996 time's iteration. The loss is 43.64694078935685. The k is 9.407148020908123, and b is -36.61101010570658\n",
      "This is the 997 time's iteration. The loss is 43.646918481494986. The k is 9.407074667479765, and b is -36.61054349589239\n",
      "This is the 998 time's iteration. The loss is 43.646896184360656. The k is 9.407001331690873, and b is -36.61007699828491\n",
      "This is the 999 time's iteration. The loss is 43.64687389794873. The k is 9.406928013537204, and b is -36.60961061285717\n",
      "This is the 1000 time's iteration. The loss is 43.646851622253976. The k is 9.406854713014518, and b is -36.60914433958219\n"
     ]
    }
   ],
   "source": [
    "import random\n",
    "\n",
    "k = random.random() * 100 - 100\n",
    "b = random.random() * 100 - 100\n",
    "\n",
    "learning_rate = 1e-2\n",
    "iteration_time = 1000\n",
    "losses = []\n",
    "\n",
    "X = x[:, 5]\n",
    "print(type(list(X)))\n",
    "print(type(list(y)))\n",
    "for i in range(iteration_time):\n",
    "    fitting_value = [linear_function(k, b, x) for x in X]\n",
    "    \n",
    "    loss_now = loss(list(y), fitting_value)\n",
    "    losses.append(loss_now)\n",
    "    \n",
    "    print('This is the {0} time\\'s iteration. The loss is {1}. The k is {2}, and b is {3}'.format(i + 1, loss_now, k, b))\n",
    "    \n",
    "    k = k - partial_derivative_for_k(X, y, fitting_value) * learning_rate\n",
    "    b = b - partial_derivative_for_b(y, fitting_value) * learning_rate\n",
    "    \n",
    "best_k = k\n",
    "best_b = b"
   ]
  },
  {
   "cell_type": "code",
   "execution_count": 139,
   "metadata": {},
   "outputs": [
    {
     "data": {
      "text/plain": [
       "[<matplotlib.lines.Line2D at 0x12b7f4748>]"
      ]
     },
     "execution_count": 139,
     "metadata": {},
     "output_type": "execute_result"
    },
    {
     "data": {
      "image/png": "[encoded data removed]",
      "text/plain": [
       "<Figure size 432x288 with 1 Axes>"
      ]
     },
     "metadata": {
      "needs_background": "light"
     },
     "output_type": "display_data"
    }
   ],
   "source": [
    "import numpy as np\n",
    "plt.plot(list(range(iteration_time)), np.log(losses))"
   ]
  },
  {
   "cell_type": "code",
   "execution_count": 140,
   "metadata": {},
   "outputs": [
    {
     "data": {
      "text/plain": [
       "<matplotlib.collections.PathCollection at 0x12b82f400>"
      ]
     },
     "execution_count": 140,
     "metadata": {},
     "output_type": "execute_result"
    },
    {
     "data": {
      "image/png": "[encoded data removed]",
      "text/plain": [
       "<Figure size 432x288 with 1 Axes>"
      ]
     },
     "metadata": {
      "needs_background": "light"
     },
     "output_type": "display_data"
    }
   ],
   "source": [
    "final_y_hat = [linear_function(best_k, best_b, x) for x in X]\n",
    "plt.scatter(X, y)\n",
    "plt.scatter(X, final_y_hat)"
   ]
  },
  {
   "cell_type": "code",
   "execution_count": null,
   "metadata": {},
   "outputs": [],
   "source": []
  }
 ],
 "metadata": {
  "kernelspec": {
   "display_name": "Python 3",
   "language": "python",
   "name": "python3"
  },
  "language_info": {
   "codemirror_mode": {
    "name": "ipython",
    "version": 3
   },
   "file_extension": ".py",
   "mimetype": "text/x-python",
   "name": "python",
   "nbconvert_exporter": "python",
   "pygments_lexer": "ipython3",
   "version": "3.6.5"
  }
 },
 "nbformat": 4,
 "nbformat_minor": 2
}
