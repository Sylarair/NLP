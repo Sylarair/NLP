{
 "cells": [
  {
   "cell_type": "code",
   "execution_count": null,
   "metadata": {},
   "outputs": [],
   "source": [
    "0. Can you come up out 3 sceneraies which use AI methods?\n",
    "Ans: Recommendding system, self driving, stock deal. \n",
    "\n",
    "1. How do we use Github; Why do we use Jupyter and Pycharm;\n",
    "Ans: We use Github to store, manage, and share our code. The reason why we use Jupyter is that we can use it for better presentation.\n",
    "    Also, we can use Pycharm for better project management.\n",
    "\n",
    "2. What's the Probability Model?\n",
    "Ans:The Probability Model is a model that can get the probability of different words combination or sentence, and the higher the probability is, the more likely correct and meaningful the sentence is.\n",
    "\n",
    "3. Can you came up with some sceneraies at which we could use Probability Model?\n",
    "Ans: The Probability Model is widely used in our life. for example, the judgement the likelihood of a sentence is meaningful and correct.\n",
    "\n",
    "4. Why do we use probability and what's the difficult points for programming based on parsing and pattern match?\n",
    "Ans: There are 3 points that the programming is so difficult. 1. Text is not just a simple combination, but logic. 2.Text is diverse. 3. Text is unstrutured. \n",
    "Based on the 3 points, we usually use probability to measure the likelihood of a sentence's correctness.\n",
    "\n",
    "5. What's the Language Model;\n",
    "Ans:It's a model to get the probability of a sentence which is correct.\n",
    "\n",
    "6. Can you came up with some sceneraies at which we could use Language Model?\n",
    "Ans:1. Search engine; 2. text information mining.\n",
    "\n",
    "7. What's the 1-gram language model;\n",
    "Ans: The probability of a word apprearing in a sentence, which can be computed by the number of the word dividing the number of all words.\n",
    "\n",
    "8. What's the disadvantages and advantages of 1-gram language model;\n",
    "Ans: The advantage of the 1-gram language model is that it's simple and easy to compute, while the disadvantage is that it cannot be used to measure the probability of combination of the word and other words. \n",
    "\n",
    "9. What't the 2-gram models;\n",
    "Ans:It is a language model that's used to get the probability of different word's combinations, and further get the most likely correct sentences.\n",
    "    "
   ]
  },
  {
   "cell_type": "code",
   "execution_count": 7,
   "metadata": {},
   "outputs": [],
   "source": [
    "from collections import Counter\n",
    "import jieba\n",
    "import random"
   ]
  },
  {
   "cell_type": "code",
   "execution_count": 18,
   "metadata": {},
   "outputs": [],
   "source": [
    "incident = '''\n",
    "incident = 时间 人 地方 做事情 别人 态度\n",
    "时间 = 周一, | 周二, | 周三, | 周四, | 周五, | 周六, | 周日,\n",
    "人 = 我 | 你 | 他 | 她 | 我们 | 你们 | 他们 | 大家\n",
    "地方 = 在学校 | 在班级\n",
    "做事情 = 帮助小明完成工作, | 考了高分, | 写完作业,\n",
    "别人 = 老师 | 同学们 \n",
    "态度 = 很高兴 | 态度冷淡 | 提出了表扬\n",
    "'''"
   ]
  },
  {
   "cell_type": "code",
   "execution_count": 22,
   "metadata": {},
   "outputs": [],
   "source": [
    "moral = '''\n",
    "moral = 美德 评价 人 行动\n",
    "美德 = 爱国 | 诚信 | 敬业 | 勤劳 | 坚强 | 谦逊 | 尊老爱幼\n",
    "评价 = 是中华民族的传统美德, | 是民族文化的精髓, | 是民族复兴的重要保障, | 被大家认同,\n",
    "人 = 我们 | 大家 | 全国人民 | 炎黄子孙 | 社会各界人士\n",
    "行动 = 都在积极学习 | 都严格遵守执行 | 在广泛传播\n",
    "'''"
   ]
  },
  {
   "cell_type": "code",
   "execution_count": 3,
   "metadata": {},
   "outputs": [],
   "source": [
    "def generate(grammar_rule, target):\n",
    "    if target in grammar_rule: # names \n",
    "        candidates = grammar_rule[target]  # ['name names', 'name']\n",
    "        candidate = random.choice(candidates) #'name names', 'name'\n",
    "        return ''.join(generate(grammar_rule, target=c.strip()) for c in candidate.split())\n",
    "    else:\n",
    "        return target"
   ]
  },
  {
   "cell_type": "code",
   "execution_count": 4,
   "metadata": {},
   "outputs": [],
   "source": [
    "def get_generation_by_gram(grammar_str, target, stmt_split='=', or_split='|'):\n",
    "\n",
    "    rules = dict() # key is the @statement, value is @expression\n",
    "    for line in grammar_str.split('\\n'):\n",
    "        if not line: continue\n",
    "        # skip the empty line\n",
    "      #  print(line)\n",
    "        stmt, expr = line.split(stmt_split)\n",
    "    \n",
    "        rules[stmt.strip()] = expr.split(or_split)\n",
    "    \n",
    "    generated = generate(rules, target=target)\n",
    "    \n",
    "    return generated"
   ]
  },
  {
   "cell_type": "code",
   "execution_count": 17,
   "metadata": {},
   "outputs": [
    {
     "data": {
      "text/plain": [
       "'周一,我们在学校帮助小明完成工作,同学很高兴'"
      ]
     },
     "execution_count": 17,
     "metadata": {},
     "output_type": "execute_result"
    }
   ],
   "source": [
    "get_generation_by_gram(incident, target='incident', stmt_split='=')"
   ]
  },
  {
   "cell_type": "code",
   "execution_count": 23,
   "metadata": {},
   "outputs": [
    {
     "data": {
      "text/plain": [
       "'敬业是民族复兴的重要保障,我们都在积极学习'"
      ]
     },
     "execution_count": 23,
     "metadata": {},
     "output_type": "execute_result"
    }
   ],
   "source": [
    "get_generation_by_gram(moral, target='moral', stmt_split='=')"
   ]
  },
  {
   "cell_type": "code",
   "execution_count": 24,
   "metadata": {},
   "outputs": [],
   "source": [
    "def generate_n(n, grammar_list, Target, stmt_split='=', or_split='|'):\n",
    "    if n < 1:\n",
    "        return 'Error! Please check your repeat number n!'\n",
    "    else:\n",
    "        for i in range(n-1):\n",
    "            print(get_generation_by_gram(grammar_list, target=Target))"
   ]
  },
  {
   "cell_type": "code",
   "execution_count": 25,
   "metadata": {},
   "outputs": [
    {
     "name": "stdout",
     "output_type": "stream",
     "text": [
      "周日,他们在学校考了高分,同学们提出了表扬\n",
      "周日,你们在班级写完作业,老师态度冷淡\n",
      "周四,他在学校考了高分,同学们很高兴\n",
      "周二,你在班级考了高分,老师态度冷淡\n",
      "周二,我在学校考了高分,同学们很高兴\n",
      "周五,他们在班级考了高分,老师很高兴\n",
      "周一,他在学校帮助小明完成工作,老师很高兴\n",
      "周二,我们在班级考了高分,老师很高兴\n",
      "周三,他在学校写完作业,同学们很高兴\n",
      "周六,你在学校帮助小明完成工作,老师态度冷淡\n",
      "周一,我们在班级考了高分,老师很高兴\n",
      "周日,我在学校写完作业,同学们很高兴\n",
      "周三,你在班级写完作业,老师态度冷淡\n",
      "周四,他们在学校考了高分,同学们提出了表扬\n",
      "周日,她在学校帮助小明完成工作,同学们态度冷淡\n",
      "周一,你在学校帮助小明完成工作,同学们态度冷淡\n",
      "周五,他在学校帮助小明完成工作,同学们提出了表扬\n",
      "周五,我在班级帮助小明完成工作,老师态度冷淡\n",
      "周日,我们在班级考了高分,老师很高兴\n"
     ]
    }
   ],
   "source": [
    "generate_n(20, incident, 'incident')"
   ]
  },
  {
   "cell_type": "code",
   "execution_count": 26,
   "metadata": {},
   "outputs": [
    {
     "name": "stdout",
     "output_type": "stream",
     "text": [
      "尊老爱幼是民族复兴的重要保障,全国人民在广泛传播\n",
      "爱国被大家认同,我们都严格遵守执行\n",
      "谦逊被大家认同,炎黄子孙都在积极学习\n",
      "敬业是民族复兴的重要保障,我们在广泛传播\n",
      "坚强是中华民族的传统美德,大家都严格遵守执行\n",
      "尊老爱幼是民族文化的精髓,炎黄子孙都在积极学习\n",
      "敬业被大家认同,全国人民都在积极学习\n",
      "诚信是民族复兴的重要保障,我们在广泛传播\n",
      "诚信是民族文化的精髓,全国人民在广泛传播\n",
      "诚信被大家认同,全国人民都严格遵守执行\n",
      "尊老爱幼是中华民族的传统美德,全国人民在广泛传播\n",
      "爱国是中华民族的传统美德,全国人民都严格遵守执行\n",
      "诚信是民族文化的精髓,炎黄子孙都严格遵守执行\n",
      "爱国被大家认同,我们都严格遵守执行\n",
      "敬业是民族复兴的重要保障,社会各界人士都严格遵守执行\n",
      "谦逊是民族文化的精髓,社会各界人士都在积极学习\n",
      "尊老爱幼是民族复兴的重要保障,社会各界人士在广泛传播\n",
      "坚强是中华民族的传统美德,我们都严格遵守执行\n",
      "诚信是民族文化的精髓,全国人民都在积极学习\n"
     ]
    }
   ],
   "source": [
    "generate_n(20, moral, 'moral')"
   ]
  },
  {
   "cell_type": "markdown",
   "metadata": {},
   "source": [
    "## Language Model"
   ]
  },
  {
   "cell_type": "code",
   "execution_count": 43,
   "metadata": {},
   "outputs": [],
   "source": [
    "insurance_file = '/Users/wangqin/Downloads/jupyters_and_slides/jupyters_and_slides-master/2019-autumn/train.txt'\n",
    "insurance_pri = [i.strip().split(' ') for i in open(insurance_file,'r',encoding='utf-8')]"
   ]
  },
  {
   "cell_type": "code",
   "execution_count": 44,
   "metadata": {},
   "outputs": [
    {
     "data": {
      "text/plain": [
       "[['0',\n",
       "  '++$++',\n",
       "  'disability-insurance',\n",
       "  '++$++',\n",
       "  '法律要求残疾保险吗？',\n",
       "  '++$++',\n",
       "  'Is',\n",
       "  '',\n",
       "  'Disability',\n",
       "  '',\n",
       "  'Insurance',\n",
       "  '',\n",
       "  'Required',\n",
       "  '',\n",
       "  'By',\n",
       "  '',\n",
       "  'Law?'],\n",
       " ['1',\n",
       "  '++$++',\n",
       "  'life-insurance',\n",
       "  '++$++',\n",
       "  '债权人可以在死后人寿保险吗？',\n",
       "  '++$++',\n",
       "  'Can',\n",
       "  '',\n",
       "  'Creditors',\n",
       "  '',\n",
       "  'Take',\n",
       "  '',\n",
       "  'Life',\n",
       "  '',\n",
       "  'Insurance',\n",
       "  '',\n",
       "  'After',\n",
       "  '',\n",
       "  'Death?'],\n",
       " ['2',\n",
       "  '++$++',\n",
       "  'renters-insurance',\n",
       "  '++$++',\n",
       "  '旅行者保险有租赁保险吗？',\n",
       "  '++$++',\n",
       "  'Does',\n",
       "  '',\n",
       "  'Travelers',\n",
       "  '',\n",
       "  'Insurance',\n",
       "  '',\n",
       "  'Have',\n",
       "  '',\n",
       "  'Renters',\n",
       "  '',\n",
       "  'Insurance?'],\n",
       " ['3',\n",
       "  '++$++',\n",
       "  'auto-insurance',\n",
       "  '++$++',\n",
       "  '我可以开一辆没有保险的新车吗？',\n",
       "  '++$++',\n",
       "  'Can',\n",
       "  '',\n",
       "  'I',\n",
       "  '',\n",
       "  'Drive',\n",
       "  '',\n",
       "  'A',\n",
       "  '',\n",
       "  'New',\n",
       "  '',\n",
       "  'Car',\n",
       "  '',\n",
       "  'Home',\n",
       "  '',\n",
       "  'Without',\n",
       "  '',\n",
       "  'Insurance?'],\n",
       " ['4',\n",
       "  '++$++',\n",
       "  'life-insurance',\n",
       "  '++$++',\n",
       "  '人寿保险的现金转出价值是否应纳税？',\n",
       "  '++$++',\n",
       "  'Is',\n",
       "  '',\n",
       "  'The',\n",
       "  '',\n",
       "  'Cash',\n",
       "  '',\n",
       "  'Surrender',\n",
       "  '',\n",
       "  'Value',\n",
       "  '',\n",
       "  'Of',\n",
       "  '',\n",
       "  'Life',\n",
       "  '',\n",
       "  'Insurance',\n",
       "  '',\n",
       "  'Taxable?'],\n",
       " ['5',\n",
       "  '++$++',\n",
       "  'annuities',\n",
       "  '++$++',\n",
       "  '如何报告年金收入？',\n",
       "  '++$++',\n",
       "  'How',\n",
       "  '',\n",
       "  'Is',\n",
       "  '',\n",
       "  'Annuity',\n",
       "  '',\n",
       "  'Income',\n",
       "  '',\n",
       "  'Reported?'],\n",
       " ['6',\n",
       "  '++$++',\n",
       "  'home-insurance',\n",
       "  '++$++',\n",
       "  'AAA家庭保险涵盖什么？',\n",
       "  '++$++',\n",
       "  'What',\n",
       "  '',\n",
       "  'Does',\n",
       "  '',\n",
       "  'AAA',\n",
       "  '',\n",
       "  'Home',\n",
       "  '',\n",
       "  'Insurance',\n",
       "  '',\n",
       "  'Cover?'],\n",
       " ['7',\n",
       "  '++$++',\n",
       "  'retirement-plans',\n",
       "  '++$++',\n",
       "  '什么是简单的退休计划？',\n",
       "  '++$++',\n",
       "  'What',\n",
       "  '',\n",
       "  'Is',\n",
       "  '',\n",
       "  'A',\n",
       "  '',\n",
       "  'Simple',\n",
       "  '',\n",
       "  'Retirement',\n",
       "  '',\n",
       "  'Plan?'],\n",
       " ['8',\n",
       "  '++$++',\n",
       "  'disability-insurance',\n",
       "  '++$++',\n",
       "  '社会保险残疾保险是什么？',\n",
       "  '++$++',\n",
       "  'What',\n",
       "  '',\n",
       "  'Does',\n",
       "  '',\n",
       "  'Social',\n",
       "  '',\n",
       "  'Security',\n",
       "  '',\n",
       "  'Disability',\n",
       "  '',\n",
       "  'Insurance',\n",
       "  '',\n",
       "  'Cover?'],\n",
       " ['9',\n",
       "  '++$++',\n",
       "  'auto-insurance',\n",
       "  '++$++',\n",
       "  '汽车保险是否预付？',\n",
       "  '++$++',\n",
       "  'Is',\n",
       "  '',\n",
       "  'Car',\n",
       "  '',\n",
       "  'Insurance',\n",
       "  '',\n",
       "  'Prepaid?']]"
      ]
     },
     "execution_count": 44,
     "metadata": {},
     "output_type": "execute_result"
    }
   ],
   "source": [
    "#len(insurance_pri)\n",
    "insurance_pri[0:10]"
   ]
  },
  {
   "cell_type": "code",
   "execution_count": 219,
   "metadata": {},
   "outputs": [],
   "source": [
    "import re\n",
    "def search_valid_contents(string):\n",
    "    return re.findall('\\w+', string)"
   ]
  },
  {
   "cell_type": "code",
   "execution_count": 123,
   "metadata": {},
   "outputs": [],
   "source": [
    "def get_text(input, column_index):\n",
    "    if column_index > len(input[0]) - 1:\n",
    "        return 'Error! Please check your column index!'\n",
    "    else:\n",
    "        temp = [''.join(search_valid_contents(str(i[column_index].strip()))) for i in input]\n",
    "        return ''.join(temp)"
   ]
  },
  {
   "cell_type": "code",
   "execution_count": 32,
   "metadata": {},
   "outputs": [],
   "source": [
    "def cut(string):\n",
    "    return list(jieba.cut(string))"
   ]
  },
  {
   "cell_type": "code",
   "execution_count": 124,
   "metadata": {},
   "outputs": [
    {
     "data": {
      "text/plain": [
       "'法律要求残疾保险吗？'"
      ]
     },
     "execution_count": 124,
     "metadata": {},
     "output_type": "execute_result"
    }
   ],
   "source": [
    "chinese_part = get_text(insurance_pri, 4)\n",
    "chinese_part[0:10]"
   ]
  },
  {
   "cell_type": "code",
   "execution_count": 237,
   "metadata": {},
   "outputs": [
    {
     "data": {
      "text/plain": [
       "['法律', '要求', '残疾', '保险', '吗', '债权人', '可以', '在', '死', '后']"
      ]
     },
     "execution_count": 237,
     "metadata": {},
     "output_type": "execute_result"
    }
   ],
   "source": [
    "tokens = cut(chinese_part)\n",
    "tokens = [i for i in tokens if i != '？']\n",
    "tokens.append('？')\n",
    "tokens[0:10]"
   ]
  },
  {
   "cell_type": "code",
   "execution_count": 238,
   "metadata": {},
   "outputs": [
    {
     "data": {
      "text/plain": [
       "[('保险', 4992),\n",
       " ('的', 3204),\n",
       " ('人寿保险', 2935),\n",
       " ('什么', 2663),\n",
       " ('吗', 2441),\n",
       " ('是', 2331),\n",
       " ('我', 2051),\n",
       " ('是否', 1843),\n",
       " ('可以', 1701),\n",
       " ('健康', 1510),\n",
       " ('如何', 1292),\n",
       " ('医疗保险', 1268),\n",
       " ('多少', 1244),\n",
       " ('汽车保险', 1187),\n",
       " ('在', 912),\n",
       " ('覆盖', 842),\n",
       " ('你', 826),\n",
       " ('有', 768),\n",
       " ('残疾', 721),\n",
       " ('房主', 712)]"
      ]
     },
     "execution_count": 238,
     "metadata": {},
     "output_type": "execute_result"
    }
   ],
   "source": [
    "tokens[3]\n",
    "words_count = Counter(tokens)\n",
    "words_count\n",
    "words_count.most_common(20)\n",
    "#words_count.least_common(20)"
   ]
  },
  {
   "cell_type": "code",
   "execution_count": 239,
   "metadata": {},
   "outputs": [
    {
     "data": {
      "text/plain": [
       "[<matplotlib.lines.Line2D at 0x12e925710>]"
      ]
     },
     "execution_count": 239,
     "metadata": {},
     "output_type": "execute_result"
    },
    {
     "data": {
      "image/png": "[encoded data removed]",
      "text/plain": [
       "<Figure size 432x288 with 1 Axes>"
      ]
     },
     "metadata": {
      "needs_background": "light"
     },
     "output_type": "display_data"
    }
   ],
   "source": [
    "words_with_fre = [f for w, f in words_count.most_common()]\n",
    "import matplotlib.pyplot as plt\n",
    "words_with_fre[:10]\n",
    "import numpy as np\n",
    "plt.plot(np.log(np.log(np.array(words_with_fre, dtype=int) + 1) + 1)) # add sudo count to avoid log zero"
   ]
  },
  {
   "cell_type": "code",
   "execution_count": 240,
   "metadata": {},
   "outputs": [
    {
     "data": {
      "text/plain": [
       "[4992, 3204, 2935, 2663, 2441, 2331, 2051, 1843, 1701, 1510]"
      ]
     },
     "execution_count": 240,
     "metadata": {},
     "output_type": "execute_result"
    }
   ],
   "source": [
    "words_with_fre[:10]"
   ]
  },
  {
   "cell_type": "code",
   "execution_count": 241,
   "metadata": {},
   "outputs": [],
   "source": [
    "_2_gram_words = [tokens[i] + tokens[i+1] for i in range(len(tokens)-1)]\n",
    "_2_gram_word_counts = Counter(_2_gram_words)"
   ]
  },
  {
   "cell_type": "code",
   "execution_count": 242,
   "metadata": {},
   "outputs": [],
   "source": [
    "_3_gram_words = [tokens[i] + tokens[i+1] for i in range(len(tokens)-1)]\n",
    "_3_gram_word_counts = Counter(_3_gram_words)"
   ]
  },
  {
   "cell_type": "code",
   "execution_count": 75,
   "metadata": {},
   "outputs": [],
   "source": [
    "def get_1_gram_count(word):\n",
    "#     if word == '\\n':\n",
    "#         return words_count.most_common()[-1][-1]\n",
    "    if word in words_count:\n",
    "        return words_count[word]\n",
    "    else:\n",
    "        return words_count.most_common()[-1][-1]"
   ]
  },
  {
   "cell_type": "code",
   "execution_count": 76,
   "metadata": {},
   "outputs": [],
   "source": [
    "def get_2_gram_count(word):\n",
    "#     if word.startswith('\\n') or word.startswith('\\n'):\n",
    "#         return words_count.most_common()[-1][-1]\n",
    "#     elif word in _2_gram_word_counts:\n",
    "#         return _2_gram_word_counts[word]\n",
    "    if word in _2_gram_word_counts:\n",
    "        return _2_gram_word_counts[word]\n",
    "    else:\n",
    "        return _2_gram_word_counts.most_common()[-1][-1]"
   ]
  },
  {
   "cell_type": "code",
   "execution_count": null,
   "metadata": {},
   "outputs": [],
   "source": [
    "def get_3_gram_count(word):\n",
    "    if word in _3_gram_word_counts:\n",
    "        return _3_gram_word_counts[word]\n",
    "    else:\n",
    "        return _3_gram_word_counts.most_common()[-1][-1]"
   ]
  },
  {
   "cell_type": "code",
   "execution_count": 77,
   "metadata": {},
   "outputs": [],
   "source": [
    "def get_gram_count(word, wc):\n",
    "    if word in wc:\n",
    "        return wc[word]\n",
    "    else:\n",
    "        return wc.most_common()[-1][-1]"
   ]
  },
  {
   "cell_type": "code",
   "execution_count": 78,
   "metadata": {},
   "outputs": [],
   "source": [
    "def two_gram_model(sentence):\n",
    "    # 2-gram langauge model\n",
    "    Tokens = cut(sentence)\n",
    "    \n",
    "    probability = 1\n",
    "    \n",
    "    for i in range(len(Tokens)-1):\n",
    "        word = Tokens[i]\n",
    "        next_word = Tokens[i+1]\n",
    "        \n",
    "        _two_gram_c = get_gram_count(word+next_word, _2_gram_word_counts)\n",
    "        _one_gram_c = get_gram_count(next_word, words_count)\n",
    "        pro =  _two_gram_c / _one_gram_c\n",
    "        \n",
    "        probability *= pro\n",
    "    \n",
    "    return probability"
   ]
  },
  {
   "cell_type": "code",
   "execution_count": 115,
   "metadata": {},
   "outputs": [],
   "source": [
    "def three_gram_model(sentence):\n",
    "    # 3-gram langauge model\n",
    "    Tokens = cut(sentence)\n",
    "    \n",
    "    probability = 1\n",
    "    \n",
    "    for i in range(len(Tokens)-2):\n",
    "        word = Tokens[i]\n",
    "        next_word = Tokens[i+1]\n",
    "        next_two_word = Tokens[i+2]\n",
    "        \n",
    "#         _three_gram_c = get_gram_count(word+next_word+next_two_word, _3_gram_word_counts)\n",
    "        _first_two_gram_c = get_gram_count(word+next_word, _2_gram_word_counts)\n",
    "        _last_two_gram_c = get_gram_count(next_word+next_two_word, _2_gram_word_counts)\n",
    "        _sencond_gram_c = get_gram_count(next_word, words_count)\n",
    "        _last_gram_c = get_gram_count(next_two_word, words_count)\n",
    "        pro =  _first_two_gram_c * _last_two_gram_c / (_sencond_gram_c * _last_gram_c)\n",
    "        \n",
    "        probability *= pro\n",
    "    \n",
    "    return probability"
   ]
  },
  {
   "cell_type": "code",
   "execution_count": 112,
   "metadata": {},
   "outputs": [],
   "source": [
    "def generate_n_sentence(prepared_words_list, x, words_number_lower_limit, words_number_upper_limit):\n",
    "    if words_number_upper_limit < 2:\n",
    "        return 'Error! Please check your input words number upper limit!'\n",
    "    else:\n",
    "        generated_words_lists = []\n",
    "        for i in range(x):\n",
    "            words_number = random.choice(range(words_number_lower_limit, words_number_upper_limit))\n",
    "            selected_words = random.sample(prepared_words_list, words_number)\n",
    "            generated_words_lists.append(''.join(selected_words))\n",
    "        \n",
    "        return generated_words_lists\n",
    "        "
   ]
  },
  {
   "cell_type": "code",
   "execution_count": 128,
   "metadata": {},
   "outputs": [],
   "source": [
    "def generate_best(prepared_words_list, n, lower_limit, upper_limit, gram_model):\n",
    "    #print(gram_model)\n",
    "    if gram_model not in [two_gram_model, three_gram_model]:\n",
    "        return 'Error! You do not choose valid gram model, please choose it again!'\n",
    "    else:\n",
    "        generated_sentences = generate_n_sentence(prepared_words_list, n, lower_limit, upper_limit)\n",
    "        generated_sentences_pro_list = []\n",
    "        for _sentence in generated_sentences:\n",
    "            generated_sentences_pro_list.append([_sentence, gram_model(_sentence)])\n",
    "       # sorted([(2, 5), (1, 4), (5, 0), (4, 4)], key=lambda x: x[1], reverse=True)    \n",
    "        generated_sentences_pro_list_sorted = sorted(generated_sentences_pro_list, key=lambda x: x[1], reverse = True)\n",
    "        print(generated_sentences_pro_list_sorted[0:10])\n",
    "        return generated_sentences_pro_list_sorted[0]\n"
   ]
  },
  {
   "cell_type": "code",
   "execution_count": 244,
   "metadata": {},
   "outputs": [
    {
     "name": "stdout",
     "output_type": "stream",
     "text": [
      "[['购买人寿保险需要金是', 0.0005438020828962496], ['家庭保险保险费用事故保险', 0.000438512565378237], ['汽车保险诊所涵盖酒精中毒全国', 0.00010676916506512917], ['如何如何Lyrica出租全期', 5.733287467033597e-05], ['如何要求在事故保险', 1.3536928741607102e-05], ['使用是多少孕妇买能', 1.1509557329493021e-05], ['可保险费用纳税投保', 5.994125756758377e-06], ['树上计划GeicoIRA涵盖', 3.8591264481372e-06], ['人们辆车健康保险人寿保险', 2.372739375204485e-06], ['最放弃破损的停牌', 1.9506866416978776e-06]]\n"
     ]
    },
    {
     "data": {
      "text/plain": [
       "['购买人寿保险需要金是', 0.0005438020828962496]"
      ]
     },
     "execution_count": 244,
     "metadata": {},
     "output_type": "execute_result"
    }
   ],
   "source": [
    "generate_best(tokens, 500, 5, 10, two_gram_model)"
   ]
  },
  {
   "cell_type": "code",
   "execution_count": 247,
   "metadata": {
    "scrolled": true
   },
   "outputs": [
    {
     "name": "stdout",
     "output_type": "stream",
     "text": [
      "[['保险同时考虑用人取消', 8.156739914191096e-07], ['盖的税务丢弃没有', 3.62918444967047e-07], ['我像补助费得到激励', 2.705159279778393e-07], ['中新旗C包括值得', 1.031364942399815e-07], ['人寿保险多少注射做出吗', 2.517492600014211e-08], ['车手金癫痫病马萨诸塞州吗', 2.5909998531628564e-09], ['吗吗你医疗卡司机', 1.1453232725571972e-09], ['的如何计划是否是盖牙有长期', 4.5036457794673947e-10], ['提供人寿保险什么目前是', 2.4599399919210343e-10], ['医保后储蓄免发生', 2.0269590614462163e-10]]\n"
     ]
    },
    {
     "data": {
      "text/plain": [
       "['保险同时考虑用人取消', 8.156739914191096e-07]"
      ]
     },
     "execution_count": 247,
     "metadata": {},
     "output_type": "execute_result"
    }
   ],
   "source": [
    "generate_best(tokens, 500, 5, 10, three_gram_model)"
   ]
  },
  {
   "cell_type": "markdown",
   "metadata": {},
   "source": [
    "## Douban comments"
   ]
  },
  {
   "cell_type": "code",
   "execution_count": 217,
   "metadata": {},
   "outputs": [
    {
     "name": "stdout",
     "output_type": "stream",
     "text": [
      "261497\n"
     ]
    }
   ],
   "source": [
    "import pandas as pd\n",
    "movie_comments_file = '/Users/wangqin/Downloads/jupyters_and_slides/jupyters_and_slides-master/2019-autumn/movie_comments.csv'\n",
    "movie_comments = pd.read_csv(movie_comments_file,encoding='utf-8')\n",
    "movie_comments.head()\n",
    "comments = movie_comments['comment'].tolist()\n",
    "comments[0:10]\n",
    "print(len(comments))"
   ]
  },
  {
   "cell_type": "code",
   "execution_count": 220,
   "metadata": {},
   "outputs": [
    {
     "name": "stdout",
     "output_type": "stream",
     "text": [
      "['吴京意淫到了脑残的地步', '看了恶心想吐']\n"
     ]
    }
   ],
   "source": [
    "print(''.join(str(search_valid_contents(comments[0]))))\n",
    "# type(str(search_valid_contents(comments[0])).split('\\n')) # need to add str(), otherwise it is Nonetype\n",
    "# ''.join(str((search_valid_contents(comments[0]))))\n",
    "def random_select_comments(_input, sample_number):\n",
    "    return np.array(_input,dtype=str)[random.sample(range(len(_input)), int(sample_number))].tolist()\n",
    "\n"
   ]
  },
  {
   "cell_type": "code",
   "execution_count": 223,
   "metadata": {},
   "outputs": [
    {
     "name": "stdout",
     "output_type": "stream",
     "text": [
      "261497\n"
     ]
    },
    {
     "data": {
      "text/plain": [
       "'吴京意淫到了脑残的地步看了恶心想吐\\n首映礼看的太恐怖了这个电影不讲道理的完全就是吴京在实现他这个小粉红的英雄梦各种装备轮番上场视物理逻辑于不顾不得不说有钱真好随意胡闹\\n吴京的炒作水平不输冯小刚但小刚至'"
      ]
     },
     "execution_count": 223,
     "metadata": {},
     "output_type": "execute_result"
    }
   ],
   "source": [
    "# valid_contents = ['\\n'.join(search_valid_contents(str(i))) for i in comments]\n",
    "# ''.join(search_valid_contents(str(comments[1])))\n",
    "# print(comments[1])\n",
    "# comments = random_select_comments(comments, 50000)\n",
    "valid_contents = [''.join(search_valid_contents(str(a))) for a in comments]\n",
    "# type(valid_contents)\n",
    "print(len(valid_contents))\n",
    "valid_contents[0:10]\n",
    "valid_contents2 = '\\n'.join(valid_contents)\n",
    "valid_contents2[0:100]"
   ]
  },
  {
   "cell_type": "code",
   "execution_count": 233,
   "metadata": {},
   "outputs": [
    {
     "name": "stdout",
     "output_type": "stream",
     "text": [
      "<class 'list'>\n",
      "<class 'list'>\n"
     ]
    },
    {
     "data": {
      "text/plain": [
       "1"
      ]
     },
     "execution_count": 233,
     "metadata": {},
     "output_type": "execute_result"
    }
   ],
   "source": [
    "tokens = cut(valid_contents2)\n",
    "# print(type(tokens))\n",
    "tokens = [i for i in tokens if i != '\\n']\n",
    "tokens += ['\\n'] # only leave one '\\n'\n",
    "# print(type(tokens))\n",
    "words_count = Counter(tokens)\n",
    "words_count['\\n']"
   ]
  },
  {
   "cell_type": "code",
   "execution_count": 234,
   "metadata": {},
   "outputs": [],
   "source": [
    "_2_gram_words = [tokens[i] + tokens[i+1] for i in range(len(tokens)-1)]\n",
    "_2_gram_word_counts = Counter(_2_gram_words)"
   ]
  },
  {
   "cell_type": "code",
   "execution_count": 235,
   "metadata": {},
   "outputs": [
    {
     "name": "stdout",
     "output_type": "stream",
     "text": [
      "[['内再哥150很無聊', 0.015151515151515152], ['适合出李这个分恋要', 9.942334460131238e-05], ['更好亮TheDresser1983贱節奏演出', 2.0056768678066397e-07], ['现代战争DollhouseCaprica中午整个黑夜', 1.7933874218979778e-07], ['是巴特尔觉得年龄段看阳楼', 1.756493757421186e-07], ['这个向虽然真武田挺帥', 1.6747669561780478e-07], ['脸拯救人加看不下去在园美丽动人', 6.264552555586627e-08], ['20往家导演拥有者现实', 1.8384931563011504e-08], ['神偷福克斯实在角度挺要', 1.1469278585358995e-08], ['是太一纸空文就无耻', 7.367503018170508e-09]]\n"
     ]
    },
    {
     "data": {
      "text/plain": [
       "['内再哥150很無聊', 0.015151515151515152]"
      ]
     },
     "execution_count": 235,
     "metadata": {},
     "output_type": "execute_result"
    }
   ],
   "source": [
    "generate_best(tokens, 200, 5, 10, two_gram_model) # 200 is the number of generated setence, 5 is the lower limit number of words, 10 is the upper limit number of words. "
   ]
  },
  {
   "cell_type": "code",
   "execution_count": 236,
   "metadata": {},
   "outputs": [
    {
     "name": "stdout",
     "output_type": "stream",
     "text": [
      "[['像陈茂贤很断翻', 0.003787878787878788], ['服装更好可不接和问', 5.160129127071276e-07], ['難道劇自身刃兰太', 3.300805000323479e-07], ['预告片了喜欢讲盖青', 4.023714021379796e-09], ['重复滥用火扯神了', 3.890847792320053e-12], ['外乡人水准道不明胸突然', 1.4159980367832915e-12], ['被在还是爱得', 8.44394048190094e-13], ['剧本去了所以责任感', 5.428016233651848e-13], ['们的强对于雞湯', 2.2772132042124433e-13], ['的的itsreallycoooooool其他没想到', 1.7376529941007236e-13]]\n"
     ]
    },
    {
     "data": {
      "text/plain": [
       "['像陈茂贤很断翻', 0.003787878787878788]"
      ]
     },
     "execution_count": 236,
     "metadata": {},
     "output_type": "execute_result"
    }
   ],
   "source": [
    "generate_best(tokens, 200, 5, 10, three_gram_model)"
   ]
  },
  {
   "cell_type": "markdown",
   "metadata": {},
   "source": [
    "## Evaluation"
   ]
  },
  {
   "cell_type": "code",
   "execution_count": null,
   "metadata": {},
   "outputs": [],
   "source": [
    "Q: 这个模型有什么问题？ 你准备如何提升？\n",
    "\n",
    "Ans:这个模型虽然使用了2-gram和3-gram，但是在实际运用过程中还不够；而且本数据集还不够大（仅有1million的句子），许多常用词汇组合不在数据集里，故需要更多数据来改进模型表现；不同长度句子的概率没有可比性，可能需要一种标准化方法来标准化模型算出的句子概率。"
   ]
  },
  {
   "cell_type": "code",
   "execution_count": null,
   "metadata": {},
   "outputs": [],
   "source": []
  }
 ],
 "metadata": {
  "kernelspec": {
   "display_name": "Python 3",
   "language": "python",
   "name": "python3"
  },
  "language_info": {
   "codemirror_mode": {
    "name": "ipython",
    "version": 3
   },
   "file_extension": ".py",
   "mimetype": "text/x-python",
   "name": "python",
   "nbconvert_exporter": "python",
   "pygments_lexer": "ipython3",
   "version": "3.6.5"
  }
 },
 "nbformat": 4,
 "nbformat_minor": 2
}
