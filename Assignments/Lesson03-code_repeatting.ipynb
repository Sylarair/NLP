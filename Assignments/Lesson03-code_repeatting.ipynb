{
 "cells": [
  {
   "cell_type": "code",
   "execution_count": 1,
   "metadata": {},
   "outputs": [],
   "source": [
    "from matplotlib.font_manager import FontProperties\n",
    "import matplotlib.pyplot as plt\n",
    "from math import log\n",
    "import operator\n",
    "import pickle"
   ]
  },
  {
   "cell_type": "code",
   "execution_count": 2,
   "metadata": {},
   "outputs": [],
   "source": [
    "def calcShannonEnt(dataSet):\n",
    "\tnumEntires = len(dataSet)\t\t\t\t\t\t#返回数据集的行数\n",
    "\tlabelCounts = {}\t\t\t\t\t\t\t\t#保存每个标签(Label)出现次数的字典\n",
    "\tfor featVec in dataSet:\t\t\t\t\t\t\t#对每组特征向量进行统计\n",
    "\t\tcurrentLabel = featVec[-1]\t\t\t\t\t#提取标签(Label)信息\n",
    "\t\tif currentLabel not in labelCounts.keys():\t#如果标签(Label)没有放入统计次数的字典,添加进去\n",
    "\t\t\tlabelCounts[currentLabel] = 0\n",
    "\t\tlabelCounts[currentLabel] += 1\t\t\t\t#Label计数\n",
    "\tshannonEnt = 0.0\t\t\t\t\t\t\t\t#经验熵(香农熵)\n",
    "\tfor key in labelCounts:\t\t\t\t\t\t\t#计算香农熵\n",
    "\t\tprob = float(labelCounts[key]) / numEntires\t#选择该标签(Label)的概率\n",
    "\t\tshannonEnt -= prob * log(prob, 2)\t\t\t#利用公式计算\n",
    "\treturn shannonEnt\t\t\t\t\t\t\t\t#返回经验熵(香农熵)"
   ]
  },
  {
   "cell_type": "code",
   "execution_count": 3,
   "metadata": {},
   "outputs": [],
   "source": [
    "def createDataSet():\n",
    "\tdataSet = [[0, 0, 0, 0, 'no'],\t\t\t\t\t\t#数据集\n",
    "\t\t\t[0, 0, 0, 1, 'no'],\n",
    "\t\t\t[0, 1, 0, 1, 'yes'],\n",
    "\t\t\t[0, 1, 1, 0, 'yes'],\n",
    "\t\t\t[0, 0, 0, 0, 'no'],\n",
    "\t\t\t[1, 0, 0, 0, 'no'],\n",
    "\t\t\t[1, 0, 0, 1, 'no'],\n",
    "\t\t\t[1, 1, 1, 1, 'yes'],\n",
    "\t\t\t[1, 0, 1, 2, 'yes'],\n",
    "\t\t\t[1, 0, 1, 2, 'yes'],\n",
    "\t\t\t[2, 0, 1, 2, 'yes'],\n",
    "\t\t\t[2, 0, 1, 1, 'yes'],\n",
    "\t\t\t[2, 1, 0, 1, 'yes'],\n",
    "\t\t\t[2, 1, 0, 2, 'yes'],\n",
    "\t\t\t[2, 0, 0, 0, 'no']]\n",
    "\tlabels = ['年龄', '有工作', '有自己的房子', '信贷情况']\t\t#特征标签\n",
    "\treturn dataSet, labels \t\t\t\t\t\t\t#返回数据集和分类属性"
   ]
  },
  {
   "cell_type": "code",
   "execution_count": 4,
   "metadata": {},
   "outputs": [],
   "source": [
    "def splitDataSet(dataSet, axis, value):\t\t\n",
    "\tretDataSet = []\t\t\t\t\t\t\t\t\t\t#创建返回的数据集列表\n",
    "\tfor featVec in dataSet: \t\t\t\t\t\t\t#遍历数据集\n",
    "\t\tif featVec[axis] == value:\n",
    "\t\t\treducedFeatVec = featVec[:axis]\t\t\t\t#去掉axis特征\n",
    "\t\t\treducedFeatVec.extend(featVec[axis+1:]) \t#将符合条件的添加到返回的数据集\n",
    "\t\t\tretDataSet.append(reducedFeatVec)\n",
    "\treturn retDataSet"
   ]
  },
  {
   "cell_type": "code",
   "execution_count": 5,
   "metadata": {},
   "outputs": [],
   "source": [
    "def chooseBestFeatureToSplit(dataSet):\n",
    "\tnumFeatures = len(dataSet[0]) - 1\t\t\t\t\t#特征数量\n",
    "\tbaseEntropy = calcShannonEnt(dataSet) \t\t\t\t#计算数据集的香农熵\n",
    "\tbestInfoGain = 0.0  \t\t\t\t\t\t\t\t#信息增益\n",
    "\tbestFeature = -1\t\t\t\t\t\t\t\t\t#最优特征的索引值\n",
    "\tfor i in range(numFeatures): \t\t\t\t\t\t#遍历所有特征\n",
    "\t\t#获取dataSet的第i个所有特征\n",
    "\t\tfeatList = [example[i] for example in dataSet]\n",
    "\t\tuniqueVals = set(featList)     \t\t\t\t\t#创建set集合{},元素不可重复\n",
    "\t\tnewEntropy = 0.0  \t\t\t\t\t\t\t\t#经验条件熵\n",
    "\t\tfor value in uniqueVals: \t\t\t\t\t\t#计算信息增益\n",
    "\t\t\tsubDataSet = splitDataSet(dataSet, i, value) \t\t#subDataSet划分后的子集\n",
    "\t\t\tprob = len(subDataSet) / float(len(dataSet))   \t\t#计算子集的概率\n",
    "\t\t\tnewEntropy += prob * calcShannonEnt(subDataSet) \t#根据公式计算经验条件熵\n",
    "\t\tinfoGain = baseEntropy - newEntropy \t\t\t\t\t#信息增益\n",
    "\t\t# print(\"第%d个特征的增益为%.3f\" % (i, infoGain))\t\t\t#打印每个特征的信息增益\n",
    "\t\tif (infoGain > bestInfoGain): \t\t\t\t\t\t\t#计算信息增益\n",
    "\t\t\tbestInfoGain = infoGain \t\t\t\t\t\t\t#更新信息增益，找到最大的信息增益\n",
    "\t\t\tbestFeature = i \t\t\t\t\t\t\t\t\t#记录信息增益最大的特征的索引值\n",
    "\treturn bestFeature \t\t"
   ]
  },
  {
   "cell_type": "code",
   "execution_count": 6,
   "metadata": {},
   "outputs": [],
   "source": [
    "def majorityCnt(classList):\n",
    "\tclassCount = {}\n",
    "\tfor vote in classList:\t\t\t\t\t\t\t\t\t\t#统计classList中每个元素出现的次数\n",
    "\t\tif vote not in classCount.keys():classCount[vote] = 0\t\n",
    "\t\tclassCount[vote] += 1\n",
    "\tsortedClassCount = sorted(classCount.items(), key = operator.itemgetter(1), reverse = True)\t\t#根据字典的值降序排序\n",
    "\treturn sortedClassCount[0][0]\t\t\t\t\t\t\t\t#返回classList中出现次数最多的元素\n"
   ]
  },
  {
   "cell_type": "code",
   "execution_count": 94,
   "metadata": {},
   "outputs": [],
   "source": [
    "def createTree(dataSet, labels, featLabels):\n",
    "\tclassList = [example[-1] for example in dataSet]\t\t\t#取分类标签(是否放贷:yes or no)\n",
    "# \tprint(classList)\n",
    "\tif classList.count(classList[0]) == len(classList):\t\t\t#如果类别完全相同则停止继续划分\n",
    "\t\treturn classList[0]\n",
    "\tif len(dataSet[0]) == 1 or len(labels) == 0:\t\t\t\t\t\t\t\t\t#遍历完所有特征时返回出现次数最多的类标签\n",
    "# \t\tprint(majorityCnt(classList))\n",
    "\t\treturn majorityCnt(classList)\n",
    "\tbestFeat = chooseBestFeatureToSplit(dataSet)\t\t\t\t#选择最优特征\n",
    "\tprint(bestFeat)\n",
    "\tbestFeatLabel = labels[bestFeat]\t\t\t\t\t\t\t#最优特征的标签\n",
    "# \treturn labels\n",
    "# \treturn bestFeatLabel\n",
    "\tfeatLabels.append(bestFeatLabel)\n",
    "\tmyTree = {bestFeatLabel:{}}\t\t\t\t\t\t\t\t\t#根据最优特征的标签生成树\n",
    "\tdel(labels[bestFeat])\t\t\t\t\t\t\t\t\t\t#删除已经使用特征标签\n",
    "\tfeatValues = [example[bestFeat] for example in dataSet]\t\t#得到训练集中所有最优特征的属性值\n",
    "# \treturn featValues\n",
    "\tuniqueVals = set(featValues)\t\t\t\t\t\t\t\t#去掉重复的属性值\n",
    "# \treturn uniqueVals\n",
    "\tfor value in uniqueVals:\t\t\t\t\t\t\t\t\t#遍历特征，创建决策树。\n",
    "\t\tsubLabels = labels[:]\n",
    "\t\tmyTree[bestFeatLabel][value] = createTree(splitDataSet(dataSet, bestFeat, value), subLabels, featLabels)\n",
    "# \t\treturn myTree\n",
    "\treturn myTree"
   ]
  },
  {
   "cell_type": "code",
   "execution_count": 77,
   "metadata": {},
   "outputs": [],
   "source": [
    "def classify(inputTree, featLabels, testVec):\n",
    "\tprint(inputTree)\n",
    "\tfirstStr = next(iter(inputTree))\t\t\t\t\t\t\t\t\t\t\t\t\t\t#获取决策树结点\n",
    "# \tprint(firstStr)\n",
    "\tsecondDict = inputTree[firstStr]\t\t\t\t\t\t\t\t\t\t\t\t\t\t#下一个字典\n",
    "\tprint(secondDict)\n",
    "\tfeatIndex = featLabels.index(firstStr)\t\t\t\t\t\t\t\t\t\t\t\t\n",
    "# \tprint(featIndex)\n",
    "# \tprint(featLabels)    \n",
    "\tfor key in secondDict.keys():\n",
    "\t\tif testVec[featIndex] == key:\n",
    "\t\t\tif type(secondDict[key]).__name__ == 'dict':\n",
    "\t\t\t\tclassLabel = classify(secondDict[key], featLabels, testVec)\n",
    "\t\t\telse: classLabel = secondDict[key]\n",
    "\treturn classLabel"
   ]
  },
  {
   "cell_type": "code",
   "execution_count": 99,
   "metadata": {},
   "outputs": [
    {
     "name": "stdout",
     "output_type": "stream",
     "text": [
      "[[0, 0, 0, 0, 'no'], [0, 0, 0, 1, 'no'], [0, 1, 0, 1, 'yes'], [0, 1, 1, 0, 'yes'], [0, 0, 0, 0, 'no'], [1, 0, 0, 0, 'no'], [1, 0, 0, 1, 'no'], [1, 1, 1, 1, 'yes'], [1, 0, 1, 2, 'yes'], [1, 0, 1, 2, 'yes'], [2, 0, 1, 2, 'yes'], [2, 0, 1, 1, 'yes'], [2, 1, 0, 1, 'yes'], [2, 1, 0, 2, 'yes'], [2, 0, 0, 0, 'no']]\n",
      "[[0, 1, 0, 'yes'], [1, 1, 1, 'yes'], [1, 0, 2, 'yes'], [1, 0, 2, 'yes'], [2, 0, 2, 'yes'], [2, 0, 1, 'yes']]\n",
      "2\n",
      "1\n"
     ]
    },
    {
     "data": {
      "text/plain": [
       "{'有自己的房子': {0: {'有工作': {0: 'no', 1: 'yes'}}, 1: 'yes'}}"
      ]
     },
     "execution_count": 99,
     "metadata": {},
     "output_type": "execute_result"
    }
   ],
   "source": [
    "# if __name__ == '__main__':\n",
    "dataSet, labels = createDataSet()\n",
    "print(dataSet)\n",
    "featLabels = []\n",
    "# print(chooseBestFeatureToSplit(dataSet))\n",
    "# print(dataSet)\n",
    "\n",
    "print(splitDataSet(dataSet, 2, 1))\n",
    "createTree(dataSet, labels, featLabels)\n",
    "\n",
    "# print(myTree)\n",
    "# testVec = [0,0]\n",
    "# createPlot(myTree)\n",
    "\n",
    "# print(featLabels)\n",
    "# result = classify(myTree, featLabels, testVec)\n",
    "# print(result)\n",
    "# testVec = [0,1]\t\t\t\t\t\t\t\t\t\t#测试数据\n",
    "# result = classify(myTree, featLabels, testVec)\n",
    "# if result == 'yes':\n",
    "#     print('放贷')\n",
    "# if result == 'no':\n",
    "#     print('不放贷')"
   ]
  },
  {
   "cell_type": "code",
   "execution_count": null,
   "metadata": {},
   "outputs": [],
   "source": []
  }
 ],
 "metadata": {
  "kernelspec": {
   "display_name": "Python 3",
   "language": "python",
   "name": "python3"
  },
  "language_info": {
   "codemirror_mode": {
    "name": "ipython",
    "version": 3
   },
   "file_extension": ".py",
   "mimetype": "text/x-python",
   "name": "python",
   "nbconvert_exporter": "python",
   "pygments_lexer": "ipython3",
   "version": "3.6.5"
  },
  "toc": {
   "base_numbering": 1,
   "nav_menu": {},
   "number_sections": true,
   "sideBar": true,
   "skip_h1_title": false,
   "title_cell": "Table of Contents",
   "title_sidebar": "Contents",
   "toc_cell": false,
   "toc_position": {},
   "toc_section_display": true,
   "toc_window_display": false
  }
 },
 "nbformat": 4,
 "nbformat_minor": 2
}
