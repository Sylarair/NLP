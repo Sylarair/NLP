{
 "cells": [
  {
   "cell_type": "code",
   "execution_count": 2,
   "metadata": {},
   "outputs": [],
   "source": [
    "original_price = [1, 5, 8, 9, 10, 17, 17, 20, 24, 30, 35]"
   ]
  },
  {
   "cell_type": "code",
   "execution_count": 3,
   "metadata": {},
   "outputs": [],
   "source": [
    "from collections import defaultdict"
   ]
  },
  {
   "cell_type": "code",
   "execution_count": 4,
   "metadata": {},
   "outputs": [],
   "source": [
    "price = defaultdict(int)\n",
    "for i, p in enumerate(original_price):\n",
    "    price[i+1] = p"
   ]
  },
  {
   "cell_type": "code",
   "execution_count": 5,
   "metadata": {},
   "outputs": [
    {
     "data": {
      "text/plain": [
       "0"
      ]
     },
     "execution_count": 5,
     "metadata": {},
     "output_type": "execute_result"
    }
   ],
   "source": [
    "price[12]"
   ]
  },
  {
   "cell_type": "markdown",
   "metadata": {},
   "source": [
    "## Getting the max splitting by dynamic programming"
   ]
  },
  {
   "cell_type": "code",
   "execution_count": 6,
   "metadata": {},
   "outputs": [],
   "source": [
    "def r(n):\n",
    "    return(max([price[n]] + [r(i) + r(n-i) for i in range(1,n)]))"
   ]
  },
  {
   "cell_type": "code",
   "execution_count": 7,
   "metadata": {},
   "outputs": [
    {
     "data": {
      "text/plain": [
       "45"
      ]
     },
     "execution_count": 7,
     "metadata": {},
     "output_type": "execute_result"
    }
   ],
   "source": [
    "r(15)"
   ]
  },
  {
   "cell_type": "markdown",
   "metadata": {},
   "source": [
    "## Optimize"
   ]
  },
  {
   "cell_type": "code",
   "execution_count": 8,
   "metadata": {},
   "outputs": [],
   "source": [
    "from functools import wraps"
   ]
  },
  {
   "cell_type": "code",
   "execution_count": 9,
   "metadata": {},
   "outputs": [],
   "source": [
    "def memo(f):\n",
    "    memo.already_computed = {}\n",
    "    @wraps(f) # decorator after python 2.7 and python 3.6\n",
    "    def _wrap(arg):\n",
    "        result = None\n",
    "        \n",
    "        if arg in memo.already_computed:\n",
    "            result = memo.already_computed[arg]\n",
    "        else:\n",
    "            result = f(arg)\n",
    "            memo.already_computed[arg] = result\n",
    "        \n",
    "        return result\n",
    "    return _wrap"
   ]
  },
  {
   "cell_type": "code",
   "execution_count": 10,
   "metadata": {},
   "outputs": [],
   "source": [
    "solution = {}"
   ]
  },
  {
   "cell_type": "code",
   "execution_count": 11,
   "metadata": {},
   "outputs": [],
   "source": [
    "@memo\n",
    "def r(n):\n",
    "    \"\"\"\n",
    "    Args: n is the iron length\n",
    "    Return: the max revenue\n",
    "    \"\"\"\n",
    "    max_price, max_split = max([(price[n], 0)] + [(r(i) + r(n-i), i) for i in range(1,n)]\\\n",
    "                              , key = lambda x: x[0])\n",
    "    \n",
    "    solution[n] = (n - max_split, max_split)\n",
    "    \n",
    "    return max_price"
   ]
  },
  {
   "cell_type": "code",
   "execution_count": 12,
   "metadata": {},
   "outputs": [
    {
     "data": {
      "text/plain": [
       "60"
      ]
     },
     "execution_count": 12,
     "metadata": {},
     "output_type": "execute_result"
    }
   ],
   "source": [
    "r(20)"
   ]
  },
  {
   "cell_type": "code",
   "execution_count": 13,
   "metadata": {},
   "outputs": [
    {
     "data": {
      "text/plain": [
       "{1: (1, 0),\n",
       " 2: (2, 0),\n",
       " 3: (3, 0),\n",
       " 4: (2, 2),\n",
       " 5: (3, 2),\n",
       " 6: (6, 0),\n",
       " 7: (6, 1),\n",
       " 8: (6, 2),\n",
       " 9: (6, 3),\n",
       " 10: (10, 0),\n",
       " 11: (11, 0),\n",
       " 12: (11, 1),\n",
       " 13: (11, 2),\n",
       " 14: (11, 3),\n",
       " 15: (13, 2),\n",
       " 16: (14, 2),\n",
       " 17: (11, 6),\n",
       " 18: (17, 1),\n",
       " 19: (17, 2),\n",
       " 20: (17, 3)}"
      ]
     },
     "execution_count": 13,
     "metadata": {},
     "output_type": "execute_result"
    }
   ],
   "source": [
    "solution"
   ]
  },
  {
   "cell_type": "markdown",
   "metadata": {},
   "source": [
    "## Parse solution"
   ]
  },
  {
   "cell_type": "code",
   "execution_count": 14,
   "metadata": {},
   "outputs": [],
   "source": [
    "def parse_solution(n):\n",
    "    left_split, right_split = solution[n]\n",
    "    \n",
    "    if right_split == 0:\n",
    "        return [left_split]\n",
    "    \n",
    "    return parse_solution(left_split) + parse_solution(right_split)"
   ]
  },
  {
   "cell_type": "code",
   "execution_count": 15,
   "metadata": {},
   "outputs": [
    {
     "data": {
      "text/plain": [
       "743"
      ]
     },
     "execution_count": 15,
     "metadata": {},
     "output_type": "execute_result"
    }
   ],
   "source": [
    "r(234)"
   ]
  },
  {
   "cell_type": "code",
   "execution_count": 16,
   "metadata": {},
   "outputs": [
    {
     "data": {
      "text/plain": [
       "'11 11 11 11 11 11 11 11 11 11 11 11 11 11 11 11 11 11 11 11 11 3'"
      ]
     },
     "execution_count": 16,
     "metadata": {},
     "output_type": "execute_result"
    }
   ],
   "source": [
    "' '.join(\\\n",
    "    map(str,parse_solution(234)))"
   ]
  },
  {
   "cell_type": "markdown",
   "metadata": {},
   "source": [
    "## Edit distance"
   ]
  },
  {
   "cell_type": "code",
   "execution_count": 17,
   "metadata": {},
   "outputs": [],
   "source": [
    "solution = {}"
   ]
  },
  {
   "cell_type": "code",
   "execution_count": 18,
   "metadata": {},
   "outputs": [],
   "source": [
    "from functools import lru_cache"
   ]
  },
  {
   "cell_type": "code",
   "execution_count": 20,
   "metadata": {},
   "outputs": [],
   "source": [
    "@lru_cache(maxsize=2**10)\n",
    "def edit_distance(string1, string2):\n",
    "    if len(string1)==0: return len(string2)\n",
    "    if len(string2)==0: return len(string1)\n",
    "    \n",
    "    tail_s1 = string1[-1]\n",
    "    tail_s2 = string2[-1]\n",
    "#     print(tail_s2)\n",
    "    \n",
    "    candidates = [\n",
    "        (edit_distance(string1[:-1], string2) + 1, 'DEL {}'.format(tail_s1)),\n",
    "        (edit_distance(string1, string2[:-1]) + 1, 'ADD {}'.format(tail_s2))\n",
    "    ]\n",
    "    \n",
    "    if tail_s1 == tail_s2:\n",
    "        both_forward = (edit_distance(string1[:-1], string2[:-1]) + 0, '')\n",
    "    else:\n",
    "        both_forward = (edit_distance(string1[:-1], string2[:-1]) + 1, 'SUB: {} = {}'\\\n",
    "                        .format(tail_s1, tail_s2))\n",
    "        \n",
    "    candidates.append(both_forward)\n",
    "    \n",
    "    min_distance, operation = min(candidates, key = lambda x: x[0])\n",
    "    \n",
    "    solution[(string1, string2)] = operation\n",
    "#     print(operation)\n",
    "    return min_distance"
   ]
  },
  {
   "cell_type": "code",
   "execution_count": 21,
   "metadata": {},
   "outputs": [
    {
     "data": {
      "text/plain": [
       "2"
      ]
     },
     "execution_count": 21,
     "metadata": {},
     "output_type": "execute_result"
    }
   ],
   "source": [
    "edit_distance('ABCDE', 'ABCCEF')"
   ]
  },
  {
   "cell_type": "code",
   "execution_count": 22,
   "metadata": {},
   "outputs": [
    {
     "data": {
      "text/plain": [
       "{('A', 'A'): '',\n",
       " ('A', 'AB'): 'ADD B',\n",
       " ('A', 'ABC'): 'ADD C',\n",
       " ('A', 'ABCC'): 'ADD C',\n",
       " ('A', 'ABCCE'): 'ADD E',\n",
       " ('A', 'ABCCEF'): 'ADD F',\n",
       " ('AB', 'A'): 'DEL B',\n",
       " ('AB', 'AB'): '',\n",
       " ('AB', 'ABC'): 'ADD C',\n",
       " ('AB', 'ABCC'): 'ADD C',\n",
       " ('AB', 'ABCCE'): 'ADD E',\n",
       " ('AB', 'ABCCEF'): 'ADD F',\n",
       " ('ABC', 'A'): 'DEL C',\n",
       " ('ABC', 'AB'): 'DEL C',\n",
       " ('ABC', 'ABC'): '',\n",
       " ('ABC', 'ABCC'): 'ADD C',\n",
       " ('ABC', 'ABCCE'): 'ADD E',\n",
       " ('ABC', 'ABCCEF'): 'ADD F',\n",
       " ('ABCD', 'A'): 'DEL D',\n",
       " ('ABCD', 'AB'): 'DEL D',\n",
       " ('ABCD', 'ABC'): 'DEL D',\n",
       " ('ABCD', 'ABCC'): 'SUB: D = C',\n",
       " ('ABCD', 'ABCCE'): 'ADD E',\n",
       " ('ABCD', 'ABCCEF'): 'ADD F',\n",
       " ('ABCDE', 'A'): 'DEL E',\n",
       " ('ABCDE', 'AB'): 'DEL E',\n",
       " ('ABCDE', 'ABC'): 'DEL E',\n",
       " ('ABCDE', 'ABCC'): 'DEL E',\n",
       " ('ABCDE', 'ABCCE'): '',\n",
       " ('ABCDE', 'ABCCEF'): 'ADD F'}"
      ]
     },
     "execution_count": 22,
     "metadata": {},
     "output_type": "execute_result"
    }
   ],
   "source": [
    "solution"
   ]
  },
  {
   "cell_type": "markdown",
   "metadata": {},
   "source": [
    "## HomewParse solution"
   ]
  },
  {
   "cell_type": "code",
   "execution_count": 23,
   "metadata": {},
   "outputs": [],
   "source": [
    "def parse_edit_distance_solution(string1, string2):\n",
    "    if len(string1) > 0:\n",
    "        temp = solution[(string1, string2)]\n",
    "        parsed_solution.append(temp)\n",
    "\n",
    "        if temp.startswith('ADD'):\n",
    "            parse_edit_distance_solution(string1, string2[:-1])\n",
    "        elif temp.startswith('DEL'):\n",
    "            parse_edit_distance_solution(string1[:-1], string2)\n",
    "#         elif temp.startswith('SUB'):\n",
    "#             parse_edit_distance_solution(string1[:-1]+temp.split(' ')[1], string2)\n",
    "        else:\n",
    "            parse_edit_distance_solution(string1[:-1], string2[:-1])\n",
    "\n",
    "        return [i for i in parsed_solution if i != '']"
   ]
  },
  {
   "cell_type": "code",
   "execution_count": 24,
   "metadata": {},
   "outputs": [
    {
     "name": "stdout",
     "output_type": "stream",
     "text": [
      "ABCDE-->ADD F-->SUB: D = C-->ABCCEF\n"
     ]
    }
   ],
   "source": [
    "parsed_solution = []\n",
    "string1 = 'ABCDE'\n",
    "string2 = 'ABCCEF'\n",
    "clear_solution = parse_edit_distance_solution(string1, string2)\n",
    "print('-->'.join([string1] + clear_solution + [string2]))"
   ]
  },
  {
   "cell_type": "markdown",
   "metadata": {},
   "source": [
    "## Problem Case 3: Pinyin Auto Correction Problem"
   ]
  },
  {
   "cell_type": "code",
   "execution_count": 25,
   "metadata": {},
   "outputs": [
    {
     "name": "stdout",
     "output_type": "stream",
     "text": [
      "此外自本周6月12日\n"
     ]
    }
   ],
   "source": [
    "chinese_dataset = '../../article_9k.txt'\n",
    "CHINESE_CHARACTERS = open(chinese_dataset, 'r').read()\n",
    "print(CHINESE_CHARACTERS[:10])"
   ]
  },
  {
   "cell_type": "code",
   "execution_count": 26,
   "metadata": {},
   "outputs": [],
   "source": [
    "# !pip install pinyin\n",
    "import pinyin"
   ]
  },
  {
   "cell_type": "code",
   "execution_count": 27,
   "metadata": {},
   "outputs": [
    {
     "data": {
      "text/plain": [
       "'ni hao'"
      ]
     },
     "execution_count": 27,
     "metadata": {},
     "output_type": "execute_result"
    }
   ],
   "source": [
    "pinyin.get('你好', format='strip', delimiter=' ')"
   ]
  },
  {
   "cell_type": "code",
   "execution_count": 28,
   "metadata": {},
   "outputs": [],
   "source": [
    "def chinese_to_pinyin(character):\n",
    "    return pinyin.get(character, format='strip', delimiter=' ')"
   ]
  },
  {
   "cell_type": "code",
   "execution_count": 29,
   "metadata": {},
   "outputs": [],
   "source": [
    "CHINESE_PINYIN_COPYS = chinese_to_pinyin(CHINESE_CHARACTERS)"
   ]
  },
  {
   "cell_type": "code",
   "execution_count": 30,
   "metadata": {},
   "outputs": [
    {
     "data": {
      "text/plain": [
       "129433034"
      ]
     },
     "execution_count": 30,
     "metadata": {},
     "output_type": "execute_result"
    }
   ],
   "source": [
    "len(CHINESE_PINYIN_COPYS)"
   ]
  },
  {
   "cell_type": "code",
   "execution_count": 31,
   "metadata": {},
   "outputs": [],
   "source": [
    "import re"
   ]
  },
  {
   "cell_type": "code",
   "execution_count": 32,
   "metadata": {},
   "outputs": [],
   "source": [
    "def tokens(text):\n",
    "    return re.findall('[a-z]+', text.lower())"
   ]
  },
  {
   "cell_type": "code",
   "execution_count": 34,
   "metadata": {},
   "outputs": [
    {
     "name": "stdout",
     "output_type": "stream",
     "text": [
      "['ci', 'wai', 'zi', 'ben', 'zhou', 'yue', 'ri', 'qi', 'chu', 'xiao', 'mi', 'shou', 'ji', 'deng', 'kuan', 'ji', 'xing', 'wai', 'qi', 'yu', 'ji', 'xing', 'yi']\n"
     ]
    }
   ],
   "source": [
    "print(tokens(CHINESE_PINYIN_COPYS[:100]))"
   ]
  },
  {
   "cell_type": "code",
   "execution_count": 35,
   "metadata": {},
   "outputs": [],
   "source": [
    "from collections import Counter, defaultdict"
   ]
  },
  {
   "cell_type": "code",
   "execution_count": 36,
   "metadata": {},
   "outputs": [],
   "source": [
    "PINYIN_COUNT = Counter(tokens(CHINESE_PINYIN_COPYS))"
   ]
  },
  {
   "cell_type": "code",
   "execution_count": 37,
   "metadata": {},
   "outputs": [],
   "source": [
    "def correct(word):\n",
    "    candidates = (known(edits0(word)) or known(edits1(word))\\\n",
    "    or known(edits2(word)) or [word])\n",
    "    \n",
    "    return max(candidates, key = PINYIN_COUNT.get)\n",
    "    "
   ]
  },
  {
   "cell_type": "code",
   "execution_count": 38,
   "metadata": {},
   "outputs": [
    {
     "name": "stdout",
     "output_type": "stream",
     "text": [
      "Counter({'shi': 860634, 'de': 809887, 'n': 691114, 'yi': 682478, 'ji': 645276, 'guo': 430042, 'zhong': 409418, 'zhi': 398612, 'xin': 359619, 'li': 355441, 'zai': 334106, 'wei': 326301, 'hua': 304941, 'yu': 302949, 'she': 293312, 'he': 285689, 'bu': 281533, 'ri': 278379, 'jin': 278141, 'you': 277726, 'xian': 269047, 'gong': 259593, 'yue': 258519, 'ren': 257321, 'qi': 251164, 'yuan': 248823, 'jian': 248173, 'da': 247785, 'xing': 241741, 'jia': 239795, 'fa': 233137, 'nian': 231398, 'di': 221266, 'jing': 220462, 'xi': 217848, 'sheng': 211580, 'cheng': 210265, 'jie': 208675, 'er': 208539, 'zhe': 205224, 'ye': 197406, 'xiang': 196711, 'fu': 194850, 'wu': 194660, 'chang': 193611, 'zi': 192620, 'ge': 191779, 'zhu': 191577, 'hui': 187634, 'dui': 182885, 'shang': 178941, 'ti': 176853, 'shou': 175635, 'si': 175066, 'ke': 173705, 'ju': 173114, 'dai': 171074, 'dao': 167050, 'tong': 166443, 'le': 166313, 'guan': 164991, 'fang': 161433, 'zheng': 160688, 'sai': 158317, 'chu': 156005, 'zhan': 155206, 'mei': 145101, 'zuo': 143828, 'dong': 142750, 'ying': 140068, 'jiang': 139873, 'qu': 134248, 'bei': 133864, 'bao': 132256, 'bi': 131887, 'wai': 131353, 'qiu': 129226, 'xiao': 126736, 'du': 125547, 'zhao': 125457, 'dian': 125203, 'yan': 125085, 'quan': 122983, 'wen': 121636, 'jiao': 114201, 'yao': 113571, 'shu': 110081, 'qian': 107612, 'wang': 106302, 'huo': 105711, 'fen': 105101, 'lai': 104997, 'lu': 103611, 'gao': 103450, 'lian': 102755, 'liang': 101795, 'ming': 101077, 'mu': 98791, 'wan': 97245, 'dang': 97034, 'ci': 95927, 'qing': 95699, 'duo': 94887, 'kai': 94310, 'ta': 94143, 'jiu': 92105, 'yin': 91363, 'xue': 90928, 'an': 90356, 'zu': 89641, 'hu': 88138, 'biao': 87671, 'dan': 85678, 'men': 85361, 'huan': 85167, 'yong': 84428, 'ban': 83215, 'shen': 82053, 'hou': 81943, 'xu': 81654, 'zhou': 80326, 'yang': 79502, 'ping': 79401, 'deng': 77672, 'ya': 77529, 'ru': 77086, 'hai': 77075, 'tai': 76995, 'xia': 76389, 'min': 75446, 'pian': 74571, 'nan': 73866, 'neng': 73153, 'pin': 72590, 'gu': 71739, 'luo': 70710, 'xie': 70147, 'fei': 69077, 'ba': 68917, 'chan': 67157, 'tian': 64685, 'wo': 64661, 'te': 64610, 'hao': 64391, 'xuan': 63887, 'mian': 63247, 'tou': 62353, 'bing': 62256, 'ma': 61893, 'cai': 61649, 'zong': 61540, 'ding': 60586, 'ling': 58903, 'tu': 58771, 'lv': 58491, 'shuo': 58205, 'su': 56942, 'fan': 56555, 'a': 56097, 'nei': 55595, 'jun': 55519, 'ben': 55466, 'bian': 55446, 'gai': 54883, 'liu': 54770, 'zhang': 54556, 'bo': 54349, 'shan': 54211, 'zui': 52532, 'zhen': 52175, 'gui': 51986, 'che': 51184, 'shui': 50990, 'na': 50163, 'feng': 50140, 'zhuan': 50099, 'lan': 49977, 'qiang': 49757, 'jue': 49487, 'mo': 49000, 'la': 48821, 'cha': 48661, 'chi': 48563, 'e': 47625, 'suo': 47392, 'yun': 47373, 'guang': 47297, 'lun': 47136, 'zao': 45572, 'chuan': 45328, 'kong': 44384, 'gou': 43841, 'zhuang': 43810, 'duan': 43754, 'cong': 43473, 'san': 42992, 'gang': 42651, 'pai': 42251, 'tan': 41650, 'ni': 41237, 'mi': 40857, 'chuang': 40373, 'gan': 40076, 'han': 39849, 'cun': 39815, 'can': 39732, 'bai': 39411, 'tui': 39023, 'xun': 38827, 'rong': 38777, 'ze': 37238, 'pu': 35531, 'geng': 35528, 'ou': 35066, 'shao': 34721, 'lei': 34697, 'lin': 34671, 'zeng': 33555, 'diao': 33303, 'chao': 31798, 'ting': 31732, 'sui': 31407, 'ran': 31255, 'ce': 30897, 'kan': 30486, 'meng': 30042, 'lao': 29267, 'man': 29201, 'ai': 28530, 'mao': 28512, 'ao': 26680, 'que': 26243, 'xiu': 25777, 'nong': 25686, 'lie': 24859, 'long': 24681, 'kou': 24597, 'tuan': 24587, 'pei': 24575, 'hong': 24568, 'nv': 24378, 'tiao': 24246, 'hang': 24149, 'kao': 23915, 'liao': 23609, 'tao': 23543, 'mai': 23530, 'tuo': 23502, 'huang': 23291, 'rang': 22941, 'sha': 22362, 'chen': 22240, 'pi': 22168, 'kuai': 22115, 'hen': 21310, 'zou': 20935, 'po': 20933, 'qia': 20841, 'kuang': 19987, 'lang': 19944, 'ceng': 19486, 'song': 19461, 'qie': 19339, 'dun': 19333, 'zhun': 19159, 'se': 19140, 'pan': 18978, 'tie': 18972, 'bie': 18958, 'i': 18582, 'gen': 18393, 'shuang': 18391, 'qin': 18027, 'gei': 17653, 'chong': 16869, 'bang': 16868, 'kuo': 15644, 'c': 15442, 'zhai': 15281, 'o': 15167, 'ku': 14978, 'wa': 14877, 'qun': 14543, 're': 14518, 'chun': 14420, 'kang': 14053, 'kuan': 13631, 'nuo': 13496, 'niu': 13444, 'kun': 13378, 'peng': 13337, 'tang': 13190, 'qiao': 12691, 'zha': 12523, 'ning': 12436, 'p': 12319, 'piao': 12301, 'cao': 12233, 'xiong': 11973, 's': 11952, 't': 11825, 'b': 11759, 'sa': 11606, 'mou': 11153, 'ha': 11032, 'chou': 10792, 'bin': 10709, 'cuo': 10467, 'lve': 9851, 'r': 9789, 'cu': 9712, 'm': 9553, 'suan': 9509, 'die': 9410, 'pao': 9251, 'cang': 9186, 'sen': 9157, 'hun': 9059, 'hei': 8962, 'rui': 8843, 'dou': 8805, 'miao': 8525, 'pang': 8421, 'sun': 8415, 'heng': 8216, 'reng': 8160, 'h': 7299, 'lou': 7060, 'd': 7013, 'l': 6926, 'zan': 6671, 'zhui': 6638, 'nu': 6476, 'huai': 6450, 'shun': 6373, 'nai': 6184, 'g': 6150, 'zhua': 6147, 'kua': 5927, 'u': 5749, 'gua': 5745, 'fou': 5574, 'juan': 5569, 'pa': 5395, 'ruo': 5375, 'nao': 5209, 'en': 5109, 'f': 4848, 'ken': 4838, 'mang': 4776, 'rao': 4722, 'rou': 3992, 'shuai': 3948, 'sang': 3927, 'sao': 3887, 'cui': 3759, 'teng': 3659, 'za': 3646, 'ruan': 3579, 'zhuo': 3423, 'zang': 3421, 'w': 3392, 'ka': 3334, 'zun': 3286, 'luan': 3281, 'ang': 3089, 'leng': 3030, 'niao': 2981, 'fo': 2970, 'k': 2860, 'run': 2850, 'zen': 2746, 'v': 2696, 'chai': 2512, 'nuan': 2504, 'x': 2464, 'y': 2408, 'pen': 2318, 'qiong': 2279, 'kui': 2256, 'niang': 1904, 'shua': 1871, 'tun': 1824, 'sou': 1795, 'chui': 1747, 'zuan': 1616, 'nie': 1358, 'j': 1181, 'shai': 1172, 'gun': 1171, 'mie': 1117, 'guai': 1021, 'weng': 966, 'nen': 933, 'z': 909, 'q': 854, 'beng': 846, 'diu': 843, 'keng': 785, 'nin': 737, 'ga': 649, 'nve': 612, 'nang': 580, 'ne': 567, 'lia': 539, 'ca': 522, 'cen': 259, 'chuo': 242, 'jiong': 213, 'seng': 211, 'cuan': 207, 'pou': 204, 'cou': 197, 'shuan': 171, 'chuai': 161, 'pie': 151, 'zei': 74, 'miu': 40, 'dia': 34, 'yo': 14})\n"
     ]
    }
   ],
   "source": [
    "print(str(PINYIN_COUNT))"
   ]
  },
  {
   "cell_type": "code",
   "execution_count": 39,
   "metadata": {},
   "outputs": [],
   "source": [
    "def known(words):\n",
    "    return {w for w in words if w in PINYIN_COUNT}\n",
    "\n",
    "def edits0(word):\n",
    "    return {word}\n",
    "\n",
    "def edits2(word):\n",
    "    return {e2 for e1 in edits1(word) for e2 in edits1(e1)}"
   ]
  },
  {
   "cell_type": "markdown",
   "metadata": {},
   "source": [
    "### edits1"
   ]
  },
  {
   "cell_type": "code",
   "execution_count": 40,
   "metadata": {},
   "outputs": [],
   "source": [
    "def edits1(word):\n",
    "    pairs = splits(word)\n",
    "    deletes = [a + b[1:] for (a, b) in pairs if b]\n",
    "    transposes = [a + b[1] + b[0] + b[2:] for (a, b) in pairs if len(b) > 1]\n",
    "    replaces = [a+c+b[1:] for (a, b) in pairs for c in alphabets if b]\n",
    "    inserts = [a+c+b for (a, b) in pairs for c in alphabets]\n",
    "    \n",
    "    return set(deletes + transposes + replaces + inserts)\n",
    "\n",
    "def splits(word):\n",
    "    return [(word[:i], word[i:]) for i in range(len(word) + 1)]\n",
    "\n",
    "alphabets = 'abcdefghijklmnopqrstuvwxyz'\n",
    "    "
   ]
  },
  {
   "cell_type": "code",
   "execution_count": 41,
   "metadata": {},
   "outputs": [
    {
     "data": {
      "text/plain": [
       "[('', 'pinyin'),\n",
       " ('p', 'inyin'),\n",
       " ('pi', 'nyin'),\n",
       " ('pin', 'yin'),\n",
       " ('piny', 'in'),\n",
       " ('pinyi', 'n'),\n",
       " ('pinyin', '')]"
      ]
     },
     "execution_count": 41,
     "metadata": {},
     "output_type": "execute_result"
    }
   ],
   "source": [
    "splits('pinyin')"
   ]
  },
  {
   "cell_type": "code",
   "execution_count": 43,
   "metadata": {},
   "outputs": [
    {
     "data": {
      "text/plain": [
       "['qin',\n",
       " 'nin',\n",
       " 'yun',\n",
       " 'yi',\n",
       " 'ying',\n",
       " 'lin',\n",
       " 'yin',\n",
       " 'bin',\n",
       " 'xin',\n",
       " 'pin',\n",
       " 'yan',\n",
       " 'jin',\n",
       " 'min']"
      ]
     },
     "execution_count": 43,
     "metadata": {},
     "output_type": "execute_result"
    }
   ],
   "source": [
    "[i for i in edits1('yin') if i in PINYIN_COUNT]"
   ]
  },
  {
   "cell_type": "code",
   "execution_count": 45,
   "metadata": {},
   "outputs": [
    {
     "data": {
      "text/plain": [
       "'ping'"
      ]
     },
     "execution_count": 45,
     "metadata": {},
     "output_type": "execute_result"
    }
   ],
   "source": [
    "correct('pign')"
   ]
  },
  {
   "cell_type": "code",
   "execution_count": 46,
   "metadata": {},
   "outputs": [],
   "source": [
    "def correct_sequence_pinyin(text_pinyin):\n",
    "    return ' '.join(map(correct, text_pinyin.split()))"
   ]
  },
  {
   "cell_type": "code",
   "execution_count": 47,
   "metadata": {},
   "outputs": [
    {
     "data": {
      "text/plain": [
       "'zhe shi yi ge ce shi'"
      ]
     },
     "execution_count": 47,
     "metadata": {},
     "output_type": "execute_result"
    }
   ],
   "source": [
    "correct_sequence_pinyin('zhe shi yi ge ce shi')"
   ]
  },
  {
   "cell_type": "code",
   "execution_count": 48,
   "metadata": {},
   "outputs": [
    {
     "data": {
      "text/plain": [
       "'wo xiang shang qing hua da xue'"
      ]
     },
     "execution_count": 48,
     "metadata": {},
     "output_type": "execute_result"
    }
   ],
   "source": [
    "correct_sequence_pinyin('wo xiang shang qinng hau da xue')"
   ]
  },
  {
   "cell_type": "markdown",
   "metadata": {},
   "source": [
    "## 思考题-homework？ 如何在不带空格的时候完成自动修整？--> 如何完成拼音的自动分割？"
   ]
  },
  {
   "cell_type": "code",
   "execution_count": 49,
   "metadata": {},
   "outputs": [],
   "source": [
    "total_words_freq = sum(PINYIN_COUNT.values())"
   ]
  },
  {
   "cell_type": "code",
   "execution_count": 50,
   "metadata": {},
   "outputs": [
    {
     "data": {
      "text/plain": [
       "[('ci', 95927),\n",
       " ('wai', 131353),\n",
       " ('zi', 192620),\n",
       " ('ben', 55466),\n",
       " ('zhou', 80326),\n",
       " ('yue', 258519),\n",
       " ('ri', 278379),\n",
       " ('qi', 251164),\n",
       " ('chu', 156005),\n",
       " ('xiao', 126736)]"
      ]
     },
     "execution_count": 50,
     "metadata": {},
     "output_type": "execute_result"
    }
   ],
   "source": [
    "list(PINYIN_COUNT.items())[:10]"
   ]
  },
  {
   "cell_type": "code",
   "execution_count": 51,
   "metadata": {},
   "outputs": [],
   "source": [
    "def get_word_prob(word):\n",
    "    if word in PINYIN_COUNT:\n",
    "        return PINYIN_COUNT[word] / total_words_freq\n",
    "    else:\n",
    "        return PINYIN_COUNT.most_common()[-1][-1] / total_words_freq"
   ]
  },
  {
   "cell_type": "code",
   "execution_count": 63,
   "metadata": {},
   "outputs": [],
   "source": [
    "@lru_cache(maxsize=2**12)\n",
    "def split_text_pinyin(pinyin_no_delim):\n",
    "    n = len(pinyin_no_delim)\n",
    "    max_prob, max_split = max([(get_word_prob(pinyin_no_delim), 0)] + \\\n",
    "                              [((split_text_pinyin(pinyin_no_delim[:i]) * \\\n",
    "                                split_text_pinyin(pinyin_no_delim[i:]))**0.5, i) for i in range(1,n)], key=lambda x: x[0])\n",
    "#     max_prob, max_split = max([(get_word_prob(pinyin_no_delim), 0)] + \\\n",
    "#                               [((split_text_pinyin(correct(pinyin_no_delim[:i])) * \\\n",
    "#                                 split_text_pinyin(correct(pinyin_no_delim[i:])))**0.5, i) for i in range(1,n)], key=lambda x: x[0])\n",
    "    split_text_solution[pinyin_no_delim] = (pinyin_no_delim[:max_split], pinyin_no_delim[max_split:])\n",
    "    return max_prob"
   ]
  },
  {
   "cell_type": "code",
   "execution_count": 60,
   "metadata": {},
   "outputs": [
    {
     "data": {
      "text/plain": [
       "0.016525920631495016"
      ]
     },
     "execution_count": 60,
     "metadata": {},
     "output_type": "execute_result"
    }
   ],
   "source": [
    "# get_word_prob('zheshiyigeceshi')\n",
    "# (get_word_prob('zhe') * get_word_prob('shiyigeceshi'))**0.5\n",
    "split_text_solution = defaultdict(list)\n",
    "# sys.setrecursionlimit(150000)\n",
    "split_text_pinyin('zheshiyigeceshi')"
   ]
  },
  {
   "cell_type": "code",
   "execution_count": 57,
   "metadata": {},
   "outputs": [],
   "source": [
    "import sys\n",
    "def split_text_pinyin_parse(pinyin_no_delim):\n",
    "    try:\n",
    "        left_split, right_split = split_text_solution[pinyin_no_delim]\n",
    "\n",
    "        if left_split == '': return [right_split]\n",
    "\n",
    "        return split_text_pinyin_parse(left_split) + split_text_pinyin_parse(right_split)\n",
    "    except ValueError:\n",
    "        print(pinyin_no_delim)\n",
    "        sys.exit(0)"
   ]
  },
  {
   "cell_type": "code",
   "execution_count": 61,
   "metadata": {},
   "outputs": [
    {
     "data": {
      "text/plain": [
       "['zhe', 'shi', 'yi', 'ge', 'ce', 'shi']"
      ]
     },
     "execution_count": 61,
     "metadata": {},
     "output_type": "execute_result"
    }
   ],
   "source": [
    "# dict(split_text_solution)\n",
    "split_text_pinyin_parse('zheshiyigeceshi')"
   ]
  },
  {
   "cell_type": "code",
   "execution_count": 67,
   "metadata": {},
   "outputs": [],
   "source": [
    "import gc\n",
    "import functools\n",
    "\n",
    "gc.collect()\n",
    "wrappers = [\n",
    "    a for a in gc.get_objects() \n",
    "    if isinstance(a, functools._lru_cache_wrapper)]\n",
    "\n",
    "for wrapper in wrappers:\n",
    "    wrapper.cache_clear()"
   ]
  },
  {
   "cell_type": "code",
   "execution_count": 68,
   "metadata": {},
   "outputs": [
    {
     "data": {
      "text/plain": [
       "['wo', 'xiang', 'shang', 'qi', 'n', 'n', 'g', 'hua', 'da', 'xue']"
      ]
     },
     "execution_count": 68,
     "metadata": {},
     "output_type": "execute_result"
    }
   ],
   "source": [
    "split_text_solution = defaultdict(list)\n",
    "test_string = 'woxiangshangqinnghuadaxue'\n",
    "split_text_pinyin(test_string)\n",
    "split_text_pinyin_parse(test_string)"
   ]
  },
  {
   "cell_type": "code",
   "execution_count": 70,
   "metadata": {},
   "outputs": [
    {
     "data": {
      "text/plain": [
       "['wo', 'xiang', 'shang', 'qi', 'n', 'n', 'g', 'hua', 'da', 'xue']"
      ]
     },
     "execution_count": 70,
     "metadata": {},
     "output_type": "execute_result"
    }
   ],
   "source": [
    "def split_text_pinyin_summary(pinyin_no_delim):\n",
    "    @lru_cache(maxsize=2**10)\n",
    "    def split_text_pinyin(pinyin_no_delim):\n",
    "        n = len(pinyin_no_delim)\n",
    "        max_prob, max_split = max([(get_word_prob(pinyin_no_delim), 0)] + \\\n",
    "                                  [((split_text_pinyin(pinyin_no_delim[:i]) * \\\n",
    "                                    split_text_pinyin(pinyin_no_delim[i:]))**0.5, i) for i in range(1,n)], key=lambda x: x[0])\n",
    "        split_text_solution[pinyin_no_delim] = (pinyin_no_delim[:max_split], pinyin_no_delim[max_split:])\n",
    "    #     print(dict(split_text_solution))\n",
    "        return max_prob\n",
    "    \n",
    "    split_text_solution = defaultdict(list)\n",
    "    test_string = pinyin_no_delim #'woxiangshangqinnghaudaxue'\n",
    "    split_text_pinyin(test_string)\n",
    "    return split_text_pinyin_parse(test_string)\n",
    "\n",
    "split_text_pinyin_summary('woxiangshangqinnghuadaxue')"
   ]
  },
  {
   "cell_type": "code",
   "execution_count": 71,
   "metadata": {},
   "outputs": [],
   "source": [
    "def correct_sequence_pinyin_no_delim(text_pinyin):\n",
    "    return ' '.join(map(correct, split_text_pinyin_summary(text_pinyin)))"
   ]
  },
  {
   "cell_type": "code",
   "execution_count": 72,
   "metadata": {},
   "outputs": [
    {
     "data": {
      "text/plain": [
       "'wo xiang shang qi n n g hua da xue'"
      ]
     },
     "execution_count": 72,
     "metadata": {},
     "output_type": "execute_result"
    }
   ],
   "source": [
    "correct_sequence_pinyin_no_delim('woxiangshangqinnghuadaxue')"
   ]
  },
  {
   "cell_type": "markdown",
   "metadata": {},
   "source": [
    "## Summary"
   ]
  },
  {
   "cell_type": "markdown",
   "metadata": {},
   "source": [
    "In the part of adjust text pinyin without delimiter, I try to use the one gram to separate them, and find that it performs worse in words such as 'qinng'. Maybe it would be better when using 2-gram model."
   ]
  }
 ],
 "metadata": {
  "kernelspec": {
   "display_name": "Python 3",
   "language": "python",
   "name": "python3"
  },
  "language_info": {
   "codemirror_mode": {
    "name": "ipython",
    "version": 3
   },
   "file_extension": ".py",
   "mimetype": "text/x-python",
   "name": "python",
   "nbconvert_exporter": "python",
   "pygments_lexer": "ipython3",
   "version": "3.6.7"
  }
 },
 "nbformat": 4,
 "nbformat_minor": 2
}
