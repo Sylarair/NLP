{
 "cells": [
  {
   "cell_type": "markdown",
   "metadata": {},
   "source": [
    "# Assignment 4"
   ]
  },
  {
   "cell_type": "markdown",
   "metadata": {},
   "source": [
    "### 1. 复习上课内容以及复现课程代码"
   ]
  },
  {
   "cell_type": "markdown",
   "metadata": {},
   "source": [
    "在本部分，你需要复习上课内容和课程代码后，自己复现课程代码。"
   ]
  },
  {
   "cell_type": "code",
   "execution_count": 1,
   "metadata": {},
   "outputs": [
    {
     "name": "stderr",
     "output_type": "stream",
     "text": [
      "/Users/wangqin/anaconda2/envs/py36/lib/python3.6/importlib/_bootstrap.py:219: RuntimeWarning: numpy.ufunc size changed, may indicate binary incompatibility. Expected 192 from C header, got 216 from PyObject\n",
      "  return f(*args, **kwds)\n"
     ]
    }
   ],
   "source": [
    "import numpy as np\n",
    "from sklearn.datasets import load_boston\n",
    "from sklearn.utils import shuffle, resample"
   ]
  },
  {
   "cell_type": "code",
   "execution_count": 2,
   "metadata": {},
   "outputs": [],
   "source": [
    "class Node:\n",
    "    def __init__(self, inputs=[]):\n",
    "        self.inputs = inputs\n",
    "        self.outputs = []\n",
    "\n",
    "        for n in self.inputs:\n",
    "            n.outputs.append(self)\n",
    "\n",
    "        self.value = None\n",
    "        self.gradients = {}\n",
    "        \n",
    "\n",
    "    def forward(self):\n",
    "        raise NotImplemented\n",
    "    \n",
    "\n",
    "    def backward(self):\n",
    "        raise NotImplemented"
   ]
  },
  {
   "cell_type": "code",
   "execution_count": 3,
   "metadata": {},
   "outputs": [],
   "source": [
    "class Input(Node):\n",
    "    def __init__(self):\n",
    "        Node.__init__(self)\n",
    "\n",
    "    def forward(self, value=None):\n",
    "        if value is not None:\n",
    "            self.value = value\n",
    "        \n",
    "    def backward(self):\n",
    "        self.gradients = {self:0}\n",
    "        for n in self.outputs:\n",
    "            grad_cost = n.gradients[self]\n",
    "            self.gradients[self] = grad_cost * 1\n"
   ]
  },
  {
   "cell_type": "code",
   "execution_count": 4,
   "metadata": {},
   "outputs": [],
   "source": [
    "class Add(Node):\n",
    "    def __init__(self, *nodes):\n",
    "        Node.__init__(self, nodes)\n",
    "\n",
    "    def forward(self):\n",
    "        self.value = sum(map(lambda n: n.value, self.inputs))"
   ]
  },
  {
   "cell_type": "code",
   "execution_count": 5,
   "metadata": {},
   "outputs": [],
   "source": [
    "class Linear(Node):\n",
    "    def __init__(self, nodes, weights, bias):\n",
    "        Node.__init__(self, [nodes, weights, bias])\n",
    "\n",
    "    def forward(self):\n",
    "        inputs = self.inputs[0].value\n",
    "        weights = self.inputs[1].value\n",
    "        bias = self.inputs[2].value\n",
    "\n",
    "        self.value = np.dot(inputs, weights) + bias\n",
    "        \n",
    "    def backward(self):\n",
    "        # initial a partial for each of the inbound_nodes.\n",
    "        self.gradients = {n: np.zeros_like(n.value) for n in self.inputs}\n",
    "\n",
    "        for n in self.outputs:\n",
    "            # Get the partial of the cost w.r.t this node.\n",
    "            grad_cost = n.gradients[self]\n",
    "\n",
    "            self.gradients[self.inputs[0]] = np.dot(grad_cost, self.inputs[1].value.T)\n",
    "            self.gradients[self.inputs[1]] = np.dot(self.inputs[0].value.T, grad_cost)\n",
    "            self.gradients[self.inputs[2]] = np.sum(grad_cost, axis=0, keepdims=False)\n"
   ]
  },
  {
   "cell_type": "code",
   "execution_count": 6,
   "metadata": {},
   "outputs": [],
   "source": [
    "class Sigmoid(Node):\n",
    "    def __init__(self, node):\n",
    "        Node.__init__(self, [node])\n",
    "\n",
    "    def _sigmoid(self, x):\n",
    "        return 1./(1 + np.exp(-1 * x))\n",
    "\n",
    "    def forward(self):\n",
    "        self.x = self.inputs[0].value\n",
    "        self.value = self._sigmoid(self.x)\n",
    "\n",
    "    def backward(self):\n",
    "        self.partial = self._sigmoid(self.x) * (1 - self._sigmoid(self.x))\n",
    "        \n",
    "        # y = 1 / (1 + e^-x)\n",
    "        # y' = 1 / (1 + e^-x) (1 - 1 / (1 + e^-x))\n",
    "        \n",
    "        self.gradients = {n: np.zeros_like(n.value) for n in self.inputs}\n",
    "\n",
    "        for n in self.outputs:\n",
    "            grad_cost = n.gradients[self]  # Get the partial of the cost with respect to this node.\n",
    "\n",
    "            self.gradients[self.inputs[0]] = grad_cost * self.partial\n",
    "            # use * to keep all the dimension same!.\n"
   ]
  },
  {
   "cell_type": "code",
   "execution_count": 7,
   "metadata": {},
   "outputs": [],
   "source": [
    "class MSE(Node):\n",
    "    def __init__(self, y, a):\n",
    "        Node.__init__(self, [y, a])\n",
    "\n",
    "    def forward(self):\n",
    "        y = self.inputs[0].value.reshape(-1, 1)\n",
    "        a = self.inputs[1].value.reshape(-1, 1)\n",
    "        assert(y.shape == a.shape)\n",
    "\n",
    "        self.m = self.inputs[0].value.shape[0]\n",
    "        self.diff = y - a\n",
    "\n",
    "        self.value = np.mean(self.diff**2)\n",
    "\n",
    "\n",
    "    def backward(self):\n",
    "        self.gradients[self.inputs[0]] = (2 / self.m) * self.diff\n",
    "        self.gradients[self.inputs[1]] = (-2 / self.m) * self.diff"
   ]
  },
  {
   "cell_type": "code",
   "execution_count": 8,
   "metadata": {},
   "outputs": [],
   "source": [
    "def forward_and_backward(outputnode, graph):\n",
    "    for n in graph:\n",
    "        n.forward()\n",
    "\n",
    "    for n in  graph[::-1]:\n",
    "        n.backward()\n"
   ]
  },
  {
   "cell_type": "code",
   "execution_count": 9,
   "metadata": {},
   "outputs": [],
   "source": [
    "def topological_sort(feed_dict):\n",
    "    input_nodes = [n for n in feed_dict.keys()]\n",
    "    G = {}\n",
    "    nodes = [n for n in input_nodes]\n",
    "    while len(nodes) > 0:\n",
    "        n = nodes.pop(0)\n",
    "        if n not in G:\n",
    "            G[n] = {'in': set(), 'out': set()}\n",
    "\n",
    "        for m in n.outputs:\n",
    "            if m not in G:\n",
    "                G[m] = {'in': set(), 'out': set()}\n",
    "            G[n]['out'].add(m)\n",
    "            G[m]['in'].add(n)\n",
    "            nodes.append(m)\n",
    "\n",
    "    L = []\n",
    "    S = set(input_nodes)\n",
    "    while len(S) > 0:\n",
    "        n = S.pop()\n",
    "\n",
    "        if isinstance(n, Input):\n",
    "            n.value = feed_dict[n]\n",
    "\n",
    "        L.append(n)\n",
    "#         print(n.outputs)\n",
    "        for m in n.outputs:\n",
    "            G[n]['out'].remove(m)\n",
    "            G[m]['in'].remove(n)\n",
    "            if len(G[m]['in']) == 0:\n",
    "                S.add(m)\n",
    "    return L\n",
    "\n",
    "# feed_dict = {\n",
    "#     X: X_,\n",
    "#     y: y_,\n",
    "#     W1: W1_,\n",
    "#     b1: b1_,\n",
    "#     W2: W2_,\n",
    "#     b2: b2_\n",
    "# }\n",
    "# topological_sort(feed_dict)"
   ]
  },
  {
   "cell_type": "code",
   "execution_count": 10,
   "metadata": {},
   "outputs": [],
   "source": [
    "def sgd_update(trainables, learning_rate=1e-2):\n",
    "    for t in trainables:\n",
    "        t.value += -1 * learning_rate * t.gradients[t]"
   ]
  },
  {
   "cell_type": "code",
   "execution_count": 11,
   "metadata": {},
   "outputs": [],
   "source": [
    "from sklearn.datasets import load_boston\n",
    "data = load_boston()\n",
    "losses = []"
   ]
  },
  {
   "cell_type": "code",
   "execution_count": 12,
   "metadata": {},
   "outputs": [
    {
     "name": "stdout",
     "output_type": "stream",
     "text": [
      "Total number of examples = 506\n",
      "Epoch: 1, Loss: 200.702\n",
      "Epoch: 101, Loss: 6.822\n",
      "Epoch: 201, Loss: 4.840\n",
      "Epoch: 301, Loss: 4.556\n",
      "Epoch: 401, Loss: 4.094\n",
      "Epoch: 501, Loss: 4.060\n",
      "Epoch: 601, Loss: 3.765\n",
      "Epoch: 701, Loss: 5.129\n",
      "Epoch: 801, Loss: 4.391\n",
      "Epoch: 901, Loss: 3.705\n",
      "Epoch: 1001, Loss: 3.497\n",
      "Epoch: 1101, Loss: 3.677\n",
      "Epoch: 1201, Loss: 3.989\n",
      "Epoch: 1301, Loss: 3.790\n",
      "Epoch: 1401, Loss: 3.223\n",
      "Epoch: 1501, Loss: 3.189\n",
      "Epoch: 1601, Loss: 3.871\n",
      "Epoch: 1701, Loss: 3.151\n",
      "Epoch: 1801, Loss: 2.782\n",
      "Epoch: 1901, Loss: 3.336\n",
      "Epoch: 2001, Loss: 2.836\n",
      "Epoch: 2101, Loss: 3.037\n",
      "Epoch: 2201, Loss: 3.052\n",
      "Epoch: 2301, Loss: 3.183\n",
      "Epoch: 2401, Loss: 3.121\n",
      "Epoch: 2501, Loss: 2.851\n",
      "Epoch: 2601, Loss: 3.008\n",
      "Epoch: 2701, Loss: 2.448\n",
      "Epoch: 2801, Loss: 2.954\n",
      "Epoch: 2901, Loss: 2.783\n",
      "Epoch: 3001, Loss: 2.799\n",
      "Epoch: 3101, Loss: 2.695\n",
      "Epoch: 3201, Loss: 2.567\n",
      "Epoch: 3301, Loss: 3.115\n",
      "Epoch: 3401, Loss: 2.515\n",
      "Epoch: 3501, Loss: 2.648\n",
      "Epoch: 3601, Loss: 3.185\n",
      "Epoch: 3701, Loss: 2.511\n",
      "Epoch: 3801, Loss: 2.796\n",
      "Epoch: 3901, Loss: 2.582\n",
      "Epoch: 4001, Loss: 2.938\n",
      "Epoch: 4101, Loss: 2.863\n",
      "Epoch: 4201, Loss: 2.557\n",
      "Epoch: 4301, Loss: 2.641\n",
      "Epoch: 4401, Loss: 2.790\n",
      "Epoch: 4501, Loss: 2.730\n",
      "Epoch: 4601, Loss: 2.502\n",
      "Epoch: 4701, Loss: 2.633\n",
      "Epoch: 4801, Loss: 2.584\n",
      "Epoch: 4901, Loss: 2.620\n"
     ]
    }
   ],
   "source": [
    "from sklearn.utils import shuffle, resample\n",
    "\n",
    "X_ = data['data']\n",
    "y_ = data['target']\n",
    "\n",
    "# Normalize data\n",
    "X_ = (X_ - np.mean(X_, axis=0)) / np.std(X_, axis=0)\n",
    "\n",
    "n_features = X_.shape[1]\n",
    "n_hidden = 10\n",
    "W1_ = np.random.randn(n_features, n_hidden)\n",
    "b1_ = np.zeros(n_hidden)\n",
    "W2_ = np.random.randn(n_hidden, 1)\n",
    "b2_ = np.zeros(1)\n",
    "\n",
    "# Neural network\n",
    "X, y = Input(), Input()\n",
    "W1, b1 = Input(), Input()\n",
    "W2, b2 = Input(), Input()\n",
    "\n",
    "l1 = Linear(X, W1, b1)\n",
    "s1 = Sigmoid(l1)\n",
    "l2 = Linear(s1, W2, b2)\n",
    "cost = MSE(y, l2)\n",
    "\n",
    "feed_dict = {\n",
    "    X: X_,\n",
    "    y: y_,\n",
    "    W1: W1_,\n",
    "    b1: b1_,\n",
    "    W2: W2_,\n",
    "    b2: b2_\n",
    "}\n",
    "# print(feed_dict)\n",
    "epochs = 5000\n",
    "# Total number of examples\n",
    "m = X_.shape[0]\n",
    "batch_size = 16\n",
    "steps_per_epoch = m // batch_size\n",
    "\n",
    "graph = topological_sort(feed_dict)\n",
    "# print(graph)\n",
    "trainables = [W1, b1, W2, b2]\n",
    "\n",
    "print(\"Total number of examples = {}\".format(m))\n",
    "\n",
    "# Step 4\n",
    "for i in range(epochs):\n",
    "    loss = 0\n",
    "    for j in range(steps_per_epoch):\n",
    "        # Step 1\n",
    "        # Randomly sample a batch of examples\n",
    "        X_batch, y_batch = resample(X_, y_, n_samples=batch_size)\n",
    "\n",
    "        # Reset value of X and y Inputs\n",
    "        X.value = X_batch\n",
    "        y.value = y_batch\n",
    "\n",
    "        # Step 2\n",
    "        _ = None\n",
    "        forward_and_backward(_, graph) # set output node not important.\n",
    "\n",
    "        # Step 3\n",
    "        rate = 1e-2\n",
    "    \n",
    "        sgd_update(trainables, rate)\n",
    "\n",
    "        loss += graph[-1].value\n",
    "    \n",
    "    if i % 100 == 0: \n",
    "        print(\"Epoch: {}, Loss: {:.3f}\".format(i+1, loss/steps_per_epoch))\n",
    "        losses.append(loss)"
   ]
  },
  {
   "cell_type": "markdown",
   "metadata": {},
   "source": [
    "### 2. 回答一下理论题目"
   ]
  },
  {
   "cell_type": "markdown",
   "metadata": {},
   "source": [
    "#### 1. What does a neuron compute?"
   ]
  },
  {
   "cell_type": "markdown",
   "metadata": {},
   "source": [
    "Ans: A neuron firstly computes linear weighted values with inputs and weights (plus constant values), then a activation function will take the value to perform a non-linear transformation to get an output value."
   ]
  },
  {
   "cell_type": "markdown",
   "metadata": {},
   "source": [
    "####  2. Why we use non-linear activation funcitons in neural networks?"
   ]
  },
  {
   "cell_type": "markdown",
   "metadata": {},
   "source": [
    "Ans: Without non-linear functions, there are only linear functions in neural networks, which would lead to a condition that we can in fact use a linear function to finish whole computation and the number of hidden layers has nothing to do with the final outputs."
   ]
  },
  {
   "cell_type": "markdown",
   "metadata": {},
   "source": [
    "#### 3. What is the 'Logistic Loss' ?"
   ]
  },
  {
   "cell_type": "markdown",
   "metadata": {},
   "source": [
    "Ans: It's used to measure the difference between transformed values and actual values in the sigmoid function."
   ]
  },
  {
   "cell_type": "markdown",
   "metadata": {},
   "source": [
    "$$ Loss = -\\sum{ylog\\hat{y} + (1-y)log(1-\\hat{y})} $$\n",
    "    (Suppose: y is the actual value; y_hat is the transformed value.)"
   ]
  },
  {
   "cell_type": "markdown",
   "metadata": {},
   "source": [
    "#### 4. Assume that you are building a binary classifier for detecting if an image containing cats, which activation functions would you recommend using for the output layer ?\n",
    "\n",
    "A. ReLU    \n",
    "B. Leaky ReLU    \n",
    "C. sigmoid    \n",
    "D. tanh  "
   ]
  },
  {
   "cell_type": "markdown",
   "metadata": {},
   "source": [
    "    Both sigmoid and tanh functions have advantages that they are continous and derivable in the real number region, while their disadvantages are that their decent rate can be very slow when the x is very large or small, that would lead to slow convergence. \n",
    "\n",
    "    Due to such disadvantages, the ReLU is used because it has a constant derivate, although it's not deriavted in the 0 and it's derivate is 0 when x is less than 0. And Leaky ReLU further amends shortcomings, and also have a constant derivate in the region from negative infinite to 0. Both of ReLU and Leaky ReLU make the convergence rate stable and not slow.\n",
    "\n",
    "    Taken all of that, I recommend sigmoid or tanh when the input x is small, while it's Leaky ReLU when x is large. In fact, the Leaky ReLU is used more universally due to its better performance. "
   ]
  },
  {
   "cell_type": "markdown",
   "metadata": {},
   "source": [
    "#### 5. Why we don't use zero initialization for all parameters ?"
   ]
  },
  {
   "cell_type": "markdown",
   "metadata": {},
   "source": [
    "Ans: If we use zero initialization for all parameters, then during the parameters update, we will get same parameters for the neurons in the same hidden layer, which means that the large numbers of neurons are meaningless."
   ]
  },
  {
   "cell_type": "markdown",
   "metadata": {},
   "source": [
    "#### 6. Can you implement the softmax function using python ? "
   ]
  },
  {
   "cell_type": "markdown",
   "metadata": {},
   "source": [
    "Ans: Yes, I can. When it comes to multiple classification, we use softmax function to compute the probability of a thing belonging to one type, then we consider the type with the largest probability is the true type. In the function, we first use the exponential function to transform probability, then we normalize these transformed probability by dividing the sum of transformed probability, then use the following formula to compute."
   ]
  },
  {
   "cell_type": "markdown",
   "metadata": {},
   "source": [
    "$$ S_j = \\frac{e^{aj}}{\\sum{e^{ak}}} $$\n",
    "$$ L = -\\sum\\limits_{j=1}^{m}{y_jlogS_j} $$"
   ]
  },
  {
   "cell_type": "markdown",
   "metadata": {},
   "source": [
    "### 3.实践题"
   ]
  },
  {
   "cell_type": "markdown",
   "metadata": {},
   "source": [
    "#### In this practical part, you will build a simple digits recognizer to check if the digit in the image is larger than 5. This assignmnet will guide you step by step to finish your first small project in this course ."
   ]
  },
  {
   "cell_type": "markdown",
   "metadata": {},
   "source": [
    "#### 1 - Packages  \n",
    "sklearn is a famous package for machine learning.   \n",
    "matplotlib is a common package for vasualization."
   ]
  },
  {
   "cell_type": "code",
   "execution_count": 14,
   "metadata": {},
   "outputs": [
    {
     "name": "stderr",
     "output_type": "stream",
     "text": [
      "/Users/wangqin/anaconda2/envs/py36/lib/python3.6/importlib/_bootstrap.py:219: RuntimeWarning: numpy.ufunc size changed, may indicate binary incompatibility. Expected 192 from C header, got 216 from PyObject\n",
      "  return f(*args, **kwds)\n"
     ]
    }
   ],
   "source": [
    "from sklearn import datasets\n",
    "import matplotlib.pyplot as plt\n",
    "from sklearn.model_selection import train_test_split"
   ]
  },
  {
   "cell_type": "markdown",
   "metadata": {},
   "source": [
    "#### 2 - Overvie of the dataset  \n",
    "    - a training set has m_train images labeled as 0 if the digit < 5 or 1 if the digit >= 5\n",
    "    - a test set contains m_test images labels as if the digit < 5 or 1 if the digit >= 5\n",
    "    - eah image if of shape (num_px, num_px ). Thus, each image is square(height=num_px and  width = num_px)"
   ]
  },
  {
   "cell_type": "code",
   "execution_count": 23,
   "metadata": {},
   "outputs": [
    {
     "data": {
      "text/plain": [
       "{'data': array([[ 0.,  0.,  5., ...,  0.,  0.,  0.],\n",
       "        [ 0.,  0.,  0., ..., 10.,  0.,  0.],\n",
       "        [ 0.,  0.,  0., ..., 16.,  9.,  0.],\n",
       "        ...,\n",
       "        [ 0.,  0.,  1., ...,  6.,  0.,  0.],\n",
       "        [ 0.,  0.,  2., ..., 12.,  0.,  0.],\n",
       "        [ 0.,  0., 10., ..., 12.,  1.,  0.]]),\n",
       " 'target': array([0, 1, 2, ..., 8, 9, 8]),\n",
       " 'target_names': array([0, 1, 2, 3, 4, 5, 6, 7, 8, 9]),\n",
       " 'images': array([[[ 0.,  0.,  5., ...,  1.,  0.,  0.],\n",
       "         [ 0.,  0., 13., ..., 15.,  5.,  0.],\n",
       "         [ 0.,  3., 15., ..., 11.,  8.,  0.],\n",
       "         ...,\n",
       "         [ 0.,  4., 11., ..., 12.,  7.,  0.],\n",
       "         [ 0.,  2., 14., ..., 12.,  0.,  0.],\n",
       "         [ 0.,  0.,  6., ...,  0.,  0.,  0.]],\n",
       " \n",
       "        [[ 0.,  0.,  0., ...,  5.,  0.,  0.],\n",
       "         [ 0.,  0.,  0., ...,  9.,  0.,  0.],\n",
       "         [ 0.,  0.,  3., ...,  6.,  0.,  0.],\n",
       "         ...,\n",
       "         [ 0.,  0.,  1., ...,  6.,  0.,  0.],\n",
       "         [ 0.,  0.,  1., ...,  6.,  0.,  0.],\n",
       "         [ 0.,  0.,  0., ..., 10.,  0.,  0.]],\n",
       " \n",
       "        [[ 0.,  0.,  0., ..., 12.,  0.,  0.],\n",
       "         [ 0.,  0.,  3., ..., 14.,  0.,  0.],\n",
       "         [ 0.,  0.,  8., ..., 16.,  0.,  0.],\n",
       "         ...,\n",
       "         [ 0.,  9., 16., ...,  0.,  0.,  0.],\n",
       "         [ 0.,  3., 13., ..., 11.,  5.,  0.],\n",
       "         [ 0.,  0.,  0., ..., 16.,  9.,  0.]],\n",
       " \n",
       "        ...,\n",
       " \n",
       "        [[ 0.,  0.,  1., ...,  1.,  0.,  0.],\n",
       "         [ 0.,  0., 13., ...,  2.,  1.,  0.],\n",
       "         [ 0.,  0., 16., ..., 16.,  5.,  0.],\n",
       "         ...,\n",
       "         [ 0.,  0., 16., ..., 15.,  0.,  0.],\n",
       "         [ 0.,  0., 15., ..., 16.,  0.,  0.],\n",
       "         [ 0.,  0.,  2., ...,  6.,  0.,  0.]],\n",
       " \n",
       "        [[ 0.,  0.,  2., ...,  0.,  0.,  0.],\n",
       "         [ 0.,  0., 14., ..., 15.,  1.,  0.],\n",
       "         [ 0.,  4., 16., ..., 16.,  7.,  0.],\n",
       "         ...,\n",
       "         [ 0.,  0.,  0., ..., 16.,  2.,  0.],\n",
       "         [ 0.,  0.,  4., ..., 16.,  2.,  0.],\n",
       "         [ 0.,  0.,  5., ..., 12.,  0.,  0.]],\n",
       " \n",
       "        [[ 0.,  0., 10., ...,  1.,  0.,  0.],\n",
       "         [ 0.,  2., 16., ...,  1.,  0.,  0.],\n",
       "         [ 0.,  0., 15., ..., 15.,  0.,  0.],\n",
       "         ...,\n",
       "         [ 0.,  4., 16., ..., 16.,  6.,  0.],\n",
       "         [ 0.,  8., 16., ..., 16.,  8.,  0.],\n",
       "         [ 0.,  1.,  8., ..., 12.,  1.,  0.]]]),\n",
       " 'DESCR': \".. _digits_dataset:\\n\\nOptical recognition of handwritten digits dataset\\n--------------------------------------------------\\n\\n**Data Set Characteristics:**\\n\\n    :Number of Instances: 5620\\n    :Number of Attributes: 64\\n    :Attribute Information: 8x8 image of integer pixels in the range 0..16.\\n    :Missing Attribute Values: None\\n    :Creator: E. Alpaydin (alpaydin '@' boun.edu.tr)\\n    :Date: July; 1998\\n\\nThis is a copy of the test set of the UCI ML hand-written digits datasets\\nhttps://archive.ics.uci.edu/ml/datasets/Optical+Recognition+of+Handwritten+Digits\\n\\nThe data set contains images of hand-written digits: 10 classes where\\neach class refers to a digit.\\n\\nPreprocessing programs made available by NIST were used to extract\\nnormalized bitmaps of handwritten digits from a preprinted form. From a\\ntotal of 43 people, 30 contributed to the training set and different 13\\nto the test set. 32x32 bitmaps are divided into nonoverlapping blocks of\\n4x4 and the number of on pixels are counted in each block. This generates\\nan input matrix of 8x8 where each element is an integer in the range\\n0..16. This reduces dimensionality and gives invariance to small\\ndistortions.\\n\\nFor info on NIST preprocessing routines, see M. D. Garris, J. L. Blue, G.\\nT. Candela, D. L. Dimmick, J. Geist, P. J. Grother, S. A. Janet, and C.\\nL. Wilson, NIST Form-Based Handprint Recognition System, NISTIR 5469,\\n1994.\\n\\n.. topic:: References\\n\\n  - C. Kaynak (1995) Methods of Combining Multiple Classifiers and Their\\n    Applications to Handwritten Digit Recognition, MSc Thesis, Institute of\\n    Graduate Studies in Science and Engineering, Bogazici University.\\n  - E. Alpaydin, C. Kaynak (1998) Cascading Classifiers, Kybernetika.\\n  - Ken Tang and Ponnuthurai N. Suganthan and Xi Yao and A. Kai Qin.\\n    Linear dimensionalityreduction using relevance weighted LDA. School of\\n    Electrical and Electronic Engineering Nanyang Technological University.\\n    2005.\\n  - Claudio Gentile. A New Approximate Maximal Margin Classification\\n    Algorithm. NIPS. 2000.\"}"
      ]
     },
     "execution_count": 23,
     "metadata": {},
     "output_type": "execute_result"
    }
   ],
   "source": [
    "# Loading the data \n",
    "digits = datasets.load_digits()\n",
    "digits.data[1]#.shape\n",
    "# digits['DESCR']\n",
    "# digits.column_names\n",
    "digits"
   ]
  },
  {
   "cell_type": "code",
   "execution_count": 41,
   "metadata": {},
   "outputs": [
    {
     "data": {
      "image/png": "[encoded data removed]",
      "text/plain": [
       "<Figure size 432x288 with 10 Axes>"
      ]
     },
     "metadata": {},
     "output_type": "display_data"
    }
   ],
   "source": [
    "# Vilizating the data\n",
    "for i in range(1,11):\n",
    "    plt.subplot(2,5,i)\n",
    "    plt.imshow(digits.data[i-1].reshape([8,8]),cmap='gray_r')#plt.cm.gray_r)\n",
    "    plt.text(3,10,str(digits.target[i-1]))\n",
    "    plt.xticks([])\n",
    "    plt.yticks([])\n",
    "plt.show()"
   ]
  },
  {
   "cell_type": "code",
   "execution_count": 44,
   "metadata": {},
   "outputs": [
    {
     "data": {
      "text/plain": [
       "array([8, 3, 4, 0, 5, 3, 5, 4, 2, 3, 8, 4, 0, 5, 7, 4, 1, 7, 1, 7, 2, 3,\n",
       "       0, 9, 8, 2, 5, 6, 4, 1, 6, 4, 5, 5, 4, 8, 1, 1, 6, 5, 9, 3, 4, 7,\n",
       "       8, 7, 5, 0, 1, 3, 4, 4, 7, 8, 1, 2, 6, 0, 0, 5, 4, 7, 1, 6, 1, 2,\n",
       "       1, 2, 5, 1, 3, 8, 8, 6, 8, 6, 8, 4, 4, 3, 0, 6, 4, 5, 8, 0, 6, 5,\n",
       "       0, 7, 1, 2, 9, 1, 4, 8, 6, 9, 2, 0, 7, 4, 6, 5, 6, 4, 0, 2, 2, 6,\n",
       "       9, 9, 5, 2, 7, 6, 4, 0, 0, 6, 2, 1, 7, 3, 5, 9, 5, 2, 4, 5, 5, 1,\n",
       "       2, 5, 7, 6, 2, 3, 3, 9, 2, 9, 0, 7, 6, 7, 1, 7, 6, 7, 1, 2, 5, 8,\n",
       "       3, 9, 0, 1, 3, 8, 5, 2, 5, 0, 6, 5, 6, 9, 0, 7, 5, 5, 9, 6, 5, 4,\n",
       "       1, 9, 7, 3, 3, 2, 2, 5, 4, 5, 7, 9, 8, 7, 1, 3, 3, 0, 8, 5, 2, 7,\n",
       "       4, 8, 7, 5, 3, 3, 5, 0, 7, 6, 4, 4, 1, 8, 2, 7, 6, 9, 7, 6, 1, 9,\n",
       "       8, 7, 4, 1, 4, 9, 3, 6, 2, 3, 4, 1, 3, 9, 2, 3, 8, 7, 9, 0, 1, 8,\n",
       "       8, 3, 7, 0, 7, 2, 2, 7, 3, 2, 9, 2, 2, 0, 9, 9, 8, 6, 3, 0, 6, 8,\n",
       "       3, 9, 3, 0, 0, 4, 4, 8, 2, 6, 9, 8, 0, 5, 7, 4, 2, 2, 3, 1, 5, 8,\n",
       "       2, 7, 5, 0, 7, 9, 0, 2, 1, 7, 6, 9, 5, 7, 8, 1, 9, 8, 5, 5, 6, 0,\n",
       "       2, 6, 7, 2, 3, 5, 8, 3, 3, 9, 3, 2, 5, 4, 0, 2, 1, 5, 6, 6, 0, 6,\n",
       "       6, 2, 1, 5, 5, 3, 1, 7, 6, 5, 6, 2, 9, 8, 7, 0, 6, 2, 9, 1, 0, 0,\n",
       "       2, 6, 1, 7, 3, 9, 2, 4, 0, 1, 6, 7, 2, 8, 9, 6, 3, 5, 6, 5, 4, 3,\n",
       "       8, 0, 7, 7, 4, 7, 2, 4, 2, 3, 3, 6, 3, 8, 0, 7, 6, 1, 7, 3, 9, 1,\n",
       "       2, 3, 3, 8, 1, 5, 6, 4, 9, 5, 8, 7, 1, 5, 0, 0, 9, 1, 3, 2, 5, 7,\n",
       "       0, 5, 0, 8, 0, 4, 1, 1, 8, 4, 3, 9, 2, 6, 9, 7, 1, 5, 3, 1, 7, 2,\n",
       "       7, 4, 5, 9, 7, 1, 1, 8, 5, 8])"
      ]
     },
     "execution_count": 44,
     "metadata": {},
     "output_type": "execute_result"
    }
   ],
   "source": [
    "# Split the data into training set and test set \n",
    "X_train, X_test, y_train, y_test = train_test_split(digits.data, digits.target, test_size=0.25)\n",
    "# print(X_train.shape)\n",
    "# X_test.shape\n",
    "y_test"
   ]
  },
  {
   "cell_type": "code",
   "execution_count": 45,
   "metadata": {},
   "outputs": [],
   "source": [
    "# reformulate the label. \n",
    "# If the digit is smaller than 5, the label is 0.\n",
    "# If the digit is larger than 5, the label is 1.\n",
    "\n",
    "y_train[y_train < 5 ] = 0\n",
    "y_train[y_train >= 5] = 1\n",
    "y_test[y_test < 5] = 0\n",
    "y_test[y_test >= 5] = 1"
   ]
  },
  {
   "cell_type": "code",
   "execution_count": 46,
   "metadata": {},
   "outputs": [
    {
     "name": "stdout",
     "output_type": "stream",
     "text": [
      "(1347, 64)\n",
      "(450, 64)\n",
      "(1347,)\n",
      "(450,)\n"
     ]
    }
   ],
   "source": [
    "print(X_train.shape)\n",
    "print(X_test.shape)\n",
    "print(y_train.shape)\n",
    "print(y_test.shape)"
   ]
  },
  {
   "cell_type": "markdown",
   "metadata": {},
   "source": [
    "#### 3- Architecture of the neural network"
   ]
  },
  {
   "cell_type": "markdown",
   "metadata": {},
   "source": [
    "![title](network.png)"
   ]
  },
  {
   "cell_type": "code",
   "execution_count": 47,
   "metadata": {},
   "outputs": [
    {
     "name": "stdout",
     "output_type": "stream",
     "text": [
      "/Users/wangqin/Downloads/jupyters_and_slides/jupyters_and_slides-master/2019-autumn/Lecture_NLP/4th\r\n"
     ]
    }
   ],
   "source": [
    "!pwd"
   ]
  },
  {
   "cell_type": "markdown",
   "metadata": {},
   "source": [
    "##### Mathematical expression of the algorithm:"
   ]
  },
  {
   "cell_type": "markdown",
   "metadata": {},
   "source": [
    "For one example $x^{(i)}$:   \n",
    " $$ z^{(i)} = w^T * x^{(i)} +b $$   \n",
    " $$ y^{(i)} = a^{(i)} = sigmoid(z^{(i)})$$   \n",
    " $$L(a^{(i)},y^{(i)}) = -y^{(i)} log(a^{(i)})-(1-y^{(i)})log(1-a^{(i)})$$"
   ]
  },
  {
   "cell_type": "markdown",
   "metadata": {},
   "source": [
    "The total cost over all training examples:\n",
    "$$ J = \\frac{1}{m}\\sum_{i=1}^{m}L(a^{(i)},y^{(i)}) $$"
   ]
  },
  {
   "cell_type": "markdown",
   "metadata": {},
   "source": [
    "#### 4 - Building the algorithm"
   ]
  },
  {
   "cell_type": "markdown",
   "metadata": {},
   "source": [
    "##### 4.1- Activation function    \n",
    "###### Exercise:\n",
    "Finish the sigmoid funciton "
   ]
  },
  {
   "cell_type": "code",
   "execution_count": 49,
   "metadata": {},
   "outputs": [],
   "source": [
    "def sigmoid(z):\n",
    "    '''\n",
    "    Compute the sigmoid of z\n",
    "    Arguments: z -- a scalar or numpy array of any size.\n",
    "    \n",
    "    Return:\n",
    "    s -- sigmoid(z)\n",
    "    '''\n",
    "    s = 1. / (1 + np.exp(-np.array(z, dtype=float))) # using np.array to assure z \n",
    "    \n",
    "    return s"
   ]
  },
  {
   "cell_type": "code",
   "execution_count": 50,
   "metadata": {},
   "outputs": [
    {
     "name": "stdout",
     "output_type": "stream",
     "text": [
      "sigmoid([0,2]) = [0.5        0.88079708]\n"
     ]
    }
   ],
   "source": [
    "# Test your code \n",
    "# The result should be [0.5 0.88079708]\n",
    "print(\"sigmoid([0,2]) = \" + str(sigmoid(np.array([0,2]))))"
   ]
  },
  {
   "cell_type": "markdown",
   "metadata": {},
   "source": [
    "##### 4.1-Initializaing parameters\n",
    "###### Exercise:\n",
    "Finishe the initialize_parameters function below"
   ]
  },
  {
   "cell_type": "code",
   "execution_count": 54,
   "metadata": {},
   "outputs": [
    {
     "data": {
      "text/plain": [
       "array([[ 0.44392646],\n",
       "       [-0.340871  ],\n",
       "       [-0.6857288 ],\n",
       "       [-0.9484141 ],\n",
       "       [ 0.83237931],\n",
       "       [-0.1339836 ],\n",
       "       [ 1.27991369],\n",
       "       [-1.76297707],\n",
       "       [-0.45382971],\n",
       "       [ 2.22644414]])"
      ]
     },
     "execution_count": 54,
     "metadata": {},
     "output_type": "execute_result"
    }
   ],
   "source": [
    "# Random innitialize the parameters\n",
    "# import random\n",
    "def initialize_parameters(dim):\n",
    "    '''\n",
    "    Argument: dim -- size of the w vector\n",
    "    \n",
    "    Returns:\n",
    "    w -- initialized vector of shape (dim,1)\n",
    "    b -- initializaed scalar\n",
    "    '''\n",
    "    \n",
    "    w = np.random.randn(dim, 1)\n",
    "    b = np.random.ranf()\n",
    "    \n",
    "    assert(w.shape == (dim,1))\n",
    "    assert(isinstance(b,float) or isinstance(b,int))\n",
    "    \n",
    "    return w,b\n",
    "\n",
    "## test function\n",
    "initialize_parameters(10)[0]#.shape"
   ]
  },
  {
   "cell_type": "markdown",
   "metadata": {},
   "source": [
    "#### 4.3-Forward and backward propagation"
   ]
  },
  {
   "cell_type": "markdown",
   "metadata": {},
   "source": [
    "###### Some mathematical expressions\n",
    "Forward Propagation:   \n",
    ". X    \n",
    ". A = $\\sigma(w^T*X+b) = (a^{(1)},a^{(2)},...,a^{(m)}$   \n",
    ". J = $-\\frac{1}{m} \\sum_{i=1}^{m}y^{(i)}log(a^{(i)}+(1-y^{(i)})log(1-a^{(i)})$       "
   ]
  },
  {
   "cell_type": "markdown",
   "metadata": {},
   "source": [
    "Some derivative: \n",
    "$$\\frac{\\partial{J}}{\\partial{w}} = \\frac{1}{m}X*(A-Y)^T$$   \n",
    "$$\\frac{\\partial{J}}{\\partial{b}} = \\frac{1}{m}\\sum_{i=1}^m(a^{(i)}-y^{(i)}) $$"
   ]
  },
  {
   "cell_type": "markdown",
   "metadata": {},
   "source": [
    "###### Exercise:\n",
    "Finish the function below:"
   ]
  },
  {
   "cell_type": "code",
   "execution_count": 97,
   "metadata": {},
   "outputs": [
    {
     "data": {
      "text/plain": [
       "({'dw': array([[ 0.00000000e+00],\n",
       "         [ 1.21928442e+00],\n",
       "         [ 1.05162804e+01],\n",
       "         [ 2.51670020e+01],\n",
       "         [ 8.25876159e+00],\n",
       "         [-1.61014817e+01],\n",
       "         [-1.05928762e+01],\n",
       "         [-1.45276286e+00],\n",
       "         [ 1.20044476e-05],\n",
       "         [ 5.51934469e+00],\n",
       "         [ 1.87755144e+01],\n",
       "         [ 2.08568671e+01],\n",
       "         [ 1.31361391e+01],\n",
       "         [ 5.00090434e+00],\n",
       "         [-8.21118989e+00],\n",
       "         [-1.48242263e+00],\n",
       "         [ 1.56309241e-02],\n",
       "         [ 8.22298307e+00],\n",
       "         [ 1.38821962e+01],\n",
       "         [ 2.39787262e+00],\n",
       "         [ 1.04148591e+01],\n",
       "         [ 1.20393561e+01],\n",
       "         [ 9.82237692e-01],\n",
       "         [-2.96790303e-01],\n",
       "         [ 1.64558614e-02],\n",
       "         [ 9.53022430e+00],\n",
       "         [ 4.60975523e+00],\n",
       "         [-2.05337481e+01],\n",
       "         [-7.59672254e+00],\n",
       "         [-1.28781496e+00],\n",
       "         [ 8.11444703e+00],\n",
       "         [ 1.56248438e-02],\n",
       "         [ 0.00000000e+00],\n",
       "         [ 1.69174044e+01],\n",
       "         [ 2.10144055e+01],\n",
       "         [ 8.19188475e+00],\n",
       "         [ 3.28422648e+00],\n",
       "         [-7.92733822e+00],\n",
       "         [ 5.53796936e+00],\n",
       "         [ 0.00000000e+00],\n",
       "         [ 1.23256782e-02],\n",
       "         [ 1.22591388e+01],\n",
       "         [ 4.27703965e+01],\n",
       "         [ 3.00737290e+01],\n",
       "         [ 6.37126645e+00],\n",
       "         [-3.76195022e+00],\n",
       "         [-8.44211541e-02],\n",
       "         [-9.47333837e-02],\n",
       "         [ 1.87064154e-02],\n",
       "         [ 3.50830258e+00],\n",
       "         [ 3.80984986e+01],\n",
       "         [ 3.35310694e+01],\n",
       "         [ 2.02974082e+01],\n",
       "         [ 8.14519352e+00],\n",
       "         [ 3.40365716e+00],\n",
       "         [ 3.20937502e-01],\n",
       "         [ 5.87288113e-11],\n",
       "         [ 1.47391893e+00],\n",
       "         [ 1.21896207e+01],\n",
       "         [ 2.33266792e+01],\n",
       "         [ 1.34837090e+01],\n",
       "         [ 5.11868085e+00],\n",
       "         [ 6.85042327e+00],\n",
       "         [ 1.52852384e+00]]), 'db': 1.2566021066857371}, 368343.6499963927)"
      ]
     },
     "execution_count": 97,
     "metadata": {},
     "output_type": "execute_result"
    }
   ],
   "source": [
    "def propagate(w,b,X,Y):\n",
    "    '''\n",
    "    Implement the cost function and its gradient for the propagation\n",
    "    \n",
    "    Arguments:\n",
    "    w - weights\n",
    "    b - bias\n",
    "    X - data\n",
    "    Y - ground truth\n",
    "    '''\n",
    "    m = X.shape[1]\n",
    "#     X = (X - np.nanmean(X, axis=0)) / np.nanstd(X, axis=0)\n",
    "#     return X\n",
    "    A = sigmoid(np.dot(X, w) + b) #np.array(b, dtype=float))\n",
    "#     A = np.array\n",
    "\n",
    "    A_2 = A\n",
    "    for i in range(A_2.shape[0]): ## adjust value to avoid log0\n",
    "        if A_2[i][0] == 1:\n",
    "            A[i][0] = 0.999999999\n",
    "        elif A_2[i][0] == 0:\n",
    "            A[i][0] = 1e-10\n",
    "    \n",
    "#     return A.shape#[0][0]\n",
    "#     return A.shape\n",
    "#     return np.log(A)\n",
    "#     return np.dot(X, w) + b\n",
    "#     cost = (-1. / m) * (np.dot(Y.T, np.log(A)) + np.dot(1. - Y.T, np.log(1. - A)))\n",
    "    cost = (-1. / m) * np.sum(np.dot(np.log(A), Y.T) + np.dot(np.log(1. - A), 1. - Y.T))\n",
    "#     return (A - Y).shape\n",
    "    dw = (1 / m) * np.dot(X.T, np.subtract(A, Y))\n",
    "    db = (1 / m) * np.sum(np.subtract(A, Y))\n",
    "#     return dw.shape\n",
    "    assert(dw.shape == w.shape)\n",
    "    assert(db.dtype == float)\n",
    "    cost = np.squeeze(cost)\n",
    "    assert(cost.shape == ())\n",
    "    \n",
    "    grads = {'dw':dw,\n",
    "             'db':db}\n",
    "    return grads, cost\n",
    "\n",
    "## test function\n",
    "np.random.seed(1000) # set seed to maintain same random results\n",
    "\n",
    "n = X_train.shape[0]\n",
    "m = X_train.shape[1]\n",
    "\n",
    "init_parameters = initialize_parameters(m)\n",
    "init_w = init_parameters[0]\n",
    "init_b = init_parameters[1]\n",
    "# print(X_train.shape)\n",
    "# print(y_train.reshape(n,-1).shape)\n",
    "# print(init_w.shape)\n",
    "# print(init_b)\n",
    "propagate(init_w, init_b, X_train, y_train.reshape(n,-1))"
   ]
  },
  {
   "cell_type": "markdown",
   "metadata": {},
   "source": [
    "##### 4.4 -Optimization"
   ]
  },
  {
   "cell_type": "markdown",
   "metadata": {},
   "source": [
    "###### Exercise:\n",
    "Minimizing the cost function using gradient descent.   \n",
    "$$\\theta = \\theta - \\alpha*d\\theta$$ where $\\alpha$ is the learning rate."
   ]
  },
  {
   "cell_type": "code",
   "execution_count": 104,
   "metadata": {},
   "outputs": [],
   "source": [
    "def optimize(w, b, X, Y, num_iterations, learning_rate, print_cost=False):\n",
    "    '''\n",
    "    This function optimize w and b by running a gradient descen algorithm\n",
    "    \n",
    "    Arguments:\n",
    "    w - weights\n",
    "    b - bias\n",
    "    X - data\n",
    "    Y - ground truth\n",
    "    num_iterations -- number of iterations of the optimization loop\n",
    "    learning_rate -- learning rate of the gradient descent update rule\n",
    "    print_cost -- True to print the loss every 100 steps\n",
    "    \n",
    "    Returns:\n",
    "    params - dictionary containing the weights w and bias b\n",
    "    grads -- dictionary containing the gradients of the weights and bias with respect to the cost function\n",
    "    costs -- list of all the costs computed during the optimization, this will be used to plot the learning curve.\n",
    "    \n",
    "    '''\n",
    "    \n",
    "    costs = []\n",
    "    \n",
    "    for i in range(num_iterations):\n",
    "        \n",
    "        grads, cost = propagate(w, b, X, Y)\n",
    "        \n",
    "        dw = grads['dw']\n",
    "        db = grads['db']\n",
    "        \n",
    "        w = w - learning_rate * dw\n",
    "        b = b - learning_rate * db\n",
    "        \n",
    "        if i % 100 == 0:\n",
    "            costs.append(cost)\n",
    "        if print_cost and i % 100 == 0:\n",
    "            print (\"Cost after iteration %i: %f\" %(i, cost))\n",
    "    \n",
    "    params = {\"w\":w,\n",
    "              \"b\":b}\n",
    "    \n",
    "    grads = {\"dw\":dw,\n",
    "             \"db\":db}\n",
    "    \n",
    "    return params, grads, costs\n",
    "\n",
    "## test function\n",
    "np.random.seed(1000) # set seed to maintain same random results\n",
    "\n",
    "n = X_train.shape[0]\n",
    "m = X_train.shape[1]\n",
    "\n",
    "init_parameters = initialize_parameters(m)\n",
    "init_w = init_parameters[0]\n",
    "init_b = init_parameters[1]\n",
    "last_param = optimize(init_w, init_b, X_train, y_train.reshape(n, -1), 10000, 1e-3)"
   ]
  },
  {
   "cell_type": "markdown",
   "metadata": {},
   "source": [
    "###### Exercise\n",
    "The previous function will output the learned w and b. We are able to use w and b to predict the labels for a dataset X. Implement the predict() function.    \n",
    "Two steps to finish this task:   \n",
    "1. Calculate $\\hat{Y} = A = \\sigma(w^T*X+b)$   \n",
    "2. Convert the entries of a into 0 (if activation <= 0.5) or 1 (if activation > 0.5), stores the predictions in a vector Y_prediction. If you wish, you can use an if/else statement in a for loop (though there is also a way to vectorize this)."
   ]
  },
  {
   "cell_type": "code",
   "execution_count": 111,
   "metadata": {},
   "outputs": [
    {
     "name": "stdout",
     "output_type": "stream",
     "text": [
      "({'w': array([[-0.8044583 ],\n",
      "       [ 0.58969986],\n",
      "       [ 0.01610277],\n",
      "       [-0.00307443],\n",
      "       [ 0.1621523 ],\n",
      "       [ 0.25901514],\n",
      "       [ 0.48034742],\n",
      "       [-0.53765849],\n",
      "       [ 1.06289233],\n",
      "       [-0.36072765],\n",
      "       [ 0.16550428],\n",
      "       [ 0.15090017],\n",
      "       [-0.0434767 ],\n",
      "       [-0.13859495],\n",
      "       [-0.13504183],\n",
      "       [ 0.42322342],\n",
      "       [-0.31224882],\n",
      "       [ 0.14200552],\n",
      "       [ 0.39764745],\n",
      "       [-0.11068416],\n",
      "       [-0.53039696],\n",
      "       [-0.18674716],\n",
      "       [-0.10369256],\n",
      "       [-0.23166795],\n",
      "       [ 0.13900929],\n",
      "       [-0.41429934],\n",
      "       [ 0.07605646],\n",
      "       [ 0.3999035 ],\n",
      "       [ 0.16229895],\n",
      "       [ 0.37883345],\n",
      "       [-0.35309989],\n",
      "       [-0.10711935],\n",
      "       [-0.32692468],\n",
      "       [-0.59863348],\n",
      "       [-0.06144516],\n",
      "       [ 0.37792472],\n",
      "       [-0.20530803],\n",
      "       [-0.06437969],\n",
      "       [ 0.13340462],\n",
      "       [ 0.86726082],\n",
      "       [-1.04557125],\n",
      "       [-0.13066489],\n",
      "       [ 0.22693992],\n",
      "       [-0.1054221 ],\n",
      "       [ 0.26138114],\n",
      "       [ 0.12517333],\n",
      "       [ 0.09063508],\n",
      "       [-0.1060376 ],\n",
      "       [-1.11165912],\n",
      "       [-0.00773019],\n",
      "       [ 0.05806421],\n",
      "       [-0.18090737],\n",
      "       [-0.66547607],\n",
      "       [-0.04340754],\n",
      "       [ 0.24664663],\n",
      "       [ 0.02264008],\n",
      "       [-0.83534588],\n",
      "       [-0.88832269],\n",
      "       [ 0.09227077],\n",
      "       [-0.12629085],\n",
      "       [-0.38590213],\n",
      "       [-0.14198242],\n",
      "       [-0.21048917],\n",
      "       [-0.36809622]]), 'b': 0.8220783461988392}, {'dw': array([[ 0.00000000e+00],\n",
      "       [-3.92331650e-02],\n",
      "       [-3.30978489e-01],\n",
      "       [-5.64519111e-01],\n",
      "       [-6.89877344e-01],\n",
      "       [ 5.05299769e-01],\n",
      "       [ 4.22688963e-01],\n",
      "       [ 9.35736534e-02],\n",
      "       [-5.14058045e-02],\n",
      "       [-2.45113802e-01],\n",
      "       [ 2.45366149e-01],\n",
      "       [-1.00286957e+00],\n",
      "       [-1.64588642e+00],\n",
      "       [-3.28686763e-01],\n",
      "       [ 2.30817761e-01],\n",
      "       [ 1.47724458e-02],\n",
      "       [ 1.69223316e-02],\n",
      "       [-1.07245105e-01],\n",
      "       [ 3.60399387e-01],\n",
      "       [-1.35318700e+00],\n",
      "       [-1.84466902e+00],\n",
      "       [-7.04103359e-01],\n",
      "       [-2.61041313e-01],\n",
      "       [ 7.41240928e-02],\n",
      "       [ 1.63864239e-02],\n",
      "       [-3.44421891e-01],\n",
      "       [ 5.86867561e-01],\n",
      "       [ 4.92234424e-01],\n",
      "       [-1.53574064e-01],\n",
      "       [-2.57419614e-01],\n",
      "       [-5.40573870e-01],\n",
      "       [ 1.35052018e-02],\n",
      "       [ 0.00000000e+00],\n",
      "       [-7.75731458e-01],\n",
      "       [ 7.52822385e-02],\n",
      "       [ 8.70626268e-01],\n",
      "       [ 3.20319371e-01],\n",
      "       [-1.61163238e-01],\n",
      "       [-4.22283954e-01],\n",
      "       [ 0.00000000e+00],\n",
      "       [ 3.44778062e-06],\n",
      "       [-5.81530016e-01],\n",
      "       [-9.79298399e-01],\n",
      "       [-5.33568524e-01],\n",
      "       [-8.15407486e-01],\n",
      "       [-6.49318302e-01],\n",
      "       [ 1.13922819e-01],\n",
      "       [-1.04599558e-03],\n",
      "       [ 1.78973297e-08],\n",
      "       [-2.07511096e-01],\n",
      "       [-6.12416598e-01],\n",
      "       [-6.61431358e-01],\n",
      "       [-2.41800576e+00],\n",
      "       [-1.19464295e+00],\n",
      "       [ 3.71757113e-01],\n",
      "       [-7.79872549e-02],\n",
      "       [ 5.55024190e-09],\n",
      "       [-5.97689705e-02],\n",
      "       [-4.02304008e-01],\n",
      "       [-6.88532953e-01],\n",
      "       [-1.37293962e+00],\n",
      "       [-1.04883228e-01],\n",
      "       [ 1.80586191e-01],\n",
      "       [-3.53660654e-02]]), 'db': -0.05160367101273991}, [368343.6499963927, 272073.0661693379, 254279.36345171373, 231138.4829797353, 210140.94337324373, 189544.40639760657, 171288.64492139485, 156517.2217949822, 142790.3012074596, 129991.96195077668, 118329.26914353122, 107848.66119287252, 114021.30696010584, 114120.79111021348, 126958.80630256649, 107835.19969733257, 138826.00395626153, 108788.30856832444, 107357.69575727051, 112729.12881190992, 104045.96364535869, 145410.9772537299, 109196.61485059076, 102004.57465203856, 127574.93675529731, 107927.3279314039, 101277.07540351186, 125552.0099994744, 107830.93498044416, 101177.7085698349, 131511.4934904728, 108466.96789177791, 101576.63371747395, 148244.42198695018, 109666.36844484035, 102418.45824888366, 151291.89028699545, 111389.62697657992, 103650.88618113054, 108006.5864130258, 113745.11136512343, 105249.07792437283, 100212.73418126735, 118920.60990548, 107254.67109358124, 100865.25665234575, 145769.06593525843, 109740.70189160986, 102617.06643039973, 125036.73534930318, 112865.4015493401, 104833.90280513876, 100097.7040969697, 119253.32437737955, 107536.00153926219, 101134.79003305294, 157129.0049178539, 110850.7694300575, 103527.8072806113, 103055.5459004356, 115324.64897573885, 106463.20176431438, 100481.48428680586, 144886.10919721506, 110045.0895378119, 103028.30746649696, 106614.33808542689, 114688.5172259563, 106220.26486978124, 100374.71465969984, 144057.0475836412, 110123.85704721349, 103151.76566597709, 104346.78091022576, 115304.59251155987, 106647.90918523625, 100690.71608662017, 154194.9401092248, 110940.69999265565, 103800.2442375136, 100760.81352434572, 117618.5276257493, 107641.48584456866, 101429.0211217528, 156708.2955352624, 112410.54819646165, 104902.90422484907, 99865.68877280905, 127339.58197674822, 109166.62678755449, 102585.70199229289, 110989.06483200051, 114662.29666237842, 106458.5005011058, 100659.6190654628, 154989.7177781309, 111246.4721684391, 104144.273454836, 100112.34952178862, 120558.92685465039])\n"
     ]
    }
   ],
   "source": [
    "def predict(w, b, X):\n",
    "    '''\n",
    "    Predict whether the label is 0 or 1 using learned logistic regression parameters (w, b)\n",
    "    \n",
    "    Arguments:\n",
    "    w -- weights\n",
    "    b -- bias \n",
    "    X -- data \n",
    "    \n",
    "    Returns:\n",
    "    Y_prediction -- a numpy array (vector) containing all predictions (0/1) for the examples in X\n",
    "    '''\n",
    "    m = X.shape[0]\n",
    "    Y_prediction = np.zeros((1,m))\n",
    "    w = w.reshape(X.shape[1],1)\n",
    "    \n",
    "    A = sigmoid(np.dot(X, w) + b)\n",
    "    \n",
    "    for i in range(A.shape[0]):\n",
    "        if A[i][0] > 0.5:\n",
    "            Y_prediction[0][i] = 1\n",
    "        else:\n",
    "            Y_prediction[0][i] = 0\n",
    "    \n",
    "    assert(Y_prediction.shape == (1,m))\n",
    "    \n",
    "    return Y_prediction\n",
    "\n",
    "# print(len(last_param))\n",
    "print(last_param)\n",
    "trained_weights = last_param[0]['w']\n",
    "trained_b = last_param[0]['b']\n",
    "# print(X_test.shape)\n",
    "testset_predicted_value = predict(trained_weights, trained_b, X_test)\n",
    "# testset_predicted_value"
   ]
  },
  {
   "cell_type": "code",
   "execution_count": 113,
   "metadata": {},
   "outputs": [],
   "source": [
    "def testset_accuracy(predicted_value, actual_value):\n",
    "    m = actual_value.shape[0]\n",
    "    predicted_value_2 = predicted_value\n",
    "    for i in range(predicted_value_2.shape[0]): ## adjust value to avoid log0\n",
    "        if predicted_value_2[i][0] == 1:\n",
    "            predicted_value[i][0] = 0.999999999\n",
    "        elif predicted_value_2[i][0] == 0:\n",
    "            predicted_value[i][0] = 1e-10\n",
    "    cost = (-1. / m) * np.sum(np.dot(np.log(predicted_value), actual_value.T) + np.dot(np.log(1. - predicted_value), 1. - actual_value.T))\n",
    "    \n",
    "    return cost"
   ]
  },
  {
   "cell_type": "code",
   "execution_count": 115,
   "metadata": {},
   "outputs": [],
   "source": [
    "def compute_prediction_accuracy(predicted_value, actual_value):\n",
    "    assert(predicted_value.shape[0] == actual_value.shape[0])\n",
    "    \n",
    "    total_record_number = actual_value.shape[0]\n",
    "    correct_number = 0\n",
    "    for i in range(total_record_number):\n",
    "        if actual_value[i][0] == predicted_value[i][0]:\n",
    "            correct_number += 1\n",
    "            \n",
    "    return correct_number / total_record_number"
   ]
  },
  {
   "cell_type": "markdown",
   "metadata": {},
   "source": [
    "##### 5- Merge all functions into a model"
   ]
  },
  {
   "cell_type": "markdown",
   "metadata": {},
   "source": [
    "Congratulations !! You have finished all the necessary components for constructing a model. Now, Let's take the challenge to merge all the implemented function into one model."
   ]
  },
  {
   "cell_type": "code",
   "execution_count": 125,
   "metadata": {},
   "outputs": [],
   "source": [
    "def model(X_train, Y_train, X_test, Y_test, num_iterations, learning_rate, print_cost):\n",
    "    \"\"\"\n",
    "    Build the logistic regression model by calling all the functions you have implemented.\n",
    "    Arguments:\n",
    "    X_train - training set\n",
    "    Y_train - training label\n",
    "    X_test - test set\n",
    "    Y_test - test label\n",
    "    num_iteration - hyperparameter representing the number of iterations to optimize the parameters\n",
    "    learning_rate -- hyperparameter representing the learning rate used in the update rule of optimize()\n",
    "    print_cost -- Set to true to print the cost every 100 iterations\n",
    "    \n",
    "    Returns:\n",
    "    d - dictionary should contain following information w,b,training_accuracy, test_accuracy,cost\n",
    "    eg: d = {\"w\":w,\n",
    "             \"b\":b,\n",
    "             \"training_accuracy\": traing_accuracy,\n",
    "             \"test_accuracy\":test_accuracy,\n",
    "             \"cost\":cost}\n",
    "    \"\"\"\n",
    "    n = X_train.shape[0]\n",
    "    m = X_train.shape[1]\n",
    "\n",
    "    init_parameters = initialize_parameters(m)\n",
    "    init_w = init_parameters[0]\n",
    "    init_b = init_parameters[1]\n",
    "    last_param = optimize(init_w, init_b, X_train, y_train.reshape(n, -1), num_iterations, learning_rate)\n",
    "    \n",
    "    trained_weights = last_param[0]['w']\n",
    "    trained_b = last_param[0]['b']\n",
    "    training_predicted_value = predict(trained_weights, trained_b, X_train).T\n",
    "#     return training_predicted_value.shape\n",
    "#     return y_train.reshape(-1,1).shape\n",
    "    training_accuracy = compute_prediction_accuracy(training_predicted_value, y_train.reshape(-1,1))\n",
    "    # print(X_test.shape)\n",
    "    testset_predicted_value = predict(trained_weights, trained_b, X_test).T\n",
    "    test_accuracy = compute_prediction_accuracy(testset_predicted_value, y_test.reshape(-1,1))\n",
    "    \n",
    "    cost = last_param[2]#[-1] # the last training cost\n",
    "    \n",
    "    if print_cost:\n",
    "        d = {\"w\": trained_weights, \"b\": trained_b, \"training_accuracy\": training_accuracy,\"test_accuracy\":test_accuracy,\"cost\": cost}\n",
    "    else:\n",
    "        d = {\"w\": trained_weights, \"b\": trained_b, \"training_accuracy\": training_accuracy,\"test_accuracy\":test_accuracy}\n",
    "\n",
    "    \n",
    "    return d\n",
    "\n",
    "n_iterations = 1000\n",
    "learning_rate = 1e-3\n",
    "result_1000 = model(X_train, y_train.reshape(-1, 1), X_test, y_test.reshape(-1, 1), n_iterations, learning_rate, print_cost = True)\n"
   ]
  },
  {
   "cell_type": "code",
   "execution_count": 126,
   "metadata": {},
   "outputs": [
    {
     "data": {
      "text/plain": [
       "{'w': array([[ 0.42132889],\n",
       "        [-1.28081478],\n",
       "        [ 0.77113898],\n",
       "        [ 0.00351706],\n",
       "        [ 0.22872438],\n",
       "        [ 0.28325745],\n",
       "        [ 0.22697886],\n",
       "        [-0.9656317 ],\n",
       "        [-0.12077264],\n",
       "        [ 0.29642998],\n",
       "        [ 0.13468248],\n",
       "        [ 0.24506098],\n",
       "        [-0.06992258],\n",
       "        [-0.18512856],\n",
       "        [ 0.35655071],\n",
       "        [ 0.02120948],\n",
       "        [ 0.50294182],\n",
       "        [-0.33418629],\n",
       "        [ 0.51193183],\n",
       "        [-0.1321378 ],\n",
       "        [-0.48802661],\n",
       "        [-0.11495714],\n",
       "        [-0.41353363],\n",
       "        [ 2.0942584 ],\n",
       "        [ 0.98829657],\n",
       "        [-0.04897782],\n",
       "        [ 0.04145517],\n",
       "        [ 0.39655676],\n",
       "        [ 0.07923262],\n",
       "        [ 0.39791471],\n",
       "        [-0.24137106],\n",
       "        [ 1.17774853],\n",
       "        [ 2.57702967],\n",
       "        [-0.83823174],\n",
       "        [-0.0983902 ],\n",
       "        [ 0.50190449],\n",
       "        [-0.32613033],\n",
       "        [ 0.07047939],\n",
       "        [-0.37254127],\n",
       "        [-0.35557729],\n",
       "        [-0.43938129],\n",
       "        [ 0.32439332],\n",
       "        [ 0.19332788],\n",
       "        [-0.19001827],\n",
       "        [ 0.36730289],\n",
       "        [-0.03610295],\n",
       "        [ 0.60824628],\n",
       "        [-0.22626651],\n",
       "        [ 0.40482124],\n",
       "        [-0.28773045],\n",
       "        [ 0.08957373],\n",
       "        [-0.08029367],\n",
       "        [-0.83377841],\n",
       "        [ 0.07108349],\n",
       "        [-0.15439862],\n",
       "        [ 0.30848971],\n",
       "        [-0.11065138],\n",
       "        [-0.18482974],\n",
       "        [-0.59733092],\n",
       "        [-0.27608518],\n",
       "        [-0.43913967],\n",
       "        [-0.18460967],\n",
       "        [-0.1473816 ],\n",
       "        [ 0.34200721]]),\n",
       " 'b': 0.6114304762046254,\n",
       " 'training_accuracy': 0.8819599109131403,\n",
       " 'test_accuracy': 0.8733333333333333,\n",
       " 'cost': [610053.1836537265,\n",
       "  185753.07654194816,\n",
       "  184178.58263272658,\n",
       "  168560.78312238143,\n",
       "  152088.63097432134,\n",
       "  137394.47752246453,\n",
       "  125097.59971796344,\n",
       "  114712.98285986863,\n",
       "  105797.11932589785,\n",
       "  143178.89111080076]}"
      ]
     },
     "execution_count": 126,
     "metadata": {},
     "output_type": "execute_result"
    }
   ],
   "source": [
    "result_1000"
   ]
  },
  {
   "cell_type": "markdown",
   "metadata": {},
   "source": [
    "### 4.选做题"
   ]
  },
  {
   "cell_type": "markdown",
   "metadata": {},
   "source": [
    "Congratulations on building your first logistic regression model. It is your time to analyze it further."
   ]
  },
  {
   "cell_type": "markdown",
   "metadata": {},
   "source": [
    "##### 4.1 Observe the effect of learning rate on the leraning process.   \n",
    "Hits: plot the learning curve with different learning rate"
   ]
  },
  {
   "cell_type": "code",
   "execution_count": 129,
   "metadata": {},
   "outputs": [
    {
     "data": {
      "text/plain": [
       "[<matplotlib.lines.Line2D at 0x11f647cc0>]"
      ]
     },
     "execution_count": 129,
     "metadata": {},
     "output_type": "execute_result"
    },
    {
     "data": {
      "image/png": "[encoded data removed]",
      "text/plain": [
       "<Figure size 432x288 with 1 Axes>"
      ]
     },
     "metadata": {
      "needs_background": "light"
     },
     "output_type": "display_data"
    }
   ],
   "source": [
    "import matplotlib.pyplot as plt\n",
    "\n",
    "X_axis = range(1, 1001, 100)\n",
    "Y_axis = result_1000['cost']\n",
    "plt.plot(X_axis, Y_axis)"
   ]
  },
  {
   "cell_type": "markdown",
   "metadata": {},
   "source": [
    "##### 4.2 Observe the effect of iteration_num on the test accuracy."
   ]
  },
  {
   "cell_type": "code",
   "execution_count": 132,
   "metadata": {},
   "outputs": [
    {
     "name": "stdout",
     "output_type": "stream",
     "text": [
      "Mon Oct 28 20:52:43 2019\n",
      "1000\n",
      "Mon Oct 28 20:52:56 2019\n",
      "2000\n",
      "Mon Oct 28 20:53:21 2019\n",
      "3000\n",
      "Mon Oct 28 20:54:00 2019\n",
      "4000\n",
      "Mon Oct 28 20:54:51 2019\n",
      "5000\n",
      "Mon Oct 28 20:55:53 2019\n",
      "6000\n",
      "Mon Oct 28 20:57:10 2019\n",
      "7000\n",
      "Mon Oct 28 20:58:43 2019\n",
      "8000\n",
      "Mon Oct 28 21:00:27 2019\n",
      "9000\n",
      "Mon Oct 28 21:02:24 2019\n",
      "10000\n"
     ]
    }
   ],
   "source": [
    "from collections import defaultdict\n",
    "import time\n",
    "result_set = defaultdict(list)\n",
    "\n",
    "learning_rate = 1e-3\n",
    "for i in range(1000, 10001, 1000): # iterating 1000, 2000, ..., 10000\n",
    "    n_iterations = i\n",
    "    print(time.ctime())\n",
    "    print(n_iterations)\n",
    "    result = model(X_train, y_train.reshape(-1, 1), X_test, y_test.reshape(-1, 1), n_iterations, learning_rate, print_cost = True)\n",
    "    result_set[i] = result\n",
    "\n",
    "result_set = dict(result_set)"
   ]
  },
  {
   "cell_type": "code",
   "execution_count": 138,
   "metadata": {},
   "outputs": [
    {
     "data": {
      "text/plain": [
       "[<matplotlib.lines.Line2D at 0x11fed9240>]"
      ]
     },
     "execution_count": 138,
     "metadata": {},
     "output_type": "execute_result"
    },
    {
     "data": {
      "image/png": "[encoded data removed]",
      "text/plain": [
       "<Figure size 432x288 with 1 Axes>"
      ]
     },
     "metadata": {
      "needs_background": "light"
     },
     "output_type": "display_data"
    }
   ],
   "source": [
    "X_axis = list(result_set.keys())\n",
    "Y_axis = [i['test_accuracy'] for i in result_set.values()]\n",
    "# print(X_axis)\n",
    "# print(Y_axis)\n",
    "## interation_num vs test_accuracy\n",
    "plt.plot(X_axis, Y_axis)"
   ]
  },
  {
   "cell_type": "markdown",
   "metadata": {},
   "source": [
    "# Challenge ! ! !\n",
    "\n",
    "The original data have images labeled 0,1,2,3,4,5,6,7,8,9. In our logistic model, we only detect if the digit in the image is larger or smaller than 5. Now, Let's go for a more challenging problem. Try to use softmax function to build a model to recognize which digits (0,1,2,3,4,5,6,7,8,9) is in the image."
   ]
  },
  {
   "cell_type": "markdown",
   "metadata": {},
   "source": [
    "# Congratulations ! You have completed assigment 4. "
   ]
  },
  {
   "cell_type": "code",
   "execution_count": null,
   "metadata": {},
   "outputs": [],
   "source": []
  }
 ],
 "metadata": {
  "kernelspec": {
   "display_name": "Python 3",
   "language": "python",
   "name": "python3"
  },
  "language_info": {
   "codemirror_mode": {
    "name": "ipython",
    "version": 3
   },
   "file_extension": ".py",
   "mimetype": "text/x-python",
   "name": "python",
   "nbconvert_exporter": "python",
   "pygments_lexer": "ipython3",
   "version": "3.6.5"
  },
  "toc": {
   "base_numbering": 1,
   "nav_menu": {},
   "number_sections": true,
   "sideBar": true,
   "skip_h1_title": false,
   "title_cell": "Table of Contents",
   "title_sidebar": "Contents",
   "toc_cell": false,
   "toc_position": {},
   "toc_section_display": true,
   "toc_window_display": false
  }
 },
 "nbformat": 4,
 "nbformat_minor": 2
}
