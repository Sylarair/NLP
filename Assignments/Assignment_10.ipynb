{
 "cells": [
  {
   "cell_type": "markdown",
   "metadata": {},
   "source": [
    "# Assignment 10"
   ]
  },
  {
   "cell_type": "markdown",
   "metadata": {},
   "source": [
    "### 1.复习上课内容"
   ]
  },
  {
   "cell_type": "markdown",
   "metadata": {},
   "source": [
    "### 2. 回答一下理论题目"
   ]
  },
  {
   "cell_type": "markdown",
   "metadata": {},
   "source": [
    "#### 1. What is independent assumption in Naive bayes ?"
   ]
  },
  {
   "cell_type": "markdown",
   "metadata": {},
   "source": [
    "Ans: There is independence between any two variables or no correlation between them."
   ]
  },
  {
   "cell_type": "markdown",
   "metadata": {},
   "source": [
    "#### 2. What is MAP(maximum a posterior) and ML(maximum likelihood) ?"
   ]
  },
  {
   "cell_type": "markdown",
   "metadata": {},
   "source": [
    "Ans: Suppose that based on the Bayesian theory:\n",
    "$$ h_{MAP} = \\max{P(h|D)} = \\max{\\frac{P(D|h)*P(h)}{P(D)}} $$\n",
    "\n",
    "In this equation, the maximization of posterior probability P(h|D) is called the MAP; Thinking that P(D) is a constant and P(h) is a prior probability, we take the P(D|h) as the likelihood, so the maximization of P(D|h) is called ML."
   ]
  },
  {
   "cell_type": "markdown",
   "metadata": {},
   "source": [
    "#### 3. What is support vector in SVM?"
   ]
  },
  {
   "cell_type": "markdown",
   "metadata": {},
   "source": [
    "Ans: The support vector is the point that determines the seperation line (2D) or surface (3D) or hypersurface (4 or even higher Dimension)."
   ]
  },
  {
   "cell_type": "markdown",
   "metadata": {},
   "source": [
    "#### 4. What is the intuition behind SVM ?"
   ]
  },
  {
   "cell_type": "markdown",
   "metadata": {},
   "source": [
    "Ans: A constrained optimization under inequality condition is computed to determine parameters for SVM. Even though when there is non-linear SVM, we can use kernel function to transform data into higher dimersion to find seperation hypersurface."
   ]
  },
  {
   "cell_type": "markdown",
   "metadata": {},
   "source": [
    "#### 5. Shortly describ what 'random' means in random forest ?"
   ]
  },
  {
   "cell_type": "markdown",
   "metadata": {},
   "source": [
    "Ans: There are two random things in the random forest, which include: 1. randomly selecting data from the whole dataset; 2. randomly selecting variables from all variables."
   ]
  },
  {
   "cell_type": "markdown",
   "metadata": {},
   "source": [
    "#### 6. What cariterion does XGBoost use to find the best split point in a tree ?"
   ]
  },
  {
   "cell_type": "markdown",
   "metadata": {},
   "source": [
    "Ans: suppose that:\n",
    "$$ obj = -\\sum\\limits_{j=1}{\\frac{G_{i}^2}{H_{i}+\\lambda}}+\\gamma * T $$\n",
    "$$ L_{i}: Loss function; G_{i}=L'_{i}; H_{i}=L''_{i}; \\gamma: PenaltyCoefficient; T: NumberOfLeaves $$\n",
    "\n",
    "The criterion for splitting tree is to find a point that could minimize obj."
   ]
  },
  {
   "cell_type": "markdown",
   "metadata": {},
   "source": [
    "### 3. Practial part"
   ]
  },
  {
   "cell_type": "markdown",
   "metadata": {},
   "source": [
    "##### Problem description: In this part you are going to build a classifier to detect if a piece of news is published by the Xinhua news agency (新华社）."
   ]
  },
  {
   "cell_type": "markdown",
   "metadata": {},
   "source": [
    "#### Hints:"
   ]
  },
  {
   "cell_type": "markdown",
   "metadata": {},
   "source": [
    "###### 1. Firstly, you have to come up with a way to represent the news. (Vectorize the sentence, you can find different ways to do so online)  "
   ]
  },
  {
   "cell_type": "markdown",
   "metadata": {},
   "source": [
    "###### 2. Secondly,  pick a machine learning algorithm that you think is suitable for this task"
   ]
  },
  {
   "cell_type": "markdown",
   "metadata": {},
   "source": [
    "### prepare data"
   ]
  },
  {
   "cell_type": "code",
   "execution_count": 5,
   "metadata": {},
   "outputs": [],
   "source": [
    "import pandas as pd\n",
    "import os\n",
    "from sklearn.model_selection import train_test_split"
   ]
  },
  {
   "cell_type": "code",
   "execution_count": 2,
   "metadata": {},
   "outputs": [],
   "source": [
    "CN_news = pd.read_csv('../5th/sqlResult_1558435.csv', encoding = 'GB18030')"
   ]
  },
  {
   "cell_type": "code",
   "execution_count": 3,
   "metadata": {
    "scrolled": false
   },
   "outputs": [
    {
     "data": {
      "text/html": [
       "<div>\n",
       "<style scoped>\n",
       "    .dataframe tbody tr th:only-of-type {\n",
       "        vertical-align: middle;\n",
       "    }\n",
       "\n",
       "    .dataframe tbody tr th {\n",
       "        vertical-align: top;\n",
       "    }\n",
       "\n",
       "    .dataframe thead th {\n",
       "        text-align: right;\n",
       "    }\n",
       "</style>\n",
       "<table border=\"1\" class=\"dataframe\">\n",
       "  <thead>\n",
       "    <tr style=\"text-align: right;\">\n",
       "      <th></th>\n",
       "      <th>id</th>\n",
       "      <th>author</th>\n",
       "      <th>source</th>\n",
       "      <th>content</th>\n",
       "      <th>feature</th>\n",
       "      <th>title</th>\n",
       "      <th>url</th>\n",
       "    </tr>\n",
       "  </thead>\n",
       "  <tbody>\n",
       "    <tr>\n",
       "      <td>0</td>\n",
       "      <td>89617</td>\n",
       "      <td>NaN</td>\n",
       "      <td>快科技@http://www.kkj.cn/</td>\n",
       "      <td>此外，自本周（6月12日）起，除小米手机6等15款机型外，其余机型已暂停更新发布（含开发版/...</td>\n",
       "      <td>{\"type\":\"科技\",\"site\":\"cnbeta\",\"commentNum\":\"37\"...</td>\n",
       "      <td>小米MIUI 9首批机型曝光：共计15款</td>\n",
       "      <td>http://www.cnbeta.com/articles/tech/623597.htm</td>\n",
       "    </tr>\n",
       "    <tr>\n",
       "      <td>1</td>\n",
       "      <td>89616</td>\n",
       "      <td>NaN</td>\n",
       "      <td>快科技@http://www.kkj.cn/</td>\n",
       "      <td>骁龙835作为唯一通过Windows 10桌面平台认证的ARM处理器，高通强调，不会因为只考...</td>\n",
       "      <td>{\"type\":\"科技\",\"site\":\"cnbeta\",\"commentNum\":\"15\"...</td>\n",
       "      <td>骁龙835在Windows 10上的性能表现有望改善</td>\n",
       "      <td>http://www.cnbeta.com/articles/tech/623599.htm</td>\n",
       "    </tr>\n",
       "    <tr>\n",
       "      <td>2</td>\n",
       "      <td>89615</td>\n",
       "      <td>NaN</td>\n",
       "      <td>快科技@http://www.kkj.cn/</td>\n",
       "      <td>此前的一加3T搭载的是3400mAh电池，DashCharge快充规格为5V/4A。\\r\\n...</td>\n",
       "      <td>{\"type\":\"科技\",\"site\":\"cnbeta\",\"commentNum\":\"18\"...</td>\n",
       "      <td>一加手机5细节曝光：3300mAh、充半小时用1天</td>\n",
       "      <td>http://www.cnbeta.com/articles/tech/623601.htm</td>\n",
       "    </tr>\n",
       "    <tr>\n",
       "      <td>3</td>\n",
       "      <td>89614</td>\n",
       "      <td>NaN</td>\n",
       "      <td>新华社</td>\n",
       "      <td>这是6月18日在葡萄牙中部大佩德罗冈地区拍摄的被森林大火烧毁的汽车。新华社记者张立云摄\\r\\n</td>\n",
       "      <td>{\"type\":\"国际新闻\",\"site\":\"环球\",\"commentNum\":\"0\",\"j...</td>\n",
       "      <td>葡森林火灾造成至少62人死亡 政府宣布进入紧急状态（组图）</td>\n",
       "      <td>http://world.huanqiu.com/hot/2017-06/10866126....</td>\n",
       "    </tr>\n",
       "    <tr>\n",
       "      <td>4</td>\n",
       "      <td>89613</td>\n",
       "      <td>胡淑丽_MN7479</td>\n",
       "      <td>深圳大件事</td>\n",
       "      <td>（原标题：44岁女子跑深圳约会网友被拒，暴雨中裸身奔走……）\\r\\n@深圳交警微博称：昨日清...</td>\n",
       "      <td>{\"type\":\"新闻\",\"site\":\"网易热门\",\"commentNum\":\"978\",...</td>\n",
       "      <td>44岁女子约网友被拒暴雨中裸奔 交警为其披衣相随</td>\n",
       "      <td>http://news.163.com/17/0618/00/CN617P3Q0001875...</td>\n",
       "    </tr>\n",
       "  </tbody>\n",
       "</table>\n",
       "</div>"
      ],
      "text/plain": [
       "      id      author                  source  \\\n",
       "0  89617         NaN  快科技@http://www.kkj.cn/   \n",
       "1  89616         NaN  快科技@http://www.kkj.cn/   \n",
       "2  89615         NaN  快科技@http://www.kkj.cn/   \n",
       "3  89614         NaN                     新华社   \n",
       "4  89613  胡淑丽_MN7479                   深圳大件事   \n",
       "\n",
       "                                             content  \\\n",
       "0  此外，自本周（6月12日）起，除小米手机6等15款机型外，其余机型已暂停更新发布（含开发版/...   \n",
       "1  骁龙835作为唯一通过Windows 10桌面平台认证的ARM处理器，高通强调，不会因为只考...   \n",
       "2  此前的一加3T搭载的是3400mAh电池，DashCharge快充规格为5V/4A。\\r\\n...   \n",
       "3    这是6月18日在葡萄牙中部大佩德罗冈地区拍摄的被森林大火烧毁的汽车。新华社记者张立云摄\\r\\n   \n",
       "4  （原标题：44岁女子跑深圳约会网友被拒，暴雨中裸身奔走……）\\r\\n@深圳交警微博称：昨日清...   \n",
       "\n",
       "                                             feature  \\\n",
       "0  {\"type\":\"科技\",\"site\":\"cnbeta\",\"commentNum\":\"37\"...   \n",
       "1  {\"type\":\"科技\",\"site\":\"cnbeta\",\"commentNum\":\"15\"...   \n",
       "2  {\"type\":\"科技\",\"site\":\"cnbeta\",\"commentNum\":\"18\"...   \n",
       "3  {\"type\":\"国际新闻\",\"site\":\"环球\",\"commentNum\":\"0\",\"j...   \n",
       "4  {\"type\":\"新闻\",\"site\":\"网易热门\",\"commentNum\":\"978\",...   \n",
       "\n",
       "                           title  \\\n",
       "0           小米MIUI 9首批机型曝光：共计15款   \n",
       "1     骁龙835在Windows 10上的性能表现有望改善   \n",
       "2      一加手机5细节曝光：3300mAh、充半小时用1天   \n",
       "3  葡森林火灾造成至少62人死亡 政府宣布进入紧急状态（组图）   \n",
       "4       44岁女子约网友被拒暴雨中裸奔 交警为其披衣相随   \n",
       "\n",
       "                                                 url  \n",
       "0     http://www.cnbeta.com/articles/tech/623597.htm  \n",
       "1     http://www.cnbeta.com/articles/tech/623599.htm  \n",
       "2     http://www.cnbeta.com/articles/tech/623601.htm  \n",
       "3  http://world.huanqiu.com/hot/2017-06/10866126....  \n",
       "4  http://news.163.com/17/0618/00/CN617P3Q0001875...  "
      ]
     },
     "execution_count": 3,
     "metadata": {},
     "output_type": "execute_result"
    }
   ],
   "source": [
    "CN_news.head()"
   ]
  },
  {
   "cell_type": "code",
   "execution_count": 21,
   "metadata": {},
   "outputs": [
    {
     "data": {
      "text/html": [
       "<div>\n",
       "<style scoped>\n",
       "    .dataframe tbody tr th:only-of-type {\n",
       "        vertical-align: middle;\n",
       "    }\n",
       "\n",
       "    .dataframe tbody tr th {\n",
       "        vertical-align: top;\n",
       "    }\n",
       "\n",
       "    .dataframe thead th {\n",
       "        text-align: right;\n",
       "    }\n",
       "</style>\n",
       "<table border=\"1\" class=\"dataframe\">\n",
       "  <thead>\n",
       "    <tr style=\"text-align: right;\">\n",
       "      <th></th>\n",
       "      <th>id</th>\n",
       "      <th>author</th>\n",
       "      <th>source</th>\n",
       "      <th>content</th>\n",
       "      <th>feature</th>\n",
       "      <th>title</th>\n",
       "      <th>url</th>\n",
       "      <th>label</th>\n",
       "    </tr>\n",
       "  </thead>\n",
       "  <tbody>\n",
       "    <tr>\n",
       "      <td>0</td>\n",
       "      <td>89617</td>\n",
       "      <td>NaN</td>\n",
       "      <td>快科技@http://www.kkj.cn/</td>\n",
       "      <td>此外，自本周（6月12日）起，除小米手机6等15款机型外，其余机型已暂停更新发布（含开发版/...</td>\n",
       "      <td>{\"type\":\"科技\",\"site\":\"cnbeta\",\"commentNum\":\"37\"...</td>\n",
       "      <td>小米MIUI 9首批机型曝光：共计15款</td>\n",
       "      <td>http://www.cnbeta.com/articles/tech/623597.htm</td>\n",
       "      <td>0</td>\n",
       "    </tr>\n",
       "    <tr>\n",
       "      <td>1</td>\n",
       "      <td>89616</td>\n",
       "      <td>NaN</td>\n",
       "      <td>快科技@http://www.kkj.cn/</td>\n",
       "      <td>骁龙835作为唯一通过Windows 10桌面平台认证的ARM处理器，高通强调，不会因为只考...</td>\n",
       "      <td>{\"type\":\"科技\",\"site\":\"cnbeta\",\"commentNum\":\"15\"...</td>\n",
       "      <td>骁龙835在Windows 10上的性能表现有望改善</td>\n",
       "      <td>http://www.cnbeta.com/articles/tech/623599.htm</td>\n",
       "      <td>0</td>\n",
       "    </tr>\n",
       "    <tr>\n",
       "      <td>2</td>\n",
       "      <td>89615</td>\n",
       "      <td>NaN</td>\n",
       "      <td>快科技@http://www.kkj.cn/</td>\n",
       "      <td>此前的一加3T搭载的是3400mAh电池，DashCharge快充规格为5V/4A。\\r\\n...</td>\n",
       "      <td>{\"type\":\"科技\",\"site\":\"cnbeta\",\"commentNum\":\"18\"...</td>\n",
       "      <td>一加手机5细节曝光：3300mAh、充半小时用1天</td>\n",
       "      <td>http://www.cnbeta.com/articles/tech/623601.htm</td>\n",
       "      <td>0</td>\n",
       "    </tr>\n",
       "    <tr>\n",
       "      <td>3</td>\n",
       "      <td>89614</td>\n",
       "      <td>NaN</td>\n",
       "      <td>新华社</td>\n",
       "      <td>这是6月18日在葡萄牙中部大佩德罗冈地区拍摄的被森林大火烧毁的汽车。新华社记者张立云摄\\r\\n</td>\n",
       "      <td>{\"type\":\"国际新闻\",\"site\":\"环球\",\"commentNum\":\"0\",\"j...</td>\n",
       "      <td>葡森林火灾造成至少62人死亡 政府宣布进入紧急状态（组图）</td>\n",
       "      <td>http://world.huanqiu.com/hot/2017-06/10866126....</td>\n",
       "      <td>1</td>\n",
       "    </tr>\n",
       "    <tr>\n",
       "      <td>4</td>\n",
       "      <td>89613</td>\n",
       "      <td>胡淑丽_MN7479</td>\n",
       "      <td>深圳大件事</td>\n",
       "      <td>（原标题：44岁女子跑深圳约会网友被拒，暴雨中裸身奔走……）\\r\\n@深圳交警微博称：昨日清...</td>\n",
       "      <td>{\"type\":\"新闻\",\"site\":\"网易热门\",\"commentNum\":\"978\",...</td>\n",
       "      <td>44岁女子约网友被拒暴雨中裸奔 交警为其披衣相随</td>\n",
       "      <td>http://news.163.com/17/0618/00/CN617P3Q0001875...</td>\n",
       "      <td>0</td>\n",
       "    </tr>\n",
       "  </tbody>\n",
       "</table>\n",
       "</div>"
      ],
      "text/plain": [
       "      id      author                  source  \\\n",
       "0  89617         NaN  快科技@http://www.kkj.cn/   \n",
       "1  89616         NaN  快科技@http://www.kkj.cn/   \n",
       "2  89615         NaN  快科技@http://www.kkj.cn/   \n",
       "3  89614         NaN                     新华社   \n",
       "4  89613  胡淑丽_MN7479                   深圳大件事   \n",
       "\n",
       "                                             content  \\\n",
       "0  此外，自本周（6月12日）起，除小米手机6等15款机型外，其余机型已暂停更新发布（含开发版/...   \n",
       "1  骁龙835作为唯一通过Windows 10桌面平台认证的ARM处理器，高通强调，不会因为只考...   \n",
       "2  此前的一加3T搭载的是3400mAh电池，DashCharge快充规格为5V/4A。\\r\\n...   \n",
       "3    这是6月18日在葡萄牙中部大佩德罗冈地区拍摄的被森林大火烧毁的汽车。新华社记者张立云摄\\r\\n   \n",
       "4  （原标题：44岁女子跑深圳约会网友被拒，暴雨中裸身奔走……）\\r\\n@深圳交警微博称：昨日清...   \n",
       "\n",
       "                                             feature  \\\n",
       "0  {\"type\":\"科技\",\"site\":\"cnbeta\",\"commentNum\":\"37\"...   \n",
       "1  {\"type\":\"科技\",\"site\":\"cnbeta\",\"commentNum\":\"15\"...   \n",
       "2  {\"type\":\"科技\",\"site\":\"cnbeta\",\"commentNum\":\"18\"...   \n",
       "3  {\"type\":\"国际新闻\",\"site\":\"环球\",\"commentNum\":\"0\",\"j...   \n",
       "4  {\"type\":\"新闻\",\"site\":\"网易热门\",\"commentNum\":\"978\",...   \n",
       "\n",
       "                           title  \\\n",
       "0           小米MIUI 9首批机型曝光：共计15款   \n",
       "1     骁龙835在Windows 10上的性能表现有望改善   \n",
       "2      一加手机5细节曝光：3300mAh、充半小时用1天   \n",
       "3  葡森林火灾造成至少62人死亡 政府宣布进入紧急状态（组图）   \n",
       "4       44岁女子约网友被拒暴雨中裸奔 交警为其披衣相随   \n",
       "\n",
       "                                                 url  label  \n",
       "0     http://www.cnbeta.com/articles/tech/623597.htm      0  \n",
       "1     http://www.cnbeta.com/articles/tech/623599.htm      0  \n",
       "2     http://www.cnbeta.com/articles/tech/623601.htm      0  \n",
       "3  http://world.huanqiu.com/hot/2017-06/10866126....      1  \n",
       "4  http://news.163.com/17/0618/00/CN617P3Q0001875...      0  "
      ]
     },
     "execution_count": 21,
     "metadata": {},
     "output_type": "execute_result"
    }
   ],
   "source": [
    "# add label to separate 新华社 and 非新华社\n",
    "import re\n",
    "is_Xinhua_Agency = [1 if len(re.findall(r'新华社', str(CN_news.iloc[x]['source']))) > 0 else 0 for x in range(CN_news.shape[0])]\n",
    "CN_news['label'] = is_Xinhua_Agency\n",
    "CN_news.head()"
   ]
  },
  {
   "cell_type": "markdown",
   "metadata": {},
   "source": [
    "### transforming sentence to vector"
   ]
  },
  {
   "cell_type": "code",
   "execution_count": 33,
   "metadata": {},
   "outputs": [],
   "source": [
    "from gensim.models.doc2vec import Doc2Vec, TaggedDocument\n",
    "import jieba"
   ]
  },
  {
   "cell_type": "code",
   "execution_count": 58,
   "metadata": {},
   "outputs": [],
   "source": [
    "# jieba.lcut(CN_news.iloc[1]['content'], cut_all=False)\n",
    "CN_news_tagged = [TaggedDocument(jieba.lcut(str(CN_news.iloc[x]['content']), cut_all=False),[CN_news.iloc[x]['id']])\\\n",
    "                 for x in range(CN_news.shape[0])]"
   ]
  },
  {
   "cell_type": "code",
   "execution_count": 59,
   "metadata": {},
   "outputs": [
    {
     "data": {
      "text/plain": [
       "[TaggedDocument(words=['此外', '，', '自', '本周', '（', '6', '月', '12', '日', '）', '起', '，', '除', '小米', '手机', '6', '等', '15', '款', '机型', '外', '，', '其余', '机型', '已', '暂停', '更新', '发布', '（', '含', '开发', '版', '/', '体验版', '内测', '，', '稳定版', '暂不受', '影响', '）', '，', '以', '确保', '工程师', '可以', '集中', '全部', '精力', '进行', '系统优化', '工作', '。', '有人', '猜测', '这', '也', '是', '将', '精力', '主要', '用到', 'MIUI', ' ', '9', '的', '研发', '之中', '。', '\\r\\n', 'MIUI', ' ', '8', '去年', '5', '月', '发布', '，', '距今已有', '一年', '有余', '，', '也', '是', '时候', '更新换代', '了', '。', '\\r\\n', '当然', '，', '关于', 'MIUI', ' ', '9', '的', '确切', '信息', '，', '我们', '还是', '等待', '官方消息', '。', '\\r\\n'], tags=[89617]),\n",
       " TaggedDocument(words=['骁龙', '835', '作为', '唯一', '通过', 'Windows', ' ', '10', '桌面', '平台', '认证', '的', 'ARM', '处理器', '，', '高通', '强调', '，', '不会', '因为', '只', '考虑', '性能', '而', '去', '屏蔽掉', '小', '核心', '。', '相反', '，', '他们', '正', '联手', '微软', '，', '找到', '一种', '适合', '桌面', '平台', '的', '、', '兼顾', '性能', '和', '功耗', '的', '完美', '方案', '。', '\\r\\n', '报道', '称', '，', '微软', '已经', '拿到', '了', '一些', '新', '的', '源码', '，', '以便', 'Windows', ' ', '10', '更好', '地', '理解', 'big', '.', 'little', '架构', '。', '\\r\\n', '资料', '显示', '，', '骁龙', '835', '作为', '一款', '集成', '了', 'CPU', '、', 'GPU', '、', '基带', '、', '蓝牙', '/', 'Wi', '-', 'Fi', '的', 'SoC', '，', '比', '传统', '的', 'Wintel', '方案', '可以', '节省', '至少', '30%', '的', 'PCB', '空间', '。', '\\r\\n', '按计划', '，', '今年', 'Q4', '，', '华硕', '、', '惠普', '、', '联想', '将', '首发', '骁龙', '835', ' ', 'Win10', '电脑', '，', '预计', '均', '是', '二合一', '形态', '的', '产品', '。', '\\r\\n', '当然', '，', '高通', '骁龙', '只是', '个', '开始', '，', '未来', '也许', '还', '能', '见到', '三星', 'Exynos', '、', '联发科', '、', '华为', '麒麟', '、', '小米', '澎湃', '等', '进入', 'Windows', ' ', '10', '桌面', '平台', '。', '\\r\\n'], tags=[89616]),\n",
       " TaggedDocument(words=['此前', '的', '一加', '3T', '搭载', '的', '是', '3400mAh', '电池', '，', 'DashCharge', '快充', '规格', '为', '5V', '/', '4A', '。', '\\r\\n', '至于', '电池', '缩水', '，', '可能', '与', '刘作', '虎', '所说', '，', '一加', '手机', '5', '要', '做', '市面', '最', '轻薄', '大屏', '旗舰', '的', '设定', '有关', '。', '\\r\\n', '按照', '目前', '掌握', '的', '资料', '，', '一加', '手机', '5', '拥有', '5.5', '寸', '1080P', '三星', 'AMOLED', '显示屏', '、', '6G', '/', '8GB', ' ', 'RAM', '，', '64GB', '/', '128GB', ' ', 'ROM', '，', '双', '1600', '万', '摄像头', '，', '备货', '量', '“', '惊喜', '”', '。', '\\r\\n', '根据', '京东', '泄露', '的', '信息', '，', '一加', '5', '起', '售价', '是', 'xx99', '元', '，', '应该', '是', '在', '2799', '/', '2899', '/', '2999', '中', '的', '某个', '。', '\\r\\n'], tags=[89615]),\n",
       " TaggedDocument(words=['这是', '6', '月', '18', '日', '在', '葡萄牙', '中部', '大', '佩德罗', '冈', '地区', '拍摄', '的', '被', '森林', '大火', '烧毁', '的', '汽车', '。', '新华社', '记者', '张立', '云摄', '\\r\\n'], tags=[89614]),\n",
       " TaggedDocument(words=['（', '原', '标题', '：', '44', '岁', '女子', '跑', '深圳', '约会', '网友', '被', '拒', '，', '暴雨', '中', '裸身', '奔走', '…', '…', '）', '\\r\\n', '@', '深圳', '交警', '微博称', '：', '昨日', '清晨', '交警', '发现', '有', '一', '女子', '赤裸', '上身', '，', '行走', '在', '南坪', '快速', '上', '，', '期间', '还', '起', '了', '轻生', '年头', '，', '一辅警', '发现', '后', '赶紧', '为', '其', '披上', '黄衣', '，', '并', '一路', '劝说', '她', '。', '\\r\\n', '那么', '事发', '时', '\\r\\n', '到底', '都', '发生', '了', '些', '什么', '呢', '？', '\\r\\n', '南', '都', '记者', '带', '您', '一起', '还原', '现场', '\\r\\n', '南', '都', '记者', '在', '龙岗', '大队', '坂田', '中队', '见到', '了', '辅警', '刘青', '（', '发现', '女生', '的', '辅警', '）', '，', '一位', '外表', '高大', '帅气', '，', '说话', '略带', '些', '腼腆', '的', '90', '后', '青年', '。', '\\r\\n', '刘青', '介绍', '，', '6', '月', '16', '日', '早上', '7', '时', '36', '分', '，', '他', '正在', '环城', '南路', '附近', '值勤', '，', '接到', '中队', '关于', '一位', '女子', '裸身', '进入', '机动车', '可能', '有', '危险', '的', '警情', '，', '随后', '骑着', '小', '铁骑', '开始', '沿路', '寻找', '，', '大概', '花', '了', '十多分钟', '在', '南坪', '大道', '坂田', '出口', '往', '龙岗', '方向', '的', '逆行', '辅道', '上', '发现', '该', '女子', '。', '\\r\\n', '女子', '身上', '一丝不挂', '地逆', '车流', '而行', '，', '时', '走时', '停', '，', '时', '坐', '时', '躺', '，', '险象环生', '。', '刘青停', '好', '小', '铁骑', '，', '和', '另外', '一名', '巡防', '员', '追', '了', '上去', '，', '发现', '女子', '的', '情绪', '很', '低落', '，', '话', '不', '多', '，', '刘青', '尝试', '和', '女子', '交流', '，', '劝说', '女子', '离开', '，', '可', '女子', '并', '不', '愿意', '接受', '，', '继续', '缓慢', '地往', '南坪', '快速路', '的', '主干道', '上', '走', '去', '。', '\\r\\n', '此时', '路边', '上', '已经', '聚集', '了', '很', '市民', '围观', '，', '为了', '不', '刺激', '女子', '的', '情绪', '，', '刘青', '和', '巡防', '员', '一边', '盯', '着', '女子', '一边', '驱赶', '着', '围观', '的', '群众', '。', '\\r\\n', '现场', '还原', '\\r\\n', '从', '警方', '提供', '的', '一份', '视频', '了解', '到', '，', '16', '日', '早上', '7', '时', '25', '分', '，', '女子', '出现', '在', '坂雪岗', '大道', '与', '环城', '南路', '的', '监控', '视频', '中', '，', '此时', '女子', '还', '穿着', '白色', '的', '内裤', '，', '正', '沿着', '坂雪岗', '大道', '往', '南坪', '快速', '的', '方向', '缓慢', '地', '走', '着', '。', '\\r\\n', '当时', '正值', '上班', '高峰期', '，', '十字路口', '的', '车流', '已经', '排起', '了', '长队', '。', '当', '女子', '出现', '时', '，', '路上', '的', '市民', '纷纷', '驻足', '观望', '，', '不少', '车辆', '也', '放慢', '了', '速度', '，', '但', '女子', '并', '不', '为', '市民', '观望', '停下', '脚步', '，', '依然', '缓慢', '走', '着', '。', '当', '女子', '行进', '到', '十字路口', '中间', '时', '，', '一辆', '大', '货车', '挡住', '了', '镜头', '，', '但是', '当', '女子', '再次出现', '镜头', '时', '，', '可以', '发现', '女子', '已经', '没', '穿', '内裤', '了', '，', '全身', '裸露', '继续', '朝着', '南坪', '快速', '方向', '走', '去', '。', '记者', '发现', '，', '视频', '中', '女子', '周围', '并', '没有', '人', '尾随', '或者', '上前', '劝止', '的', '市民', '。', '\\r\\n', '一', '大清早', '路上', '看到', '这样', '的', '情况', '\\r\\n', '恐怕', '大家', '都', '没', '办法', '淡定', '\\r\\n', '面对', '这一', '情况', '\\r\\n', '刘青', '表示', '，', '“', '一', '开始', '根本', '不敢', '看', '她', '，', '心里', '挺', '别扭', '，', '感觉', '很', '尴尬', '”', '，', '但', '当', '刘青', '跟随', '女子', '上', '了', '南坪', '快速路', '主干道', '时', '，', '女子', '作出', '了', '让', '人', '意想不到', '的', '举动', '，', '她', '突然', '靠近', '护栏', '要', '从', '上面', '跳下去', '，', '刘青', '赶忙', '冲上去', '拉住', '了', '女子', '的', '手', '，', '将', '其', '控制', '住', '并', '远离', '护栏', '。', '碍于', '女子', '没有', '穿衣服', '，', '刘青递', '上', '衣服', '，', '女子', '没', '接受', '还', '把', '衣服', '扔', '到', '排水沟', '里', '，', '继续', '往前走', '，', '没', '办法', '刘青', '只能', '紧紧', '拉', '着', '她', '的', '一只', '手', '跟', '在', '后面', '。', '\\r\\n', '刘青', '一路上', '耐心', '地', '开导', '安慰', '她', '，', '但', '只', '听到', '她', '不断', '地', '重复', '着', '一句', '话', '“', '要是', '你', '也', '遭遇', '我', '的', '事', '，', '你', '也', '会', '这样', '的', '”', '，', '期间', '她', '还', '不时', '试图', '挣脱', '刘青', '的', '手要', '冲向', '护栏', '往下跳', '。', '\\r\\n', '就', '这样', '，', '我', '被', '牵', '着', '走', '了', '大概', '十多分钟', '，', '天', '突然', '下起', '了', '大暴雨', '，', '雨大', '的', '连', '眼睛', '都', '睁不开', '”', '刘青', '继续', '说', '着', '，', '瞬间', '他们', '就', '被', '雨', '透', '了', '，', '但', '女子', '依然', '不', '愿意', '接受', '刘青', '的', '帮助', '，', '就', '继续', '冒', '着', '大雨', '往前走', '。', '\\r\\n', '大概', '走', '了', '有', '四十分钟', '吧', '，', '女子', '突然', '停下', '来说', '“', '我', '想', '回家', '了', '”', '，', '然后', '女子', '也', '接受', '了', '刘青', '递过来', '的', '小', '黄衣', '，', '就', '出现', '了', '深圳', '微博上', '的', '照片', '，', '女子', '披着', '小', '黄衣', '，', '刘青', '小心翼翼', '地', '在', '旁边', '走', '着', '的', '场景', '。', '从', '南平', '快速', '下来', '后', '，', '刘青', '和', '巡防', '员', '将', '女子', '带到', '了', '附近', '的', '坂田', '派出所', '。', '\\r\\n', '那', '姑娘', '到底', '是', '遭遇', '了', '什么样', '的', '事情', '\\r\\n', '才', '会', '说', '\\r\\n', '“', '要是', '你', '也', '遭遇', '我', '的', '事', '，', '你', '也', '会', '这样', '”', '\\r\\n', '据', '警方', '透露', '，', '该', '女子', '姓', '陈', '，', '系', '湖北', '人', '，', '今年', '44', '岁', '，', '据', '家属', '反映', '其有', '精神病', '史', '。', '三天', '前', '，', '陈某', '从', '老家', '来', '深圳', '约会', '网友', '，', '但', '约会', '受挫', '导致', '情绪', '异常', '，', '女子', '遂', '产生', '轻生', '念头', '。', '\\r\\n', '目前', '\\r\\n', '陈某', '已经', '被', '送往', '深圳', '某', '精神病', '医院', '进行', '治疗', '\\r\\n', '大大', '君', '只', '希望', '姑娘', '能', '早点', '康复', '\\r\\n', '其实', '真爱', '的', '到来', '并', '不', '存在', '年龄', '的', '限制', '\\r\\n', '你们', '说', '呢', '？', '\\r\\n', '因', '善良', '的', '原因', '\\r\\n', '一众', '网友', '纷纷', '为', '\\r\\n', '交警', '暖', '男点', 'ZAN', '\\r\\n', '@', '弓常', 'yan', '桦', '：', '就', '想', '问', '这个', '小', '哥哥', '有', '女票', '吗', '\\r\\n', '@', '原谅', '我', '这', '一辈子', '浪荡', '不羁', '爱', '萨摩耶', '：', '有', '什么', '过不去', '的', '要', '轻生', '嘛', '？', ' ', '想想', '自己', '的', '家人', '。', '同时', '也', '感谢', '交警', '蜀黍', '\\r\\n', '@', '火心', '聆听', '心灵', '：', '点赞', '交警', '\\r\\n', '@', '中華云盾', '：', '警察', '…', '…', '警察', '就是', '群众', '最', '需时', '申出', '援手', '\\r\\n', '@', 'Tomchlee', '：', '蜀黍', '帅', '！', '\\r\\n', '@', 'SJ', '-', '李赫海', 'i', '：', '这个', '交警', '很', '暖', '有', '木有', '！', '\\r\\n', '男子', '迷奸', '网友', '拍', '418', '个', '视频', ' ', '女方', '从', '20', '岁', '到', '50', '岁', '不', '等', '\\r\\n', '去年', '6', '月', '7', '号', '上午', '，', '淮安市', '涟水县', '公安局', '刑警大队', '突然', '接到', '了', '一个', '奇怪', '的', '报警', '电话', '，', '一名', '女子', '言语', '不清', '，', '声称', '自己', '遭到', '了', '侵害', '。', '女子', '、', '被', '侵害', '、', '言语', '不清', '，', '几个', '关键词', '令', '接到', '电话', '的', '民警', '瞬间', '紧张', '起来', '。', '\\r\\n'], tags=[89613])]"
      ]
     },
     "execution_count": 59,
     "metadata": {},
     "output_type": "execute_result"
    }
   ],
   "source": [
    "CN_news_tagged[:5]"
   ]
  },
  {
   "cell_type": "code",
   "execution_count": 60,
   "metadata": {},
   "outputs": [],
   "source": [
    "# model = Doc2Vec([TaggedDocument(jieba.lcut(CN_news.iloc[1]['content'], cut_all=False),[0])])\n",
    "model = Doc2Vec(CN_news_tagged, vector_size=100, workers = 4) #vector_size = 100 by default"
   ]
  },
  {
   "cell_type": "code",
   "execution_count": 62,
   "metadata": {},
   "outputs": [
    {
     "name": "stdout",
     "output_type": "stream",
     "text": [
      "[-0.12399907 -0.03250352  0.05038457 -0.20724161  0.08882274 -0.18710807\n",
      "  0.21935238  0.01376936  0.00226417 -0.11315244  0.07802468  0.08247933\n",
      " -0.15744661  0.07970691 -0.00180947 -0.10532265 -0.10954722  0.35155642\n",
      " -0.22500087  0.24802004 -0.14183281  0.25153023 -0.16794245  0.15907684\n",
      " -0.14997438 -0.27647048 -0.35146728 -0.10114461  0.05985128 -0.06166695\n",
      "  0.22147243  0.08179238 -0.11593585  0.0539988   0.08228628 -0.02720808\n",
      "  0.185181    0.02883124  0.01928503  0.23452991 -0.12187962  0.16126005\n",
      " -0.07324347  0.15821728 -0.2818153   0.05224821 -0.25282055 -0.06274217\n",
      " -0.0315296   0.19670469  0.2091702   0.11163414 -0.40150666  0.18746491\n",
      " -0.01869351 -0.12305259  0.12724568  0.02466824  0.04285789 -0.00703209\n",
      " -0.08448143  0.19069374  0.11578066  0.05502074  0.03771751 -0.06295159\n",
      "  0.02050549 -0.05285643  0.224874   -0.00599752 -0.05121909 -0.00750187\n",
      "  0.00219686 -0.17703597  0.0645723   0.05757529  0.24033959  0.01921417\n",
      " -0.15131216  0.03406376  0.35482514  0.13653974  0.07008851 -0.14227663\n",
      " -0.10035156  0.17674983  0.40779087 -0.148426   -0.41563556  0.01819424\n",
      " -0.02591088  0.13459586 -0.01709575 -0.08755347 -0.12784597 -0.14335461\n",
      " -0.12413555  0.03403679 -0.22785132 -0.03290288]\n",
      "骁龙835作为唯一通过Windows 10桌面平台认证的ARM处理器，高通强调，不会因为只考虑性能而去屏蔽掉小核心。相反，他们正联手微软，找到一种适合桌面平台的、兼顾性能和功耗的完美方案。\r\n",
      "报道称，微软已经拿到了一些新的源码，以便Windows 10更好地理解big.little架构。\r\n",
      "资料显示，骁龙835作为一款集成了CPU、GPU、基带、蓝牙/Wi-Fi的SoC，比传统的Wintel方案可以节省至少30%的PCB空间。\r\n",
      "按计划，今年Q4，华硕、惠普、联想将首发骁龙835 Win10电脑，预计均是二合一形态的产品。\r\n",
      "当然，高通骁龙只是个开始，未来也许还能见到三星Exynos、联发科、华为麒麟、小米澎湃等进入Windows 10桌面平台。\r\n",
      "\n"
     ]
    }
   ],
   "source": [
    "print(model.docvecs[CN_news.iloc[1]['id']])\n",
    "print(CN_news.iloc[1]['content'])"
   ]
  },
  {
   "cell_type": "markdown",
   "metadata": {},
   "source": [
    "### Using SVM as classifier to separate news from Xinhua Agency and non-Xinhua Agency"
   ]
  },
  {
   "cell_type": "code",
   "execution_count": 67,
   "metadata": {},
   "outputs": [],
   "source": [
    "from sklearn.svm import SVC"
   ]
  },
  {
   "cell_type": "code",
   "execution_count": 65,
   "metadata": {},
   "outputs": [],
   "source": [
    "# add sentence vector to corresponding row\n",
    "def add_sentence_vector_to_csv(csv, Model):\n",
    "    sentence_vector_length = len(model.docvecs[CN_news.iloc[1]['id']])\n",
    "    sentence_vector = [Model.docvecs[csv.iloc[x]['id']] for x in range(csv.shape[0])]\n",
    "    csv2 = csv\n",
    "    csv2['vector'] = sentence_vector\n",
    "    \n",
    "#     for i in range(sentence_vector_length):\n",
    "#         csv2['feature' + str(i+1)] = [csv2.iloc[x]['vector'][i] for x in range(csv2.shape[0])]\n",
    "    \n",
    "    return csv2\n",
    "\n",
    "CN_news_vector = add_sentence_vector_to_csv(CN_news, model)"
   ]
  },
  {
   "cell_type": "code",
   "execution_count": 66,
   "metadata": {
    "scrolled": true
   },
   "outputs": [
    {
     "data": {
      "text/html": [
       "<div>\n",
       "<style scoped>\n",
       "    .dataframe tbody tr th:only-of-type {\n",
       "        vertical-align: middle;\n",
       "    }\n",
       "\n",
       "    .dataframe tbody tr th {\n",
       "        vertical-align: top;\n",
       "    }\n",
       "\n",
       "    .dataframe thead th {\n",
       "        text-align: right;\n",
       "    }\n",
       "</style>\n",
       "<table border=\"1\" class=\"dataframe\">\n",
       "  <thead>\n",
       "    <tr style=\"text-align: right;\">\n",
       "      <th></th>\n",
       "      <th>id</th>\n",
       "      <th>author</th>\n",
       "      <th>source</th>\n",
       "      <th>content</th>\n",
       "      <th>feature</th>\n",
       "      <th>title</th>\n",
       "      <th>url</th>\n",
       "      <th>label</th>\n",
       "      <th>vector</th>\n",
       "      <th>feature1</th>\n",
       "      <th>...</th>\n",
       "      <th>feature39</th>\n",
       "      <th>feature40</th>\n",
       "      <th>feature41</th>\n",
       "      <th>feature42</th>\n",
       "      <th>feature43</th>\n",
       "      <th>feature44</th>\n",
       "      <th>feature45</th>\n",
       "      <th>feature46</th>\n",
       "      <th>feature47</th>\n",
       "      <th>feature48</th>\n",
       "    </tr>\n",
       "  </thead>\n",
       "  <tbody>\n",
       "    <tr>\n",
       "      <td>0</td>\n",
       "      <td>89617</td>\n",
       "      <td>NaN</td>\n",
       "      <td>快科技@http://www.kkj.cn/</td>\n",
       "      <td>此外，自本周（6月12日）起，除小米手机6等15款机型外，其余机型已暂停更新发布（含开发版/...</td>\n",
       "      <td>{\"type\":\"科技\",\"site\":\"cnbeta\",\"commentNum\":\"37\"...</td>\n",
       "      <td>小米MIUI 9首批机型曝光：共计15款</td>\n",
       "      <td>http://www.cnbeta.com/articles/tech/623597.htm</td>\n",
       "      <td>0</td>\n",
       "      <td>[-0.04689578, -0.05935113, 0.05987382, -0.0749...</td>\n",
       "      <td>-0.046896</td>\n",
       "      <td>...</td>\n",
       "      <td>-0.110570</td>\n",
       "      <td>0.124327</td>\n",
       "      <td>0.091461</td>\n",
       "      <td>0.165342</td>\n",
       "      <td>0.020230</td>\n",
       "      <td>-0.018377</td>\n",
       "      <td>-0.190893</td>\n",
       "      <td>-0.092922</td>\n",
       "      <td>-0.083102</td>\n",
       "      <td>-0.137293</td>\n",
       "    </tr>\n",
       "    <tr>\n",
       "      <td>1</td>\n",
       "      <td>89616</td>\n",
       "      <td>NaN</td>\n",
       "      <td>快科技@http://www.kkj.cn/</td>\n",
       "      <td>骁龙835作为唯一通过Windows 10桌面平台认证的ARM处理器，高通强调，不会因为只考...</td>\n",
       "      <td>{\"type\":\"科技\",\"site\":\"cnbeta\",\"commentNum\":\"15\"...</td>\n",
       "      <td>骁龙835在Windows 10上的性能表现有望改善</td>\n",
       "      <td>http://www.cnbeta.com/articles/tech/623599.htm</td>\n",
       "      <td>0</td>\n",
       "      <td>[-0.123999074, -0.03250352, 0.050384566, -0.20...</td>\n",
       "      <td>-0.123999</td>\n",
       "      <td>...</td>\n",
       "      <td>0.019285</td>\n",
       "      <td>0.234530</td>\n",
       "      <td>-0.121880</td>\n",
       "      <td>0.161260</td>\n",
       "      <td>-0.073243</td>\n",
       "      <td>0.158217</td>\n",
       "      <td>-0.281815</td>\n",
       "      <td>0.052248</td>\n",
       "      <td>-0.252821</td>\n",
       "      <td>-0.062742</td>\n",
       "    </tr>\n",
       "    <tr>\n",
       "      <td>2</td>\n",
       "      <td>89615</td>\n",
       "      <td>NaN</td>\n",
       "      <td>快科技@http://www.kkj.cn/</td>\n",
       "      <td>此前的一加3T搭载的是3400mAh电池，DashCharge快充规格为5V/4A。\\r\\n...</td>\n",
       "      <td>{\"type\":\"科技\",\"site\":\"cnbeta\",\"commentNum\":\"18\"...</td>\n",
       "      <td>一加手机5细节曝光：3300mAh、充半小时用1天</td>\n",
       "      <td>http://www.cnbeta.com/articles/tech/623601.htm</td>\n",
       "      <td>0</td>\n",
       "      <td>[-0.16669287, -0.06184349, -0.1051068, -0.1060...</td>\n",
       "      <td>-0.166693</td>\n",
       "      <td>...</td>\n",
       "      <td>0.024666</td>\n",
       "      <td>-0.084473</td>\n",
       "      <td>-0.036390</td>\n",
       "      <td>0.293137</td>\n",
       "      <td>-0.129957</td>\n",
       "      <td>0.089324</td>\n",
       "      <td>-0.215649</td>\n",
       "      <td>-0.143602</td>\n",
       "      <td>-0.040214</td>\n",
       "      <td>0.066870</td>\n",
       "    </tr>\n",
       "    <tr>\n",
       "      <td>3</td>\n",
       "      <td>89614</td>\n",
       "      <td>NaN</td>\n",
       "      <td>新华社</td>\n",
       "      <td>这是6月18日在葡萄牙中部大佩德罗冈地区拍摄的被森林大火烧毁的汽车。新华社记者张立云摄\\r\\n</td>\n",
       "      <td>{\"type\":\"国际新闻\",\"site\":\"环球\",\"commentNum\":\"0\",\"j...</td>\n",
       "      <td>葡森林火灾造成至少62人死亡 政府宣布进入紧急状态（组图）</td>\n",
       "      <td>http://world.huanqiu.com/hot/2017-06/10866126....</td>\n",
       "      <td>1</td>\n",
       "      <td>[0.026376223, 0.020916121, 0.054224826, -0.031...</td>\n",
       "      <td>0.026376</td>\n",
       "      <td>...</td>\n",
       "      <td>-0.050743</td>\n",
       "      <td>0.041950</td>\n",
       "      <td>0.065708</td>\n",
       "      <td>-0.010629</td>\n",
       "      <td>-0.020796</td>\n",
       "      <td>-0.067175</td>\n",
       "      <td>-0.048601</td>\n",
       "      <td>0.007141</td>\n",
       "      <td>0.094207</td>\n",
       "      <td>-0.016907</td>\n",
       "    </tr>\n",
       "    <tr>\n",
       "      <td>4</td>\n",
       "      <td>89613</td>\n",
       "      <td>胡淑丽_MN7479</td>\n",
       "      <td>深圳大件事</td>\n",
       "      <td>（原标题：44岁女子跑深圳约会网友被拒，暴雨中裸身奔走……）\\r\\n@深圳交警微博称：昨日清...</td>\n",
       "      <td>{\"type\":\"新闻\",\"site\":\"网易热门\",\"commentNum\":\"978\",...</td>\n",
       "      <td>44岁女子约网友被拒暴雨中裸奔 交警为其披衣相随</td>\n",
       "      <td>http://news.163.com/17/0618/00/CN617P3Q0001875...</td>\n",
       "      <td>0</td>\n",
       "      <td>[0.23992884, 0.3802847, 0.45711118, -0.8107781...</td>\n",
       "      <td>0.239929</td>\n",
       "      <td>...</td>\n",
       "      <td>0.100716</td>\n",
       "      <td>-0.975710</td>\n",
       "      <td>0.586966</td>\n",
       "      <td>-0.416934</td>\n",
       "      <td>0.151382</td>\n",
       "      <td>-0.641255</td>\n",
       "      <td>0.428474</td>\n",
       "      <td>0.568714</td>\n",
       "      <td>-0.014180</td>\n",
       "      <td>-0.372496</td>\n",
       "    </tr>\n",
       "  </tbody>\n",
       "</table>\n",
       "<p>5 rows × 57 columns</p>\n",
       "</div>"
      ],
      "text/plain": [
       "      id      author                  source  \\\n",
       "0  89617         NaN  快科技@http://www.kkj.cn/   \n",
       "1  89616         NaN  快科技@http://www.kkj.cn/   \n",
       "2  89615         NaN  快科技@http://www.kkj.cn/   \n",
       "3  89614         NaN                     新华社   \n",
       "4  89613  胡淑丽_MN7479                   深圳大件事   \n",
       "\n",
       "                                             content  \\\n",
       "0  此外，自本周（6月12日）起，除小米手机6等15款机型外，其余机型已暂停更新发布（含开发版/...   \n",
       "1  骁龙835作为唯一通过Windows 10桌面平台认证的ARM处理器，高通强调，不会因为只考...   \n",
       "2  此前的一加3T搭载的是3400mAh电池，DashCharge快充规格为5V/4A。\\r\\n...   \n",
       "3    这是6月18日在葡萄牙中部大佩德罗冈地区拍摄的被森林大火烧毁的汽车。新华社记者张立云摄\\r\\n   \n",
       "4  （原标题：44岁女子跑深圳约会网友被拒，暴雨中裸身奔走……）\\r\\n@深圳交警微博称：昨日清...   \n",
       "\n",
       "                                             feature  \\\n",
       "0  {\"type\":\"科技\",\"site\":\"cnbeta\",\"commentNum\":\"37\"...   \n",
       "1  {\"type\":\"科技\",\"site\":\"cnbeta\",\"commentNum\":\"15\"...   \n",
       "2  {\"type\":\"科技\",\"site\":\"cnbeta\",\"commentNum\":\"18\"...   \n",
       "3  {\"type\":\"国际新闻\",\"site\":\"环球\",\"commentNum\":\"0\",\"j...   \n",
       "4  {\"type\":\"新闻\",\"site\":\"网易热门\",\"commentNum\":\"978\",...   \n",
       "\n",
       "                           title  \\\n",
       "0           小米MIUI 9首批机型曝光：共计15款   \n",
       "1     骁龙835在Windows 10上的性能表现有望改善   \n",
       "2      一加手机5细节曝光：3300mAh、充半小时用1天   \n",
       "3  葡森林火灾造成至少62人死亡 政府宣布进入紧急状态（组图）   \n",
       "4       44岁女子约网友被拒暴雨中裸奔 交警为其披衣相随   \n",
       "\n",
       "                                                 url  label  \\\n",
       "0     http://www.cnbeta.com/articles/tech/623597.htm      0   \n",
       "1     http://www.cnbeta.com/articles/tech/623599.htm      0   \n",
       "2     http://www.cnbeta.com/articles/tech/623601.htm      0   \n",
       "3  http://world.huanqiu.com/hot/2017-06/10866126....      1   \n",
       "4  http://news.163.com/17/0618/00/CN617P3Q0001875...      0   \n",
       "\n",
       "                                              vector  feature1  ...  \\\n",
       "0  [-0.04689578, -0.05935113, 0.05987382, -0.0749... -0.046896  ...   \n",
       "1  [-0.123999074, -0.03250352, 0.050384566, -0.20... -0.123999  ...   \n",
       "2  [-0.16669287, -0.06184349, -0.1051068, -0.1060... -0.166693  ...   \n",
       "3  [0.026376223, 0.020916121, 0.054224826, -0.031...  0.026376  ...   \n",
       "4  [0.23992884, 0.3802847, 0.45711118, -0.8107781...  0.239929  ...   \n",
       "\n",
       "   feature39  feature40  feature41  feature42  feature43  feature44  \\\n",
       "0  -0.110570   0.124327   0.091461   0.165342   0.020230  -0.018377   \n",
       "1   0.019285   0.234530  -0.121880   0.161260  -0.073243   0.158217   \n",
       "2   0.024666  -0.084473  -0.036390   0.293137  -0.129957   0.089324   \n",
       "3  -0.050743   0.041950   0.065708  -0.010629  -0.020796  -0.067175   \n",
       "4   0.100716  -0.975710   0.586966  -0.416934   0.151382  -0.641255   \n",
       "\n",
       "   feature45  feature46  feature47  feature48  \n",
       "0  -0.190893  -0.092922  -0.083102  -0.137293  \n",
       "1  -0.281815   0.052248  -0.252821  -0.062742  \n",
       "2  -0.215649  -0.143602  -0.040214   0.066870  \n",
       "3  -0.048601   0.007141   0.094207  -0.016907  \n",
       "4   0.428474   0.568714  -0.014180  -0.372496  \n",
       "\n",
       "[5 rows x 57 columns]"
      ]
     },
     "execution_count": 66,
     "metadata": {},
     "output_type": "execute_result"
    }
   ],
   "source": [
    "CN_news_vector.head()"
   ]
  },
  {
   "cell_type": "code",
   "execution_count": 82,
   "metadata": {},
   "outputs": [
    {
     "name": "stdout",
     "output_type": "stream",
     "text": [
      "(71688, 57)\n",
      "(17923, 57)\n"
     ]
    }
   ],
   "source": [
    "train_data, test_data = train_test_split(CN_news_vector, test_size=0.2, random_state=1000)\n",
    "print(train_data.shape)\n",
    "print(test_data.shape)\n",
    "train_X, train_Y = train_data['vector'], train_data['label']\n",
    "test_X, test_Y = test_data['vector'], test_data['label']\n",
    "\n",
    "# change dataset structure\n",
    "train_X = [train_X.iloc[x] for x in range(train_X.shape[0])]\n",
    "train_Y = [train_Y.iloc[x] for x in range(train_Y.shape[0])]\n",
    "\n",
    "test_X = [test_X.iloc[x] for x in range(test_X.shape[0])]\n",
    "test_Y = [test_Y.iloc[x] for x in range(test_Y.shape[0])]"
   ]
  },
  {
   "cell_type": "code",
   "execution_count": 85,
   "metadata": {},
   "outputs": [
    {
     "data": {
      "text/plain": [
       "array([-0.05594846,  0.05122297,  0.02660196, -0.09916788,  0.01667983,\n",
       "       -0.06203043,  0.22534269, -0.12408984,  0.04964542, -0.05341836,\n",
       "       -0.01367599, -0.03642278,  0.06354875,  0.10985757, -0.0344713 ,\n",
       "        0.04121603,  0.18345152, -0.04628585, -0.01782935,  0.16877645,\n",
       "        0.00440141,  0.13015744, -0.07674067,  0.10362201,  0.0576628 ,\n",
       "        0.00486974, -0.14255305,  0.01368986,  0.09972315,  0.00694131,\n",
       "        0.13351764,  0.03716548, -0.00674113, -0.01180829,  0.07993937,\n",
       "        0.12565427,  0.02677841,  0.05199614,  0.0777334 , -0.05706843,\n",
       "        0.1818134 ,  0.13072513,  0.12473508,  0.02273336,  0.14583877,\n",
       "        0.05451009, -0.02672136, -0.04796594,  0.15594417,  0.04751449,\n",
       "       -0.09139748,  0.13835645, -0.02154704,  0.05248285, -0.04541029,\n",
       "        0.01624612,  0.03318876,  0.03429036, -0.13254574,  0.0656096 ,\n",
       "        0.0521662 ,  0.07624758,  0.15152815,  0.01285501, -0.02154922,\n",
       "       -0.0944293 , -0.0422186 ,  0.09562555,  0.09723705, -0.00526963,\n",
       "       -0.09391615,  0.00520993, -0.15807189, -0.11093252,  0.05655416,\n",
       "        0.1058362 , -0.0033126 ,  0.03158436, -0.02108735, -0.21832676,\n",
       "       -0.13581967, -0.04715452,  0.01696965, -0.02780481,  0.08233684,\n",
       "        0.06588711, -0.08942483,  0.06773948,  0.02641868, -0.01034353,\n",
       "       -0.0072453 ,  0.07365645, -0.0263747 , -0.10171896, -0.07570415,\n",
       "       -0.08507605,  0.04643192, -0.10590708, -0.00436797, -0.0541926 ],\n",
       "      dtype=float32)"
      ]
     },
     "execution_count": 85,
     "metadata": {},
     "output_type": "execute_result"
    }
   ],
   "source": [
    "train_X[0]\n",
    "# train_Y[:10]"
   ]
  },
  {
   "cell_type": "code",
   "execution_count": 95,
   "metadata": {},
   "outputs": [
    {
     "name": "stderr",
     "output_type": "stream",
     "text": [
      "/Users/wangqin/anaconda2/envs/py36/lib/python3.6/site-packages/sklearn/svm/base.py:193: FutureWarning: The default value of gamma will change from 'auto' to 'scale' in version 0.22 to account better for unscaled features. Set gamma explicitly to 'auto' or 'scale' to avoid this warning.\n",
      "  \"avoid this warning.\", FutureWarning)\n"
     ]
    },
    {
     "data": {
      "text/plain": [
       "SVC(C=1.0, cache_size=200, class_weight=None, coef0=0.0,\n",
       "    decision_function_shape='ovr', degree=3, gamma='auto_deprecated',\n",
       "    kernel='rbf', max_iter=-1, probability=True, random_state=None,\n",
       "    shrinking=True, tol=0.001, verbose=False)"
      ]
     },
     "execution_count": 95,
     "metadata": {},
     "output_type": "execute_result"
    }
   ],
   "source": [
    "# train\n",
    "clf = SVC(probability=True)\n",
    "clf.fit(train_X, train_Y)"
   ]
  },
  {
   "cell_type": "code",
   "execution_count": 116,
   "metadata": {},
   "outputs": [],
   "source": [
    "# predict y and probability\n",
    "y_pred = clf.predict(test_X)\n",
    "# y_pred = clf.decision_function(test_X)\n",
    "y_pred_prob = clf.predict_proba(test_X)"
   ]
  },
  {
   "cell_type": "code",
   "execution_count": 102,
   "metadata": {},
   "outputs": [
    {
     "name": "stdout",
     "output_type": "stream",
     "text": [
      "[1 1 1 1 1 1 1 1 1 1]\n",
      "[[0.07404704 0.92595296]\n",
      " [0.08823339 0.91176661]\n",
      " [0.05377264 0.94622736]\n",
      " [0.06777229 0.93222771]\n",
      " [0.06671284 0.93328716]\n",
      " [0.04608244 0.95391756]\n",
      " [0.06070159 0.93929841]\n",
      " [0.02565786 0.97434214]\n",
      " [0.05543944 0.94456056]\n",
      " [0.8834279  0.1165721 ]]\n"
     ]
    },
    {
     "data": {
      "text/plain": [
       "0.8900295709423646"
      ]
     },
     "execution_count": 102,
     "metadata": {},
     "output_type": "execute_result"
    }
   ],
   "source": [
    "# y_pred[:10]\n",
    "# test_Y[:10]\n",
    "print(y_pred[:10])\n",
    "print(y_pred_prob[:10])\n",
    "# compute accuracy\n",
    "accuracy = sum([1 if test_Y[x] == y_pred[x] else 0 for x in range(len(test_Y))]) / len(test_Y)\n",
    "accuracy #0.8900295709423646"
   ]
  },
  {
   "cell_type": "code",
   "execution_count": 117,
   "metadata": {},
   "outputs": [
    {
     "name": "stdout",
     "output_type": "stream",
     "text": [
      "AUPR =  0.9724773601798362\n",
      "F1 Score =  0.9411659353452136\n"
     ]
    },
    {
     "data": {
      "text/plain": [
       "Text(0.5, 1.0, 'Precision-Recall Curve')"
      ]
     },
     "execution_count": 117,
     "metadata": {},
     "output_type": "execute_result"
    },
    {
     "data": {
      "image/png": "[encoded data removed]",
      "text/plain": [
       "<Figure size 432x288 with 1 Axes>"
      ]
     },
     "metadata": {
      "needs_background": "light"
     },
     "output_type": "display_data"
    }
   ],
   "source": [
    "# PR-curve\n",
    "from sklearn.metrics import precision_recall_curve\n",
    "from sklearn.metrics import auc\n",
    "from sklearn.metrics import f1_score\n",
    "import matplotlib.pyplot as plt\n",
    "\n",
    "precision, recall, _ = precision_recall_curve(test_Y, y_pred_prob[:,1])\n",
    "AUPR = auc(recall, precision)\n",
    "print('AUPR = ', AUPR)\n",
    "F1_score = f1_score(test_Y, y_pred)\n",
    "print('F1 Score = ', F1_score)\n",
    "plt.plot(recall, precision, lw=2, label='SVM: ' + str(np.round(AUPR, 4)))\n",
    "plt.xlabel('Recall')\n",
    "plt.ylabel('Precision')\n",
    "plt.legend(loc='best')\n",
    "plt.title('Precision-Recall Curve')"
   ]
  },
  {
   "cell_type": "markdown",
   "metadata": {},
   "source": [
    "### Congratulations! You have completed all assignments in this week. The question below is optional. If you still have time, why don't try it out."
   ]
  },
  {
   "cell_type": "markdown",
   "metadata": {},
   "source": [
    "## Option:"
   ]
  },
  {
   "cell_type": "markdown",
   "metadata": {},
   "source": [
    "#### Try differnt machine learning algorithms with different combinations of parameters in the practical part, and compare their performances (Better use some visualization techiniques)."
   ]
  },
  {
   "cell_type": "markdown",
   "metadata": {},
   "source": [
    "### Using Naive Bayes"
   ]
  },
  {
   "cell_type": "code",
   "execution_count": 114,
   "metadata": {},
   "outputs": [],
   "source": [
    "from sklearn.naive_bayes import GaussianNB\n",
    "import numpy as np"
   ]
  },
  {
   "cell_type": "code",
   "execution_count": 109,
   "metadata": {},
   "outputs": [
    {
     "data": {
      "text/plain": [
       "GaussianNB(priors=None, var_smoothing=1e-09)"
      ]
     },
     "execution_count": 109,
     "metadata": {},
     "output_type": "execute_result"
    }
   ],
   "source": [
    "gnb = GaussianNB()\n",
    "gnb.fit(train_X, train_Y)"
   ]
  },
  {
   "cell_type": "code",
   "execution_count": 111,
   "metadata": {},
   "outputs": [],
   "source": [
    "y_pred_NB = gnb.predict(test_X)\n",
    "y_pred_NB_prob = gnb.predict_proba(test_X)"
   ]
  },
  {
   "cell_type": "code",
   "execution_count": 124,
   "metadata": {},
   "outputs": [
    {
     "data": {
      "text/plain": [
       "0.7927802265245774"
      ]
     },
     "execution_count": 124,
     "metadata": {},
     "output_type": "execute_result"
    }
   ],
   "source": [
    "accuracy_NB = sum([1 if test_Y[x] == y_pred_NB[x] else 0 for x in range(len(test_Y))]) / len(test_Y)\n",
    "accuracy_NB"
   ]
  },
  {
   "cell_type": "code",
   "execution_count": 132,
   "metadata": {},
   "outputs": [
    {
     "name": "stdout",
     "output_type": "stream",
     "text": [
      "AUPR =  0.9522298902384856\n",
      "F1 Score =  0.8767505143691512\n"
     ]
    },
    {
     "data": {
      "text/plain": [
       "[<matplotlib.lines.Line2D at 0x12f8a7278>]"
      ]
     },
     "execution_count": 132,
     "metadata": {},
     "output_type": "execute_result"
    },
    {
     "data": {
      "image/png": "[encoded data removed]",
      "text/plain": [
       "<Figure size 432x288 with 1 Axes>"
      ]
     },
     "metadata": {
      "needs_background": "light"
     },
     "output_type": "display_data"
    }
   ],
   "source": [
    "precision_NB, recall_NB, _ = precision_recall_curve(test_Y, y_pred_NB_prob[:,1])\n",
    "AUPR_NB = auc(recall_NB, precision_NB)\n",
    "print('AUPR = ', AUPR_NB)\n",
    "F1_score_NB = f1_score(test_Y, y_pred_NB)\n",
    "print('F1 Score = ', F1_score_NB)\n",
    "plt.plot(recall_NB, precision_NB, lw=2, label='NB: ' + str(np.round(AUPR_NB, 4)))"
   ]
  },
  {
   "cell_type": "markdown",
   "metadata": {},
   "source": [
    "### Using KNN"
   ]
  },
  {
   "cell_type": "code",
   "execution_count": 120,
   "metadata": {},
   "outputs": [],
   "source": [
    "## KNN\n",
    "from sklearn.neighbors import KNeighborsClassifier"
   ]
  },
  {
   "cell_type": "code",
   "execution_count": 122,
   "metadata": {},
   "outputs": [
    {
     "data": {
      "text/plain": [
       "KNeighborsClassifier(algorithm='auto', leaf_size=30, metric='minkowski',\n",
       "                     metric_params=None, n_jobs=None, n_neighbors=2, p=2,\n",
       "                     weights='uniform')"
      ]
     },
     "execution_count": 122,
     "metadata": {},
     "output_type": "execute_result"
    }
   ],
   "source": [
    "knn = KNeighborsClassifier(n_neighbors=2)\n",
    "knn.fit(train_X, train_Y)"
   ]
  },
  {
   "cell_type": "code",
   "execution_count": 123,
   "metadata": {},
   "outputs": [],
   "source": [
    "y_pred_KNN = knn.predict(test_X)\n",
    "y_pred_KNN_prob = knn.predict_proba(test_X)"
   ]
  },
  {
   "cell_type": "code",
   "execution_count": 128,
   "metadata": {},
   "outputs": [
    {
     "data": {
      "text/plain": [
       "0.9075489594375942"
      ]
     },
     "execution_count": 128,
     "metadata": {},
     "output_type": "execute_result"
    }
   ],
   "source": [
    "# accuracy_KNN = knn.score(test_X, test_Y)\n",
    "# accuracy_KNN # taking too long time"
   ]
  },
  {
   "cell_type": "code",
   "execution_count": 127,
   "metadata": {},
   "outputs": [
    {
     "data": {
      "text/plain": [
       "0.9075489594375942"
      ]
     },
     "execution_count": 127,
     "metadata": {},
     "output_type": "execute_result"
    }
   ],
   "source": [
    "accuracy_KNN = sum([1 if test_Y[x] == y_pred_KNN[x] else 0 for x in range(len(test_Y))]) / len(test_Y)\n",
    "accuracy_KNN"
   ]
  },
  {
   "cell_type": "code",
   "execution_count": 133,
   "metadata": {},
   "outputs": [
    {
     "name": "stdout",
     "output_type": "stream",
     "text": [
      "AUPR =  0.9819615719309953\n",
      "F1 Score =  0.946237954641316\n"
     ]
    },
    {
     "data": {
      "text/plain": [
       "[<matplotlib.lines.Line2D at 0x1300c49e8>]"
      ]
     },
     "execution_count": 133,
     "metadata": {},
     "output_type": "execute_result"
    },
    {
     "data": {
      "image/png": "[encoded data removed]",
      "text/plain": [
       "<Figure size 432x288 with 1 Axes>"
      ]
     },
     "metadata": {
      "needs_background": "light"
     },
     "output_type": "display_data"
    }
   ],
   "source": [
    "precision_KNN, recall_KNN, _ = precision_recall_curve(test_Y, y_pred_KNN_prob[:,1])\n",
    "AUPR_KNN = auc(recall_KNN, precision_KNN)\n",
    "print('AUPR = ', AUPR_KNN)\n",
    "F1_score_KNN = f1_score(test_Y, y_pred_KNN)\n",
    "print('F1 Score = ', F1_score_KNN)\n",
    "plt.plot(recall_KNN, precision_KNN, lw=2, label='KNN: ' + str(np.round(AUPR_KNN, 4)))"
   ]
  },
  {
   "cell_type": "markdown",
   "metadata": {},
   "source": [
    "### Using XGBoost"
   ]
  },
  {
   "cell_type": "code",
   "execution_count": 135,
   "metadata": {},
   "outputs": [],
   "source": [
    "## XGBoost\n",
    "from xgboost import XGBClassifier"
   ]
  },
  {
   "cell_type": "code",
   "execution_count": 137,
   "metadata": {},
   "outputs": [
    {
     "data": {
      "text/plain": [
       "XGBClassifier(base_score=0.5, booster='gbtree', colsample_bylevel=1,\n",
       "              colsample_bynode=1, colsample_bytree=1, gamma=0,\n",
       "              learning_rate=0.1, max_delta_step=0, max_depth=3,\n",
       "              min_child_weight=1, missing=None, n_estimators=100, n_jobs=1,\n",
       "              nthread=None, objective='binary:logistic', random_state=0,\n",
       "              reg_alpha=0, reg_lambda=1, scale_pos_weight=1, seed=None,\n",
       "              silent=None, subsample=1, verbosity=1)"
      ]
     },
     "execution_count": 137,
     "metadata": {},
     "output_type": "execute_result"
    }
   ],
   "source": [
    "XGB = XGBClassifier()\n",
    "XGB.fit(np.array(train_X), np.array(train_Y))"
   ]
  },
  {
   "cell_type": "code",
   "execution_count": 139,
   "metadata": {},
   "outputs": [],
   "source": [
    "y_pred_XGB = XGB.predict(np.array(test_X))\n",
    "y_pred_XGB_prob = XGB.predict_proba(np.array(test_X))"
   ]
  },
  {
   "cell_type": "code",
   "execution_count": 140,
   "metadata": {},
   "outputs": [
    {
     "data": {
      "text/plain": [
       "0.9209953690788373"
      ]
     },
     "execution_count": 140,
     "metadata": {},
     "output_type": "execute_result"
    }
   ],
   "source": [
    "accuracy_XGB = sum([1 if test_Y[x] == y_pred_XGB[x] else 0 for x in range(len(test_Y))]) / len(test_Y)\n",
    "accuracy_XGB"
   ]
  },
  {
   "cell_type": "code",
   "execution_count": 141,
   "metadata": {},
   "outputs": [
    {
     "name": "stdout",
     "output_type": "stream",
     "text": [
      "AUPR =  0.987744014735832\n",
      "F1 Score =  0.9566229628721972\n"
     ]
    },
    {
     "data": {
      "text/plain": [
       "[<matplotlib.lines.Line2D at 0x16ffd7860>]"
      ]
     },
     "execution_count": 141,
     "metadata": {},
     "output_type": "execute_result"
    },
    {
     "data": {
      "image/png": "[encoded data removed]",
      "text/plain": [
       "<Figure size 432x288 with 1 Axes>"
      ]
     },
     "metadata": {
      "needs_background": "light"
     },
     "output_type": "display_data"
    }
   ],
   "source": [
    "precision_XGB, recall_XGB, _ = precision_recall_curve(test_Y, y_pred_XGB_prob[:,1])\n",
    "AUPR_XGB = auc(recall_XGB, precision_XGB)\n",
    "print('AUPR = ', AUPR_XGB)\n",
    "F1_score_XGB = f1_score(test_Y, y_pred_XGB)\n",
    "print('F1 Score = ', F1_score_XGB)\n",
    "plt.plot(recall_XGB, precision_XGB, lw=2, label='XGBoost: ' + str(np.round(AUPR_XGB, 4)))"
   ]
  },
  {
   "cell_type": "markdown",
   "metadata": {},
   "source": [
    "## Summary"
   ]
  },
  {
   "cell_type": "code",
   "execution_count": 148,
   "metadata": {},
   "outputs": [
    {
     "data": {
      "image/png": "[encoded data removed]",
      "text/plain": [
       "<Figure size 432x288 with 1 Axes>"
      ]
     },
     "metadata": {
      "needs_background": "light"
     },
     "output_type": "display_data"
    }
   ],
   "source": [
    "plt.plot(recall, precision, lw=2, label='SVM: ' + str(np.round(AUPR, 4)))\n",
    "\n",
    "# Naive Bayes\n",
    "plt.plot(recall_NB, precision_NB, lw=2, label='NB: ' + str(np.round(AUPR_NB, 4)))\n",
    "\n",
    "# KNN\n",
    "plt.plot(recall_KNN, precision_KNN, lw=2, label='KNN: ' + str(np.round(AUPR_KNN, 4)))\n",
    "\n",
    "# XGBoost\n",
    "plt.plot(recall_XGB, precision_XGB, lw=2, label='XGBoost: ' + str(np.round(AUPR_XGB, 4)))\n",
    "\n",
    "plt.xlabel('Recall')\n",
    "plt.ylabel('Precision')\n",
    "plt.legend(loc='best')\n",
    "plt.title('Precision-Recall Curve')\n",
    "\n",
    "plt.show()"
   ]
  },
  {
   "cell_type": "code",
   "execution_count": 165,
   "metadata": {},
   "outputs": [
    {
     "data": {
      "text/plain": [
       "Text(0.5, 1.0, 'Accuracy')"
      ]
     },
     "execution_count": 165,
     "metadata": {},
     "output_type": "execute_result"
    },
    {
     "data": {
      "image/png": "[encoded data removed]",
      "text/plain": [
       "<Figure size 432x288 with 1 Axes>"
      ]
     },
     "metadata": {
      "needs_background": "light"
     },
     "output_type": "display_data"
    }
   ],
   "source": [
    "## Accuracy\n",
    "%matplotlib inline\n",
    "# plt.rcParams['axes.prop_cycle'].by_key()['color'][:4]\n",
    "plt.bar(['SVM','Naive Bayes','KNN','XGBosst'],[accuracy, accuracy_NB, accuracy_KNN, accuracy_XGB],color=[u'#1f77b4', u'#ff7f0e', u'#2ca02c', u'#d62728'])\n",
    "plt.title('Accuracy')"
   ]
  },
  {
   "cell_type": "code",
   "execution_count": 163,
   "metadata": {},
   "outputs": [],
   "source": [
    "# plt.rcParams['axes.prop_cycle'].by_key()['color']"
   ]
  },
  {
   "cell_type": "code",
   "execution_count": 166,
   "metadata": {},
   "outputs": [
    {
     "data": {
      "text/plain": [
       "Text(0.5, 1.0, 'F1 Score')"
      ]
     },
     "execution_count": 166,
     "metadata": {},
     "output_type": "execute_result"
    },
    {
     "data": {
      "image/png": "[encoded data removed]",
      "text/plain": [
       "<Figure size 432x288 with 1 Axes>"
      ]
     },
     "metadata": {
      "needs_background": "light"
     },
     "output_type": "display_data"
    }
   ],
   "source": [
    "## F1 score\n",
    "plt.bar(['SVM','Naive Bayes','KNN','XGBosst'],[F1_score, F1_score_NB, F1_score_KNN, F1_score_XGB],color=[u'#1f77b4', u'#ff7f0e', u'#2ca02c', u'#d62728'])\n",
    "plt.title('F1 Score')"
   ]
  },
  {
   "cell_type": "markdown",
   "metadata": {},
   "source": [
    "## Conclusion"
   ]
  },
  {
   "cell_type": "markdown",
   "metadata": {},
   "source": [
    "In general, the performance of XGBoost is the best, while that of Naive Bayes is the worst from three aspect of AUPR, Accuracy, and F1 score. By the way, SVM takes very long time to train in a dataset with tens of thousands samples, so it is worth thinking about data size before using SVM. "
   ]
  }
 ],
 "metadata": {
  "kernelspec": {
   "display_name": "Python 3",
   "language": "python",
   "name": "python3"
  },
  "language_info": {
   "codemirror_mode": {
    "name": "ipython",
    "version": 3
   },
   "file_extension": ".py",
   "mimetype": "text/x-python",
   "name": "python",
   "nbconvert_exporter": "python",
   "pygments_lexer": "ipython3",
   "version": "3.6.7"
  }
 },
 "nbformat": 4,
 "nbformat_minor": 2
}
