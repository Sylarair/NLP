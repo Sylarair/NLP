{
 "cells": [
  {
   "cell_type": "markdown",
   "metadata": {},
   "source": [
    "## Assignment-03 First Step of Machine Learning: Model and Evaluation"
   ]
  },
  {
   "cell_type": "markdown",
   "metadata": {},
   "source": [
    "同学们，今天我们的学习了基本的机器学习概念，相比你已经对机器学习的这些方法有一个基本的认识了。值得说明的是，机器学习不仅仅是一系列方法，更重要的是一种思维体系，即：依据以往的、现有的数据，构建某种方法来解决未见过的问题。而且决策树，贝叶斯只是实现这个目标的一个方法，包括之后的神经网络。很有可能有一天，神经网络也会被淘汰，但是重要的是我们要理解机器学习的目标，就是尽可能的自动化解决未知的问题。"
   ]
  },
  {
   "cell_type": "markdown",
   "metadata": {},
   "source": [
    "![](https://timgsa.baidu.com/timg?image&quality=80&size=b9999_10000&sec=1571556399207&di=4a97dc15ad08dd49d3748d1edf6109b3&imgtype=0&src=http%3A%2F%2Fc.hiphotos.baidu.com%2Fzhidao%2Fwh%3D450%2C600%2Fsign%3Dae742c6aedcd7b89e93932873a146e91%2F5d6034a85edf8db1b16050c40223dd54574e74c7.jpg)"
   ]
  },
  {
   "cell_type": "markdown",
   "metadata": {},
   "source": [
    "## Part-1 Programming Review 编程回顾"
   ]
  },
  {
   "cell_type": "markdown",
   "metadata": {},
   "source": [
    "### Re-code the Linear-Regression Model using scikit-learning(10 points)"
   ]
  },
  {
   "cell_type": "markdown",
   "metadata": {},
   "source": [
    "<评阅点>： \n",
    "> + 是否完成线性回归模型 (4')\n",
    "+ 能够进行预测新数据(3')\n",
    "+ 能够进行可视化操作(3')"
   ]
  },
  {
   "cell_type": "code",
   "execution_count": 52,
   "metadata": {
    "ExecuteTime": {
     "end_time": "2019-10-21T04:56:37.988307Z",
     "start_time": "2019-10-21T04:56:36.431010Z"
    }
   },
   "outputs": [],
   "source": [
    "import sklearn\n",
    "import matplotlib.pyplot as plt\n",
    "import numpy as np\n",
    "import pandas as pd\n",
    "import random\n",
    "from icecream import ic"
   ]
  },
  {
   "cell_type": "code",
   "execution_count": 53,
   "metadata": {
    "ExecuteTime": {
     "end_time": "2019-10-21T04:56:38.318374Z",
     "start_time": "2019-10-21T04:56:37.991479Z"
    }
   },
   "outputs": [
    {
     "data": {
      "text/plain": [
       "<matplotlib.collections.PathCollection at 0x1252fc518>"
      ]
     },
     "execution_count": 53,
     "metadata": {},
     "output_type": "execute_result"
    },
    {
     "data": {
      "image/png": "[encoded data removed]",
      "text/plain": [
       "<Figure size 432x288 with 1 Axes>"
      ]
     },
     "metadata": {
      "needs_background": "light"
     },
     "output_type": "display_data"
    }
   ],
   "source": [
    "# %matplotlib inline\n",
    "random_data = np.random.random((100, 2))\n",
    "X = random_data[:, 0]\n",
    "Y = random_data[:,1]\n",
    "\n",
    "plt.scatter(X, Y)\n"
   ]
  },
  {
   "cell_type": "code",
   "execution_count": 54,
   "metadata": {},
   "outputs": [
    {
     "data": {
      "text/plain": [
       "array([0.31573223, 0.00410825, 0.55437999, 0.84186422, 0.77790322,\n",
       "       0.19021373, 0.40424763, 0.48371694, 0.77346337, 0.15429256,\n",
       "       0.43659977, 0.53871638, 0.85427712, 0.29193464, 0.33842815,\n",
       "       0.8644174 , 0.24997996, 0.26005657, 0.3212103 , 0.77136313,\n",
       "       0.08173956, 0.51537112, 0.23398755, 0.39637264, 0.02288596,\n",
       "       0.45468367, 0.12552755, 0.49703001, 0.19711692, 0.86787222,\n",
       "       0.0800625 , 0.40133219, 0.29848802, 0.37364074, 0.48541385,\n",
       "       0.86368215, 0.15468894, 0.09860573, 0.13139082, 0.53479105,\n",
       "       0.72301074, 0.4955368 , 0.81911599, 0.97061137, 0.07317147,\n",
       "       0.13634921, 0.850582  , 0.65809112, 0.37886255, 0.50566483,\n",
       "       0.86771236, 0.43378843, 0.1059401 , 0.34667023, 0.63214048,\n",
       "       0.18239131, 0.22985089, 0.80623978, 0.74093624, 0.07894499,\n",
       "       0.54281535, 0.87374025, 0.19366415, 0.84745453, 0.32025897,\n",
       "       0.78345065, 0.67471574, 0.18651578, 0.05855921, 0.95064519,\n",
       "       0.79308749, 0.49564063, 0.03997967, 0.48777768, 0.2247224 ,\n",
       "       0.24402481, 0.64158199, 0.52173598, 0.93043457, 0.16673646,\n",
       "       0.31063531, 0.42756746, 0.51920322, 0.47144106, 0.41960952,\n",
       "       0.46400091, 0.59978559, 0.27729122, 0.69479869, 0.09336072,\n",
       "       0.00708193, 0.29800187, 0.09220354, 0.34439702, 0.93377493,\n",
       "       0.54767148, 0.11468527, 0.0325615 , 0.82713693, 0.00941244])"
      ]
     },
     "execution_count": 54,
     "metadata": {},
     "output_type": "execute_result"
    }
   ],
   "source": [
    "random_data\n",
    "X"
   ]
  },
  {
   "cell_type": "code",
   "execution_count": 55,
   "metadata": {
    "ExecuteTime": {
     "end_time": "2019-10-21T04:57:23.174252Z",
     "start_time": "2019-10-21T04:57:22.888018Z"
    }
   },
   "outputs": [
    {
     "data": {
      "text/plain": [
       "<matplotlib.collections.PathCollection at 0x1250509b0>"
      ]
     },
     "execution_count": 55,
     "metadata": {},
     "output_type": "execute_result"
    },
    {
     "data": {
      "image/png": "[encoded data removed]",
      "text/plain": [
       "<Figure size 432x288 with 1 Axes>"
      ]
     },
     "metadata": {
      "needs_background": "light"
     },
     "output_type": "display_data"
    }
   ],
   "source": [
    "y = [20 * x + 5 + random.randint(-10, 10) for x in X]\n",
    "\n",
    "plt.scatter(X, y)"
   ]
  },
  {
   "cell_type": "markdown",
   "metadata": {},
   "source": [
    "线性回归\n",
    "$$ y = k * x + b $$"
   ]
  },
  {
   "cell_type": "code",
   "execution_count": 56,
   "metadata": {
    "ExecuteTime": {
     "end_time": "2019-10-21T04:57:29.565405Z",
     "start_time": "2019-10-21T04:57:29.560876Z"
    }
   },
   "outputs": [],
   "source": [
    "from sklearn.linear_model import LinearRegression\n",
    "\n",
    "reg = LinearRegression().fit(X.reshape(-1, 1), y)"
   ]
  },
  {
   "cell_type": "code",
   "execution_count": 57,
   "metadata": {
    "ExecuteTime": {
     "end_time": "2019-10-21T04:57:32.028842Z",
     "start_time": "2019-10-21T04:57:32.022263Z"
    }
   },
   "outputs": [
    {
     "name": "stdout",
     "output_type": "stream",
     "text": [
      "回归线的k值是: [20.92273627]\n",
      "回归线的截距b是: 4.296401044507183\n",
      "回归线的R^2是: 0.5212893856673254\n"
     ]
    }
   ],
   "source": [
    "print('回归线的k值是: {0}'.format(reg.coef_))\n",
    "print('回归线的截距b是: {0}'.format(reg.intercept_))\n",
    "print('回归线的R^2是: {0}'.format(reg.score(X.reshape(-1, 1), y)))"
   ]
  },
  {
   "cell_type": "code",
   "execution_count": 58,
   "metadata": {
    "ExecuteTime": {
     "end_time": "2019-10-21T04:57:34.427412Z",
     "start_time": "2019-10-21T04:57:34.424581Z"
    }
   },
   "outputs": [],
   "source": [
    "### function of predicting new data\n",
    "def regression_value(x):\n",
    "    return reg.coef_ * x + reg.intercept_"
   ]
  },
  {
   "cell_type": "code",
   "execution_count": 59,
   "metadata": {
    "ExecuteTime": {
     "end_time": "2019-10-21T04:57:39.138251Z",
     "start_time": "2019-10-21T04:57:38.829746Z"
    }
   },
   "outputs": [
    {
     "data": {
      "text/plain": [
       "[<matplotlib.lines.Line2D at 0x12586e9b0>]"
      ]
     },
     "execution_count": 59,
     "metadata": {},
     "output_type": "execute_result"
    },
    {
     "data": {
      "image/png": "[encoded data removed]",
      "text/plain": [
       "<Figure size 432x288 with 1 Axes>"
      ]
     },
     "metadata": {
      "needs_background": "light"
     },
     "output_type": "display_data"
    }
   ],
   "source": [
    "plt.scatter(X, y)\n",
    "plt.plot(X, regression_value(X), color = 'red')"
   ]
  },
  {
   "cell_type": "code",
   "execution_count": 60,
   "metadata": {
    "ExecuteTime": {
     "end_time": "2019-10-21T04:57:42.464710Z",
     "start_time": "2019-10-21T04:57:42.104531Z"
    }
   },
   "outputs": [
    {
     "data": {
      "text/plain": [
       "<matplotlib.collections.PathCollection at 0x125786cc0>"
      ]
     },
     "execution_count": 60,
     "metadata": {},
     "output_type": "execute_result"
    },
    {
     "data": {
      "image/png": "[encoded data removed]",
      "text/plain": [
       "<Figure size 432x288 with 1 Axes>"
      ]
     },
     "metadata": {
      "needs_background": "light"
     },
     "output_type": "display_data"
    }
   ],
   "source": [
    "def generate_random_X(n): # n means the number of randomed data\n",
    "    return [np.random.random((50, 2)) for i in range(n)]\n",
    "\n",
    "new_dataset_X = generate_random_X(100)\n",
    "\n",
    "## plot\n",
    "plt.scatter(new_dataset_X, regression_value(new_dataset_X))"
   ]
  },
  {
   "cell_type": "markdown",
   "metadata": {},
   "source": [
    "### Complete the unfinished KNN Model using pure python to solve the previous Line-Regression problem. (8 points)"
   ]
  },
  {
   "cell_type": "markdown",
   "metadata": {},
   "source": [
    "<评阅点>:\n",
    "> + 是否完成了KNN模型 (4')\n",
    "+ 是否能够预测新的数据 (4')"
   ]
  },
  {
   "cell_type": "code",
   "execution_count": 61,
   "metadata": {
    "ExecuteTime": {
     "end_time": "2019-10-21T04:57:47.596189Z",
     "start_time": "2019-10-21T04:57:47.592142Z"
    }
   },
   "outputs": [],
   "source": [
    "from scipy.spatial.distance import cosine\n",
    "\n",
    "def model(X, y):\n",
    "    return [(Xi, yi) for Xi, yi in zip(X, y)]"
   ]
  },
  {
   "cell_type": "code",
   "execution_count": 62,
   "metadata": {
    "ExecuteTime": {
     "end_time": "2019-10-21T04:57:48.674550Z",
     "start_time": "2019-10-21T04:57:48.671367Z"
    }
   },
   "outputs": [],
   "source": [
    "def distance(x1, x2):\n",
    "    return cosine(x1, x2)"
   ]
  },
  {
   "cell_type": "code",
   "execution_count": 63,
   "metadata": {
    "ExecuteTime": {
     "end_time": "2019-10-21T04:57:50.266872Z",
     "start_time": "2019-10-21T04:57:50.261881Z"
    }
   },
   "outputs": [],
   "source": [
    "from collections import Counter\n",
    "def predict(x, k=5):\n",
    "    most_similars = sorted(model(X, y), key=lambda xi: distance(xi[0], x))[:k]\n",
    "    return np.mean([i[1] for i in most_similars]) # get the mean of the most similar sets' values"
   ]
  },
  {
   "cell_type": "code",
   "execution_count": 64,
   "metadata": {
    "ExecuteTime": {
     "end_time": "2019-10-21T04:57:56.394062Z",
     "start_time": "2019-10-21T04:57:56.383849Z"
    }
   },
   "outputs": [
    {
     "data": {
      "text/plain": [
       "12.633255756138771"
      ]
     },
     "execution_count": 64,
     "metadata": {},
     "output_type": "execute_result"
    }
   ],
   "source": [
    "predict(0.892533725055378)"
   ]
  },
  {
   "cell_type": "markdown",
   "metadata": {},
   "source": [
    "### Re-code the Decision Tree, which could sort the features by salience. (12 points)"
   ]
  },
  {
   "cell_type": "markdown",
   "metadata": {},
   "source": [
    "<评阅点>\n",
    "> + 是否实现了信息熵 (1' )\n",
    "+ 是否实现了最优先特征点的选择(5')\n",
    "+ 是否实现了持续的特征选则(6')"
   ]
  },
  {
   "cell_type": "code",
   "execution_count": 65,
   "metadata": {
    "ExecuteTime": {
     "end_time": "2019-10-21T04:58:04.128386Z",
     "start_time": "2019-10-21T04:58:04.123605Z"
    }
   },
   "outputs": [],
   "source": [
    "from collections import defaultdict\n",
    "\n",
    "def entropy(inlist):\n",
    "    Entropy = 0\n",
    "    for i in set(inlist):\n",
    "        single_frequency = inlist.count(i) / len(inlist)\n",
    "        Entropy += single_frequency * np.log(single_frequency)\n",
    "        \n",
    "    return -1 * Entropy\n",
    "    "
   ]
  },
  {
   "cell_type": "code",
   "execution_count": 66,
   "metadata": {
    "ExecuteTime": {
     "end_time": "2019-10-22T00:56:01.389488Z",
     "start_time": "2019-10-22T00:56:01.381568Z"
    }
   },
   "outputs": [],
   "source": [
    "def createDataSet():\n",
    "\tdataSet = [[-10, 2, 0, 'F', 0],\t\t\t\t\t\t#数据集\n",
    "\t\t\t[-10, 2, 1, 'F', 0],\n",
    "\t\t\t[-10, 2, 1, 'M', 1],\n",
    "\t\t\t[-10, 1, 0, 'M', 1],\n",
    "\t\t\t[-10, 2, 0, 'F', 0],\n",
    "\t\t\t[10, 2, 0, 'F', 0],\n",
    "\t\t\t[10, 2, 1, 'F', 0],\n",
    "\t\t\t[10, 1, 1, 'M', 1],\n",
    "\t\t\t[10, 1, 2, 'F', 1],\n",
    "\t\t\t[10, 1, 2, 'F', 1],\n",
    "\t\t\t[20, 1, 2, 'F', 1],\n",
    "\t\t\t[20, 1, 1, 'F', 1],\n",
    "\t\t\t[20, 2, 1, 'M', 1],\n",
    "\t\t\t[20, 2, 2, 'M', 1],\n",
    "\t\t\t[20, 2, 0, 'F', 0]]\n",
    "\tlabels = ['income', 'family_number', 'loan', 'gender', 'bought']\t\t#特征标签\n",
    "\treturn dataSet \t\t\t\t\t\t\t#返回数据集和分类属性\n",
    "\n",
    "mock_data = createDataSet()"
   ]
  },
  {
   "cell_type": "code",
   "execution_count": 67,
   "metadata": {
    "ExecuteTime": {
     "end_time": "2019-10-22T00:56:02.834634Z",
     "start_time": "2019-10-22T00:56:02.821795Z"
    }
   },
   "outputs": [
    {
     "data": {
      "text/html": [
       "<div>\n",
       "<style scoped>\n",
       "    .dataframe tbody tr th:only-of-type {\n",
       "        vertical-align: middle;\n",
       "    }\n",
       "\n",
       "    .dataframe tbody tr th {\n",
       "        vertical-align: top;\n",
       "    }\n",
       "\n",
       "    .dataframe thead th {\n",
       "        text-align: right;\n",
       "    }\n",
       "</style>\n",
       "<table border=\"1\" class=\"dataframe\">\n",
       "  <thead>\n",
       "    <tr style=\"text-align: right;\">\n",
       "      <th></th>\n",
       "      <th>income</th>\n",
       "      <th>family_number</th>\n",
       "      <th>loan</th>\n",
       "      <th>gender</th>\n",
       "      <th>bought</th>\n",
       "    </tr>\n",
       "  </thead>\n",
       "  <tbody>\n",
       "    <tr>\n",
       "      <td>0</td>\n",
       "      <td>-10</td>\n",
       "      <td>2</td>\n",
       "      <td>0</td>\n",
       "      <td>F</td>\n",
       "      <td>0</td>\n",
       "    </tr>\n",
       "    <tr>\n",
       "      <td>1</td>\n",
       "      <td>-10</td>\n",
       "      <td>2</td>\n",
       "      <td>1</td>\n",
       "      <td>F</td>\n",
       "      <td>0</td>\n",
       "    </tr>\n",
       "    <tr>\n",
       "      <td>2</td>\n",
       "      <td>-10</td>\n",
       "      <td>2</td>\n",
       "      <td>1</td>\n",
       "      <td>M</td>\n",
       "      <td>1</td>\n",
       "    </tr>\n",
       "    <tr>\n",
       "      <td>3</td>\n",
       "      <td>-10</td>\n",
       "      <td>1</td>\n",
       "      <td>0</td>\n",
       "      <td>M</td>\n",
       "      <td>1</td>\n",
       "    </tr>\n",
       "    <tr>\n",
       "      <td>4</td>\n",
       "      <td>-10</td>\n",
       "      <td>2</td>\n",
       "      <td>0</td>\n",
       "      <td>F</td>\n",
       "      <td>0</td>\n",
       "    </tr>\n",
       "    <tr>\n",
       "      <td>5</td>\n",
       "      <td>10</td>\n",
       "      <td>2</td>\n",
       "      <td>0</td>\n",
       "      <td>F</td>\n",
       "      <td>0</td>\n",
       "    </tr>\n",
       "    <tr>\n",
       "      <td>6</td>\n",
       "      <td>10</td>\n",
       "      <td>2</td>\n",
       "      <td>1</td>\n",
       "      <td>F</td>\n",
       "      <td>0</td>\n",
       "    </tr>\n",
       "    <tr>\n",
       "      <td>7</td>\n",
       "      <td>10</td>\n",
       "      <td>1</td>\n",
       "      <td>1</td>\n",
       "      <td>M</td>\n",
       "      <td>1</td>\n",
       "    </tr>\n",
       "    <tr>\n",
       "      <td>8</td>\n",
       "      <td>10</td>\n",
       "      <td>1</td>\n",
       "      <td>2</td>\n",
       "      <td>F</td>\n",
       "      <td>1</td>\n",
       "    </tr>\n",
       "    <tr>\n",
       "      <td>9</td>\n",
       "      <td>10</td>\n",
       "      <td>1</td>\n",
       "      <td>2</td>\n",
       "      <td>F</td>\n",
       "      <td>1</td>\n",
       "    </tr>\n",
       "    <tr>\n",
       "      <td>10</td>\n",
       "      <td>20</td>\n",
       "      <td>1</td>\n",
       "      <td>2</td>\n",
       "      <td>F</td>\n",
       "      <td>1</td>\n",
       "    </tr>\n",
       "    <tr>\n",
       "      <td>11</td>\n",
       "      <td>20</td>\n",
       "      <td>1</td>\n",
       "      <td>1</td>\n",
       "      <td>F</td>\n",
       "      <td>1</td>\n",
       "    </tr>\n",
       "    <tr>\n",
       "      <td>12</td>\n",
       "      <td>20</td>\n",
       "      <td>2</td>\n",
       "      <td>1</td>\n",
       "      <td>M</td>\n",
       "      <td>1</td>\n",
       "    </tr>\n",
       "    <tr>\n",
       "      <td>13</td>\n",
       "      <td>20</td>\n",
       "      <td>2</td>\n",
       "      <td>2</td>\n",
       "      <td>M</td>\n",
       "      <td>1</td>\n",
       "    </tr>\n",
       "    <tr>\n",
       "      <td>14</td>\n",
       "      <td>20</td>\n",
       "      <td>2</td>\n",
       "      <td>0</td>\n",
       "      <td>F</td>\n",
       "      <td>0</td>\n",
       "    </tr>\n",
       "  </tbody>\n",
       "</table>\n",
       "</div>"
      ],
      "text/plain": [
       "    income  family_number  loan gender  bought\n",
       "0      -10              2     0      F       0\n",
       "1      -10              2     1      F       0\n",
       "2      -10              2     1      M       1\n",
       "3      -10              1     0      M       1\n",
       "4      -10              2     0      F       0\n",
       "5       10              2     0      F       0\n",
       "6       10              2     1      F       0\n",
       "7       10              1     1      M       1\n",
       "8       10              1     2      F       1\n",
       "9       10              1     2      F       1\n",
       "10      20              1     2      F       1\n",
       "11      20              1     1      F       1\n",
       "12      20              2     1      M       1\n",
       "13      20              2     2      M       1\n",
       "14      20              2     0      F       0"
      ]
     },
     "execution_count": 67,
     "metadata": {},
     "output_type": "execute_result"
    }
   ],
   "source": [
    "dataset = pd.DataFrame.from_dict(mock_data)\n",
    "dataset.columns = ['income', 'family_number', 'loan', 'gender', 'bought']\n",
    "dataset"
   ]
  },
  {
   "cell_type": "code",
   "execution_count": 68,
   "metadata": {
    "ExecuteTime": {
     "end_time": "2019-10-21T16:19:03.335341Z",
     "start_time": "2019-10-21T16:19:03.329667Z"
    }
   },
   "outputs": [],
   "source": [
    "family_number_set1 = dataset[dataset['family_number']==1]\n",
    "family_number_set2 = dataset[dataset['family_number']!=1]"
   ]
  },
  {
   "cell_type": "code",
   "execution_count": 69,
   "metadata": {
    "ExecuteTime": {
     "end_time": "2019-10-21T16:19:04.444962Z",
     "start_time": "2019-10-21T16:19:04.439423Z"
    }
   },
   "outputs": [
    {
     "data": {
      "text/plain": [
       "0.6365141682948128"
      ]
     },
     "execution_count": 69,
     "metadata": {},
     "output_type": "execute_result"
    }
   ],
   "source": [
    "entropy(family_number_set1['bought'].tolist()) + entropy(family_number_set2['bought'].tolist())"
   ]
  },
  {
   "cell_type": "code",
   "execution_count": 70,
   "metadata": {
    "ExecuteTime": {
     "end_time": "2019-10-21T16:19:05.797448Z",
     "start_time": "2019-10-21T16:19:05.789596Z"
    }
   },
   "outputs": [
    {
     "data": {
      "text/plain": [
       "0.6730116670092565"
      ]
     },
     "execution_count": 70,
     "metadata": {},
     "output_type": "execute_result"
    }
   ],
   "source": [
    "gender_set1 = dataset[dataset['gender']=='F']\n",
    "gender_set2 = dataset[dataset['gender']!='F']\n",
    "entropy(gender_set1['bought'].tolist()) + entropy(gender_set2['bought'].tolist())"
   ]
  },
  {
   "cell_type": "code",
   "execution_count": 71,
   "metadata": {
    "ExecuteTime": {
     "end_time": "2019-10-22T00:42:55.025967Z",
     "start_time": "2019-10-22T00:42:53.768889Z"
    }
   },
   "outputs": [
    {
     "name": "stdout",
     "output_type": "stream",
     "text": [
      "spliter is: ('family_number', 2)\n",
      "the min entropy is: 0.6365141682948128\n",
      "{'family_number', 'income', 'loan', 'gender'}\n"
     ]
    },
    {
     "data": {
      "text/plain": [
       "0"
      ]
     },
     "execution_count": 71,
     "metadata": {},
     "output_type": "execute_result"
    }
   ],
   "source": [
    "def best_feature_selection(training_data, target):\n",
    "    x_fields = set(training_data.columns.tolist()) - {target}\n",
    "    # Warning! the set is unordered, so using set to remove 'bought' would change the order of colnames\n",
    "    spliter = None\n",
    "    min_entropy = float('inf') # set initialized minimal entropy as Inf, then adjust it in the following steps.\n",
    "    \n",
    "    for f in x_fields:\n",
    "#         ic(f)\n",
    "        values = set(training_data[f])\n",
    "#         ic(values)\n",
    "        for v in values:\n",
    "            sub_spliter_1 = training_data[training_data[f] == v][target].tolist()\n",
    "            entropy_1 = entropy(sub_spliter_1)\n",
    "\n",
    "            sub_spliter_2 = training_data[training_data[f] != v][target].tolist()\n",
    "            entropy_2 = entropy(sub_spliter_2)\n",
    "\n",
    "            entropy_sum = entropy_1 + entropy_2\n",
    "#             ic(entropy_sum)\n",
    "            \n",
    "            if entropy_sum <= min_entropy:\n",
    "                min_entropy = entropy_sum\n",
    "                spliter = (f, v)\n",
    "    \n",
    "    print('spliter is: {}'.format(spliter))\n",
    "    print('the min entropy is: {}'.format(min_entropy))\n",
    "    print(x_fields)\n",
    "    return list(x_fields).index(spliter[0]) #+ (min_entropy)\n",
    " \n",
    "best_feature_selection(dataset, target = 'bought')"
   ]
  },
  {
   "cell_type": "code",
   "execution_count": 72,
   "metadata": {
    "ExecuteTime": {
     "end_time": "2019-10-21T13:33:55.337042Z",
     "start_time": "2019-10-21T13:33:55.329562Z"
    }
   },
   "outputs": [],
   "source": [
    "from collections import Counter\n",
    "def get_most_label(classList):\n",
    "    classDict = Counter(classList).most_common()\n",
    "    return list(classDict)[0][0] # retrieve the most frequent element\n",
    "# get_most_label([1, 1, 1, 2, 2, 3])"
   ]
  },
  {
   "cell_type": "code",
   "execution_count": 73,
   "metadata": {
    "ExecuteTime": {
     "end_time": "2019-10-21T16:09:49.846990Z",
     "start_time": "2019-10-21T16:09:49.841827Z"
    }
   },
   "outputs": [],
   "source": [
    "def split_data(dataframe, feature, _value):\n",
    "    dataframe2 = dataframe[dataframe[feature]==_value]\n",
    "    dataframe3 = dataframe2.drop(feature, 1)\n",
    "    \n",
    "    return dataframe3"
   ]
  },
  {
   "cell_type": "code",
   "execution_count": 74,
   "metadata": {
    "ExecuteTime": {
     "end_time": "2019-10-21T15:56:20.889858Z",
     "start_time": "2019-10-21T15:56:20.879861Z"
    }
   },
   "outputs": [],
   "source": [
    "from collections import Counter\n",
    "def get_most_choice_in_training_set(training_data, target):\n",
    "    return list(Counter(training_data[target].values.tolist()).most_common())[0][0]"
   ]
  },
  {
   "cell_type": "code",
   "execution_count": 75,
   "metadata": {
    "ExecuteTime": {
     "end_time": "2019-10-22T01:00:36.659226Z",
     "start_time": "2019-10-22T01:00:36.649266Z"
    }
   },
   "outputs": [],
   "source": [
    "def createDataSet2():\n",
    "\tdataSet = [[0, 0, 0, 0, 'no'],\t\t\t\t\t\t#数据集\n",
    "\t\t\t[0, 0, 0, 1, 'no'],\n",
    "\t\t\t[0, 1, 0, 1, 'yes'],\n",
    "\t\t\t[0, 1, 1, 0, 'yes'],\n",
    "\t\t\t[0, 0, 0, 0, 'no'],\n",
    "\t\t\t[1, 0, 0, 0, 'no'],\n",
    "\t\t\t[1, 0, 0, 1, 'no'],\n",
    "\t\t\t[1, 1, 1, 1, 'yes'],\n",
    "\t\t\t[1, 0, 1, 2, 'yes'],\n",
    "\t\t\t[1, 0, 1, 2, 'yes'],\n",
    "\t\t\t[2, 0, 1, 2, 'yes'],\n",
    "\t\t\t[2, 0, 1, 1, 'yes'],\n",
    "\t\t\t[2, 1, 0, 1, 'yes'],\n",
    "\t\t\t[2, 1, 0, 2, 'yes'],\n",
    "\t\t\t[2, 0, 0, 0, 'no']]\n",
    "\tlabels = ['年龄', '有工作', '有自己的房子', '信贷情况']\t\t#特征标签\n",
    "\treturn dataSet, labels \t\t\t\t\t\t\t#返回数据集和分类属性"
   ]
  },
  {
   "cell_type": "code",
   "execution_count": 77,
   "metadata": {
    "ExecuteTime": {
     "start_time": "2019-10-22T01:05:08.668Z"
    },
    "code_folding": []
   },
   "outputs": [
    {
     "name": "stdout",
     "output_type": "stream",
     "text": [
      "spliter is: ('family_number', 2)\n",
      "the min entropy is: 0.6365141682948128\n",
      "{'family_number', 'income', 'loan', 'gender'}\n",
      "spliter is: ('gender', 'F')\n",
      "the min entropy is: -0.0\n",
      "{'income', 'loan', 'gender'}\n"
     ]
    }
   ],
   "source": [
    "def continous_best_feature_selection(training_data, target, labels, featLabels):\n",
    "    feature_chosen_list = []\n",
    "    feature_entropy_dict = {}\n",
    "    \n",
    "    ClassList = training_data.loc[:, 'bought'].values.tolist()\n",
    "\n",
    "    if len(ClassList) == 0:\n",
    "        return get_most_choice_in_training_set(dataset, target)\n",
    "    elif len(ClassList) == ClassList.count(ClassList[0]):\n",
    "        return ClassList[0]\n",
    "    elif len(labels) == 0 or training_data.shape[1] == 1:\n",
    "        return get_most_label(ClassList)\n",
    "    \n",
    "    best_feature_index = best_feature_selection(training_data, target)\n",
    "    best_feature = labels[best_feature_index]\n",
    "    \n",
    "    featLabels.append(best_feature)\n",
    "    myTree = {best_feature:{}}\n",
    "    del labels[best_feature_index]\n",
    "#     print(best_feature_index)\n",
    "#     print(training_data)\n",
    "    unique_feature_values = set([i[best_feature_index] for i in training_data.values.tolist()])\n",
    "    for value in unique_feature_values:\n",
    "            subLabels = labels[:]\n",
    "            myTree[best_feature][value] = continous_best_feature_selection(split_data(training_data, best_feature, value), target, subLabels, featLabels)\n",
    "    return myTree\n",
    "\n",
    "Labels = list(set(dataset.columns.tolist()) - {'bought'}) #[i for i in dataset.columns.tolist() if i != 'bought'] #\n",
    "dataset2 = dataset.loc[:, Labels + ['bought']]\n",
    "Tree_model = continous_best_feature_selection(dataset2, 'bought', Labels, [])"
   ]
  },
  {
   "cell_type": "markdown",
   "metadata": {},
   "source": [
    "### Finish the K-Means using 2-D matplotlib (8 points)"
   ]
  },
  {
   "cell_type": "markdown",
   "metadata": {},
   "source": [
    "<评阅点>\n",
    "> + 是否完成了KMeans模型，基于scikit-learning (3')\n",
    "+ 是否完成了可视化任务（5'）"
   ]
  },
  {
   "cell_type": "code",
   "execution_count": 78,
   "metadata": {
    "ExecuteTime": {
     "end_time": "2019-10-21T05:20:42.080100Z",
     "start_time": "2019-10-21T05:20:42.077068Z"
    }
   },
   "outputs": [],
   "source": [
    "from sklearn.cluster import KMeans"
   ]
  },
  {
   "cell_type": "markdown",
   "metadata": {},
   "source": [
    "## Part-2 Question and Answer 问答"
   ]
  },
  {
   "cell_type": "code",
   "execution_count": 79,
   "metadata": {
    "ExecuteTime": {
     "end_time": "2019-10-21T05:20:47.372732Z",
     "start_time": "2019-10-21T05:20:47.368824Z"
    }
   },
   "outputs": [],
   "source": [
    "X = [random.randint(0, 100) for i in range(100)]\n",
    "Y = [random.randint(0, 100) for i in range(100)]"
   ]
  },
  {
   "cell_type": "markdown",
   "metadata": {},
   "source": [
    "### 1. What's the *model*? why  all the models are wrong, but some are useful? (5 points) "
   ]
  },
  {
   "cell_type": "code",
   "execution_count": 80,
   "metadata": {
    "ExecuteTime": {
     "end_time": "2019-10-21T05:21:02.543054Z",
     "start_time": "2019-10-21T05:21:02.297781Z"
    }
   },
   "outputs": [
    {
     "data": {
      "text/plain": [
       "<matplotlib.collections.PathCollection at 0x125777a58>"
      ]
     },
     "execution_count": 80,
     "metadata": {},
     "output_type": "execute_result"
    },
    {
     "data": {
      "image/png": "[encoded data removed]",
      "text/plain": [
       "<Figure size 432x288 with 1 Axes>"
      ]
     },
     "metadata": {
      "needs_background": "light"
     },
     "output_type": "display_data"
    }
   ],
   "source": [
    "plt.scatter(X, Y)"
   ]
  },
  {
   "cell_type": "markdown",
   "metadata": {},
   "source": [
    "Ans:"
   ]
  },
  {
   "cell_type": "code",
   "execution_count": 81,
   "metadata": {
    "ExecuteTime": {
     "end_time": "2019-10-21T05:09:40.466391Z",
     "start_time": "2019-10-21T05:09:40.462964Z"
    }
   },
   "outputs": [],
   "source": [
    "training_data = [[i, j] for i, j in zip(X, Y)]"
   ]
  },
  {
   "cell_type": "code",
   "execution_count": 82,
   "metadata": {
    "ExecuteTime": {
     "end_time": "2019-10-21T05:10:40.887167Z",
     "start_time": "2019-10-21T05:10:40.883378Z"
    }
   },
   "outputs": [],
   "source": [
    "cluster = KMeans(n_clusters=5, max_iter=1000)"
   ]
  },
  {
   "cell_type": "markdown",
   "metadata": {},
   "source": [
    "<评阅点>\n",
    "> + 对模型的理解是否正确,对模型的抽象性是否正确(5')"
   ]
  },
  {
   "cell_type": "code",
   "execution_count": 83,
   "metadata": {
    "ExecuteTime": {
     "end_time": "2019-10-21T05:11:30.460757Z",
     "start_time": "2019-10-21T05:11:30.399975Z"
    }
   },
   "outputs": [
    {
     "data": {
      "text/plain": [
       "KMeans(algorithm='auto', copy_x=True, init='k-means++', max_iter=1000,\n",
       "       n_clusters=5, n_init=10, n_jobs=None, precompute_distances='auto',\n",
       "       random_state=None, tol=0.0001, verbose=0)"
      ]
     },
     "execution_count": 83,
     "metadata": {},
     "output_type": "execute_result"
    }
   ],
   "source": [
    "cluster.fit(training_data)"
   ]
  },
  {
   "cell_type": "markdown",
   "metadata": {},
   "source": [
    "### 2. What's the underfitting and overfitting? List the reasons that could make model overfitting or underfitting. (10 points)"
   ]
  },
  {
   "cell_type": "code",
   "execution_count": 84,
   "metadata": {
    "ExecuteTime": {
     "end_time": "2019-10-21T05:11:47.444086Z",
     "start_time": "2019-10-21T05:11:47.439095Z"
    }
   },
   "outputs": [
    {
     "data": {
      "text/plain": [
       "array([[78.59090909, 25.        ],\n",
       "       [14.33333333, 52.75      ],\n",
       "       [37.13333333, 88.6       ],\n",
       "       [73.18518519, 74.85185185],\n",
       "       [31.58333333, 19.25      ]])"
      ]
     },
     "execution_count": 84,
     "metadata": {},
     "output_type": "execute_result"
    }
   ],
   "source": [
    "cluster.cluster_centers_"
   ]
  },
  {
   "cell_type": "code",
   "execution_count": 85,
   "metadata": {
    "ExecuteTime": {
     "end_time": "2019-10-21T05:30:42.958184Z",
     "start_time": "2019-10-21T05:30:42.952732Z"
    }
   },
   "outputs": [
    {
     "data": {
      "text/plain": [
       "array([1, 3, 3, 3, 3, 3, 1, 3, 0, 1, 4, 3, 2, 0, 3, 4, 3, 0, 4, 1, 1, 3,\n",
       "       2, 1, 1, 1, 2, 2, 0, 0, 1, 3, 0, 1, 1, 3, 2, 0, 3, 3, 1, 0, 0, 2,\n",
       "       2, 4, 1, 0, 0, 4, 4, 0, 1, 0, 2, 0, 3, 3, 4, 2, 3, 1, 3, 1, 1, 2,\n",
       "       4, 0, 1, 1, 3, 3, 2, 3, 2, 4, 3, 3, 3, 0, 2, 3, 1, 1, 4, 0, 1, 4,\n",
       "       0, 1, 1, 0, 0, 2, 0, 0, 3, 2, 4, 3], dtype=int32)"
      ]
     },
     "execution_count": 85,
     "metadata": {},
     "output_type": "execute_result"
    }
   ],
   "source": [
    "cluster.labels_"
   ]
  },
  {
   "cell_type": "code",
   "execution_count": 86,
   "metadata": {
    "ExecuteTime": {
     "end_time": "2019-10-21T05:37:08.925431Z",
     "start_time": "2019-10-21T05:37:08.261877Z"
    }
   },
   "outputs": [
    {
     "data": {
      "image/png": "[encoded data removed]",
      "text/plain": [
       "<Figure size 432x288 with 1 Axes>"
      ]
     },
     "metadata": {
      "needs_background": "light"
     },
     "output_type": "display_data"
    }
   ],
   "source": [
    "from collections import defaultdict\n",
    "\n",
    "cluster_label = defaultdict(list)\n",
    "\n",
    "for label, location in zip(cluster.labels_, training_data):\n",
    "    cluster_label[label].append(location)\n",
    "\n",
    "### plot\n",
    "color = ['red', 'green', 'grey', 'black', 'yellow', 'orange']\n",
    "for label, center in enumerate(cluster_label):\n",
    "    for location in cluster_label[center]:\n",
    "        plt.scatter(*location, c = color[label])\n",
    "\n",
    "for i in range(len(cluster.cluster_centers_)):\n",
    "    location = cluster.cluster_centers_[i]\n",
    "    plt.scatter(*location, c = 'purple', s=100)\n",
    "    \n",
    "    "
   ]
  },
  {
   "cell_type": "markdown",
   "metadata": {},
   "source": [
    "Ans:"
   ]
  },
  {
   "cell_type": "markdown",
   "metadata": {},
   "source": [
    "<评阅点>\n",
    "> + 对过拟合和欠拟合的理解是否正确 (3')\n",
    "+ 对欠拟合产生的原因是否理解正确(2')\n",
    "+ 对过拟合产生的原因是否理解正确(5')"
   ]
  },
  {
   "cell_type": "markdown",
   "metadata": {},
   "source": [
    "### 3. What's the precision, recall, AUC, F1, F2score. What are they mainly target on? (12')"
   ]
  },
  {
   "cell_type": "markdown",
   "metadata": {},
   "source": [
    "Ans: $$ Precision = \\frac{TP}{TP + FP} $$\n",
    "     $$ Recall = \\frac{TP}{TP+FN} $$\n",
    "     $$ F1-score = \\frac{2*Precision*Recall}{Precision + Recall} $$\n",
    "     $$ F2-score = \\frac{5*Precision*Recall}{4*Precision + Recall} $$"
   ]
  },
  {
   "cell_type": "markdown",
   "metadata": {},
   "source": [
    "Ans: \n",
    "   1. **Precision** means how accurate a machine learning model is, namely the true positive divided by all predicted positive samples number.\n",
    "     \n",
    "   2. **Recall** measures the fraction of true positive that are successfully retrieved. Also, it can be understood that the threshold that seperates the true positive and false negative.\n",
    "     \n",
    "   3. **AUC**: Area under curve. This term means the performance of a model.\n",
    "     \n",
    "   4. **F1-score**: Because the precision competes with recall, and it is often hard to measure which model is better just by precision or recall. To balance them, a F1-score is used to give precision and recall same weight in some conditions, so we can judge which model is better.\n",
    "     \n",
    "   5. **F2-score**: Sometimes, the weight of precision and recall is different for we would prefer someone. For example, we prefer recall rather than precision in the epidemic disease detection, while precision is more important than recall in the court trial. Under this circumstance, we add a weight parameter 𝛽 to adjust the importance of precision and recall. When more importance is on precision, the 𝛽 would be less than 1, otherwise, it is greater than 1. It is **F2-Score when the 𝛽 is 2**."
   ]
  },
  {
   "cell_type": "markdown",
   "metadata": {},
   "source": [
    " $$ F-score = (1 + \\beta^2) * \\frac{Precision*Recall}{\\beta^2*Precision + Recall} $$"
   ]
  },
  {
   "cell_type": "markdown",
   "metadata": {},
   "source": [
    "<评阅点>\n",
    "> + 对precision, recall, AUC, F1, F2 理解是否正确(6‘)\n",
    "+ 对precision, recall, AUC, F1, F2的使用侧重点是否理解正确 (6’)"
   ]
  },
  {
   "cell_type": "markdown",
   "metadata": {},
   "source": [
    "### 4. Based on our course and yourself mind, what's the machine learning?  (8')"
   ]
  },
  {
   "cell_type": "markdown",
   "metadata": {},
   "source": [
    "<评阅点> 开放式问题，是否能说出来机器学习这种思维方式和传统的分析式编程的区别（8'）"
   ]
  },
  {
   "cell_type": "markdown",
   "metadata": {},
   "source": [
    "Ans: **Machine learning** is the scientific study that computers use to perform tasks under algorithms and statistical models without using clear instructions. It can undermine underlying mechanisms of data, which can be then used to predict new results with other new data. Without doubt, it is a part of Artificial Intelligence."
   ]
  },
  {
   "cell_type": "markdown",
   "metadata": {},
   "source": [
    "### 5. \"正确定义了机器学习模型的评价标准(evaluation)， 问题基本上就已经解决一半\". 这句话是否正确？你是怎么看待的？ (8‘)"
   ]
  },
  {
   "cell_type": "markdown",
   "metadata": {},
   "source": [
    "<评阅点> 开放式问题，主要看能理解评价指标对机器学习模型的重要性."
   ]
  },
  {
   "cell_type": "markdown",
   "metadata": {},
   "source": [
    "Ans: I think it's correct. Through a universal and correct evaluation system and method, we know what a model needs, and we can know a model's performance including precision, recall, etc, under different conditions. From that, the problem that which model is better can be solved.\n",
    "\n",
    "Also, we can understand the advantages and disadvantages, which provides basis of choice when solving problems and should be the direction that we try to move forward. "
   ]
  },
  {
   "cell_type": "markdown",
   "metadata": {},
   "source": [
    "## Part-03 Programming Practice 编程练习"
   ]
  },
  {
   "cell_type": "markdown",
   "metadata": {},
   "source": [
    "1. In our course and previous practice, we complete some importance components of Decision Tree. In this problem, you need to build a **completed** Decision Tree Model. You show finish a `predicate()` function, which accepts three parameters **<gender, income, family_number>**, and outputs the predicated 'bought': 1 or 0.  (20 points)"
   ]
  },
  {
   "cell_type": "markdown",
   "metadata": {},
   "source": [
    "### Decision Tree"
   ]
  },
  {
   "cell_type": "markdown",
   "metadata": {},
   "source": [
    "<评阅点>\n",
    "> + 是否将之前的决策树模型的部分进行合并组装， predicate函数能够顺利运行(8')\n",
    "+ 是够能够输入未曾见过的X变量，例如gender, income, family_number 分别是： <M, -10, 1>, 模型能够预测出结果 (12')"
   ]
  },
  {
   "cell_type": "markdown",
   "metadata": {},
   "source": [
    "Defining prediction function"
   ]
  },
  {
   "cell_type": "code",
   "execution_count": 87,
   "metadata": {},
   "outputs": [
    {
     "name": "stdout",
     "output_type": "stream",
     "text": [
      "{'family_number': {1: 1, 2: {'gender': {'M': 1, 'F': 0}}}}\n"
     ]
    },
    {
     "data": {
      "text/plain": [
       "'1'"
      ]
     },
     "execution_count": 87,
     "metadata": {},
     "output_type": "execute_result"
    }
   ],
   "source": [
    "def predict(DT_model, feature_labels, test_var):\n",
    "    firstStr = next(iter(DT_model))\n",
    "    secondDict = DT_model[firstStr]\n",
    "    \n",
    "    feature_label_index = feature_labels.index(firstStr)\n",
    "    for _key in secondDict.keys():\n",
    "        if test_var[feature_label_index] == _key:\n",
    "            if type(secondDict[_key]).__name__ == 'dict':\n",
    "                predict_result = predict(secondDict[_key], feature_labels, test_var)\n",
    "            else:\n",
    "                predict_result = secondDict[_key]\n",
    "    return str(predict_result) #'feature list is ' + ' '.join(np.array(test_var, dtype=str).tolist()) + '. The predicted result is: ' + str(predict_result)\n",
    "\n",
    "feature_labels = ['income', 'loan', 'family_number', 'gender']\n",
    "print(Tree_model)\n",
    "predict(Tree_model, feature_labels, [10, 0, 1, 'M'])\n"
   ]
  },
  {
   "cell_type": "markdown",
   "metadata": {},
   "source": [
    "Generating many kinds of datasets"
   ]
  },
  {
   "cell_type": "code",
   "execution_count": 88,
   "metadata": {},
   "outputs": [
    {
     "name": "stdout",
     "output_type": "stream",
     "text": [
      "-10 0 1 M. Predicted result:1\n",
      "-10 0 1 F. Predicted result:1\n",
      "-10 0 2 M. Predicted result:1\n",
      "-10 0 2 F. Predicted result:0\n",
      "-10 1 1 M. Predicted result:1\n",
      "-10 1 1 F. Predicted result:1\n",
      "-10 1 2 M. Predicted result:1\n",
      "-10 1 2 F. Predicted result:0\n",
      "-10 2 1 M. Predicted result:1\n",
      "-10 2 1 F. Predicted result:1\n",
      "-10 2 2 M. Predicted result:1\n",
      "-10 2 2 F. Predicted result:0\n",
      "10 0 1 M. Predicted result:1\n",
      "10 0 1 F. Predicted result:1\n",
      "10 0 2 M. Predicted result:1\n",
      "10 0 2 F. Predicted result:0\n",
      "10 1 1 M. Predicted result:1\n",
      "10 1 1 F. Predicted result:1\n",
      "10 1 2 M. Predicted result:1\n",
      "10 1 2 F. Predicted result:0\n",
      "10 2 1 M. Predicted result:1\n",
      "10 2 1 F. Predicted result:1\n",
      "10 2 2 M. Predicted result:1\n",
      "10 2 2 F. Predicted result:0\n",
      "20 0 1 M. Predicted result:1\n",
      "20 0 1 F. Predicted result:1\n",
      "20 0 2 M. Predicted result:1\n",
      "20 0 2 F. Predicted result:0\n",
      "20 1 1 M. Predicted result:1\n",
      "20 1 1 F. Predicted result:1\n",
      "20 1 2 M. Predicted result:1\n",
      "20 1 2 F. Predicted result:0\n",
      "20 2 1 M. Predicted result:1\n",
      "20 2 1 F. Predicted result:1\n",
      "20 2 2 M. Predicted result:1\n",
      "20 2 2 F. Predicted result:0\n"
     ]
    }
   ],
   "source": [
    "income_list = [-10, 10, 20]\n",
    "loan_list = [0, 1, 2]\n",
    "family_number_list = [1, 2]\n",
    "gender_list = ['M', 'F']\n",
    "\n",
    "generated_testset_list = [[i, j, k, m] for i in income_list for j in loan_list for k in family_number_list for m in gender_list]\n",
    "\n",
    "for _item in generated_testset_list:\n",
    "    print(' '.join(np.array(_item, dtype=str).tolist()) + '. Predicted result:' + predict(Tree_model, feature_labels, _item))\n"
   ]
  },
  {
   "cell_type": "markdown",
   "metadata": {},
   "source": [
    "### Linear regression"
   ]
  },
  {
   "cell_type": "markdown",
   "metadata": {},
   "source": [
    "2. 将上一节课(第二节课)的线性回归问题中的Loss函数改成\"绝对值\"，并且改变其偏导的求值方式，观察其结果的变化。(19 point)"
   ]
  },
  {
   "cell_type": "markdown",
   "metadata": {},
   "source": [
    "<评阅点>\n",
    "+ 是否将Loss改成了“绝对值”(3')\n",
    "+ 是否完成了偏导的重新定义(5')\n",
    "+ 新的模型Loss是否能够收敛 (11’)"
   ]
  },
  {
   "cell_type": "markdown",
   "metadata": {
    "ExecuteTime": {
     "end_time": "2019-10-21T06:36:11.217196Z",
     "start_time": "2019-10-21T06:36:11.211205Z"
    }
   },
   "source": [
    "#### Loss fucntion (L1 norm)\n",
    "$$ loss = \\frac{1}{n} \\sum{\\lvert{(y_i - \\hat{y_i})}\\rvert} $$\n",
    "$$ loss = \\frac{1}{n} \\sum{\\lvert{(y_i - (k*x_i + b_i))}\\rvert} $$"
   ]
  },
  {
   "cell_type": "code",
   "execution_count": 89,
   "metadata": {
    "ExecuteTime": {
     "end_time": "2019-10-21T06:53:01.378181Z",
     "start_time": "2019-10-21T06:53:01.374535Z"
    }
   },
   "outputs": [],
   "source": [
    "def loss(y, y_hat):\n",
    "    return sum(np.abs(y_i - y_hat_i) for y_i, y_hat_i in zip(list(y), list(y_hat))) / len(list(y))"
   ]
  },
  {
   "cell_type": "markdown",
   "metadata": {
    "ExecuteTime": {
     "end_time": "2019-10-21T06:44:26.347721Z",
     "start_time": "2019-10-21T06:44:26.341509Z"
    }
   },
   "source": [
    "#### Define partial derivative\n",
    "$$ if ({y_i - \\hat{y_i}}\\neq{0}) $$\n",
    "$$ \\frac{\\partial{loss}}{\\partial{k}} = -\\frac{2}{n} \\sum(\\frac{y_i - \\hat{y_i}}{|y_i - \\hat{y_i}|})x_i $$\n",
    "$$ \\frac{\\partial{loss}}{\\partial{b}} = -\\frac{2}{n} \\sum(\\frac{y_i - \\hat{y_i}}{|y_i - \\hat{y_i}|}) $$\n",
    "\n"
   ]
  },
  {
   "cell_type": "markdown",
   "metadata": {},
   "source": [
    "$$ if (y_i - \\hat{y_i} = 0), suppose: $$\n",
    "$$ \\frac{\\partial{loss}}{\\partial{k}} = 0 $$\n",
    "$$ \\frac{\\partial{loss}}{\\partial{b}} = 0 $$"
   ]
  },
  {
   "cell_type": "markdown",
   "metadata": {},
   "source": []
  },
  {
   "cell_type": "code",
   "execution_count": 90,
   "metadata": {
    "ExecuteTime": {
     "end_time": "2019-10-21T06:53:03.682940Z",
     "start_time": "2019-10-21T06:53:03.674185Z"
    }
   },
   "outputs": [],
   "source": [
    "def partial_derivative_for_k(x, y, y_hat):\n",
    "    partial_derivative_k = 0\n",
    "    \n",
    "    for i in range(len(list(y))):\n",
    "        if list(y)[i] - list(y_hat)[i] != 0:\n",
    "            partial_derivative_k += (list(y)[i] - list(y_hat)[i]) * list(x)[i]\n",
    "        else:\n",
    "            partial_derivative_k += 0 # when it's not derivatived in 0, so remain the accumulatid partial derivative value\n",
    "        \n",
    "    return -2 * partial_derivative_k / len(y)\n",
    "\n",
    "def partial_derivative_for_b(y, y_hat):\n",
    "    partial_derivative_b = 0\n",
    "    \n",
    "    for i in range(len(list(y))):\n",
    "        if list(y)[i] - list(y_hat)[i] != 0:\n",
    "            partial_derivative_b += (list(y)[i] - list(y_hat)[i])\n",
    "        else:\n",
    "            partial_derivative_b += 0#  when it's not derivatived in 0, so remain the accumulatid partial derivative value\n",
    "        \n",
    "    return -2 * partial_derivative_b / len(y)"
   ]
  },
  {
   "cell_type": "code",
   "execution_count": 91,
   "metadata": {
    "ExecuteTime": {
     "end_time": "2019-10-21T06:53:10.092762Z",
     "start_time": "2019-10-21T06:53:10.089493Z"
    }
   },
   "outputs": [],
   "source": [
    "def linear_function(k, b, x):\n",
    "    return k * x + b"
   ]
  },
  {
   "cell_type": "code",
   "execution_count": 92,
   "metadata": {
    "ExecuteTime": {
     "end_time": "2019-10-21T06:56:57.418043Z",
     "start_time": "2019-10-21T06:56:57.413973Z"
    }
   },
   "outputs": [],
   "source": [
    "from sklearn.datasets import load_boston\n",
    "import random\n",
    "import matplotlib.pyplot as plt"
   ]
  },
  {
   "cell_type": "code",
   "execution_count": 93,
   "metadata": {
    "ExecuteTime": {
     "end_time": "2019-10-21T06:54:47.478237Z",
     "start_time": "2019-10-21T06:54:47.459684Z"
    }
   },
   "outputs": [],
   "source": [
    "dataset = load_boston()\n",
    "x, y = dataset['data'], dataset['target']"
   ]
  },
  {
   "cell_type": "code",
   "execution_count": 94,
   "metadata": {
    "ExecuteTime": {
     "end_time": "2019-10-21T06:56:58.152850Z",
     "start_time": "2019-10-21T06:56:57.915921Z"
    }
   },
   "outputs": [
    {
     "data": {
      "text/plain": [
       "<matplotlib.collections.PathCollection at 0x1253ed208>"
      ]
     },
     "execution_count": 94,
     "metadata": {},
     "output_type": "execute_result"
    },
    {
     "data": {
      "image/png": "[encoded data removed]",
      "text/plain": [
       "<Figure size 432x288 with 1 Axes>"
      ]
     },
     "metadata": {
      "needs_background": "light"
     },
     "output_type": "display_data"
    }
   ],
   "source": [
    "plt.scatter(x[:, 5], y)"
   ]
  },
  {
   "cell_type": "markdown",
   "metadata": {},
   "source": [
    "#### Startting iteration"
   ]
  },
  {
   "cell_type": "code",
   "execution_count": 95,
   "metadata": {
    "ExecuteTime": {
     "end_time": "2019-10-21T06:56:57.411249Z",
     "start_time": "2019-10-21T06:54:51.898071Z"
    }
   },
   "outputs": [
    {
     "name": "stdout",
     "output_type": "stream",
     "text": [
      "<class 'list'>\n",
      "<class 'list'>\n",
      "This is the 1 time's iteration. The loss is 113.53989393774278. The k is -4.660787430282824, and b is -61.71574265713973\n",
      "This is the 2 time's iteration. The loss is 20.744620774003888. The k is 9.745965269705758, and b is -59.44494477838487\n",
      "This is the 3 time's iteration. The loss is 6.110251870385677. The k is 12.344969078289646, and b is -59.03038632577354\n",
      "This is the 4 time's iteration. The loss is 4.86787592761431. The k is 12.813217782036253, and b is -58.950794816380125\n",
      "This is the 5 time's iteration. The loss is 4.7793230201504295. The k is 12.896963426903415, and b is -58.93165057528255\n",
      "This is the 6 time's iteration. The loss is 4.769056466283701. The k is 12.911324145125548, and b is -58.923415434197395\n",
      "This is the 7 time's iteration. The loss is 4.767148085209197. The k is 12.91316425788157, and b is -58.91715003320526\n",
      "This is the 8 time's iteration. The loss is 4.766654885664615. The k is 12.9127451582211, and b is -58.91124122895103\n",
      "This is the 9 time's iteration. The loss is 4.766417097048127. The k is 12.91191855531978, and b is -58.90539792301912\n",
      "This is the 10 time's iteration. The loss is 4.7662254341297965. The k is 12.911018597425254, and b is -58.899567585265494\n",
      "This is the 11 time's iteration. The loss is 4.766042130548257. The k is 12.91010558287539, and b is -58.89374073614031\n",
      "This is the 12 time's iteration. The loss is 4.765860371204697. The k is 12.909190392701845, and b is -58.88791566474491\n",
      "This is the 13 time's iteration. The loss is 4.7656789262788. The k is 12.908274990386685, and b is -58.8820920620647\n",
      "This is the 14 time's iteration. The loss is 4.765497573835995. The k is 12.907359730204666, and b is -58.87626987206073\n",
      "This is the 15 time's iteration. The loss is 4.765316273818707. The k is 12.906444676042698, and b is -58.87044908434458\n",
      "This is the 16 time's iteration. The loss is 4.765135018989806. The k is 12.90552983938605, and b is -58.8646296967657\n",
      "This is the 17 time's iteration. The loss is 4.764953808034715. The k is 12.904615222263923, and b is -58.85881170866017\n",
      "This is the 18 time's iteration. The loss is 4.764772640707634. The k is 12.903700824999138, and b is -58.85299511963242\n",
      "This is the 19 time's iteration. The loss is 4.7645915169556226. The k is 12.90278664760661, and b is -58.84717992933534\n",
      "This is the 20 time's iteration. The loss is 4.764410436760536. The k is 12.901872690045696, and b is -58.841366137430654\n",
      "This is the 21 time's iteration. The loss is 4.7642294001105085. The k is 12.90095895226574, and b is -58.83555374358175\n",
      "This is the 22 time's iteration. The loss is 4.764048406994835. The k is 12.900045434214288, and b is -58.82974274745236\n",
      "This is the 23 time's iteration. The loss is 4.763867457403. The k is 12.899132135838572, and b is -58.82393314870637\n",
      "This is the 24 time's iteration. The loss is 4.763686551324529. The k is 12.898219057085782, and b is -58.81812494700774\n",
      "This is the 25 time's iteration. The loss is 4.763505688748937. The k is 12.897306197903108, and b is -58.812318142020516\n",
      "This is the 26 time's iteration. The loss is 4.763324869665793. The k is 12.896393558237746, and b is -58.80651273340884\n",
      "This is the 27 time's iteration. The loss is 4.763144094064613. The k is 12.89548113803691, and b is -58.80070872083691\n",
      "This is the 28 time's iteration. The loss is 4.7629633619349585. The k is 12.894568937247826, and b is -58.79490610396902\n",
      "This is the 29 time's iteration. The loss is 4.762782673266363. The k is 12.893656955817729, and b is -58.78910488246954\n",
      "This is the 30 time's iteration. The loss is 4.762602028048381. The k is 12.892745193693871, and b is -58.78330505600292\n",
      "This is the 31 time's iteration. The loss is 4.7624214262705635. The k is 12.891833650823516, and b is -58.77750662423371\n",
      "This is the 32 time's iteration. The loss is 4.762240867922466. The k is 12.890922327153937, and b is -58.77170958682651\n",
      "This is the 33 time's iteration. The loss is 4.762060352993638. The k is 12.890011222632426, and b is -58.765913943446016\n",
      "This is the 34 time's iteration. The loss is 4.76187988147365. The k is 12.88910033720628, and b is -58.760119693757005\n",
      "This is the 35 time's iteration. The loss is 4.761699453352057. The k is 12.888189670822815, and b is -58.75432683742433\n",
      "This is the 36 time's iteration. The loss is 4.76151906861842. The k is 12.887279223429355, and b is -58.74853537411293\n",
      "This is the 37 time's iteration. The loss is 4.7613387272623084. The k is 12.88636899497324, and b is -58.74274530348782\n",
      "This is the 38 time's iteration. The loss is 4.761158429273289. The k is 12.885458985401824, and b is -58.736956625214106\n",
      "This is the 39 time's iteration. The loss is 4.760978174640936. The k is 12.884549194662469, and b is -58.73116933895695\n",
      "This is the 40 time's iteration. The loss is 4.760797963354819. The k is 12.883639622702553, and b is -58.72538344438163\n",
      "This is the 41 time's iteration. The loss is 4.760617795404532. The k is 12.882730269469464, and b is -58.71959894115347\n",
      "This is the 42 time's iteration. The loss is 4.760437670779625. The k is 12.881821134910608, and b is -58.713815828937896\n",
      "This is the 43 time's iteration. The loss is 4.760257589469703. The k is 12.880912218973394, and b is -58.70803410740041\n",
      "This is the 44 time's iteration. The loss is 4.760077551464342. The k is 12.880003521605254, and b is -58.70225377620658\n",
      "This is the 45 time's iteration. The loss is 4.759897556753118. The k is 12.879095042753628, and b is -58.69647483502209\n",
      "This is the 46 time's iteration. The loss is 4.759717605325632. The k is 12.878186782365967, and b is -58.690697283512655\n",
      "This is the 47 time's iteration. The loss is 4.759537697171476. The k is 12.877278740389736, and b is -58.68492112134412\n",
      "This is the 48 time's iteration. The loss is 4.759357832280249. The k is 12.876370916772416, and b is -58.67914634818237\n",
      "This is the 49 time's iteration. The loss is 4.759178010641527. The k is 12.875463311461496, and b is -58.673372963693396\n",
      "This is the 50 time's iteration. The loss is 4.758998232244929. The k is 12.87455592440448, and b is -58.66760096754326\n",
      "This is the 51 time's iteration. The loss is 4.7588184970800445. The k is 12.873648755548883, and b is -58.661830359398095\n",
      "This is the 52 time's iteration. The loss is 4.7586388051364885. The k is 12.872741804842233, and b is -58.65606113892414\n",
      "This is the 53 time's iteration. The loss is 4.758459156403853. The k is 12.871835072232074, and b is -58.650293305787685\n",
      "This is the 54 time's iteration. The loss is 4.758279550871756. The k is 12.870928557665957, and b is -58.64452685965512\n",
      "This is the 55 time's iteration. The loss is 4.758099988529819. The k is 12.87002226109145, and b is -58.63876180019292\n",
      "This is the 56 time's iteration. The loss is 4.757920469367629. The k is 12.869116182456132, and b is -58.63299812706761\n",
      "This is the 57 time's iteration. The loss is 4.757740993374825. The k is 12.868210321707593, and b is -58.627235839945826\n",
      "This is the 58 time's iteration. The loss is 4.757561560541018. The k is 12.867304678793442, and b is -58.621474938494266\n",
      "This is the 59 time's iteration. The loss is 4.757382170855837. The k is 12.86639925366129, and b is -58.61571542237972\n",
      "This is the 60 time's iteration. The loss is 4.757202824308894. The k is 12.86549404625877, and b is -58.609957291269055\n",
      "This is the 61 time's iteration. The loss is 4.7570235208898195. The k is 12.864589056533521, and b is -58.60420054482921\n",
      "This is the 62 time's iteration. The loss is 4.756844260588243. The k is 12.863684284433203, and b is -58.59844518272721\n",
      "This is the 63 time's iteration. The loss is 4.756665043393805. The k is 12.862779729905478, and b is -58.592691204630164\n",
      "This is the 64 time's iteration. The loss is 4.756485869296131. The k is 12.861875392898028, and b is -58.58693861020525\n",
      "This is the 65 time's iteration. The loss is 4.756306738284849. The k is 12.860971273358546, and b is -58.58118739911975\n",
      "This is the 66 time's iteration. The loss is 4.756127650349612. The k is 12.860067371234734, and b is -58.57543757104099\n",
      "This is the 67 time's iteration. The loss is 4.755948605480054. The k is 12.859163686474314, and b is -58.56968912563641\n",
      "This is the 68 time's iteration. The loss is 4.755769603665826. The k is 12.858260219025015, and b is -58.5639420625735\n"
     ]
    },
    {
     "name": "stdout",
     "output_type": "stream",
     "text": [
      "This is the 69 time's iteration. The loss is 4.755590644896568. The k is 12.857356968834576, and b is -58.558196381519856\n",
      "This is the 70 time's iteration. The loss is 4.755411729161925. The k is 12.856453935850755, and b is -58.55245208214314\n",
      "This is the 71 time's iteration. The loss is 4.755232856451564. The k is 12.855551120021321, and b is -58.5467091641111\n",
      "This is the 72 time's iteration. The loss is 4.755054026755117. The k is 12.854648521294052, and b is -58.54096762709156\n",
      "This is the 73 time's iteration. The loss is 4.75487524006226. The k is 12.853746139616742, and b is -58.535227470752424\n",
      "This is the 74 time's iteration. The loss is 4.754696496362633. The k is 12.852843974937198, and b is -58.529488694761675\n",
      "This is the 75 time's iteration. The loss is 4.754517795645916. The k is 12.851942027203236, and b is -58.523751298787374\n",
      "This is the 76 time's iteration. The loss is 4.754339137901768. The k is 12.851040296362687, and b is -58.51801528249767\n",
      "This is the 77 time's iteration. The loss is 4.7541605231198485. The k is 12.850138782363393, and b is -58.51228064556079\n",
      "This is the 78 time's iteration. The loss is 4.753981951289826. The k is 12.849237485153212, and b is -58.506547387645035\n",
      "This is the 79 time's iteration. The loss is 4.753803422401376. The k is 12.848336404680012, and b is -58.50081550841879\n",
      "This is the 80 time's iteration. The loss is 4.75362493644418. The k is 12.847435540891672, and b is -58.495085007550514\n",
      "This is the 81 time's iteration. The loss is 4.753446493407899. The k is 12.846534893736088, and b is -58.48935588470876\n",
      "This is the 82 time's iteration. The loss is 4.753268093282223. The k is 12.845634463161163, and b is -58.483628139562136\n",
      "This is the 83 time's iteration. The loss is 4.753089736056831. The k is 12.844734249114817, and b is -58.47790177177936\n",
      "This is the 84 time's iteration. The loss is 4.752911421721398. The k is 12.84383425154498, and b is -58.4721767810292\n",
      "This is the 85 time's iteration. The loss is 4.752733150265619. The k is 12.842934470399594, and b is -58.46645316698052\n",
      "This is the 86 time's iteration. The loss is 4.752554921679185. The k is 12.842034905626619, and b is -58.46073092930227\n",
      "This is the 87 time's iteration. The loss is 4.752376735951777. The k is 12.84113555717402, and b is -58.45501006766347\n",
      "This is the 88 time's iteration. The loss is 4.752198593073099. The k is 12.840236424989781, and b is -58.44929058173322\n",
      "This is the 89 time's iteration. The loss is 4.752020493032839. The k is 12.839337509021894, and b is -58.4435724711807\n",
      "This is the 90 time's iteration. The loss is 4.751842435820695. The k is 12.838438809218362, and b is -58.437855735675164\n",
      "This is the 91 time's iteration. The loss is 4.751664421426383. The k is 12.837540325527208, and b is -58.432140374885954\n",
      "This is the 92 time's iteration. The loss is 4.7514864498395815. The k is 12.836642057896459, and b is -58.42642638848249\n",
      "This is the 93 time's iteration. The loss is 4.751308521050019. The k is 12.835744006274162, and b is -58.42071377613427\n",
      "This is the 94 time's iteration. The loss is 4.751130635047392. The k is 12.83484617060837, and b is -58.41500253751087\n",
      "This is the 95 time's iteration. The loss is 4.750952791821421. The k is 12.833948550847154, and b is -58.40929267228196\n",
      "This is the 96 time's iteration. The loss is 4.750774991361804. The k is 12.833051146938594, and b is -58.40358418011726\n",
      "This is the 97 time's iteration. The loss is 4.750597233658274. The k is 12.832153958830782, and b is -58.39787706068659\n",
      "This is the 98 time's iteration. The loss is 4.750419518700538. The k is 12.831256986471827, and b is -58.39217131365985\n",
      "This is the 99 time's iteration. The loss is 4.750241846478318. The k is 12.830360229809845, and b is -58.38646693870701\n",
      "This is the 100 time's iteration. The loss is 4.750064216981343. The k is 12.829463688792966, and b is -58.38076393549813\n",
      "This is the 101 time's iteration. The loss is 4.749886630199334. The k is 12.828567363369334, and b is -58.37506230370334\n",
      "This is the 102 time's iteration. The loss is 4.749709086122023. The k is 12.827671253487107, and b is -58.36936204299285\n",
      "This is the 103 time's iteration. The loss is 4.749531584739132. The k is 12.826775359094452, and b is -58.36366315303695\n",
      "This is the 104 time's iteration. The loss is 4.749354126040407. The k is 12.825879680139549, and b is -58.357965633506026\n",
      "This is the 105 time's iteration. The loss is 4.749176710015565. The k is 12.824984216570591, and b is -58.35226948407052\n",
      "This is the 106 time's iteration. The loss is 4.748999336654371. The k is 12.824088968335785, and b is -58.346574704400965\n",
      "This is the 107 time's iteration. The loss is 4.748822005946544. The k is 12.82319393538335, and b is -58.340881294167964\n",
      "This is the 108 time's iteration. The loss is 4.748644717881835. The k is 12.822299117661512, and b is -58.33518925304221\n",
      "This is the 109 time's iteration. The loss is 4.748467472449984. The k is 12.82140451511852, and b is -58.32949858069447\n",
      "This is the 110 time's iteration. The loss is 4.748290269640745. The k is 12.820510127702624, and b is -58.32380927679559\n",
      "This is the 111 time's iteration. The loss is 4.748113109443871. The k is 12.819615955362096, and b is -58.3181213410165\n",
      "This is the 112 time's iteration. The loss is 4.747935991849103. The k is 12.818721998045215, and b is -58.3124347730282\n",
      "This is the 113 time's iteration. The loss is 4.747758916846212. The k is 12.817828255700272, and b is -58.30674957250178\n",
      "This is the 114 time's iteration. The loss is 4.747581884424944. The k is 12.816934728275575, and b is -58.301065739108395\n",
      "This is the 115 time's iteration. The loss is 4.747404894575065. The k is 12.816041415719441, and b is -58.295383272519295\n",
      "This is the 116 time's iteration. The loss is 4.747227947286333. The k is 12.8151483179802, and b is -58.289702172405796\n",
      "This is the 117 time's iteration. The loss is 4.747051042548519. The k is 12.814255435006192, and b is -58.2840224384393\n",
      "This is the 118 time's iteration. The loss is 4.7468741803513845. The k is 12.813362766745774, and b is -58.27834407029129\n",
      "This is the 119 time's iteration. The loss is 4.746697360684702. The k is 12.812470313147314, and b is -58.27266706763332\n",
      "This is the 120 time's iteration. The loss is 4.746520583538252. The k is 12.81157807415919, and b is -58.26699143013703\n",
      "This is the 121 time's iteration. The loss is 4.746343848901791. The k is 12.810686049729796, and b is -58.26131715747414\n",
      "This is the 122 time's iteration. The loss is 4.746167156765118. The k is 12.809794239807536, and b is -58.25564424931643\n",
      "This is the 123 time's iteration. The loss is 4.745990507118004. The k is 12.808902644340826, and b is -58.24997270533579\n",
      "This is the 124 time's iteration. The loss is 4.745813899950223. The k is 12.808011263278095, and b is -58.244302525204176\n",
      "This is the 125 time's iteration. The loss is 4.745637335251576. The k is 12.807120096567788, and b is -58.23863370859361\n",
      "This is the 126 time's iteration. The loss is 4.745460813011834. The k is 12.806229144158356, and b is -58.2329662551762\n",
      "This is the 127 time's iteration. The loss is 4.7452843332208. The k is 12.805338405998265, and b is -58.22730016462415\n",
      "This is the 128 time's iteration. The loss is 4.745107895868256. The k is 12.804447882035998, and b is -58.22163543660971\n",
      "This is the 129 time's iteration. The loss is 4.744931500944002. The k is 12.803557572220042, and b is -58.21597207080524\n",
      "This is the 130 time's iteration. The loss is 4.744755148437839. The k is 12.802667476498904, and b is -58.210310066883174\n",
      "This is the 131 time's iteration. The loss is 4.7445788383395575. The k is 12.801777594821099, and b is -58.204649424516\n",
      "This is the 132 time's iteration. The loss is 4.744402570638965. The k is 12.800887927135154, and b is -58.19899014337631\n",
      "This is the 133 time's iteration. The loss is 4.74422634532587. The k is 12.799998473389612, and b is -58.193332223136764\n",
      "This is the 134 time's iteration. The loss is 4.744050162390073. The k is 12.799109233533025, and b is -58.18767566347011\n",
      "This is the 135 time's iteration. The loss is 4.743874021821383. The k is 12.79822020751396, and b is -58.18202046404916\n",
      "This is the 136 time's iteration. The loss is 4.743697923609617. The k is 12.797331395280995, and b is -58.176366624546816\n"
     ]
    },
    {
     "name": "stdout",
     "output_type": "stream",
     "text": [
      "This is the 137 time's iteration. The loss is 4.74352186774458. The k is 12.796442796782719, and b is -58.17071414463606\n",
      "This is the 138 time's iteration. The loss is 4.743345854216107. The k is 12.795554411967734, and b is -58.16506302398994\n",
      "This is the 139 time's iteration. The loss is 4.743169883014. The k is 12.794666240784657, and b is -58.15941326228159\n",
      "This is the 140 time's iteration. The loss is 4.742993954128083. The k is 12.793778283182116, and b is -58.15376485918423\n",
      "This is the 141 time's iteration. The loss is 4.742818067548186. The k is 12.792890539108749, and b is -58.14811781437115\n",
      "This is the 142 time's iteration. The loss is 4.742642223264129. The k is 12.792003008513209, and b is -58.14247212751571\n",
      "This is the 143 time's iteration. The loss is 4.742466421265758. The k is 12.791115691344158, and b is -58.13682779829137\n",
      "This is the 144 time's iteration. The loss is 4.742290661542877. The k is 12.790228587550278, and b is -58.13118482637166\n",
      "This is the 145 time's iteration. The loss is 4.742114944085338. The k is 12.789341697080253, and b is -58.12554321143018\n",
      "This is the 146 time's iteration. The loss is 4.741939268882974. The k is 12.78845501988279, and b is -58.11990295314061\n",
      "This is the 147 time's iteration. The loss is 4.741763635925628. The k is 12.787568555906597, and b is -58.11426405117672\n",
      "This is the 148 time's iteration. The loss is 4.741588045203132. The k is 12.786682305100403, and b is -58.10862650521235\n",
      "This is the 149 time's iteration. The loss is 4.741412496705337. The k is 12.785796267412946, and b is -58.10299031492142\n",
      "This is the 150 time's iteration. The loss is 4.741236990422091. The k is 12.78491044279298, and b is -58.09735547997793\n",
      "This is the 151 time's iteration. The loss is 4.741061526343228. The k is 12.784024831189264, and b is -58.091722000055945\n",
      "This is the 152 time's iteration. The loss is 4.740886104458614. The k is 12.783139432550575, and b is -58.08608987482963\n",
      "This is the 153 time's iteration. The loss is 4.7407107247581. The k is 12.7822542468257, and b is -58.080459103973226\n",
      "This is the 154 time's iteration. The loss is 4.74053538723154. The k is 12.78136927396344, and b is -58.07482968716103\n",
      "This is the 155 time's iteration. The loss is 4.740360091868789. The k is 12.780484513912608, and b is -58.06920162406743\n",
      "This is the 156 time's iteration. The loss is 4.740184838659708. The k is 12.779599966622028, and b is -58.06357491436691\n",
      "This is the 157 time's iteration. The loss is 4.740009627594171. The k is 12.778715632040537, and b is -58.057949557734005\n",
      "This is the 158 time's iteration. The loss is 4.739834458662026. The k is 12.777831510116986, and b is -58.052325553843346\n",
      "This is the 159 time's iteration. The loss is 4.739659331853154. The k is 12.776947600800234, and b is -58.04670290236963\n",
      "This is the 160 time's iteration. The loss is 4.739484247157428. The k is 12.776063904039155, and b is -58.041081602987646\n",
      "This is the 161 time's iteration. The loss is 4.739309204564714. The k is 12.775180419782638, and b is -58.035461655372245\n",
      "This is the 162 time's iteration. The loss is 4.739134204064881. The k is 12.77429714797958, and b is -58.02984305919837\n",
      "This is the 163 time's iteration. The loss is 4.738959245647818. The k is 12.773414088578892, and b is -58.02422581414103\n",
      "This is the 164 time's iteration. The loss is 4.738784329303403. The k is 12.772531241529496, and b is -58.01860991987533\n",
      "This is the 165 time's iteration. The loss is 4.738609455021512. The k is 12.77164860678033, and b is -58.01299537607643\n",
      "This is the 166 time's iteration. The loss is 4.738434622792042. The k is 12.770766184280339, and b is -58.00738218241959\n",
      "This is the 167 time's iteration. The loss is 4.738259832604869. The k is 12.769883973978482, and b is -58.00177033858014\n",
      "This is the 168 time's iteration. The loss is 4.738085084449896. The k is 12.769001975823736, and b is -57.996159844233475\n",
      "This is the 169 time's iteration. The loss is 4.737910378317003. The k is 12.768120189765082, and b is -57.990550699055085\n",
      "This is the 170 time's iteration. The loss is 4.737735714196086. The k is 12.767238615751516, and b is -57.98494290272053\n",
      "This is the 171 time's iteration. The loss is 4.73756109207704. The k is 12.766357253732052, and b is -57.97933645490546\n",
      "This is the 172 time's iteration. The loss is 4.737386511949782. The k is 12.765476103655704, and b is -57.97373135528558\n",
      "This is the 173 time's iteration. The loss is 4.737211973804199. The k is 12.764595165471512, and b is -57.96812760353669\n",
      "This is the 174 time's iteration. The loss is 4.7370374776302. The k is 12.763714439128517, and b is -57.96252519933468\n",
      "This is the 175 time's iteration. The loss is 4.736863023417688. The k is 12.762833924575782, and b is -57.95692414235548\n",
      "This is the 176 time's iteration. The loss is 4.736688611156577. The k is 12.761953621762373, and b is -57.951324432275136\n",
      "This is the 177 time's iteration. The loss is 4.736514240836777. The k is 12.761073530637374, and b is -57.945726068769744\n",
      "This is the 178 time's iteration. The loss is 4.736339912448201. The k is 12.76019365114988, and b is -57.9401290515155\n",
      "This is the 179 time's iteration. The loss is 4.736165625980768. The k is 12.759313983248997, and b is -57.93453338018866\n",
      "This is the 180 time's iteration. The loss is 4.735991381424404. The k is 12.758434526883848, and b is -57.92893905446557\n",
      "This is the 181 time's iteration. The loss is 4.735817178769011. The k is 12.75755528200356, and b is -57.92334607402266\n",
      "This is the 182 time's iteration. The loss is 4.73564301800453. The k is 12.756676248557278, and b is -57.91775443853641\n",
      "This is the 183 time's iteration. The loss is 4.735468899120881. The k is 12.75579742649416, and b is -57.912164147683406\n",
      "This is the 184 time's iteration. The loss is 4.735294822107998. The k is 12.754918815763373, and b is -57.90657520114029\n",
      "This is the 185 time's iteration. The loss is 4.735120786955801. The k is 12.754040416314096, and b is -57.90098759858381\n",
      "This is the 186 time's iteration. The loss is 4.734946793654241. The k is 12.753162228095524, and b is -57.89540133969076\n",
      "This is the 187 time's iteration. The loss is 4.734772842193236. The k is 12.75228425105686, and b is -57.889816424138026\n",
      "This is the 188 time's iteration. The loss is 4.7345989325627365. The k is 12.75140648514732, and b is -57.88423285160258\n",
      "This is the 189 time's iteration. The loss is 4.73442506475268. The k is 12.750528930316138, and b is -57.878650621761466\n",
      "This is the 190 time's iteration. The loss is 4.734251238753001. The k is 12.749651586512552, and b is -57.873069734291796\n",
      "This is the 191 time's iteration. The loss is 4.7340774545536615. The k is 12.748774453685817, and b is -57.86749018887077\n",
      "This is the 192 time's iteration. The loss is 4.733903712144598. The k is 12.747897531785199, and b is -57.86191198517565\n",
      "This is the 193 time's iteration. The loss is 4.73373001151577. The k is 12.747020820759973, and b is -57.856335122883806\n",
      "This is the 194 time's iteration. The loss is 4.733556352657121. The k is 12.746144320559432, and b is -57.850759601672664\n",
      "This is the 195 time's iteration. The loss is 4.733382735558611. The k is 12.74526803113288, and b is -57.845185421219725\n",
      "This is the 196 time's iteration. The loss is 4.733209160210202. The k is 12.744391952429629, and b is -57.83961258120258\n",
      "This is the 197 time's iteration. The loss is 4.733035626601849. The k is 12.743516084399007, and b is -57.834041081298885\n",
      "This is the 198 time's iteration. The loss is 4.732862134723516. The k is 12.742640426990352, and b is -57.82847092118639\n",
      "This is the 199 time's iteration. The loss is 4.732688684565165. The k is 12.741764980153018, and b is -57.8229021005429\n",
      "This is the 200 time's iteration. The loss is 4.732515276116761. The k is 12.740889743836364, and b is -57.81733461904631\n",
      "This is the 201 time's iteration. The loss is 4.732341909368284. The k is 12.740014717989771, and b is -57.8117684763746\n",
      "This is the 202 time's iteration. The loss is 4.732168584309707. The k is 12.739139902562622, and b is -57.806203672205825\n",
      "This is the 203 time's iteration. The loss is 4.731995300930989. The k is 12.73826529750432, and b is -57.8006402062181\n",
      "This is the 204 time's iteration. The loss is 4.731822059222124. The k is 12.737390902764275, and b is -57.79507807808963\n"
     ]
    },
    {
     "name": "stdout",
     "output_type": "stream",
     "text": [
      "This is the 205 time's iteration. The loss is 4.731648859173085. The k is 12.736516718291913, and b is -57.789517287498704\n",
      "This is the 206 time's iteration. The loss is 4.731475700773851. The k is 12.735642744036669, and b is -57.78395783412368\n",
      "This is the 207 time's iteration. The loss is 4.731302584014408. The k is 12.734768979947994, and b is -57.778399717643\n",
      "This is the 208 time's iteration. The loss is 4.73112950888475. The k is 12.733895425975346, and b is -57.77284293773516\n",
      "This is the 209 time's iteration. The loss is 4.730956475374853. The k is 12.7330220820682, and b is -57.76728749407877\n",
      "This is the 210 time's iteration. The loss is 4.730783483474718. The k is 12.73214894817604, and b is -57.76173338635249\n",
      "This is the 211 time's iteration. The loss is 4.730610533174339. The k is 12.731276024248363, and b is -57.75618061423506\n",
      "This is the 212 time's iteration. The loss is 4.730437624463706. The k is 12.73040331023468, and b is -57.750629177405315\n",
      "This is the 213 time's iteration. The loss is 4.730264757332836. The k is 12.72953080608451, and b is -57.74507907554215\n",
      "This is the 214 time's iteration. The loss is 4.730091931771698. The k is 12.728658511747387, and b is -57.73953030832455\n",
      "This is the 215 time's iteration. The loss is 4.7299191477703255. The k is 12.727786427172859, and b is -57.73398287543155\n",
      "This is the 216 time's iteration. The loss is 4.729746405318708. The k is 12.726914552310483, and b is -57.7284367765423\n",
      "This is the 217 time's iteration. The loss is 4.729573704406854. The k is 12.726042887109829, and b is -57.72289201133601\n",
      "This is the 218 time's iteration. The loss is 4.7294010450247885. The k is 12.725171431520478, and b is -57.717348579491954\n",
      "This is the 219 time's iteration. The loss is 4.729228427162508. The k is 12.724300185492025, and b is -57.7118064806895\n",
      "This is the 220 time's iteration. The loss is 4.729055850810041. The k is 12.723429148974077, and b is -57.706265714608094\n",
      "This is the 221 time's iteration. The loss is 4.7288833159573995. The k is 12.722558321916253, and b is -57.70072628092725\n",
      "This is the 222 time's iteration. The loss is 4.728710822594602. The k is 12.721687704268183, and b is -57.69518817932656\n",
      "This is the 223 time's iteration. The loss is 4.728538370711679. The k is 12.720817295979508, and b is -57.6896514094857\n",
      "This is the 224 time's iteration. The loss is 4.728365960298642. The k is 12.719947096999885, and b is -57.68411597108441\n",
      "This is the 225 time's iteration. The loss is 4.728193591345539. The k is 12.719077107278979, and b is -57.67858186380253\n",
      "This is the 226 time's iteration. The loss is 4.728021263842378. The k is 12.718207326766473, and b is -57.673049087319946\n",
      "This is the 227 time's iteration. The loss is 4.72784897777921. The k is 12.717337755412053, and b is -57.66751764131665\n",
      "This is the 228 time's iteration. The loss is 4.727676733146051. The k is 12.716468393165426, and b is -57.661987525472696\n",
      "This is the 229 time's iteration. The loss is 4.727504529932956. The k is 12.715599239976306, and b is -57.65645873946822\n",
      "This is the 230 time's iteration. The loss is 4.727332368129957. The k is 12.714730295794421, and b is -57.65093128298343\n",
      "This is the 231 time's iteration. The loss is 4.727160247727093. The k is 12.713861560569512, and b is -57.64540515569861\n",
      "This is the 232 time's iteration. The loss is 4.726988168714414. The k is 12.712993034251328, and b is -57.639880357294125\n",
      "This is the 233 time's iteration. The loss is 4.726816131081971. The k is 12.712124716789633, and b is -57.634356887450416\n",
      "This is the 234 time's iteration. The loss is 4.726644134819795. The k is 12.711256608134203, and b is -57.628834745848\n",
      "This is the 235 time's iteration. The loss is 4.726472179917965. The k is 12.710388708234827, and b is -57.623313932167484\n",
      "This is the 236 time's iteration. The loss is 4.72630026636651. The k is 12.709521017041304, and b is -57.617794446089526\n",
      "This is the 237 time's iteration. The loss is 4.726128394155492. The k is 12.708653534503448, and b is -57.61227628729488\n",
      "This is the 238 time's iteration. The loss is 4.725956563274977. The k is 12.70778626057108, and b is -57.60675945546437\n",
      "This is the 239 time's iteration. The loss is 4.725784773715027. The k is 12.706919195194038, and b is -57.6012439502789\n",
      "This is the 240 time's iteration. The loss is 4.725613025465692. The k is 12.70605233832217, and b is -57.59572977141944\n",
      "This is the 241 time's iteration. The loss is 4.725441318517058. The k is 12.705185689905335, and b is -57.59021691856706\n",
      "This is the 242 time's iteration. The loss is 4.725269652859176. The k is 12.704319249893407, and b is -57.58470539140288\n",
      "This is the 243 time's iteration. The loss is 4.725098028482123. The k is 12.70345301823627, and b is -57.579195189608114\n",
      "This is the 244 time's iteration. The loss is 4.724926445375976. The k is 12.702586994883822, and b is -57.57368631286405\n",
      "This is the 245 time's iteration. The loss is 4.724754903530807. The k is 12.701721179785968, and b is -57.56817876085204\n",
      "This is the 246 time's iteration. The loss is 4.724583402936692. The k is 12.700855572892632, and b is -57.56267253325353\n",
      "This is the 247 time's iteration. The loss is 4.724411943583713. The k is 12.699990174153744, and b is -57.55716762975004\n",
      "This is the 248 time's iteration. The loss is 4.724240525461951. The k is 12.69912498351925, and b is -57.551664050023156\n",
      "This is the 249 time's iteration. The loss is 4.7240691485615. The k is 12.698260000939106, and b is -57.54616179375454\n",
      "This is the 250 time's iteration. The loss is 4.723897812872432. The k is 12.697395226363282, and b is -57.54066086062595\n",
      "This is the 251 time's iteration. The loss is 4.723726518384852. The k is 12.696530659741756, and b is -57.5351612503192\n",
      "This is the 252 time's iteration. The loss is 4.723555265088841. The k is 12.695666301024524, and b is -57.529662962516184\n",
      "This is the 253 time's iteration. The loss is 4.723384052974491. The k is 12.694802150161589, and b is -57.52416599689889\n",
      "This is the 254 time's iteration. The loss is 4.723212882031913. The k is 12.693938207102967, and b is -57.51867035314935\n",
      "This is the 255 time's iteration. The loss is 4.723041752251201. The k is 12.693074471798688, and b is -57.51317603094971\n",
      "This is the 256 time's iteration. The loss is 4.722870663622456. The k is 12.692210944198793, and b is -57.50768302998216\n",
      "This is the 257 time's iteration. The loss is 4.722699616135768. The k is 12.691347624253336, and b is -57.50219134992899\n",
      "This is the 258 time's iteration. The loss is 4.722528609781276. The k is 12.690484511912379, and b is -57.496700990472554\n",
      "This is the 259 time's iteration. The loss is 4.722357644549053. The k is 12.689621607126, and b is -57.491211951295284\n",
      "This is the 260 time's iteration. The loss is 4.722186720429233. The k is 12.688758909844289, and b is -57.48572423207969\n",
      "This is the 261 time's iteration. The loss is 4.72201583741192. The k is 12.687896420017346, and b is -57.48023783250836\n",
      "This is the 262 time's iteration. The loss is 4.721844995487238. The k is 12.687034137595283, and b is -57.474752752263946\n",
      "This is the 263 time's iteration. The loss is 4.721674194645301. The k is 12.686172062528227, and b is -57.469268991029196\n",
      "This is the 264 time's iteration. The loss is 4.721503434876218. The k is 12.685310194766313, and b is -57.46378654848692\n",
      "This is the 265 time's iteration. The loss is 4.721332716170134. The k is 12.68444853425969, and b is -57.45830542432002\n",
      "This is the 266 time's iteration. The loss is 4.721162038517154. The k is 12.683587080958521, and b is -57.45282561821145\n",
      "This is the 267 time's iteration. The loss is 4.720991401907426. The k is 12.682725834812977, and b is -57.44734712984426\n",
      "This is the 268 time's iteration. The loss is 4.720820806331065. The k is 12.681864795773242, and b is -57.44186995890157\n",
      "This is the 269 time's iteration. The loss is 4.7206502517782125. The k is 12.681003963789514, and b is -57.436394105066576\n",
      "This is the 270 time's iteration. The loss is 4.720479738238992. The k is 12.680143338812004, and b is -57.430919568022546\n",
      "This is the 271 time's iteration. The loss is 4.720309265703553. The k is 12.679282920790929, and b is -57.425446347452834\n",
      "This is the 272 time's iteration. The loss is 4.72013883416203. The k is 12.678422709676523, and b is -57.41997444304086\n",
      "This is the 273 time's iteration. The loss is 4.719968443604568. The k is 12.67756270541903, and b is -57.41450385447012\n"
     ]
    },
    {
     "name": "stdout",
     "output_type": "stream",
     "text": [
      "This is the 274 time's iteration. The loss is 4.719798094021301. The k is 12.676702907968709, and b is -57.4090345814242\n",
      "This is the 275 time's iteration. The loss is 4.719627785402396. The k is 12.675843317275826, and b is -57.403566623586755\n",
      "This is the 276 time's iteration. The loss is 4.719457517737975. The k is 12.674983933290664, and b is -57.398099980641504\n",
      "This is the 277 time's iteration. The loss is 4.719287291018212. The k is 12.674124755963513, and b is -57.39263465227226\n",
      "This is the 278 time's iteration. The loss is 4.719117105233261. The k is 12.673265785244679, and b is -57.38717063816289\n",
      "This is the 279 time's iteration. The loss is 4.71894696037326. The k is 12.672407021084478, and b is -57.38170793799737\n",
      "This is the 280 time's iteration. The loss is 4.718776856428388. The k is 12.671548463433238, and b is -57.37624655145972\n",
      "This is the 281 time's iteration. The loss is 4.718606793388788. The k is 12.6706901122413, and b is -57.37078647823406\n",
      "This is the 282 time's iteration. The loss is 4.718436771244638. The k is 12.669831967459016, and b is -57.365327718004565\n",
      "This is the 283 time's iteration. The loss is 4.7182667899860915. The k is 12.668974029036752, and b is -57.359870270455495\n",
      "This is the 284 time's iteration. The loss is 4.718096849603324. The k is 12.66811629692488, and b is -57.35441413527119\n",
      "This is the 285 time's iteration. The loss is 4.717926950086509. The k is 12.667258771073792, and b is -57.34895931213607\n",
      "This is the 286 time's iteration. The loss is 4.7177570914258204. The k is 12.666401451433886, and b is -57.343505800734604\n",
      "This is the 287 time's iteration. The loss is 4.7175872736114215. The k is 12.665544337955573, and b is -57.33805360075138\n",
      "This is the 288 time's iteration. The loss is 4.717417496633494. The k is 12.66468743058928, and b is -57.332602711871026\n",
      "This is the 289 time's iteration. The loss is 4.717247760482226. The k is 12.663830729285442, and b is -57.32715313377825\n",
      "This is the 290 time's iteration. The loss is 4.717078065147791. The k is 12.662974233994504, and b is -57.321704866157866\n",
      "This is the 291 time's iteration. The loss is 4.71690841062038. The k is 12.662117944666928, and b is -57.31625790869472\n",
      "This is the 292 time's iteration. The loss is 4.716738796890178. The k is 12.661261861253184, and b is -57.31081226107377\n",
      "This is the 293 time's iteration. The loss is 4.716569223947378. The k is 12.660405983703756, and b is -57.30536792298003\n",
      "This is the 294 time's iteration. The loss is 4.716399691782161. The k is 12.659550311969141, and b is -57.299924894098595\n",
      "This is the 295 time's iteration. The loss is 4.716230200384723. The k is 12.658694845999845, and b is -57.29448317411463\n",
      "This is the 296 time's iteration. The loss is 4.716060749745272. The k is 12.657839585746386, and b is -57.28904276271339\n",
      "This is the 297 time's iteration. The loss is 4.715891339853999. The k is 12.656984531159296, and b is -57.2836036595802\n",
      "This is the 298 time's iteration. The loss is 4.7157219707011. The k is 12.65612968218912, and b is -57.27816586440045\n",
      "This is the 299 time's iteration. The loss is 4.715552642276792. The k is 12.655275038786408, and b is -57.272729376859616\n",
      "This is the 300 time's iteration. The loss is 4.71538335457127. The k is 12.654420600901732, and b is -57.26729419664324\n",
      "This is the 301 time's iteration. The loss is 4.715214107574743. The k is 12.653566368485667, and b is -57.261860323436956\n",
      "This is the 302 time's iteration. The loss is 4.715044901277427. The k is 12.652712341488805, and b is -57.25642775692646\n",
      "This is the 303 time's iteration. The loss is 4.714875735669535. The k is 12.651858519861747, and b is -57.25099649679753\n",
      "This is the 304 time's iteration. The loss is 4.714706610741281. The k is 12.651004903555108, and b is -57.24556654273602\n",
      "This is the 305 time's iteration. The loss is 4.71453752648288. The k is 12.650151492519516, and b is -57.24013789442785\n",
      "This is the 306 time's iteration. The loss is 4.714368482884551. The k is 12.649298286705607, and b is -57.23471055155903\n",
      "This is the 307 time's iteration. The loss is 4.714199479936515. The k is 12.648445286064032, and b is -57.229284513815635\n",
      "This is the 308 time's iteration. The loss is 4.714030517629004. The k is 12.64759249054545, and b is -57.22385978088382\n",
      "This is the 309 time's iteration. The loss is 4.7138615959522525. The k is 12.646739900100538, and b is -57.218436352449814\n",
      "This is the 310 time's iteration. The loss is 4.713692714896463. The k is 12.645887514679982, and b is -57.21301422819992\n",
      "This is the 311 time's iteration. The loss is 4.713523874451887. The k is 12.645035334234477, and b is -57.20759340782051\n",
      "This is the 312 time's iteration. The loss is 4.713355074608755. The k is 12.64418335871473, and b is -57.202173890998054\n",
      "This is the 313 time's iteration. The loss is 4.713186315357312. The k is 12.643331588071467, and b is -57.19675567741908\n",
      "This is the 314 time's iteration. The loss is 4.713017596687777. The k is 12.642480022255418, and b is -57.19133876677018\n",
      "This is the 315 time's iteration. The loss is 4.712848918590405. The k is 12.641628661217329, and b is -57.18592315873805\n",
      "This is the 316 time's iteration. The loss is 4.712680281055437. The k is 12.640777504907955, and b is -57.18050885300944\n",
      "This is the 317 time's iteration. The loss is 4.712511684073132. The k is 12.639926553278066, and b is -57.17509584927119\n",
      "This is the 318 time's iteration. The loss is 4.7123431276337024. The k is 12.639075806278441, and b is -57.16968414721019\n",
      "This is the 319 time's iteration. The loss is 4.712174611727443. The k is 12.638225263859873, and b is -57.164273746513445\n",
      "This is the 320 time's iteration. The loss is 4.712006136344567. The k is 12.637374925973166, and b is -57.158864646868\n",
      "This is the 321 time's iteration. The loss is 4.711837701475362. The k is 12.636524792569135, and b is -57.15345684796099\n",
      "This is the 322 time's iteration. The loss is 4.711669307110061. The k is 12.63567486359861, and b is -57.14805034947962\n",
      "This is the 323 time's iteration. The loss is 4.71150095323894. The k is 12.634825139012426, and b is -57.14264515111118\n",
      "This is the 324 time's iteration. The loss is 4.711332639852247. The k is 12.633975618761436, and b is -57.13724125254303\n",
      "This is the 325 time's iteration. The loss is 4.711164366940265. The k is 12.633126302796505, and b is -57.131838653462594\n",
      "This is the 326 time's iteration. The loss is 4.710996134493247. The k is 12.632277191068507, and b is -57.12643735355739\n",
      "This is the 327 time's iteration. The loss is 4.710827942501461. The k is 12.631428283528328, and b is -57.121037352515\n",
      "This is the 328 time's iteration. The loss is 4.7106597909551935. The k is 12.630579580126865, and b is -57.11563865002309\n",
      "This is the 329 time's iteration. The loss is 4.7104916798447105. The k is 12.62973108081503, and b is -57.11024124576938\n",
      "This is the 330 time's iteration. The loss is 4.710323609160277. The k is 12.628882785543748, and b is -57.10484513944169\n",
      "This is the 331 time's iteration. The loss is 4.710156153612145. The k is 12.628034694263949, and b is -57.09945033072791\n",
      "This is the 332 time's iteration. The loss is 4.709990188351505. The k is 12.627186806926579, and b is -57.09405681931599\n",
      "This is the 333 time's iteration. The loss is 4.709824263000905. The k is 12.626339123482596, and b is -57.088664604893964\n",
      "This is the 334 time's iteration. The loss is 4.709658377550749. The k is 12.62549164388297, and b is -57.08327368714995\n",
      "This is the 335 time's iteration. The loss is 4.709492531991448. The k is 12.624644368078682, and b is -57.077884065772125\n",
      "This is the 336 time's iteration. The loss is 4.709326726313405. The k is 12.623797296020724, and b is -57.07249574044875\n",
      "This is the 337 time's iteration. The loss is 4.7091609605070275. The k is 12.622950427660102, and b is -57.06710871086817\n",
      "This is the 338 time's iteration. The loss is 4.708995234562716. The k is 12.622103762947832, and b is -57.061722976718784\n",
      "This is the 339 time's iteration. The loss is 4.708829548470911. The k is 12.621257301834941, and b is -57.05633853768908\n",
      "This is the 340 time's iteration. The loss is 4.708663902222018. The k is 12.620411044272469, and b is -57.05095539346762\n",
      "This is the 341 time's iteration. The loss is 4.7084982958064465. The k is 12.61956499021147, and b is -57.04557354374303\n",
      "This is the 342 time's iteration. The loss is 4.708332729214629. The k is 12.618719139603005, and b is -57.04019298820403\n"
     ]
    },
    {
     "name": "stdout",
     "output_type": "stream",
     "text": [
      "This is the 343 time's iteration. The loss is 4.708167202436981. The k is 12.617873492398152, and b is -57.034813726539404\n",
      "This is the 344 time's iteration. The loss is 4.708001715463925. The k is 12.617028048547995, and b is -57.029435758438\n",
      "This is the 345 time's iteration. The loss is 4.707836268285908. The k is 12.616182808003636, and b is -57.02405908358876\n",
      "This is the 346 time's iteration. The loss is 4.707670860893342. The k is 12.615337770716183, and b is -57.01868370168069\n",
      "This is the 347 time's iteration. The loss is 4.707505493276665. The k is 12.61449293663676, and b is -57.01330961240288\n",
      "This is the 348 time's iteration. The loss is 4.707340165426326. The k is 12.613648305716499, and b is -57.007936815444474\n",
      "This is the 349 time's iteration. The loss is 4.70717487733273. The k is 12.612803877906547, and b is -57.00256531049472\n",
      "This is the 350 time's iteration. The loss is 4.7070096289863494. The k is 12.611959653158063, and b is -56.997195097242916\n",
      "This is the 351 time's iteration. The loss is 4.706844420377602. The k is 12.611115631422214, and b is -56.99182617537845\n",
      "This is the 352 time's iteration. The loss is 4.706679251496958. The k is 12.610271812650183, and b is -56.986458544590775\n",
      "This is the 353 time's iteration. The loss is 4.706514122334833. The k is 12.609428196793163, and b is -56.98109220456943\n",
      "This is the 354 time's iteration. The loss is 4.706349032881707. The k is 12.608584783802357, and b is -56.975727155004016\n",
      "This is the 355 time's iteration. The loss is 4.706183983128002. The k is 12.607741573628982, and b is -56.970363395584215\n",
      "This is the 356 time's iteration. The loss is 4.706018973064194. The k is 12.606898566224265, and b is -56.96500092599978\n",
      "This is the 357 time's iteration. The loss is 4.7058540026807245. The k is 12.606055761539448, and b is -56.95963974594055\n",
      "This is the 358 time's iteration. The loss is 4.705689071968056. The k is 12.605213159525782, and b is -56.95427985509642\n",
      "This is the 359 time's iteration. The loss is 4.705524180916651. The k is 12.604370760134529, and b is -56.94892125315738\n",
      "This is the 360 time's iteration. The loss is 4.7053593295169645. The k is 12.603528563316964, and b is -56.94356393981347\n",
      "This is the 361 time's iteration. The loss is 4.705194517759478. The k is 12.602686569024375, and b is -56.938207914754834\n",
      "This is the 362 time's iteration. The loss is 4.705029745634645. The k is 12.601844777208058, and b is -56.93285317767166\n",
      "This is the 363 time's iteration. The loss is 4.704865013132934. The k is 12.601003187819325, and b is -56.92749972825424\n",
      "This is the 364 time's iteration. The loss is 4.7047003202448225. The k is 12.600161800809497, and b is -56.92214756619292\n",
      "This is the 365 time's iteration. The loss is 4.704535666960782. The k is 12.599320616129909, and b is -56.91679669117812\n",
      "This is the 366 time's iteration. The loss is 4.704371053271287. The k is 12.598479633731905, and b is -56.91144710290035\n",
      "This is the 367 time's iteration. The loss is 4.704206479166829. The k is 12.59763885356684, and b is -56.90609880105018\n",
      "This is the 368 time's iteration. The loss is 4.704041944637862. The k is 12.596798275586085, and b is -56.90075178531826\n",
      "This is the 369 time's iteration. The loss is 4.703877449674898. The k is 12.595957899741022, and b is -56.89540605539532\n",
      "This is the 370 time's iteration. The loss is 4.703712994268401. The k is 12.59511772598304, and b is -56.890061610972154\n",
      "This is the 371 time's iteration. The loss is 4.703548578408881. The k is 12.59427775426354, and b is -56.88471845173964\n",
      "This is the 372 time's iteration. The loss is 4.703384202086801. The k is 12.593437984533944, and b is -56.87937657738871\n",
      "This is the 373 time's iteration. The loss is 4.703219865292678. The k is 12.592598416745675, and b is -56.874035987610405\n",
      "This is the 374 time's iteration. The loss is 4.703055568016986. The k is 12.591759050850172, and b is -56.86869668209581\n",
      "This is the 375 time's iteration. The loss is 4.702891310250243. The k is 12.590919886798886, and b is -56.8633586605361\n",
      "This is the 376 time's iteration. The loss is 4.702727091982925. The k is 12.59008092454328, and b is -56.85802192262252\n",
      "This is the 377 time's iteration. The loss is 4.702562913205556. The k is 12.589242164034825, and b is -56.852686468046386\n",
      "This is the 378 time's iteration. The loss is 4.7023987739086275. The k is 12.58840360522501, and b is -56.84735229649909\n",
      "This is the 379 time's iteration. The loss is 4.702234674082638. The k is 12.587565248065328, and b is -56.8420194076721\n",
      "This is the 380 time's iteration. The loss is 4.702070613718116. The k is 12.58672709250729, and b is -56.83668780125696\n",
      "This is the 381 time's iteration. The loss is 4.7019065928055594. The k is 12.585889138502418, and b is -56.83135747694528\n",
      "This is the 382 time's iteration. The loss is 4.701742611335476. The k is 12.585051386002242, and b is -56.82602843442875\n",
      "This is the 383 time's iteration. The loss is 4.701578669298395. The k is 12.584213834958305, and b is -56.82070067339914\n",
      "This is the 384 time's iteration. The loss is 4.701414766684813. The k is 12.583376485322164, and b is -56.81537419354828\n",
      "This is the 385 time's iteration. The loss is 4.701250903485279. The k is 12.582539337045384, and b is -56.81004899456809\n",
      "This is the 386 time's iteration. The loss is 4.7010870796903. The k is 12.581702390079547, and b is -56.804725076150554\n",
      "This is the 387 time's iteration. The loss is 4.70092329529039. The k is 12.58086564437624, and b is -56.79940243798773\n",
      "This is the 388 time's iteration. The loss is 4.700759550276092. The k is 12.580029099887067, and b is -56.79408107977175\n",
      "This is the 389 time's iteration. The loss is 4.700595844637928. The k is 12.579192756563641, and b is -56.78876100119483\n",
      "This is the 390 time's iteration. The loss is 4.700432178366426. The k is 12.578356614357586, and b is -56.78344220194924\n",
      "This is the 391 time's iteration. The loss is 4.700268551452124. The k is 12.577520673220542, and b is -56.77812468172735\n",
      "This is the 392 time's iteration. The loss is 4.700104963885558. The k is 12.576684933104154, and b is -56.77280844022158\n",
      "This is the 393 time's iteration. The loss is 4.699941415657266. The k is 12.575849393960084, and b is -56.76749347712445\n",
      "This is the 394 time's iteration. The loss is 4.699777906757778. The k is 12.575014055740002, and b is -56.762179792128514\n",
      "This is the 395 time's iteration. The loss is 4.699614437177658. The k is 12.574178918395594, and b is -56.756867384926444\n",
      "This is the 396 time's iteration. The loss is 4.6994510069074265. The k is 12.573343981878553, and b is -56.75155625521096\n",
      "This is the 397 time's iteration. The loss is 4.699287615937644. The k is 12.572509246140587, and b is -56.746246402674856\n",
      "This is the 398 time's iteration. The loss is 4.699124264258863. The k is 12.571674711133413, and b is -56.74093782701101\n",
      "This is the 399 time's iteration. The loss is 4.698960951861626. The k is 12.57084037680876, and b is -56.73563052791237\n",
      "This is the 400 time's iteration. The loss is 4.698797678736498. The k is 12.570006243118373, and b is -56.73032450507196\n",
      "This is the 401 time's iteration. The loss is 4.698634444874019. The k is 12.569172310014, and b is -56.725019758182874\n",
      "This is the 402 time's iteration. The loss is 4.69847125026476. The k is 12.56833857744741, and b is -56.71971628693828\n",
      "This is the 403 time's iteration. The loss is 4.6983080948992795. The k is 12.567505045370376, and b is -56.71441409103142\n",
      "This is the 404 time's iteration. The loss is 4.698144978768135. The k is 12.56667171373469, and b is -56.70911317015561\n",
      "This is the 405 time's iteration. The loss is 4.6979819018618985. The k is 12.565838582492146, and b is -56.70381352400425\n",
      "This is the 406 time's iteration. The loss is 4.697818864171138. The k is 12.565005651594559, and b is -56.69851515227079\n",
      "This is the 407 time's iteration. The loss is 4.697655865686411. The k is 12.564172920993752, and b is -56.69321805464877\n",
      "This is the 408 time's iteration. The loss is 4.697492906398303. The k is 12.563340390641555, and b is -56.68792223083181\n",
      "This is the 409 time's iteration. The loss is 4.697329986297384. The k is 12.562508060489817, and b is -56.68262768051359\n",
      "This is the 410 time's iteration. The loss is 4.697167105374235. The k is 12.561675930490395, and b is -56.67733440338787\n",
      "This is the 411 time's iteration. The loss is 4.6970042636194265. The k is 12.560844000595157, and b is -56.67204239914848\n"
     ]
    },
    {
     "name": "stdout",
     "output_type": "stream",
     "text": [
      "This is the 412 time's iteration. The loss is 4.696841461023545. The k is 12.560012270755983, and b is -56.66675166748933\n",
      "This is the 413 time's iteration. The loss is 4.696678697577166. The k is 12.559180740924768, and b is -56.661462208104396\n",
      "This is the 414 time's iteration. The loss is 4.696515973270892. The k is 12.558349411053413, and b is -56.656174020687736\n",
      "This is the 415 time's iteration. The loss is 4.69635328809529. The k is 12.557518281093834, and b is -56.650887104933474\n",
      "This is the 416 time's iteration. The loss is 4.696190642040971. The k is 12.556687350997958, and b is -56.64560146053581\n",
      "This is the 417 time's iteration. The loss is 4.696029939636685. The k is 12.555856620717721, and b is -56.64031708718902\n",
      "This is the 418 time's iteration. The loss is 4.695870135467363. The k is 12.555026090205077, and b is -56.635033984587444\n",
      "This is the 419 time's iteration. The loss is 4.695710369726503. The k is 12.554195759411986, and b is -56.62975215242551\n",
      "This is the 420 time's iteration. The loss is 4.695555808586752. The k is 12.553365628290418, and b is -56.62447159039772\n",
      "This is the 421 time's iteration. The loss is 4.69540280138469. The k is 12.552535696792361, and b is -56.61919229819863\n",
      "This is the 422 time's iteration. The loss is 4.6952498309766195. The k is 12.55170596486981, and b is -56.61391427552288\n",
      "This is the 423 time's iteration. The loss is 4.69509689735368. The k is 12.550876432474773, and b is -56.608637522065195\n",
      "This is the 424 time's iteration. The loss is 4.694944000507046. The k is 12.550047099559267, and b is -56.603362037520355\n",
      "This is the 425 time's iteration. The loss is 4.6947911404278555. The k is 12.549217966075325, and b is -56.59808782158323\n",
      "This is the 426 time's iteration. The loss is 4.6946383171072705. The k is 12.54838903197499, and b is -56.59281487394875\n",
      "This is the 427 time's iteration. The loss is 4.694485530536463. The k is 12.547560297210314, and b is -56.58754319431192\n",
      "This is the 428 time's iteration. The loss is 4.694332780706582. The k is 12.546731761733364, and b is -56.58227278236782\n",
      "This is the 429 time's iteration. The loss is 4.694180067608799. The k is 12.545903425496213, and b is -56.57700363781162\n",
      "This is the 430 time's iteration. The loss is 4.694027391234287. The k is 12.545075288450954, and b is -56.571735760338534\n",
      "This is the 431 time's iteration. The loss is 4.693874751574206. The k is 12.544247350549684, and b is -56.566469149643865\n",
      "This is the 432 time's iteration. The loss is 4.693722148619729. The k is 12.543419611744515, and b is -56.56120380542299\n",
      "This is the 433 time's iteration. The loss is 4.693569582362024. The k is 12.542592071987569, and b is -56.55593972737136\n",
      "This is the 434 time's iteration. The loss is 4.6934187326118. The k is 12.541764731230982, and b is -56.550676915184496\n",
      "This is the 435 time's iteration. The loss is 4.693268358636199. The k is 12.5409375894269, and b is -56.54541536855799\n",
      "This is the 436 time's iteration. The loss is 4.693118020821373. The k is 12.540110646527479, and b is -56.540155087187514\n",
      "This is the 437 time's iteration. The loss is 4.692967719158619. The k is 12.539283902484891, and b is -56.5348960707688\n",
      "This is the 438 time's iteration. The loss is 4.69281745363925. The k is 12.538457357251312, and b is -56.52963831899768\n",
      "This is the 439 time's iteration. The loss is 4.692667224254573. The k is 12.537631010778938, and b is -56.52438183157002\n",
      "This is the 440 time's iteration. The loss is 4.692517467226558. The k is 12.53680486301997, and b is -56.51912660818179\n",
      "This is the 441 time's iteration. The loss is 4.69236818788296. The k is 12.535978913926623, and b is -56.51387264852903\n",
      "This is the 442 time's iteration. The loss is 4.6922189444369025. The k is 12.535153163451126, and b is -56.50861995230784\n",
      "This is the 443 time's iteration. The loss is 4.692069736879754. The k is 12.534327611545715, and b is -56.5033685192144\n",
      "This is the 444 time's iteration. The loss is 4.691920565202894. The k is 12.533502258162638, and b is -56.498118348944956\n",
      "This is the 445 time's iteration. The loss is 4.691771429397674. The k is 12.532677103254157, and b is -56.49286944119584\n",
      "This is the 446 time's iteration. The loss is 4.691622329455479. The k is 12.531852146772545, and b is -56.48762179566346\n",
      "This is the 447 time's iteration. The loss is 4.691473265367692. The k is 12.531027388670084, and b is -56.48237541204428\n",
      "This is the 448 time's iteration. The loss is 4.691324237125676. The k is 12.530202828899073, and b is -56.477130290034836\n",
      "This is the 449 time's iteration. The loss is 4.6911752447208235. The k is 12.529378467411817, and b is -56.47188642933176\n",
      "This is the 450 time's iteration. The loss is 4.691026288144506. The k is 12.528554304160632, and b is -56.466643829631735\n",
      "This is the 451 time's iteration. The loss is 4.690877367388121. The k is 12.52773033909785, and b is -56.46140249063153\n",
      "This is the 452 time's iteration. The loss is 4.690728482443048. The k is 12.526906572175813, and b is -56.45616241202797\n",
      "This is the 453 time's iteration. The loss is 4.690579633300671. The k is 12.526083003346871, and b is -56.450923593517985\n",
      "This is the 454 time's iteration. The loss is 4.69043081995238. The k is 12.52525963256339, and b is -56.44568603479854\n",
      "This is the 455 time's iteration. The loss is 4.690282042389579. The k is 12.524436459777746, and b is -56.440449735566695\n",
      "This is the 456 time's iteration. The loss is 4.69013330060365. The k is 12.523613484942324, and b is -56.435214695519576\n",
      "This is the 457 time's iteration. The loss is 4.689984594585996. The k is 12.522790708009524, and b is -56.42998091435439\n",
      "This is the 458 time's iteration. The loss is 4.6898359243280145. The k is 12.521968128931753, and b is -56.424748391768404\n",
      "This is the 459 time's iteration. The loss is 4.689687289821112. The k is 12.521145747661437, and b is -56.419517127458974\n",
      "This is the 460 time's iteration. The loss is 4.689538691056681. The k is 12.520323564151006, and b is -56.414287121123515\n",
      "This is the 461 time's iteration. The loss is 4.689390128026129. The k is 12.519501578352905, and b is -56.40905837245951\n",
      "This is the 462 time's iteration. The loss is 4.689241600720871. The k is 12.51867979021959, and b is -56.40383088116454\n",
      "This is the 463 time's iteration. The loss is 4.689093109132302. The k is 12.517858199703527, and b is -56.39860464693623\n",
      "This is the 464 time's iteration. The loss is 4.68894465325185. The k is 12.517036806757195, and b is -56.393379669472296\n",
      "This is the 465 time's iteration. The loss is 4.688796233070918. The k is 12.516215611333084, and b is -56.38815594847052\n",
      "This is the 466 time's iteration. The loss is 4.688647848580919. The k is 12.515394613383696, and b is -56.382933483628754\n",
      "This is the 467 time's iteration. The loss is 4.688499499773279. The k is 12.514573812861544, and b is -56.377712274644935\n",
      "This is the 468 time's iteration. The loss is 4.688351186639404. The k is 12.513753209719152, and b is -56.37249232121706\n",
      "This is the 469 time's iteration. The loss is 4.6882029091707365. The k is 12.512932803909052, and b is -56.3672736230432\n",
      "This is the 470 time's iteration. The loss is 4.688054667358679. The k is 12.512112595383797, and b is -56.3620561798215\n",
      "This is the 471 time's iteration. The loss is 4.68790646119467. The k is 12.511292584095942, and b is -56.35683999125018\n",
      "This is the 472 time's iteration. The loss is 4.687758290670129. The k is 12.510472769998058, and b is -56.35162505702754\n",
      "This is the 473 time's iteration. The loss is 4.687610155776492. The k is 12.509653153042725, and b is -56.34641137685193\n",
      "This is the 474 time's iteration. The loss is 4.687462056505178. The k is 12.508833733182536, and b is -56.3411989504218\n",
      "This is the 475 time's iteration. The loss is 4.687313992847652. The k is 12.508014510370096, and b is -56.33598777743565\n",
      "This is the 476 time's iteration. The loss is 4.687165964795312. The k is 12.50719548455802, and b is -56.33077785759206\n",
      "This is the 477 time's iteration. The loss is 4.687017972339622. The k is 12.506376655698936, and b is -56.32556919058969\n",
      "This is the 478 time's iteration. The loss is 4.686870015472007. The k is 12.50555802374548, and b is -56.320361776127264\n",
      "This is the 479 time's iteration. The loss is 4.686722094183911. The k is 12.504739588650304, and b is -56.315155613903585\n"
     ]
    },
    {
     "name": "stdout",
     "output_type": "stream",
     "text": [
      "This is the 480 time's iteration. The loss is 4.686574208466791. The k is 12.503921350366067, and b is -56.30995070361752\n",
      "This is the 481 time's iteration. The loss is 4.686426358312083. The k is 12.503103308845443, and b is -56.304747044968\n",
      "This is the 482 time's iteration. The loss is 4.686278543711234. The k is 12.502285464041114, and b is -56.299544637654066\n",
      "This is the 483 time's iteration. The loss is 4.686130764655692. The k is 12.501467815905777, and b is -56.294343481374796\n",
      "This is the 484 time's iteration. The loss is 4.685983021136922. The k is 12.500650364392138, and b is -56.28914357582934\n",
      "This is the 485 time's iteration. The loss is 4.685835313146365. The k is 12.499833109452915, and b is -56.28394492071695\n",
      "This is the 486 time's iteration. The loss is 4.685687640675486. The k is 12.499016051040837, and b is -56.27874751573692\n",
      "This is the 487 time's iteration. The loss is 4.685540003715737. The k is 12.498199189108643, and b is -56.27355136058863\n",
      "This is the 488 time's iteration. The loss is 4.685392402258585. The k is 12.497382523609089, and b is -56.268356454971524\n",
      "This is the 489 time's iteration. The loss is 4.685245484515902. The k is 12.496566054494936, and b is -56.263162798585135\n",
      "This is the 490 time's iteration. The loss is 4.685100450871524. The k is 12.495749781718958, and b is -56.25797039112906\n",
      "This is the 491 time's iteration. The loss is 4.684955452103723. The k is 12.494933705233944, and b is -56.25277923230295\n",
      "This is the 492 time's iteration. The loss is 4.684810488204108. The k is 12.494117824992687, and b is -56.24758932180656\n",
      "This is the 493 time's iteration. The loss is 4.684665559164281. The k is 12.493302140948, and b is -56.24240065933969\n",
      "This is the 494 time's iteration. The loss is 4.684520664975868. The k is 12.492486653052701, and b is -56.23721324460223\n",
      "This is the 495 time's iteration. The loss is 4.6843758056305. The k is 12.491671361259623, and b is -56.232027077294134\n",
      "This is the 496 time's iteration. The loss is 4.684230981119773. The k is 12.490856265521607, and b is -56.22684215711543\n",
      "This is the 497 time's iteration. The loss is 4.684086191435328. The k is 12.490041365791509, and b is -56.22165848376621\n",
      "This is the 498 time's iteration. The loss is 4.683941436568789. The k is 12.489226662022192, and b is -56.21647605694667\n",
      "This is the 499 time's iteration. The loss is 4.683796716511782. The k is 12.488412154166538, and b is -56.21129487635703\n",
      "This is the 500 time's iteration. The loss is 4.683652031255934. The k is 12.48759784217743, and b is -56.206114941697614\n",
      "This is the 501 time's iteration. The loss is 4.683507380792874. The k is 12.486783726007767, and b is -56.20093625266881\n",
      "This is the 502 time's iteration. The loss is 4.68336276511423. The k is 12.485969805610464, and b is -56.19575880897108\n",
      "This is the 503 time's iteration. The loss is 4.6832181842116585. The k is 12.485156080938442, and b is -56.19058261030495\n",
      "This is the 504 time's iteration. The loss is 4.683073638076782. The k is 12.484342551944632, and b is -56.185407656371034\n",
      "This is the 505 time's iteration. The loss is 4.682929126701238. The k is 12.483529218581982, and b is -56.180233946870004\n",
      "This is the 506 time's iteration. The loss is 4.682784650076674. The k is 12.482716080803446, and b is -56.17506148150261\n",
      "This is the 507 time's iteration. The loss is 4.682640208194731. The k is 12.481903138561993, and b is -56.16989025996967\n",
      "This is the 508 time's iteration. The loss is 4.682495801047055. The k is 12.4810903918106, and b is -56.16472028197208\n",
      "This is the 509 time's iteration. The loss is 4.682351428625286. The k is 12.480277840502259, and b is -56.1595515472108\n",
      "This is the 510 time's iteration. The loss is 4.682207090921092. The k is 12.47946548458997, and b is -56.15438405538687\n",
      "This is the 511 time's iteration. The loss is 4.682062787926103. The k is 12.478653324026745, and b is -56.14921780620139\n",
      "This is the 512 time's iteration. The loss is 4.68191851963198. The k is 12.47784135876561, and b is -56.14405279935555\n",
      "This is the 513 time's iteration. The loss is 4.681774286030391. The k is 12.4770295887596, and b is -56.138889034550594\n",
      "This is the 514 time's iteration. The loss is 4.6816300871129695. The k is 12.47621801396176, and b is -56.13372651148785\n",
      "This is the 515 time's iteration. The loss is 4.681485922871398. The k is 12.475406634325147, and b is -56.12856522986871\n",
      "This is the 516 time's iteration. The loss is 4.681341793297325. The k is 12.474595449802834, and b is -56.12340518939465\n",
      "This is the 517 time's iteration. The loss is 4.681197698382418. The k is 12.473784460347899, and b is -56.11824638976721\n",
      "This is the 518 time's iteration. The loss is 4.681053638118335. The k is 12.472973665913434, and b is -56.113088830687985\n",
      "This is the 519 time's iteration. The loss is 4.680909612496757. The k is 12.472163066452541, and b is -56.107932511858664\n",
      "This is the 520 time's iteration. The loss is 4.680765621509347. The k is 12.471352661918337, and b is -56.10277743298101\n",
      "This is the 521 time's iteration. The loss is 4.680621665147764. The k is 12.470542452263944, and b is -56.097623593756836\n",
      "This is the 522 time's iteration. The loss is 4.6804777434037055. The k is 12.4697324374425, and b is -56.09247099388805\n",
      "This is the 523 time's iteration. The loss is 4.680333856268835. The k is 12.468922617407156, and b is -56.08731963307662\n",
      "This is the 524 time's iteration. The loss is 4.680190003734827. The k is 12.468112992111068, and b is -56.08216951102458\n",
      "This is the 525 time's iteration. The loss is 4.68004618579336. The k is 12.467303561507409, and b is -56.07702062743405\n",
      "This is the 526 time's iteration. The loss is 4.679902402436115. The k is 12.466494325549357, and b is -56.071872982007214\n",
      "This is the 527 time's iteration. The loss is 4.679758653654793. The k is 12.465685284190108, and b is -56.06672657444632\n",
      "This is the 528 time's iteration. The loss is 4.679614939441052. The k is 12.464876437382868, and b is -56.061581404453705\n",
      "This is the 529 time's iteration. The loss is 4.679471259786608. The k is 12.464067785080848, and b is -56.05643747173176\n",
      "This is the 530 time's iteration. The loss is 4.6793276146831255. The k is 12.463259327237278, and b is -56.05129477598297\n",
      "This is the 531 time's iteration. The loss is 4.679184004122311. The k is 12.462451063805396, and b is -56.04615331690986\n",
      "This is the 532 time's iteration. The loss is 4.67904042809585. The k is 12.461642994738453, and b is -56.04101309421505\n",
      "This is the 533 time's iteration. The loss is 4.678896886595437. The k is 12.460835119989706, and b is -56.03587410760123\n",
      "This is the 534 time's iteration. The loss is 4.678753379612776. The k is 12.460027439512428, and b is -56.03073635677115\n",
      "This is the 535 time's iteration. The loss is 4.678609907139566. The k is 12.459219953259902, and b is -56.02559984142764\n",
      "This is the 536 time's iteration. The loss is 4.678466469167507. The k is 12.458412661185424, and b is -56.020464561273606\n",
      "This is the 537 time's iteration. The loss is 4.678323065688301. The k is 12.457605563242298, and b is -56.015330516012014\n",
      "This is the 538 time's iteration. The loss is 4.6781796966936495. The k is 12.456798659383843, and b is -56.01019770534591\n",
      "This is the 539 time's iteration. The loss is 4.678037076356518. The k is 12.455991949563384, and b is -56.005066128978406\n",
      "This is the 540 time's iteration. The loss is 4.677896686400086. The k is 12.455185433734261, and b is -55.99993578661268\n",
      "This is the 541 time's iteration. The loss is 4.677756330203547. The k is 12.454379111849825, and b is -55.994806677952\n",
      "This is the 542 time's iteration. The loss is 4.677616007758779. The k is 12.453572983863438, and b is -55.989678802699686\n",
      "This is the 543 time's iteration. The loss is 4.677475719057664. The k is 12.452767049728473, and b is -55.98455216055915\n",
      "This is the 544 time's iteration. The loss is 4.6773354640921. The k is 12.451961309398314, and b is -55.979426751233845\n",
      "This is the 545 time's iteration. The loss is 4.677195242853959. The k is 12.451155762826357, and b is -55.97430257442733\n",
      "This is the 546 time's iteration. The loss is 4.677055055335132. The k is 12.450350409966006, and b is -55.969179629843204\n",
      "This is the 547 time's iteration. The loss is 4.67691490152752. The k is 12.449545250770681, and b is -55.96405791718516\n",
      "This is the 548 time's iteration. The loss is 4.676774781423008. The k is 12.448740285193809, and b is -55.95893743615695\n"
     ]
    },
    {
     "name": "stdout",
     "output_type": "stream",
     "text": [
      "This is the 549 time's iteration. The loss is 4.676634695013502. The k is 12.447935513188831, and b is -55.95381818646241\n",
      "This is the 550 time's iteration. The loss is 4.676494642290882. The k is 12.4471309347092, and b is -55.94870016780543\n",
      "This is the 551 time's iteration. The loss is 4.676354623247068. The k is 12.446326549708377, and b is -55.94358337988997\n",
      "This is the 552 time's iteration. The loss is 4.676214637873946. The k is 12.445522358139836, and b is -55.938467822420094\n",
      "This is the 553 time's iteration. The loss is 4.676074686163416. The k is 12.444718359957063, and b is -55.9333534950999\n",
      "This is the 554 time's iteration. The loss is 4.675934768107398. The k is 12.443914555113551, and b is -55.92824039763357\n",
      "This is the 555 time's iteration. The loss is 4.67579488369779. The k is 12.443110943562811, and b is -55.92312852972537\n",
      "This is the 556 time's iteration. The loss is 4.67565503292651. The k is 12.442307525258357, and b is -55.91801789107961\n",
      "This is the 557 time's iteration. The loss is 4.675515215785452. The k is 12.441504300153724, and b is -55.91290848140069\n",
      "This is the 558 time's iteration. The loss is 4.675375432266539. The k is 12.44070126820245, and b is -55.907800300393085\n",
      "This is the 559 time's iteration. The loss is 4.67523568236169. The k is 12.439898429358085, and b is -55.90269334776133\n",
      "This is the 560 time's iteration. The loss is 4.675095966062814. The k is 12.439095783574194, and b is -55.89758762321003\n",
      "This is the 561 time's iteration. The loss is 4.674956283361838. The k is 12.438293330804353, and b is -55.89248312644387\n",
      "This is the 562 time's iteration. The loss is 4.67481663425067. The k is 12.437491071002144, and b is -55.88737985716761\n",
      "This is the 563 time's iteration. The loss is 4.674677018721239. The k is 12.436689004121167, and b is -55.882277815086056\n",
      "This is the 564 time's iteration. The loss is 4.674537436765466. The k is 12.435887130115029, and b is -55.877176999904115\n",
      "This is the 565 time's iteration. The loss is 4.674397888375307. The k is 12.435085448937347, and b is -55.87207741132675\n",
      "This is the 566 time's iteration. The loss is 4.674258373542634. The k is 12.434283960541753, and b is -55.86697904905899\n",
      "This is the 567 time's iteration. The loss is 4.6741188922594255. The k is 12.43348266488189, and b is -55.86188191280594\n",
      "This is the 568 time's iteration. The loss is 4.673979444517595. The k is 12.432681561911405, and b is -55.85678600227279\n",
      "This is the 569 time's iteration. The loss is 4.6738400303090755. The k is 12.431880651583967, and b is -55.85169131716478\n",
      "This is the 570 time's iteration. The loss is 4.67370064962581. The k is 12.431079933853246, and b is -55.84659785718723\n",
      "This is the 571 time's iteration. The loss is 4.673561302459733. The k is 12.430279408672932, and b is -55.841505622045524\n",
      "This is the 572 time's iteration. The loss is 4.67342198880278. The k is 12.429479075996719, and b is -55.836414611445136\n",
      "This is the 573 time's iteration. The loss is 4.6732827086469015. The k is 12.428678935778317, and b is -55.831324825091585\n",
      "This is the 574 time's iteration. The loss is 4.673143461984032. The k is 12.427878987971443, and b is -55.82623626269048\n",
      "This is the 575 time's iteration. The loss is 4.673004248806128. The k is 12.427079232529831, and b is -55.8211489239475\n",
      "This is the 576 time's iteration. The loss is 4.672865069105136. The k is 12.426279669407219, and b is -55.816062808568375\n",
      "This is the 577 time's iteration. The loss is 4.6727259228729965. The k is 12.42548029855736, and b is -55.810977916258935\n",
      "This is the 578 time's iteration. The loss is 4.672586810101664. The k is 12.424681119934021, and b is -55.80589424672505\n",
      "This is the 579 time's iteration. The loss is 4.672447730783099. The k is 12.423882133490974, and b is -55.800811799672694\n",
      "This is the 580 time's iteration. The loss is 4.672308684909242. The k is 12.423083339182005, and b is -55.795730574807884\n",
      "This is the 581 time's iteration. The loss is 4.672169672472075. The k is 12.422284736960911, and b is -55.790650571836714\n",
      "This is the 582 time's iteration. The loss is 4.672030693463535. The k is 12.421486326781501, and b is -55.78557179046536\n",
      "This is the 583 time's iteration. The loss is 4.671891747875599. The k is 12.420688108597595, and b is -55.78049423040006\n",
      "This is the 584 time's iteration. The loss is 4.671752835700214. The k is 12.419890082363022, and b is -55.77541789134712\n",
      "This is the 585 time's iteration. The loss is 4.671613956929357. The k is 12.419092248031625, and b is -55.77034277301292\n",
      "This is the 586 time's iteration. The loss is 4.671475111554998. The k is 12.418294605557254, and b is -55.76526887510392\n",
      "This is the 587 time's iteration. The loss is 4.671336299569098. The k is 12.417497154893775, and b is -55.760196197326636\n",
      "This is the 588 time's iteration. The loss is 4.671197520963624. The k is 12.416699895995063, and b is -55.755124739387654\n",
      "This is the 589 time's iteration. The loss is 4.671058775730566. The k is 12.415902828815002, and b is -55.75005450099364\n",
      "This is the 590 time's iteration. The loss is 4.670920063861885. The k is 12.415105953307489, and b is -55.74498548185134\n",
      "This is the 591 time's iteration. The loss is 4.670781385349552. The k is 12.414309269426434, and b is -55.739917681667535\n",
      "This is the 592 time's iteration. The loss is 4.670642740185566. The k is 12.413512777125755, and b is -55.734851100149115\n",
      "This is the 593 time's iteration. The loss is 4.670504128361892. The k is 12.412716476359384, and b is -55.72978573700302\n",
      "This is the 594 time's iteration. The loss is 4.670365549870515. The k is 12.411920367081258, and b is -55.72472159193627\n",
      "This is the 595 time's iteration. The loss is 4.670227004703424. The k is 12.411124449245333, and b is -55.71965866465595\n",
      "This is the 596 time's iteration. The loss is 4.670088492852604. The k is 12.410328722805573, and b is -55.714596954869215\n",
      "This is the 597 time's iteration. The loss is 4.669950014310033. The k is 12.409533187715953, and b is -55.70953646228328\n",
      "This is the 598 time's iteration. The loss is 4.669811569067722. The k is 12.408737843930453, and b is -55.70447718660546\n",
      "This is the 599 time's iteration. The loss is 4.669673157117652. The k is 12.407942691403074, and b is -55.69941912754311\n",
      "This is the 600 time's iteration. The loss is 4.669534778451812. The k is 12.407147730087823, and b is -55.694362284803674\n",
      "This is the 601 time's iteration. The loss is 4.6693964330622055. The k is 12.40635295993872, and b is -55.68930665809466\n",
      "This is the 602 time's iteration. The loss is 4.669258120940824. The k is 12.405558380909794, and b is -55.68425224712364\n",
      "This is the 603 time's iteration. The loss is 4.669119842079678. The k is 12.404763992955086, and b is -55.67919905159827\n",
      "This is the 604 time's iteration. The loss is 4.668981596470749. The k is 12.403969796028647, and b is -55.674147071226265\n",
      "This is the 605 time's iteration. The loss is 4.6688433841060695. The k is 12.403175790084541, and b is -55.669096305715414\n",
      "This is the 606 time's iteration. The loss is 4.668705204977624. The k is 12.40238197507684, and b is -55.66404675477358\n",
      "This is the 607 time's iteration. The loss is 4.668567059077428. The k is 12.401588350959631, and b is -55.65899841810869\n",
      "This is the 608 time's iteration. The loss is 4.668428946397489. The k is 12.40079491768701, and b is -55.65395129542874\n",
      "This is the 609 time's iteration. The loss is 4.668290866929818. The k is 12.400001675213085, and b is -55.64890538644181\n",
      "This is the 610 time's iteration. The loss is 4.6681528206664336. The k is 12.399208623491973, and b is -55.64386069085604\n",
      "This is the 611 time's iteration. The loss is 4.668014807599341. The k is 12.398415762477804, and b is -55.63881720837963\n",
      "This is the 612 time's iteration. The loss is 4.6678768277205664. The k is 12.397623092124716, and b is -55.63377493872087\n",
      "This is the 613 time's iteration. The loss is 4.667738881022121. The k is 12.396830612386864, and b is -55.628733881588104\n",
      "This is the 614 time's iteration. The loss is 4.667600967496032. The k is 12.396038323218407, and b is -55.62369403668976\n",
      "This is the 615 time's iteration. The loss is 4.667463087134319. The k is 12.39524622457352, and b is -55.61865540373433\n",
      "This is the 616 time's iteration. The loss is 4.6673252399290135. The k is 12.394454316406387, and b is -55.61361798243037\n",
      "This is the 617 time's iteration. The loss is 4.667187425872137. The k is 12.393662598671204, and b is -55.60858177248652\n"
     ]
    },
    {
     "name": "stdout",
     "output_type": "stream",
     "text": [
      "This is the 618 time's iteration. The loss is 4.667049644955713. The k is 12.392871071322178, and b is -55.60354677361146\n",
      "This is the 619 time's iteration. The loss is 4.666911897171786. The k is 12.392079734313523, and b is -55.59851298551399\n",
      "This is the 620 time's iteration. The loss is 4.666774182512378. The k is 12.39128858759947, and b is -55.59348040790294\n",
      "This is the 621 time's iteration. The loss is 4.666636500969523. The k is 12.390497631134261, and b is -55.58844904048721\n",
      "This is the 622 time's iteration. The loss is 4.666498852535261. The k is 12.389706864872142, and b is -55.5834188829758\n",
      "This is the 623 time's iteration. The loss is 4.666361237201628. The k is 12.388916288767376, and b is -55.578389935077745\n",
      "This is the 624 time's iteration. The loss is 4.666223654960672. The k is 12.388125902774235, and b is -55.573362196502174\n",
      "This is the 625 time's iteration. The loss is 4.666086105804425. The k is 12.387335706847002, and b is -55.56833566695828\n",
      "This is the 626 time's iteration. The loss is 4.665948589724931. The k is 12.386545700939973, and b is -55.563310346155326\n",
      "This is the 627 time's iteration. The loss is 4.665811106714244. The k is 12.385755885007452, and b is -55.55828623380264\n",
      "This is the 628 time's iteration. The loss is 4.665673656764406. The k is 12.384966259003757, and b is -55.55326332960962\n",
      "This is the 629 time's iteration. The loss is 4.665536239867476. The k is 12.384176822883214, and b is -55.54824163328575\n",
      "This is the 630 time's iteration. The loss is 4.66539885601549. The k is 12.383387576600162, and b is -55.54322114454055\n",
      "This is the 631 time's iteration. The loss is 4.665261505200512. The k is 12.382598520108951, and b is -55.53820186308365\n",
      "This is the 632 time's iteration. The loss is 4.665124187414596. The k is 12.38180965336394, and b is -55.533183788624726\n",
      "This is the 633 time's iteration. The loss is 4.6649869026497965. The k is 12.381020976319501, and b is -55.528166920873524\n",
      "This is the 634 time's iteration. The loss is 4.6648496508981765. The k is 12.380232488930016, and b is -55.523151259539866\n",
      "This is the 635 time's iteration. The loss is 4.664712432151796. The k is 12.379444191149878, and b is -55.51813680433364\n",
      "This is the 636 time's iteration. The loss is 4.664575246402714. The k is 12.378656082933492, and b is -55.513123554964814\n",
      "This is the 637 time's iteration. The loss is 4.66443809364301. The k is 12.377868164235274, and b is -55.508111511143404\n",
      "This is the 638 time's iteration. The loss is 4.6643009738647345. The k is 12.377080435009645, and b is -55.50310067257952\n",
      "This is the 639 time's iteration. The loss is 4.664163887059957. The k is 12.37629289521105, and b is -55.498091038983326\n",
      "This is the 640 time's iteration. The loss is 4.664026833220765. The k is 12.375505544793931, and b is -55.493082610065066\n",
      "This is the 641 time's iteration. The loss is 4.663889812339214. The k is 12.37471838371275, and b is -55.48807538553504\n",
      "This is the 642 time's iteration. The loss is 4.663752824407381. The k is 12.373931411921975, and b is -55.48306936510363\n",
      "This is the 643 time's iteration. The loss is 4.663615869417355. The k is 12.373144629376087, and b is -55.47806454848129\n",
      "This is the 644 time's iteration. The loss is 4.6634789473612015. The k is 12.372358036029581, and b is -55.473060935378534\n",
      "This is the 645 time's iteration. The loss is 4.663342058231003. The k is 12.371571631836957, and b is -55.468058525505946\n",
      "This is the 646 time's iteration. The loss is 4.663205202018843. The k is 12.370785416752728, and b is -55.46305731857418\n",
      "This is the 647 time's iteration. The loss is 4.663068378716808. The k is 12.36999939073142, and b is -55.45805731429397\n",
      "This is the 648 time's iteration. The loss is 4.662931588316983. The k is 12.36921355372757, and b is -55.453058512376096\n",
      "This is the 649 time's iteration. The loss is 4.662794830811448. The k is 12.368427905695723, and b is -55.44806091253144\n",
      "This is the 650 time's iteration. The loss is 4.662658106192308. The k is 12.367642446590436, and b is -55.44306451447093\n",
      "This is the 651 time's iteration. The loss is 4.662521414451641. The k is 12.366857176366278, and b is -55.43806931790557\n",
      "This is the 652 time's iteration. The loss is 4.662384755581554. The k is 12.366072094977827, and b is -55.43307532254644\n",
      "This is the 653 time's iteration. The loss is 4.662248129574127. The k is 12.365287202379676, and b is -55.42808252810468\n",
      "This is the 654 time's iteration. The loss is 4.662111536421467. The k is 12.364502498526425, and b is -55.4230909342915\n",
      "This is the 655 time's iteration. The loss is 4.661974976115675. The k is 12.363717983372686, and b is -55.41810054081818\n",
      "This is the 656 time's iteration. The loss is 4.661838448648847. The k is 12.362933656873082, and b is -55.413111347396075\n",
      "This is the 657 time's iteration. The loss is 4.661701954013089. The k is 12.362149518982246, and b is -55.408123353736606\n",
      "This is the 658 time's iteration. The loss is 4.661565492200507. The k is 12.361365569654824, and b is -55.403136559551264\n",
      "This is the 659 time's iteration. The loss is 4.6614290632032. The k is 12.36058180884547, and b is -55.398150964551604\n",
      "This is the 660 time's iteration. The loss is 4.661292667013286. The k is 12.359798236508853, and b is -55.39316656844926\n",
      "This is the 661 time's iteration. The loss is 4.661156303622868. The k is 12.359014852599648, and b is -55.38818337095593\n",
      "This is the 662 time's iteration. The loss is 4.661019973024074. The k is 12.358231657072546, and b is -55.38320137178338\n",
      "This is the 663 time's iteration. The loss is 4.660883675209002. The k is 12.357448649882246, and b is -55.37822057064345\n",
      "This is the 664 time's iteration. The loss is 4.6607474101697735. The k is 12.356665830983456, and b is -55.373240967248044\n",
      "This is the 665 time's iteration. The loss is 4.660611177898506. The k is 12.3558832003309, and b is -55.36826256130914\n",
      "This is the 666 time's iteration. The loss is 4.660474978387317. The k is 12.355100757879308, and b is -55.363285352538774\n",
      "This is the 667 time's iteration. The loss is 4.660338811628344. The k is 12.354318503583423, and b is -55.35830934064907\n",
      "This is the 668 time's iteration. The loss is 4.660202677613689. The k is 12.353536437397999, and b is -55.35333452535221\n",
      "This is the 669 time's iteration. The loss is 4.660066576335494. The k is 12.3527545592778, and b is -55.34836090636045\n",
      "This is the 670 time's iteration. The loss is 4.65993050778588. The k is 12.351972869177605, and b is -55.3433884833861\n",
      "This is the 671 time's iteration. The loss is 4.659794471956981. The k is 12.351191367052197, and b is -55.33841725614156\n",
      "This is the 672 time's iteration. The loss is 4.659658468840923. The k is 12.350410052856374, and b is -55.33344722433929\n",
      "This is the 673 time's iteration. The loss is 4.659522498429848. The k is 12.349628926544943, and b is -55.32847838769182\n",
      "This is the 674 time's iteration. The loss is 4.659386560715874. The k is 12.348847988072725, and b is -55.32351074591174\n",
      "This is the 675 time's iteration. The loss is 4.659250655691154. The k is 12.348067237394549, and b is -55.31854429871173\n",
      "This is the 676 time's iteration. The loss is 4.659114783347825. The k is 12.347286674465256, and b is -55.31357904580452\n",
      "This is the 677 time's iteration. The loss is 4.658978943678023. The k is 12.346506299239698, and b is -55.30861498690291\n",
      "This is the 678 time's iteration. The loss is 4.658843136673906. The k is 12.345726111672736, and b is -55.30365212171978\n",
      "This is the 679 time's iteration. The loss is 4.658707362327598. The k is 12.344946111719244, and b is -55.29869044996808\n",
      "This is the 680 time's iteration. The loss is 4.658571620631251. The k is 12.344166299334107, and b is -55.29372997136081\n",
      "This is the 681 time's iteration. The loss is 4.658435911577018. The k is 12.343386674472221, and b is -55.28877068561106\n",
      "This is the 682 time's iteration. The loss is 4.658300235157049. The k is 12.342607237088489, and b is -55.283812592431985\n",
      "This is the 683 time's iteration. The loss is 4.658164591363502. The k is 12.341827987137828, and b is -55.2788556915368\n",
      "This is the 684 time's iteration. The loss is 4.658031135149982. The k is 12.341048924575167, and b is -55.27389998263879\n",
      "This is the 685 time's iteration. The loss is 4.657897794334221. The k is 12.340270049355444, and b is -55.26894546545132\n"
     ]
    },
    {
     "name": "stdout",
     "output_type": "stream",
     "text": [
      "This is the 686 time's iteration. The loss is 4.657764485583229. The k is 12.339491361433609, and b is -55.26399213968781\n",
      "This is the 687 time's iteration. The loss is 4.6576312088893. The k is 12.33871286076462, and b is -55.259040005061756\n",
      "This is the 688 time's iteration. The loss is 4.657497964244717. The k is 12.33793454730345, and b is -55.25408906128673\n",
      "This is the 689 time's iteration. The loss is 4.657364751641769. The k is 12.337156421005078, and b is -55.24913930807635\n",
      "This is the 690 time's iteration. The loss is 4.657231571072763. The k is 12.336378481824498, and b is -55.24419074514434\n",
      "This is the 691 time's iteration. The loss is 4.6570984225299945. The k is 12.335600729716717, and b is -55.239243372204456\n",
      "This is the 692 time's iteration. The loss is 4.65696530600575. The k is 12.334823164636743, and b is -55.234297188970544\n",
      "This is the 693 time's iteration. The loss is 4.656832221492337. The k is 12.334045786539605, and b is -55.22935219515651\n",
      "This is the 694 time's iteration. The loss is 4.656699168982059. The k is 12.333268595380337, and b is -55.22440839047633\n",
      "This is the 695 time's iteration. The loss is 4.656566148467224. The k is 12.332491591113987, and b is -55.21946577464405\n",
      "This is the 696 time's iteration. The loss is 4.656433159940124. The k is 12.331714773695612, and b is -55.21452434737379\n",
      "This is the 697 time's iteration. The loss is 4.656300203393087. The k is 12.33093814308028, and b is -55.20958410837973\n",
      "This is the 698 time's iteration. The loss is 4.6561691619849785. The k is 12.33016169922307, and b is -55.20464505737612\n",
      "This is the 699 time's iteration. The loss is 4.656038491121133. The k is 12.32938544207907, and b is -55.199707194077284\n",
      "This is the 700 time's iteration. The loss is 4.655907851680007. The k is 12.328609371603385, and b is -55.194770518197615\n",
      "This is the 701 time's iteration. The loss is 4.655777243654037. The k is 12.327833487751121, and b is -55.18983502945157\n",
      "This is the 702 time's iteration. The loss is 4.655646667035669. The k is 12.327057790477406, and b is -55.184900727553675\n",
      "This is the 703 time's iteration. The loss is 4.6555161218173735. The k is 12.326282279737368, and b is -55.179967612218526\n",
      "This is the 704 time's iteration. The loss is 4.655385607991568. The k is 12.325506955486155, and b is -55.175035683160786\n",
      "This is the 705 time's iteration. The loss is 4.655255125550729. The k is 12.324731817678918, and b is -55.17010494009519\n",
      "This is the 706 time's iteration. The loss is 4.655124674487288. The k is 12.323956866270825, and b is -55.16517538273655\n",
      "This is the 707 time's iteration. The loss is 4.654994254793716. The k is 12.323182101217052, and b is -55.16024701079972\n",
      "This is the 708 time's iteration. The loss is 4.654863866462455. The k is 12.322407522472785, and b is -55.15531982399965\n",
      "This is the 709 time's iteration. The loss is 4.654733509485975. The k is 12.321633129993222, and b is -55.150393822051335\n",
      "This is the 710 time's iteration. The loss is 4.654603183856735. The k is 12.32085892373357, and b is -55.14546900466986\n",
      "This is the 711 time's iteration. The loss is 4.654472889567189. The k is 12.320084903649052, and b is -55.140545371570376\n",
      "This is the 712 time's iteration. The loss is 4.6543426266098145. The k is 12.319311069694894, and b is -55.13562292246808\n",
      "This is the 713 time's iteration. The loss is 4.654212394977062. The k is 12.318537421826338, and b is -55.13070165707826\n",
      "This is the 714 time's iteration. The loss is 4.654082194661402. The k is 12.317763959998638, and b is -55.12578157511627\n",
      "This is the 715 time's iteration. The loss is 4.653952025655307. The k is 12.316990684167052, and b is -55.12086267629753\n",
      "This is the 716 time's iteration. The loss is 4.653821887951254. The k is 12.316217594286858, and b is -55.115944960337515\n",
      "This is the 717 time's iteration. The loss is 4.653691781541701. The k is 12.315444690313337, and b is -55.1110284269518\n",
      "This is the 718 time's iteration. The loss is 4.653561706419142. The k is 12.314671972201783, and b is -55.10611307585599\n",
      "This is the 719 time's iteration. The loss is 4.653431662576036. The k is 12.313899439907502, and b is -55.10119890676578\n",
      "This is the 720 time's iteration. The loss is 4.653301650004868. The k is 12.31312709338581, and b is -55.09628591939694\n",
      "This is the 721 time's iteration. The loss is 4.653171668698115. The k is 12.312354932592037, and b is -55.09137411346529\n",
      "This is the 722 time's iteration. The loss is 4.653041718648262. The k is 12.311582957481516, and b is -55.08646348868674\n",
      "This is the 723 time's iteration. The loss is 4.65291179984779. The k is 12.310811168009598, and b is -55.08155404477724\n",
      "This is the 724 time's iteration. The loss is 4.6527819122891865. The k is 12.310039564131642, and b is -55.07664578145283\n",
      "This is the 725 time's iteration. The loss is 4.652652055964944. The k is 12.309268145803017, and b is -55.07173869842961\n",
      "This is the 726 time's iteration. The loss is 4.652522230867541. The k is 12.308496912979102, and b is -55.06683279542376\n",
      "This is the 727 time's iteration. The loss is 4.652392436989475. The k is 12.307725865615291, and b is -55.0619280721515\n",
      "This is the 728 time's iteration. The loss is 4.652262674323235. The k is 12.306955003666985, and b is -55.05702452832916\n",
      "This is the 729 time's iteration. The loss is 4.652132942861321. The k is 12.306184327089596, and b is -55.05212216367309\n",
      "This is the 730 time's iteration. The loss is 4.6520032425962095. The k is 12.305413835838548, and b is -55.04722097789975\n",
      "This is the 731 time's iteration. The loss is 4.651873573520435. The k is 12.304643529869276, and b is -55.04232097072565\n",
      "This is the 732 time's iteration. The loss is 4.651743935626463. The k is 12.303873409137225, and b is -55.03742214186736\n",
      "This is the 733 time's iteration. The loss is 4.651614328906819. The k is 12.303103473597847, and b is -55.032524491041535\n",
      "This is the 734 time's iteration. The loss is 4.651484753353989. The k is 12.302333723206612, and b is -55.027628017964894\n",
      "This is the 735 time's iteration. The loss is 4.651355208960491. The k is 12.301564157918996, and b is -55.02273272235421\n",
      "This is the 736 time's iteration. The loss is 4.65122569571882. The k is 12.300794777690486, and b is -55.01783860392635\n",
      "This is the 737 time's iteration. The loss is 4.651096213621496. The k is 12.300025582476582, and b is -55.012945662398224\n",
      "This is the 738 time's iteration. The loss is 4.65096676266102. The k is 12.299256572232792, and b is -55.008053897486825\n",
      "This is the 739 time's iteration. The loss is 4.650837342829915. The k is 12.298487746914637, and b is -55.00316330890921\n",
      "This is the 740 time's iteration. The loss is 4.650707954120686. The k is 12.297719106477645, and b is -54.99827389638249\n",
      "This is the 741 time's iteration. The loss is 4.650578596525853. The k is 12.29695065087736, and b is -54.993385659623875\n",
      "This is the 742 time's iteration. The loss is 4.650449270037937. The k is 12.29618238006933, and b is -54.98849859835062\n",
      "This is the 743 time's iteration. The loss is 4.650319974649456. The k is 12.295414294009124, and b is -54.98361271228005\n",
      "This is the 744 time's iteration. The loss is 4.6501907103529305. The k is 12.294646392652309, and b is -54.97872800112956\n",
      "This is the 745 time's iteration. The loss is 4.65006176369895. The k is 12.293878675954472, and b is -54.97384446461662\n",
      "This is the 746 time's iteration. The loss is 4.649933629792641. The k is 12.293111143871208, and b is -54.96896210245876\n",
      "This is the 747 time's iteration. The loss is 4.649805526698972. The k is 12.292343796358121, and b is -54.96408091437358\n",
      "This is the 748 time's iteration. The loss is 4.649677454410544. The k is 12.291576633370829, and b is -54.95920090007875\n",
      "This is the 749 time's iteration. The loss is 4.649549412919954. The k is 12.290809654864955, and b is -54.954322059292\n",
      "This is the 750 time's iteration. The loss is 4.649421402219799. The k is 12.290042860796138, and b is -54.949444391731134\n",
      "This is the 751 time's iteration. The loss is 4.649293422302652. The k is 12.289276251120027, and b is -54.944567897114034\n",
      "This is the 752 time's iteration. The loss is 4.649165473161134. The k is 12.28850982579228, and b is -54.93969257515863\n",
      "This is the 753 time's iteration. The loss is 4.649037554787831. The k is 12.287743584768569, and b is -54.93481842558293\n",
      "This is the 754 time's iteration. The loss is 4.648909667175348. The k is 12.286977528004568, and b is -54.929945448105016\n"
     ]
    },
    {
     "name": "stdout",
     "output_type": "stream",
     "text": [
      "This is the 755 time's iteration. The loss is 4.648781810316294. The k is 12.286211655455972, and b is -54.925073642443024\n",
      "This is the 756 time's iteration. The loss is 4.648653984203263. The k is 12.285445967078482, and b is -54.92020300831517\n",
      "This is the 757 time's iteration. The loss is 4.648526188828874. The k is 12.28468046282781, and b is -54.91533354543973\n",
      "This is the 758 time's iteration. The loss is 4.6483984241857215. The k is 12.283915142659676, and b is -54.910465253535044\n",
      "This is the 759 time's iteration. The loss is 4.648270690266424. The k is 12.283150006529816, and b is -54.90559813231953\n",
      "This is the 760 time's iteration. The loss is 4.64814298706359. The k is 12.282385054393973, and b is -54.90073218151168\n",
      "This is the 761 time's iteration. The loss is 4.648015314569832. The k is 12.281620286207902, and b is -54.89586740083003\n",
      "This is the 762 time's iteration. The loss is 4.647887672777773. The k is 12.280855701927367, and b is -54.8910037899932\n",
      "This is the 763 time's iteration. The loss is 4.647760061680024. The k is 12.280091301508145, and b is -54.88614134871988\n",
      "This is the 764 time's iteration. The loss is 4.647632481269205. The k is 12.279327084906022, and b is -54.88128007672882\n",
      "This is the 765 time's iteration. The loss is 4.647504931537929. The k is 12.278563052076795, and b is -54.87641997373884\n",
      "This is the 766 time's iteration. The loss is 4.647377412478829. The k is 12.277799202976272, and b is -54.87156103946883\n",
      "This is the 767 time's iteration. The loss is 4.647249924084535. The k is 12.277035537560272, and b is -54.86670327363774\n",
      "This is the 768 time's iteration. The loss is 4.647122466347653. The k is 12.276272055784622, and b is -54.86184667596459\n",
      "This is the 769 time's iteration. The loss is 4.646995039260823. The k is 12.275508757605165, and b is -54.856991246168484\n",
      "This is the 770 time's iteration. The loss is 4.646867642816678. The k is 12.274745642977747, and b is -54.85213698396857\n",
      "This is the 771 time's iteration. The loss is 4.646740277007847. The k is 12.273982711858231, and b is -54.847283889084075\n",
      "This is the 772 time's iteration. The loss is 4.646612941826952. The k is 12.273219964202488, and b is -54.84243196123429\n",
      "This is the 773 time's iteration. The loss is 4.646485637266638. The k is 12.2724573999664, and b is -54.83758120013858\n",
      "This is the 774 time's iteration. The loss is 4.646358363319541. The k is 12.271695019105863, and b is -54.832731605516365\n",
      "This is the 775 time's iteration. The loss is 4.646231119978297. The k is 12.270932821576775, and b is -54.82788317708715\n",
      "This is the 776 time's iteration. The loss is 4.6461039072355454. The k is 12.270170807335052, and b is -54.8230359145705\n",
      "This is the 777 time's iteration. The loss is 4.645976725083939. The k is 12.269408976336619, and b is -54.818189817686026\n",
      "This is the 778 time's iteration. The loss is 4.645849573516103. The k is 12.268647328537408, and b is -54.813344886153445\n",
      "This is the 779 time's iteration. The loss is 4.645722452524692. The k is 12.26788586389337, and b is -54.808501119692515\n",
      "This is the 780 time's iteration. The loss is 4.645595362102358. The k is 12.267124582360458, and b is -54.80365851802307\n",
      "This is the 781 time's iteration. The loss is 4.645468302241738. The k is 12.266363483894638, and b is -54.798817080865014\n",
      "This is the 782 time's iteration. The loss is 4.645341272935505. The k is 12.265602568451891, and b is -54.79397680793831\n",
      "This is the 783 time's iteration. The loss is 4.645214274176286. The k is 12.264841835988202, and b is -54.78913769896299\n",
      "This is the 784 time's iteration. The loss is 4.645087305956754. The k is 12.264081286459572, and b is -54.78429975365916\n",
      "This is the 785 time's iteration. The loss is 4.644960368269552. The k is 12.263320919822007, and b is -54.779462971746995\n",
      "This is the 786 time's iteration. The loss is 4.644833461107341. The k is 12.26256073603153, and b is -54.774627352946716\n",
      "This is the 787 time's iteration. The loss is 4.644706584462787. The k is 12.261800735044169, and b is -54.769792896978636\n",
      "This is the 788 time's iteration. The loss is 4.64457973832854. The k is 12.261040916815965, and b is -54.76495960356313\n",
      "This is the 789 time's iteration. The loss is 4.644452922697273. The k is 12.260281281302971, and b is -54.76012747242063\n",
      "This is the 790 time's iteration. The loss is 4.644326137561649. The k is 12.259521828461247, and b is -54.755296503271644\n",
      "This is the 791 time's iteration. The loss is 4.644199382914331. The k is 12.258762558246868, and b is -54.75046669583674\n",
      "This is the 792 time's iteration. The loss is 4.644072658747995. The k is 12.258003470615916, and b is -54.74563804983657\n",
      "This is the 793 time's iteration. The loss is 4.6439459650553045. The k is 12.257244565524486, and b is -54.74081056499183\n",
      "This is the 794 time's iteration. The loss is 4.6438193018289375. The k is 12.25648584292868, and b is -54.7359842410233\n",
      "This is the 795 time's iteration. The loss is 4.643692669061556. The k is 12.255727302784614, and b is -54.73115907765182\n",
      "This is the 796 time's iteration. The loss is 4.6435660667458425. The k is 12.254968945048413, and b is -54.72633507459829\n",
      "This is the 797 time's iteration. The loss is 4.643439494874476. The k is 12.254210769676215, and b is -54.721512231583695\n",
      "This is the 798 time's iteration. The loss is 4.643312953440134. The k is 12.253452776624163, and b is -54.71669054832908\n",
      "This is the 799 time's iteration. The loss is 4.643186442435499. The k is 12.252694965848416, and b is -54.71187002455556\n",
      "This is the 800 time's iteration. The loss is 4.643059961853252. The k is 12.251937337305144, and b is -54.7070506599843\n",
      "This is the 801 time's iteration. The loss is 4.642933511686077. The k is 12.251179890950521, and b is -54.70223245433654\n",
      "This is the 802 time's iteration. The loss is 4.6428070919266515. The k is 12.250422626740738, and b is -54.6974154073336\n",
      "This is the 803 time's iteration. The loss is 4.642680702567684. The k is 12.249665544631993, and b is -54.69259951869686\n",
      "This is the 804 time's iteration. The loss is 4.64255434360185. The k is 12.248908644580498, and b is -54.68778478814776\n",
      "This is the 805 time's iteration. The loss is 4.642428015021834. The k is 12.24815192654247, and b is -54.68297121540781\n",
      "This is the 806 time's iteration. The loss is 4.642301716820345. The k is 12.247395390474141, and b is -54.678158800198595\n",
      "This is the 807 time's iteration. The loss is 4.642175448990065. The k is 12.246639036331754, and b is -54.67334754224176\n",
      "This is the 808 time's iteration. The loss is 4.642049211523694. The k is 12.24588286407156, and b is -54.66853744125901\n",
      "This is the 809 time's iteration. The loss is 4.641923004413941. The k is 12.24512687364982, and b is -54.66372849697214\n",
      "This is the 810 time's iteration. The loss is 4.641796827653495. The k is 12.244371065022808, and b is -54.658920709102986\n",
      "This is the 811 time's iteration. The loss is 4.641670681235061. The k is 12.243615438146808, and b is -54.654114077373464\n",
      "This is the 812 time's iteration. The loss is 4.641544565151335. The k is 12.242859992978113, and b is -54.64930860150555\n",
      "This is the 813 time's iteration. The loss is 4.64141847939504. The k is 12.242104729473027, and b is -54.6445042812213\n",
      "This is the 814 time's iteration. The loss is 4.641292423958863. The k is 12.241349647587867, and b is -54.639701116242826\n",
      "This is the 815 time's iteration. The loss is 4.6411671533166405. The k is 12.240594747278957, and b is -54.6348991062923\n",
      "This is the 816 time's iteration. The loss is 4.6410434319564455. The k is 12.239840028502632, and b is -54.63009825109198\n",
      "This is the 817 time's iteration. The loss is 4.640919740347806. The k is 12.23908549121524, and b is -54.62529855036418\n",
      "This is the 818 time's iteration. The loss is 4.640796078483568. The k is 12.238331135373137, and b is -54.620500003831275\n",
      "This is the 819 time's iteration. The loss is 4.640672446356578. The k is 12.237576960932692, and b is -54.61570261121572\n",
      "This is the 820 time's iteration. The loss is 4.6405488439596825. The k is 12.236822967850282, and b is -54.61090637224002\n",
      "This is the 821 time's iteration. The loss is 4.640425271285737. The k is 12.236069156082294, and b is -54.60611128662676\n",
      "This is the 822 time's iteration. The loss is 4.640301728327593. The k is 12.23531552558513, and b is -54.6013173540986\n"
     ]
    },
    {
     "name": "stdout",
     "output_type": "stream",
     "text": [
      "This is the 823 time's iteration. The loss is 4.640178215078107. The k is 12.234562076315195, and b is -54.59652457437824\n",
      "This is the 824 time's iteration. The loss is 4.640054731530119. The k is 12.233808808228913, and b is -54.591732947188476\n",
      "This is the 825 time's iteration. The loss is 4.639931277676515. The k is 12.233055721282712, and b is -54.58694247225214\n",
      "This is the 826 time's iteration. The loss is 4.639807853510127. The k is 12.232302815433034, and b is -54.58215314929216\n",
      "This is the 827 time's iteration. The loss is 4.639684459023835. The k is 12.231550090636329, and b is -54.57736497803151\n",
      "This is the 828 time's iteration. The loss is 4.639561094210492. The k is 12.230797546849061, and b is -54.57257795819324\n",
      "This is the 829 time's iteration. The loss is 4.639437759062967. The k is 12.2300451840277, and b is -54.56779208950047\n",
      "This is the 830 time's iteration. The loss is 4.639314453574116. The k is 12.22929300212873, and b is -54.56300737167638\n",
      "This is the 831 time's iteration. The loss is 4.6391911777368255. The k is 12.228541001108644, and b is -54.55822380444421\n",
      "This is the 832 time's iteration. The loss is 4.639067931543945. The k is 12.227789180923946, and b is -54.553441387527286\n",
      "This is the 833 time's iteration. The loss is 4.638944714988363. The k is 12.227037541531148, and b is -54.54866012064898\n",
      "This is the 834 time's iteration. The loss is 4.638821528062951. The k is 12.226286082886777, and b is -54.54388000353274\n",
      "This is the 835 time's iteration. The loss is 4.638698370760562. The k is 12.225534804947367, and b is -54.539101035902085\n",
      "This is the 836 time's iteration. The loss is 4.638575243074098. The k is 12.224783707669463, and b is -54.5343232174806\n",
      "This is the 837 time's iteration. The loss is 4.638452144996421. The k is 12.224032791009623, and b is -54.52954654799192\n",
      "This is the 838 time's iteration. The loss is 4.638329076520419. The k is 12.223282054924413, and b is -54.524771027159765\n",
      "This is the 839 time's iteration. The loss is 4.638206037638973. The k is 12.222531499370406, and b is -54.51999665470792\n",
      "This is the 840 time's iteration. The loss is 4.638083028344972. The k is 12.221781124304194, and b is -54.515223430360216\n",
      "This is the 841 time's iteration. The loss is 4.637960048631286. The k is 12.221030929682373, and b is -54.51045135384058\n",
      "This is the 842 time's iteration. The loss is 4.637837098490824. The k is 12.220280915461549, and b is -54.505680424872985\n",
      "This is the 843 time's iteration. The loss is 4.637714177916437. The k is 12.219531081598344, and b is -54.50091064318148\n",
      "This is the 844 time's iteration. The loss is 4.6375912869010545. The k is 12.218781428049384, and b is -54.49614200849017\n",
      "This is the 845 time's iteration. The loss is 4.637468425437554. The k is 12.218031954771309, and b is -54.49137452052324\n",
      "This is the 846 time's iteration. The loss is 4.637345593518819. The k is 12.217282661720771, and b is -54.48660817900493\n",
      "This is the 847 time's iteration. The loss is 4.63722279113776. The k is 12.216533548854429, and b is -54.48184298365956\n",
      "This is the 848 time's iteration. The loss is 4.637100018287264. The k is 12.215784616128953, and b is -54.4770789342115\n",
      "This is the 849 time's iteration. The loss is 4.636977274960241. The k is 12.215035863501026, and b is -54.472316030385194\n",
      "This is the 850 time's iteration. The loss is 4.636854561149573. The k is 12.214287290927338, and b is -54.46755427190515\n",
      "This is the 851 time's iteration. The loss is 4.636731876848175. The k is 12.21353889836459, and b is -54.46279365849595\n",
      "This is the 852 time's iteration. The loss is 4.636609222048958. The k is 12.212790685769496, and b is -54.45803418988223\n",
      "This is the 853 time's iteration. The loss is 4.636486596744804. The k is 12.212042653098779, and b is -54.4532758657887\n",
      "This is the 854 time's iteration. The loss is 4.636364000928647. The k is 12.21129480030917, and b is -54.44851868594014\n",
      "This is the 855 time's iteration. The loss is 4.636241434593375. The k is 12.210547127357417, and b is -54.44376265006138\n",
      "This is the 856 time's iteration. The loss is 4.636118897731912. The k is 12.20979963420027, and b is -54.439007757877334\n",
      "This is the 857 time's iteration. The loss is 4.635996390337161. The k is 12.209052320794493, and b is -54.434254009112976\n",
      "This is the 858 time's iteration. The loss is 4.6358739124020465. The k is 12.208305187096864, and b is -54.42950140349335\n",
      "This is the 859 time's iteration. The loss is 4.635751463919472. The k is 12.207558233064166, and b is -54.424749940743546\n",
      "This is the 860 time's iteration. The loss is 4.635629044882368. The k is 12.206811458653194, and b is -54.41999962058875\n",
      "This is the 861 time's iteration. The loss is 4.635506655283639. The k is 12.206064863820755, and b is -54.41525044275419\n",
      "This is the 862 time's iteration. The loss is 4.635384295116219. The k is 12.205318448523666, and b is -54.41050240696518\n",
      "This is the 863 time's iteration. The loss is 4.635261964373022. The k is 12.204572212718753, and b is -54.40575551294708\n",
      "This is the 864 time's iteration. The loss is 4.635139663046975. The k is 12.203826156362855, and b is -54.40100976042533\n",
      "This is the 865 time's iteration. The loss is 4.6350173911310115. The k is 12.203080279412815, and b is -54.39626514912543\n",
      "This is the 866 time's iteration. The loss is 4.634895148618046. The k is 12.202334581825495, and b is -54.39152167877295\n",
      "This is the 867 time's iteration. The loss is 4.634772935501021. The k is 12.20158906355776, and b is -54.38677934909353\n",
      "This is the 868 time's iteration. The loss is 4.634650751772855. The k is 12.200843724566493, and b is -54.38203815981286\n",
      "This is the 869 time's iteration. The loss is 4.634528597426489. The k is 12.20009856480858, and b is -54.3772981106567\n",
      "This is the 870 time's iteration. The loss is 4.63440647245486. The k is 12.199353584240919, and b is -54.372559201350896\n",
      "This is the 871 time's iteration. The loss is 4.634284376850894. The k is 12.198608782820422, and b is -54.36782143162134\n",
      "This is the 872 time's iteration. The loss is 4.634162310607532. The k is 12.197864160504007, and b is -54.36308480119399\n",
      "This is the 873 time's iteration. The loss is 4.6340402737177175. The k is 12.197119717248608, and b is -54.35834930979488\n",
      "This is the 874 time's iteration. The loss is 4.633918266174392. The k is 12.196375453011163, and b is -54.353614957150114\n",
      "This is the 875 time's iteration. The loss is 4.633796287970492. The k is 12.195631367748625, and b is -54.34888174298584\n",
      "This is the 876 time's iteration. The loss is 4.6336743390989765. The k is 12.194887461417952, and b is -54.34414966702829\n",
      "This is the 877 time's iteration. The loss is 4.633552419552769. The k is 12.194143733976121, and b is -54.339418729003754\n",
      "This is the 878 time's iteration. The loss is 4.6334305293248415. The k is 12.19340018538011, and b is -54.3346889286386\n",
      "This is the 879 time's iteration. The loss is 4.633308668408123. The k is 12.192656815586913, and b is -54.32996026565924\n",
      "This is the 880 time's iteration. The loss is 4.633186836795585. The k is 12.191913624553532, and b is -54.32523273979217\n",
      "This is the 881 time's iteration. The loss is 4.633065034480166. The k is 12.191170612236983, and b is -54.32050635076395\n",
      "This is the 882 time's iteration. The loss is 4.632943261454828. The k is 12.190427778594286, and b is -54.315781098301194\n",
      "This is the 883 time's iteration. The loss is 4.632821517712525. The k is 12.189685123582477, and b is -54.311056982130594\n",
      "This is the 884 time's iteration. The loss is 4.632699803246208. The k is 12.1889426471586, and b is -54.306334001978904\n",
      "This is the 885 time's iteration. The loss is 4.632578118048856. The k is 12.188200349279708, and b is -54.30161215757294\n",
      "This is the 886 time's iteration. The loss is 4.632456462113407. The k is 12.187458229902866, and b is -54.29689144863959\n",
      "This is the 887 time's iteration. The loss is 4.632334835432847. The k is 12.186716288985153, and b is -54.292171874905804\n",
      "This is the 888 time's iteration. The loss is 4.632213238000124. The k is 12.185974526483651, and b is -54.287453436098595\n",
      "This is the 889 time's iteration. The loss is 4.632091669808211. The k is 12.185232942355457, and b is -54.28273613194505\n",
      "This is the 890 time's iteration. The loss is 4.631970130850074. The k is 12.184491536557678, and b is -54.27801996217231\n",
      "This is the 891 time's iteration. The loss is 4.631848621118691. The k is 12.183750309047428, and b is -54.27330492650759\n"
     ]
    },
    {
     "name": "stdout",
     "output_type": "stream",
     "text": [
      "This is the 892 time's iteration. The loss is 4.6317271406070315. The k is 12.183009259781835, and b is -54.26859102467817\n",
      "This is the 893 time's iteration. The loss is 4.631605689308057. The k is 12.182268388718038, and b is -54.263878256411395\n",
      "This is the 894 time's iteration. The loss is 4.631484267214757. The k is 12.18152769581318, and b is -54.25916662143467\n",
      "This is the 895 time's iteration. The loss is 4.6313628743200965. The k is 12.180787181024424, and b is -54.25445611947548\n",
      "This is the 896 time's iteration. The loss is 4.631241510617066. The k is 12.180046844308935, and b is -54.24974675026135\n",
      "This is the 897 time's iteration. The loss is 4.631120176098639. The k is 12.17930668562389, and b is -54.2450385135199\n",
      "This is the 898 time's iteration. The loss is 4.630998870757796. The k is 12.178566704926482, and b is -54.2403314089788\n",
      "This is the 899 time's iteration. The loss is 4.630877594587517. The k is 12.177826902173907, and b is -54.23562543636577\n",
      "This is the 900 time's iteration. The loss is 4.630756347580806. The k is 12.177087277323373, and b is -54.23092059540864\n",
      "This is the 901 time's iteration. The loss is 4.630635129730624. The k is 12.176347830332102, and b is -54.226216885835264\n",
      "This is the 902 time's iteration. The loss is 4.6305139410299825. The k is 12.175608561157322, and b is -54.221514307373575\n",
      "This is the 903 time's iteration. The loss is 4.630392781471859. The k is 12.174869469756276, and b is -54.21681285975157\n",
      "This is the 904 time's iteration. The loss is 4.630271651049246. The k is 12.17413055608621, and b is -54.21211254269732\n",
      "This is the 905 time's iteration. The loss is 4.630150549755148. The k is 12.173391820104387, and b is -54.20741335593895\n",
      "This is the 906 time's iteration. The loss is 4.630029477582545. The k is 12.172653261768078, and b is -54.202715299204655\n",
      "This is the 907 time's iteration. The loss is 4.629908434524445. The k is 12.171914881034564, and b is -54.1980183722227\n",
      "This is the 908 time's iteration. The loss is 4.629787940419546. The k is 12.171176677861137, and b is -54.19332257472141\n",
      "This is the 909 time's iteration. The loss is 4.629669263337779. The k is 12.170438652205098, and b is -54.18862790642917\n",
      "This is the 910 time's iteration. The loss is 4.629550614794555. The k is 12.169700804023758, and b is -54.18393436707444\n",
      "This is the 911 time's iteration. The loss is 4.629431994783013. The k is 12.168963133274442, and b is -54.179241956385745\n",
      "This is the 912 time's iteration. The loss is 4.629313403296292. The k is 12.168225639914478, and b is -54.17455067409167\n",
      "This is the 913 time's iteration. The loss is 4.629194840327535. The k is 12.167488323901214, and b is -54.16986051992087\n",
      "This is the 914 time's iteration. The loss is 4.62907630586989. The k is 12.166751185192, and b is -54.16517149360205\n",
      "This is the 915 time's iteration. The loss is 4.628957799916485. The k is 12.166014223744199, and b is -54.16048359486401\n",
      "This is the 916 time's iteration. The loss is 4.628839322460482. The k is 12.165277439515187, and b is -54.155796823435594\n",
      "This is the 917 time's iteration. The loss is 4.628720873495015. The k is 12.164540832462347, and b is -54.15111117904571\n",
      "This is the 918 time's iteration. The loss is 4.6286024530132455. The k is 12.16380440254307, and b is -54.146426661423334\n",
      "This is the 919 time's iteration. The loss is 4.6284840610083124. The k is 12.163068149714764, and b is -54.14174327029752\n",
      "This is the 920 time's iteration. The loss is 4.628365697473369. The k is 12.162332073934842, and b is -54.13706100539736\n",
      "This is the 921 time's iteration. The loss is 4.628247362401583. The k is 12.161596175160728, and b is -54.13237986645205\n",
      "This is the 922 time's iteration. The loss is 4.6281290557860935. The k is 12.160860453349859, and b is -54.12769985319081\n",
      "This is the 923 time's iteration. The loss is 4.628010777620062. The k is 12.160124908459679, and b is -54.12302096534296\n",
      "This is the 924 time's iteration. The loss is 4.627892527896651. The k is 12.159389540447643, and b is -54.11834320263786\n",
      "This is the 925 time's iteration. The loss is 4.627774306609016. The k is 12.158654349271218, and b is -54.113666564804944\n",
      "This is the 926 time's iteration. The loss is 4.627656113750327. The k is 12.157919334887879, and b is -54.10899105157372\n",
      "This is the 927 time's iteration. The loss is 4.627537949313742. The k is 12.157184497255113, and b is -54.10431666267374\n",
      "This is the 928 time's iteration. The loss is 4.627419813292418. The k is 12.156449836330417, and b is -54.09964339783464\n",
      "This is the 929 time's iteration. The loss is 4.627301705679543. The k is 12.155715352071295, and b is -54.09497125678612\n",
      "This is the 930 time's iteration. The loss is 4.627183626468268. The k is 12.154981044435266, and b is -54.09030023925793\n",
      "This is the 931 time's iteration. The loss is 4.627065575651764. The k is 12.154246913379856, and b is -54.0856303449799\n",
      "This is the 932 time's iteration. The loss is 4.626947553223205. The k is 12.153512958862603, and b is -54.08096157368191\n",
      "This is the 933 time's iteration. The loss is 4.626829559175775. The k is 12.152779180841053, and b is -54.07629392509393\n",
      "This is the 934 time's iteration. The loss is 4.62671159350264. The k is 12.152045579272766, and b is -54.071627398945964\n",
      "This is the 935 time's iteration. The loss is 4.626593656196975. The k is 12.151312154115308, and b is -54.0669619949681\n",
      "This is the 936 time's iteration. The loss is 4.626475747251956. The k is 12.150578905326258, and b is -54.062297712890505\n",
      "This is the 937 time's iteration. The loss is 4.626357866660775. The k is 12.149845832863205, and b is -54.057634552443375\n",
      "This is the 938 time's iteration. The loss is 4.626240014416601. The k is 12.149112936683746, and b is -54.05297251335699\n",
      "This is the 939 time's iteration. The loss is 4.626122190512626. The k is 12.14838021674549, and b is -54.048311595361696\n",
      "This is the 940 time's iteration. The loss is 4.626004394942037. The k is 12.147647673006055, and b is -54.0436517981879\n",
      "This is the 941 time's iteration. The loss is 4.625886627698007. The k is 12.146915305423072, and b is -54.03899312156609\n",
      "This is the 942 time's iteration. The loss is 4.625768888773734. The k is 12.14618311395418, and b is -54.03433556522678\n",
      "This is the 943 time's iteration. The loss is 4.625651178162409. The k is 12.145451098557027, and b is -54.02967912890059\n",
      "This is the 944 time's iteration. The loss is 4.625533495857223. The k is 12.144719259189275, and b is -54.02502381231818\n",
      "This is the 945 time's iteration. The loss is 4.625415841851364. The k is 12.143987595808591, and b is -54.02036961521029\n",
      "This is the 946 time's iteration. The loss is 4.625298216138031. The k is 12.143256108372656, and b is -54.01571653730772\n",
      "This is the 947 time's iteration. The loss is 4.625180618710419. The k is 12.142524796839162, and b is -54.01106457834132\n",
      "This is the 948 time's iteration. The loss is 4.62506365815498. The k is 12.141793661165806, and b is -54.00641373804202\n",
      "This is the 949 time's iteration. The loss is 4.624947409078075. The k is 12.141062701310302, and b is -54.00176401614082\n",
      "This is the 950 time's iteration. The loss is 4.624831187955848. The k is 12.140331917230368, and b is -53.997115412368764\n",
      "This is the 951 time's iteration. The loss is 4.624714994781573. The k is 12.139601308883737, and b is -53.99246792645698\n",
      "This is the 952 time's iteration. The loss is 4.624598829548536. The k is 12.138870876228149, and b is -53.98782155813666\n",
      "This is the 953 time's iteration. The loss is 4.624482692250022. The k is 12.138140619221353, and b is -53.98317630713904\n",
      "This is the 954 time's iteration. The loss is 4.624366582879306. The k is 12.137410537821113, and b is -53.97853217319545\n",
      "This is the 955 time's iteration. The loss is 4.624250501429668. The k is 12.1366806319852, and b is -53.97388915603725\n",
      "This is the 956 time's iteration. The loss is 4.624134447894399. The k is 12.135950901671396, and b is -53.969247255395906\n",
      "This is the 957 time's iteration. The loss is 4.624020823660555. The k is 12.135221346837493, and b is -53.96460647100291\n",
      "This is the 958 time's iteration. The loss is 4.623907873523206. The k is 12.134491967441292, and b is -53.95996680258985\n",
      "This is the 959 time's iteration. The loss is 4.623794950547224. The k is 12.133762763440606, and b is -53.955328249888346\n"
     ]
    },
    {
     "name": "stdout",
     "output_type": "stream",
     "text": [
      "This is the 960 time's iteration. The loss is 4.62368205472609. The k is 12.133033734793255, and b is -53.950690812630114\n",
      "This is the 961 time's iteration. The loss is 4.623569186053264. The k is 12.132304881457074, and b is -53.94605449054691\n",
      "This is the 962 time's iteration. The loss is 4.623456344522228. The k is 12.131576203389903, and b is -53.94141928337058\n",
      "This is the 963 time's iteration. The loss is 4.623343530126445. The k is 12.130847700549598, and b is -53.93678519083301\n",
      "This is the 964 time's iteration. The loss is 4.623230742859404. The k is 12.130119372894018, and b is -53.93215221266616\n",
      "This is the 965 time's iteration. The loss is 4.623117982714567. The k is 12.129391220381041, and b is -53.92752034860206\n",
      "This is the 966 time's iteration. The loss is 4.623005249685419. The k is 12.128663242968546, and b is -53.92288959837279\n",
      "This is the 967 time's iteration. The loss is 4.622892543765435. The k is 12.127935440614426, and b is -53.91825996171052\n",
      "This is the 968 time's iteration. The loss is 4.622779864948101. The k is 12.127207813276586, and b is -53.91363143834745\n",
      "This is the 969 time's iteration. The loss is 4.622667213226897. The k is 12.12648036091294, and b is -53.90900402801587\n",
      "This is the 970 time's iteration. The loss is 4.622554588595307. The k is 12.12575308348141, and b is -53.90437773044813\n",
      "This is the 971 time's iteration. The loss is 4.622441991046817. The k is 12.12502598093993, and b is -53.899752545376636\n",
      "This is the 972 time's iteration. The loss is 4.622329420574915. The k is 12.124299053246443, and b is -53.89512847253386\n",
      "This is the 973 time's iteration. The loss is 4.622216877173093. The k is 12.123572300358903, and b is -53.89050551165236\n",
      "This is the 974 time's iteration. The loss is 4.622104360834834. The k is 12.122845722235278, and b is -53.88588366246472\n",
      "This is the 975 time's iteration. The loss is 4.621991871553626. The k is 12.122119318833537, and b is -53.88126292470362\n",
      "This is the 976 time's iteration. The loss is 4.621880203057878. The k is 12.121393090111667, and b is -53.87664329810178\n",
      "This is the 977 time's iteration. The loss is 4.621768792721037. The k is 12.120667036027662, and b is -53.87202478239202\n",
      "This is the 978 time's iteration. The loss is 4.621657409175284. The k is 12.119941156539527, and b is -53.867407377307174\n",
      "This is the 979 time's iteration. The loss is 4.621546052414199. The k is 12.119215451605273, and b is -53.86279108258019\n",
      "This is the 980 time's iteration. The loss is 4.621434722431312. The k is 12.11848992118293, and b is -53.858175897944044\n",
      "This is the 981 time's iteration. The loss is 4.6213234192202055. The k is 12.117764565230528, and b is -53.85356182313179\n",
      "This is the 982 time's iteration. The loss is 4.62121214277444. The k is 12.117039383706114, and b is -53.84894885787656\n",
      "This is the 983 time's iteration. The loss is 4.621100893087566. The k is 12.116314376567743, and b is -53.84433700191152\n",
      "This is the 984 time's iteration. The loss is 4.620989670153156. The k is 12.11558954377348, and b is -53.839726254969925\n",
      "This is the 985 time's iteration. The loss is 4.620878473964777. The k is 12.1148648852814, and b is -53.83511661678508\n",
      "This is the 986 time's iteration. The loss is 4.620767304516003. The k is 12.114140401049585, and b is -53.830508087090365\n",
      "This is the 987 time's iteration. The loss is 4.620656161800392. The k is 12.113416091036136, and b is -53.825900665619216\n",
      "This is the 988 time's iteration. The loss is 4.620545045811517. The k is 12.112691955199153, and b is -53.82129435210514\n",
      "This is the 989 time's iteration. The loss is 4.620433956542965. The k is 12.111967993496757, and b is -53.8166891462817\n",
      "This is the 990 time's iteration. The loss is 4.620322893988294. The k is 12.111244205887068, and b is -53.81208504788253\n",
      "This is the 991 time's iteration. The loss is 4.620211858141091. The k is 12.110520592328225, and b is -53.80748205664133\n",
      "This is the 992 time's iteration. The loss is 4.620100848994925. The k is 12.109797152778373, and b is -53.80288017229184\n",
      "This is the 993 time's iteration. The loss is 4.619989866543382. The k is 12.109073887195667, and b is -53.798279394567906\n",
      "This is the 994 time's iteration. The loss is 4.619878910780044. The k is 12.108350795538271, and b is -53.793679723203404\n",
      "This is the 995 time's iteration. The loss is 4.619767981698492. The k is 12.107627877764363, and b is -53.78908115793229\n",
      "This is the 996 time's iteration. The loss is 4.6196570792923. The k is 12.10690513383213, and b is -53.784483698488565\n",
      "This is the 997 time's iteration. The loss is 4.619546203555062. The k is 12.106182563699766, and b is -53.77988734460632\n",
      "This is the 998 time's iteration. The loss is 4.619435354480366. The k is 12.105460167325477, and b is -53.775292096019705\n",
      "This is the 999 time's iteration. The loss is 4.619324532061792. The k is 12.104737944667479, and b is -53.77069795246292\n",
      "This is the 1000 time's iteration. The loss is 4.619213736292948. The k is 12.104015895683998, and b is -53.766104913670226\n"
     ]
    }
   ],
   "source": [
    "import random\n",
    "\n",
    "k = random.random() * 100 - 100\n",
    "b = random.random() * 100 - 100\n",
    "\n",
    "learning_rate = 1e-2\n",
    "iteration_time = 1000\n",
    "losses = []\n",
    "\n",
    "X = x[:, 5]\n",
    "for i in range(iteration_time):\n",
    "    fitting_value = [linear_function(k, b, x) for x in X]\n",
    "    \n",
    "    loss_now = loss(list(y), fitting_value)\n",
    "    losses.append(loss_now)\n",
    "    \n",
    "    print('This is the {0} time\\'s iteration. The loss is {1}. The k is {2}, and b is {3}'.format(i + 1, loss_now, k, b))\n",
    "    \n",
    "    k = k - partial_derivative_for_k(X, y, fitting_value) * learning_rate\n",
    "    b = b - partial_derivative_for_b(y, fitting_value) * learning_rate\n",
    "    \n",
    "best_k = k\n",
    "best_b = b"
   ]
  },
  {
   "cell_type": "code",
   "execution_count": 96,
   "metadata": {
    "ExecuteTime": {
     "end_time": "2019-10-21T07:00:06.858031Z",
     "start_time": "2019-10-21T07:00:06.594655Z"
    }
   },
   "outputs": [
    {
     "data": {
      "text/plain": [
       "<matplotlib.collections.PathCollection at 0x125471438>"
      ]
     },
     "execution_count": 96,
     "metadata": {},
     "output_type": "execute_result"
    },
    {
     "data": {
      "image/png": "[encoded data removed]",
      "text/plain": [
       "<Figure size 432x288 with 1 Axes>"
      ]
     },
     "metadata": {
      "needs_background": "light"
     },
     "output_type": "display_data"
    }
   ],
   "source": [
    "plt.scatter(X, linear_function(best_k, best_b, X))"
   ]
  },
  {
   "cell_type": "markdown",
   "metadata": {},
   "source": [
    "#### Summary for changing L2-norm to L1-norm\n",
    "Finally it shows reaching a loss of 4.62. The **convergence rate of loss** is very quick in the first 5 step. Compared to L2 norm results in the last assignment, the convergence rate is related to the **loss function** and the **initial k and b**."
   ]
  }
 ],
 "metadata": {
  "kernelspec": {
   "display_name": "Python 3",
   "language": "python",
   "name": "python3"
  },
  "language_info": {
   "codemirror_mode": {
    "name": "ipython",
    "version": 3
   },
   "file_extension": ".py",
   "mimetype": "text/x-python",
   "name": "python",
   "nbconvert_exporter": "python",
   "pygments_lexer": "ipython3",
   "version": "3.6.5"
  },
  "toc": {
   "base_numbering": 1,
   "nav_menu": {},
   "number_sections": true,
   "sideBar": true,
   "skip_h1_title": false,
   "title_cell": "Table of Contents",
   "title_sidebar": "Contents",
   "toc_cell": false,
   "toc_position": {},
   "toc_section_display": true,
   "toc_window_display": true
  }
 },
 "nbformat": 4,
 "nbformat_minor": 2
}
