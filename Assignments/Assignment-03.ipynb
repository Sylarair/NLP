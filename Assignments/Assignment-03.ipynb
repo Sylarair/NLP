{
 "cells": [
  {
   "cell_type": "markdown",
   "metadata": {},
   "source": [
    "## Assignment-03 First Step of Machine Learning: Model and Evaluation"
   ]
  },
  {
   "cell_type": "markdown",
   "metadata": {},
   "source": [
    "同学们，今天我们的学习了基本的机器学习概念，相比你已经对机器学习的这些方法有一个基本的认识了。值得说明的是，机器学习不仅仅是一系列方法，更重要的是一种思维体系，即：依据以往的、现有的数据，构建某种方法来解决未见过的问题。而且决策树，贝叶斯只是实现这个目标的一个方法，包括之后的神经网络。很有可能有一天，神经网络也会被淘汰，但是重要的是我们要理解机器学习的目标，就是尽可能的自动化解决未知的问题。"
   ]
  },
  {
   "cell_type": "markdown",
   "metadata": {},
   "source": [
    "![](https://timgsa.baidu.com/timg?image&quality=80&size=b9999_10000&sec=1571556399207&di=4a97dc15ad08dd49d3748d1edf6109b3&imgtype=0&src=http%3A%2F%2Fc.hiphotos.baidu.com%2Fzhidao%2Fwh%3D450%2C600%2Fsign%3Dae742c6aedcd7b89e93932873a146e91%2F5d6034a85edf8db1b16050c40223dd54574e74c7.jpg)"
   ]
  },
  {
   "cell_type": "markdown",
   "metadata": {},
   "source": [
    "## Part-1 Programming Review 编程回顾"
   ]
  },
  {
   "cell_type": "markdown",
   "metadata": {},
   "source": [
    "#### 1. Re-code the Linear-Regression Model using scikit-learning(10 points)"
   ]
  },
  {
   "cell_type": "markdown",
   "metadata": {},
   "source": [
    "<评阅点>： \n",
    "> + 是否完成线性回归模型 (4')\n",
    "+ 能够进行预测新数据(3')\n",
    "+ 能够进行可视化操作(3')"
   ]
  },
  {
   "cell_type": "code",
   "execution_count": 4,
   "metadata": {
    "ExecuteTime": {
     "end_time": "2019-10-21T04:56:37.988307Z",
     "start_time": "2019-10-21T04:56:36.431010Z"
    }
   },
   "outputs": [],
   "source": [
    "import sklearn\n",
    "import matplotlib.pyplot as plt\n",
    "import numpy as np\n",
    "import pandas as pd\n",
    "import random\n",
    "from icecream import ic"
   ]
  },
  {
   "cell_type": "code",
   "execution_count": 5,
   "metadata": {
    "ExecuteTime": {
     "end_time": "2019-10-21T04:56:38.318374Z",
     "start_time": "2019-10-21T04:56:37.991479Z"
    }
   },
   "outputs": [
    {
     "data": {
      "text/plain": [
       "<matplotlib.collections.PathCollection at 0x11792a5f8>"
      ]
     },
     "execution_count": 5,
     "metadata": {},
     "output_type": "execute_result"
    },
    {
     "data": {
      "image/png": "[encoded data removed]",
      "text/plain": [
       "<Figure size 432x288 with 1 Axes>"
      ]
     },
     "metadata": {
      "needs_background": "light"
     },
     "output_type": "display_data"
    }
   ],
   "source": [
    "# %matplotlib inline\n",
    "random_data = np.random.random((100, 2))\n",
    "X = random_data[:, 0]\n",
    "Y = random_data[:,1]\n",
    "\n",
    "plt.scatter(X, Y)\n"
   ]
  },
  {
   "cell_type": "code",
   "execution_count": 57,
   "metadata": {},
   "outputs": [
    {
     "data": {
      "text/plain": [
       "array([0.27562764, 0.22034597, 0.25514153, 0.69712036, 0.71691096,\n",
       "       0.2810688 , 0.43902753, 0.98358776, 0.95182416, 0.02096077,\n",
       "       0.22886871, 0.72289816, 0.11070981, 0.36337449, 0.17486422,\n",
       "       0.2390066 , 0.70808349, 0.00598323, 0.693187  , 0.56925749,\n",
       "       0.75757204, 0.51099406, 0.83212528, 0.0686582 , 0.1243046 ,\n",
       "       0.59043164, 0.08595381, 0.55634456, 0.26308404, 0.56462231,\n",
       "       0.74954674, 0.80537543, 0.09183093, 0.01076709, 0.15913681,\n",
       "       0.17008466, 0.15995242, 0.97023528, 0.11850541, 0.26097673,\n",
       "       0.24841922, 0.80794452, 0.81857853, 0.87562925, 0.68719228,\n",
       "       0.46276489, 0.44356609, 0.00116953, 0.31659746, 0.7821273 ,\n",
       "       0.15654886, 0.19739148, 0.82443744, 0.6721557 , 0.53465554,\n",
       "       0.44589374, 0.63118401, 0.05397527, 0.07762672, 0.24921999,\n",
       "       0.70430466, 0.69994603, 0.89253373, 0.68577908, 0.76480384,\n",
       "       0.95962383, 0.40662374, 0.41510059, 0.57066511, 0.75194815,\n",
       "       0.5591256 , 0.46661846, 0.80418233, 0.97476963, 0.36217928,\n",
       "       0.72041293, 0.49115869, 0.39218595, 0.45176646, 0.79258619,\n",
       "       0.809126  , 0.19661102, 0.79530497, 0.16061704, 0.74188212,\n",
       "       0.99902041, 0.70749594, 0.35716587, 0.80431329, 0.59112497,\n",
       "       0.6250892 , 0.72740972, 0.1680261 , 0.72214882, 0.44184364,\n",
       "       0.76758418, 0.35365954, 0.29007976, 0.57337602, 0.86321054])"
      ]
     },
     "execution_count": 57,
     "metadata": {},
     "output_type": "execute_result"
    }
   ],
   "source": [
    "random_data\n",
    "X"
   ]
  },
  {
   "cell_type": "code",
   "execution_count": 8,
   "metadata": {
    "ExecuteTime": {
     "end_time": "2019-10-21T04:57:23.174252Z",
     "start_time": "2019-10-21T04:57:22.888018Z"
    }
   },
   "outputs": [
    {
     "data": {
      "text/plain": [
       "<matplotlib.collections.PathCollection at 0x11ace65f8>"
      ]
     },
     "execution_count": 8,
     "metadata": {},
     "output_type": "execute_result"
    },
    {
     "data": {
      "image/png": "[encoded data removed]",
      "text/plain": [
       "<Figure size 432x288 with 1 Axes>"
      ]
     },
     "metadata": {
      "needs_background": "light"
     },
     "output_type": "display_data"
    }
   ],
   "source": [
    "y = [20 * x + 5 + random.randint(-10, 10) for x in X]\n",
    "\n",
    "plt.scatter(X, y)"
   ]
  },
  {
   "cell_type": "code",
   "execution_count": 6,
   "metadata": {
    "ExecuteTime": {
     "end_time": "2019-10-21T04:56:46.361870Z",
     "start_time": "2019-10-21T04:56:46.353574Z"
    }
   },
   "outputs": [
    {
     "data": {
      "text/plain": [
       "array([0.40506536, 0.84234079, 0.42946785, 0.74721226, 0.25177723,\n",
       "       0.03210442, 0.62706441, 0.32543574, 0.57257701, 0.64427731])"
      ]
     },
     "execution_count": 6,
     "metadata": {},
     "output_type": "execute_result"
    }
   ],
   "source": [
    "X.reshape(-1, 1)\n",
    "X[:10,]"
   ]
  },
  {
   "cell_type": "markdown",
   "metadata": {},
   "source": [
    "## 线性回归\n",
    "$$ y = k * x + b $$"
   ]
  },
  {
   "cell_type": "code",
   "execution_count": 9,
   "metadata": {
    "ExecuteTime": {
     "end_time": "2019-10-21T04:57:29.565405Z",
     "start_time": "2019-10-21T04:57:29.560876Z"
    }
   },
   "outputs": [],
   "source": [
    "from sklearn.linear_model import LinearRegression\n",
    "\n",
    "reg = LinearRegression().fit(X.reshape(-1, 1), y)"
   ]
  },
  {
   "cell_type": "code",
   "execution_count": 10,
   "metadata": {
    "ExecuteTime": {
     "end_time": "2019-10-21T04:57:32.028842Z",
     "start_time": "2019-10-21T04:57:32.022263Z"
    }
   },
   "outputs": [
    {
     "name": "stdout",
     "output_type": "stream",
     "text": [
      "回归线的k值是: [19.41666004]\n",
      "回归线的截距b是: 4.337110680351273\n",
      "回归线的R^2是: 0.449044748995828\n"
     ]
    }
   ],
   "source": [
    "print('回归线的k值是: {0}'.format(reg.coef_))\n",
    "print('回归线的截距b是: {0}'.format(reg.intercept_))\n",
    "print('回归线的R^2是: {0}'.format(reg.score(X.reshape(-1, 1), y)))"
   ]
  },
  {
   "cell_type": "code",
   "execution_count": 11,
   "metadata": {
    "ExecuteTime": {
     "end_time": "2019-10-21T04:57:34.427412Z",
     "start_time": "2019-10-21T04:57:34.424581Z"
    }
   },
   "outputs": [],
   "source": [
    "### function of predicting new data\n",
    "def regression_value(x):\n",
    "    return reg.coef_ * x + reg.intercept_"
   ]
  },
  {
   "cell_type": "code",
   "execution_count": 12,
   "metadata": {
    "ExecuteTime": {
     "end_time": "2019-10-21T04:57:39.138251Z",
     "start_time": "2019-10-21T04:57:38.829746Z"
    }
   },
   "outputs": [
    {
     "data": {
      "text/plain": [
       "[<matplotlib.lines.Line2D at 0x1096c7ac8>]"
      ]
     },
     "execution_count": 12,
     "metadata": {},
     "output_type": "execute_result"
    },
    {
     "data": {
      "image/png": "[encoded data removed]",
      "text/plain": [
       "<Figure size 432x288 with 1 Axes>"
      ]
     },
     "metadata": {
      "needs_background": "light"
     },
     "output_type": "display_data"
    }
   ],
   "source": [
    "plt.scatter(X, y)\n",
    "plt.plot(X, regression_value(X), color = 'red')"
   ]
  },
  {
   "cell_type": "code",
   "execution_count": 13,
   "metadata": {
    "ExecuteTime": {
     "end_time": "2019-10-21T04:57:42.464710Z",
     "start_time": "2019-10-21T04:57:42.104531Z"
    }
   },
   "outputs": [
    {
     "data": {
      "text/plain": [
       "<matplotlib.collections.PathCollection at 0x11aeba860>"
      ]
     },
     "execution_count": 13,
     "metadata": {},
     "output_type": "execute_result"
    },
    {
     "data": {
      "image/png": "[encoded data removed]",
      "text/plain": [
       "<Figure size 432x288 with 1 Axes>"
      ]
     },
     "metadata": {
      "needs_background": "light"
     },
     "output_type": "display_data"
    }
   ],
   "source": [
    "def generate_random_X(n): # n means the number of randomed data\n",
    "    return [np.random.random((50, 2)) for i in range(n)]\n",
    "\n",
    "new_dataset_X = generate_random_X(100)\n",
    "\n",
    "## plot\n",
    "plt.scatter(new_dataset_X, regression_value(new_dataset_X))"
   ]
  },
  {
   "cell_type": "markdown",
   "metadata": {},
   "source": [
    "#### 2. Complete the unfinished KNN Model using pure python to solve the previous Line-Regression problem. (8 points)"
   ]
  },
  {
   "cell_type": "markdown",
   "metadata": {},
   "source": [
    "<评阅点>:\n",
    "> + 是否完成了KNN模型 (4')\n",
    "+ 是否能够预测新的数据 (4')"
   ]
  },
  {
   "cell_type": "code",
   "execution_count": 2,
   "metadata": {},
   "outputs": [],
   "source": [
    "# you code here"
   ]
  },
  {
   "cell_type": "code",
   "execution_count": 14,
   "metadata": {
    "ExecuteTime": {
     "end_time": "2019-10-21T04:57:47.596189Z",
     "start_time": "2019-10-21T04:57:47.592142Z"
    }
   },
   "outputs": [],
   "source": [
    "from scipy.spatial.distance import cosine\n",
    "\n",
    "def model(X, y):\n",
    "    return [(Xi, yi) for Xi, yi in zip(X, y)]"
   ]
  },
  {
   "cell_type": "code",
   "execution_count": 15,
   "metadata": {
    "ExecuteTime": {
     "end_time": "2019-10-21T04:57:48.674550Z",
     "start_time": "2019-10-21T04:57:48.671367Z"
    }
   },
   "outputs": [],
   "source": [
    "def distance(x1, x2):\n",
    "    return cosine(x1, x2)"
   ]
  },
  {
   "cell_type": "code",
   "execution_count": 16,
   "metadata": {
    "ExecuteTime": {
     "end_time": "2019-10-21T04:57:50.266872Z",
     "start_time": "2019-10-21T04:57:50.261881Z"
    }
   },
   "outputs": [],
   "source": [
    "from collections import Counter\n",
    "def predict(x, k=5):\n",
    "    most_similars = sorted(model(X, y), key=lambda xi: distance(xi[0], x))[:k]\n",
    "#     most_similars = sorted(model(X, y), key=lambda xi: xi[0])[:k] # the cos distance between two numbers is 0.\n",
    "    # 已经获得了最相似的数据集\n",
    "#     most_similars.Couner().most_common()\n",
    "#     cosine_distance = sorted([distance(xi[0], x) for xi in model(X, y)])\n",
    "#     return model(most_similars, cosine_distance)\n",
    "    return np.mean([i[1] for i in most_similars]) # get the mean of the most similar sets' values"
   ]
  },
  {
   "cell_type": "code",
   "execution_count": 17,
   "metadata": {
    "ExecuteTime": {
     "end_time": "2019-10-21T04:57:56.394062Z",
     "start_time": "2019-10-21T04:57:56.383849Z"
    }
   },
   "outputs": [
    {
     "data": {
      "text/plain": [
       "11.176234836823316"
      ]
     },
     "execution_count": 17,
     "metadata": {},
     "output_type": "execute_result"
    }
   ],
   "source": [
    "# print(distance([1,2,3], [4,5,6]))\n",
    "# print(distance([1,2,3], [6,5,9]))\n",
    "# X = np.random.random((50, 2))\n",
    "# Y = np.random.random((25, 1))\n",
    "# model(X, y)\n",
    "# list(zip(X, y))\n",
    "# print(cosine((0.3633744887636341, 11.267489775272683), (0.892533725055378, 30.85067450110756)))\n",
    "# print(cosine((0.892533725055378, 30.85067450110756), (0.892533725055378, 30.85067450110756)))\n",
    "# print(cosine(0.3633744887636341, 0.892533725055378))\n",
    "# print(Counter(X.tolist()).most_common())\n",
    "predict(0.892533725055378)"
   ]
  },
  {
   "cell_type": "markdown",
   "metadata": {},
   "source": [
    "#### 3. Re-code the Decision Tree, which could sort the features by salience. (12 points)"
   ]
  },
  {
   "cell_type": "markdown",
   "metadata": {},
   "source": [
    "<评阅点>\n",
    "> + 是否实现了信息熵 (1' )\n",
    "+ 是否实现了最优先特征点的选择(5')\n",
    "+ 是否实现了持续的特征选则(6')"
   ]
  },
  {
   "cell_type": "code",
   "execution_count": 203,
   "metadata": {
    "ExecuteTime": {
     "end_time": "2019-10-21T04:58:04.128386Z",
     "start_time": "2019-10-21T04:58:04.123605Z"
    }
   },
   "outputs": [],
   "source": [
    "from collections import defaultdict\n",
    "\n",
    "def entropy(inlist):\n",
    "#     frequency_dict = defaultdict(list)\n",
    "#     frequency = []\n",
    "    Entropy = 0\n",
    "    for i in set(inlist):\n",
    "#         print(i)\n",
    "        single_frequency = inlist.count(i) / len(inlist)\n",
    "#         frequency_dict[i] = single_frequency\n",
    "#         print(single_frequency)\n",
    "        Entropy += single_frequency * np.log(single_frequency)\n",
    "        \n",
    "    return -1 * Entropy\n",
    "#     counter = Counter(inlist)\n",
    "#     probs = [counter[c] / len(inlist) for c in set(inlist)]\n",
    "#     return - sum(p * np.log(p) for p in probs)\n",
    "    "
   ]
  },
  {
   "cell_type": "code",
   "execution_count": 19,
   "metadata": {
    "ExecuteTime": {
     "end_time": "2019-10-21T04:58:06.513482Z",
     "start_time": "2019-10-21T04:58:06.508655Z"
    }
   },
   "outputs": [
    {
     "data": {
      "text/plain": [
       "0.5623351446188083"
      ]
     },
     "execution_count": 19,
     "metadata": {},
     "output_type": "execute_result"
    }
   ],
   "source": [
    "# entropy(range(4))\n",
    "entropy([1, 1, 1, 0])"
   ]
  },
  {
   "cell_type": "code",
   "execution_count": 159,
   "metadata": {
    "ExecuteTime": {
     "end_time": "2019-10-21T16:16:27.336913Z",
     "start_time": "2019-10-21T16:16:27.329476Z"
    },
    "code_folding": []
   },
   "outputs": [],
   "source": [
    "# mock_data = {\n",
    "#     'gender':['F', 'F', 'F', 'F', 'M', 'M', 'M'],\n",
    "#     'income': ['+10', '-10', '+10', '+10', '+10', '+10', '-10'],\n",
    "#     'family_number': [1, 1, 2, 1, 1, 1, 2],\n",
    "#     'bought': [1, 1, 1, 0, 0, 0, 1],\n",
    "# }\n",
    "\n",
    "# mock_data = {\n",
    "#     'gender':['F', 'F', 'F', 'F', 'M', 'M', 'M', 'F', 'F', 'F', 'F', 'F', 'M', 'M', 'M', 'M'],\n",
    "#     'income': ['+10', '-10', '+10', '+10', '-10', '-10', '-10', '-10', '+10', '+10', '+10', '-10', '+10', '+10','-10','-10'],\n",
    "#     'family_number': [1, 1, 2, 1, 1, 1, 2, 1, 2, 2, 2, 1, 2, 2, 1, 2],\n",
    "#     'loan': [0, 0, 1, 1, 0, 0, 1, 0, 0, 1, 1, 0, 0, 0, 1, 1],\n",
    "#     'bought': [1, 1, 1, 0, 0, 0, 1, 1, 1, 0, 0, 0, 0, 1, 1, 0],\n",
    "# }"
   ]
  },
  {
   "cell_type": "code",
   "execution_count": 231,
   "metadata": {
    "ExecuteTime": {
     "end_time": "2019-10-22T00:56:01.389488Z",
     "start_time": "2019-10-22T00:56:01.381568Z"
    }
   },
   "outputs": [],
   "source": [
    "def createDataSet():\n",
    "\tdataSet = [[-10, 2, 0, 'F', 0],\t\t\t\t\t\t#数据集\n",
    "\t\t\t[-10, 2, 1, 'F', 0],\n",
    "\t\t\t[-10, 2, 1, 'M', 1],\n",
    "\t\t\t[-10, 1, 0, 'M', 1],\n",
    "\t\t\t[-10, 2, 0, 'F', 0],\n",
    "\t\t\t[10, 2, 0, 'F', 0],\n",
    "\t\t\t[10, 2, 1, 'F', 0],\n",
    "\t\t\t[10, 1, 1, 'M', 1],\n",
    "\t\t\t[10, 1, 2, 'F', 1],\n",
    "\t\t\t[10, 1, 2, 'F', 1],\n",
    "\t\t\t[20, 1, 2, 'F', 1],\n",
    "\t\t\t[20, 1, 1, 'F', 1],\n",
    "\t\t\t[20, 2, 1, 'M', 1],\n",
    "\t\t\t[20, 2, 2, 'M', 1],\n",
    "\t\t\t[20, 2, 0, 'F', 0]]\n",
    "\tlabels = ['income', 'family_number', 'loan', 'gender', 'bought']\t\t#特征标签\n",
    "\treturn dataSet \t\t\t\t\t\t\t#返回数据集和分类属性\n",
    "\n",
    "mock_data = createDataSet()"
   ]
  },
  {
   "cell_type": "code",
   "execution_count": 247,
   "metadata": {
    "ExecuteTime": {
     "end_time": "2019-10-22T00:56:02.834634Z",
     "start_time": "2019-10-22T00:56:02.821795Z"
    }
   },
   "outputs": [
    {
     "data": {
      "text/html": [
       "<div>\n",
       "<style scoped>\n",
       "    .dataframe tbody tr th:only-of-type {\n",
       "        vertical-align: middle;\n",
       "    }\n",
       "\n",
       "    .dataframe tbody tr th {\n",
       "        vertical-align: top;\n",
       "    }\n",
       "\n",
       "    .dataframe thead th {\n",
       "        text-align: right;\n",
       "    }\n",
       "</style>\n",
       "<table border=\"1\" class=\"dataframe\">\n",
       "  <thead>\n",
       "    <tr style=\"text-align: right;\">\n",
       "      <th></th>\n",
       "      <th>income</th>\n",
       "      <th>family_number</th>\n",
       "      <th>loan</th>\n",
       "      <th>gender</th>\n",
       "      <th>bought</th>\n",
       "    </tr>\n",
       "  </thead>\n",
       "  <tbody>\n",
       "    <tr>\n",
       "      <td>0</td>\n",
       "      <td>-10</td>\n",
       "      <td>2</td>\n",
       "      <td>0</td>\n",
       "      <td>F</td>\n",
       "      <td>0</td>\n",
       "    </tr>\n",
       "    <tr>\n",
       "      <td>1</td>\n",
       "      <td>-10</td>\n",
       "      <td>2</td>\n",
       "      <td>1</td>\n",
       "      <td>F</td>\n",
       "      <td>0</td>\n",
       "    </tr>\n",
       "    <tr>\n",
       "      <td>2</td>\n",
       "      <td>-10</td>\n",
       "      <td>2</td>\n",
       "      <td>1</td>\n",
       "      <td>M</td>\n",
       "      <td>1</td>\n",
       "    </tr>\n",
       "    <tr>\n",
       "      <td>3</td>\n",
       "      <td>-10</td>\n",
       "      <td>1</td>\n",
       "      <td>0</td>\n",
       "      <td>M</td>\n",
       "      <td>1</td>\n",
       "    </tr>\n",
       "    <tr>\n",
       "      <td>4</td>\n",
       "      <td>-10</td>\n",
       "      <td>2</td>\n",
       "      <td>0</td>\n",
       "      <td>F</td>\n",
       "      <td>0</td>\n",
       "    </tr>\n",
       "    <tr>\n",
       "      <td>5</td>\n",
       "      <td>10</td>\n",
       "      <td>2</td>\n",
       "      <td>0</td>\n",
       "      <td>F</td>\n",
       "      <td>0</td>\n",
       "    </tr>\n",
       "    <tr>\n",
       "      <td>6</td>\n",
       "      <td>10</td>\n",
       "      <td>2</td>\n",
       "      <td>1</td>\n",
       "      <td>F</td>\n",
       "      <td>0</td>\n",
       "    </tr>\n",
       "    <tr>\n",
       "      <td>7</td>\n",
       "      <td>10</td>\n",
       "      <td>1</td>\n",
       "      <td>1</td>\n",
       "      <td>M</td>\n",
       "      <td>1</td>\n",
       "    </tr>\n",
       "    <tr>\n",
       "      <td>8</td>\n",
       "      <td>10</td>\n",
       "      <td>1</td>\n",
       "      <td>2</td>\n",
       "      <td>F</td>\n",
       "      <td>1</td>\n",
       "    </tr>\n",
       "    <tr>\n",
       "      <td>9</td>\n",
       "      <td>10</td>\n",
       "      <td>1</td>\n",
       "      <td>2</td>\n",
       "      <td>F</td>\n",
       "      <td>1</td>\n",
       "    </tr>\n",
       "    <tr>\n",
       "      <td>10</td>\n",
       "      <td>20</td>\n",
       "      <td>1</td>\n",
       "      <td>2</td>\n",
       "      <td>F</td>\n",
       "      <td>1</td>\n",
       "    </tr>\n",
       "    <tr>\n",
       "      <td>11</td>\n",
       "      <td>20</td>\n",
       "      <td>1</td>\n",
       "      <td>1</td>\n",
       "      <td>F</td>\n",
       "      <td>1</td>\n",
       "    </tr>\n",
       "    <tr>\n",
       "      <td>12</td>\n",
       "      <td>20</td>\n",
       "      <td>2</td>\n",
       "      <td>1</td>\n",
       "      <td>M</td>\n",
       "      <td>1</td>\n",
       "    </tr>\n",
       "    <tr>\n",
       "      <td>13</td>\n",
       "      <td>20</td>\n",
       "      <td>2</td>\n",
       "      <td>2</td>\n",
       "      <td>M</td>\n",
       "      <td>1</td>\n",
       "    </tr>\n",
       "    <tr>\n",
       "      <td>14</td>\n",
       "      <td>20</td>\n",
       "      <td>2</td>\n",
       "      <td>0</td>\n",
       "      <td>F</td>\n",
       "      <td>0</td>\n",
       "    </tr>\n",
       "  </tbody>\n",
       "</table>\n",
       "</div>"
      ],
      "text/plain": [
       "    income  family_number  loan gender  bought\n",
       "0      -10              2     0      F       0\n",
       "1      -10              2     1      F       0\n",
       "2      -10              2     1      M       1\n",
       "3      -10              1     0      M       1\n",
       "4      -10              2     0      F       0\n",
       "5       10              2     0      F       0\n",
       "6       10              2     1      F       0\n",
       "7       10              1     1      M       1\n",
       "8       10              1     2      F       1\n",
       "9       10              1     2      F       1\n",
       "10      20              1     2      F       1\n",
       "11      20              1     1      F       1\n",
       "12      20              2     1      M       1\n",
       "13      20              2     2      M       1\n",
       "14      20              2     0      F       0"
      ]
     },
     "execution_count": 247,
     "metadata": {},
     "output_type": "execute_result"
    }
   ],
   "source": [
    "dataset = pd.DataFrame.from_dict(mock_data)\n",
    "dataset.columns = ['income', 'family_number', 'loan', 'gender', 'bought']\n",
    "type(dataset)\n",
    "# dataset.values.tolist()\n",
    "dataset"
   ]
  },
  {
   "cell_type": "code",
   "execution_count": 206,
   "metadata": {
    "ExecuteTime": {
     "end_time": "2019-10-21T16:19:03.335341Z",
     "start_time": "2019-10-21T16:19:03.329667Z"
    }
   },
   "outputs": [],
   "source": [
    "family_number_set1 = dataset[dataset['family_number']==1]\n",
    "family_number_set2 = dataset[dataset['family_number']!=1]"
   ]
  },
  {
   "cell_type": "code",
   "execution_count": 163,
   "metadata": {
    "ExecuteTime": {
     "end_time": "2019-10-21T16:19:04.444962Z",
     "start_time": "2019-10-21T16:19:04.439423Z"
    }
   },
   "outputs": [
    {
     "data": {
      "text/plain": [
       "1.3862943611198906"
      ]
     },
     "execution_count": 163,
     "metadata": {},
     "output_type": "execute_result"
    }
   ],
   "source": [
    "entropy(family_number_set1['bought'].tolist()) + entropy(family_number_set2['bought'].tolist())"
   ]
  },
  {
   "cell_type": "code",
   "execution_count": 164,
   "metadata": {
    "ExecuteTime": {
     "end_time": "2019-10-21T16:19:05.797448Z",
     "start_time": "2019-10-21T16:19:05.789596Z"
    }
   },
   "outputs": [
    {
     "data": {
      "text/plain": [
       "1.369869681297795"
      ]
     },
     "execution_count": 164,
     "metadata": {},
     "output_type": "execute_result"
    }
   ],
   "source": [
    "gender_set1 = dataset[dataset['gender']=='F']\n",
    "gender_set2 = dataset[dataset['gender']!='F']\n",
    "entropy(gender_set1['bought'].tolist()) + entropy(gender_set2['bought'].tolist())"
   ]
  },
  {
   "cell_type": "code",
   "execution_count": 237,
   "metadata": {
    "ExecuteTime": {
     "end_time": "2019-10-22T00:42:55.025967Z",
     "start_time": "2019-10-22T00:42:53.768889Z"
    }
   },
   "outputs": [
    {
     "name": "stdout",
     "output_type": "stream",
     "text": [
      "spliter is: ('family_number', 2)\n",
      "the min entropy is: 0.6365141682948128\n",
      "{'income', 'loan', 'family_number', 'gender'}\n"
     ]
    },
    {
     "data": {
      "text/plain": [
       "2"
      ]
     },
     "execution_count": 237,
     "metadata": {},
     "output_type": "execute_result"
    }
   ],
   "source": [
    "def best_feature_selection(training_data, target):\n",
    "    x_fields = set(training_data.columns.tolist()) - {target}\n",
    "    # Warning! the set is unordered, so using set to remove 'bought' would change the order of colnames\n",
    "    spliter = None\n",
    "    min_entropy = float('inf') # set initialized minimal entropy as Inf, then adjust it in the following steps.\n",
    "    \n",
    "    for f in x_fields:\n",
    "#         ic(f)\n",
    "        values = set(training_data[f])\n",
    "#         ic(values)\n",
    "        for v in values:\n",
    "            sub_spliter_1 = training_data[training_data[f] == v][target].tolist()\n",
    "            entropy_1 = entropy(sub_spliter_1)\n",
    "\n",
    "            sub_spliter_2 = training_data[training_data[f] != v][target].tolist()\n",
    "            entropy_2 = entropy(sub_spliter_2)\n",
    "\n",
    "            entropy_sum = entropy_1 + entropy_2\n",
    "#             ic(entropy_sum)\n",
    "            \n",
    "            if entropy_sum <= min_entropy:\n",
    "                min_entropy = entropy_sum\n",
    "                spliter = (f, v)\n",
    "    \n",
    "    print('spliter is: {}'.format(spliter))\n",
    "    print('the min entropy is: {}'.format(min_entropy))\n",
    "    print(x_fields)\n",
    "    return list(x_fields).index(spliter[0]) #+ (min_entropy)\n",
    " \n",
    "best_feature_selection(dataset, target = 'bought')"
   ]
  },
  {
   "cell_type": "code",
   "execution_count": 119,
   "metadata": {
    "ExecuteTime": {
     "end_time": "2019-10-21T15:36:14.863101Z",
     "start_time": "2019-10-21T15:36:14.857871Z"
    }
   },
   "outputs": [
    {
     "data": {
      "text/plain": [
       "pandas.core.frame.DataFrame"
      ]
     },
     "execution_count": 119,
     "metadata": {},
     "output_type": "execute_result"
    }
   ],
   "source": [
    "# int(dataset.loc[1, 'bought'])\n",
    "type(list(dataset))\n",
    "# list(dataset)\n",
    "# dataset\n",
    "# dataset.shape\n",
    "type(dataset)"
   ]
  },
  {
   "cell_type": "code",
   "execution_count": 208,
   "metadata": {
    "ExecuteTime": {
     "end_time": "2019-10-21T13:33:55.337042Z",
     "start_time": "2019-10-21T13:33:55.329562Z"
    }
   },
   "outputs": [],
   "source": [
    "from collections import Counter\n",
    "def get_most_label(classList):\n",
    "    classDict = Counter(classList).most_common()\n",
    "    return list(classDict)[0][0] # retrieve the most frequent element\n",
    "# get_most_label([1, 1, 1, 2, 2, 3])"
   ]
  },
  {
   "cell_type": "code",
   "execution_count": 218,
   "metadata": {
    "ExecuteTime": {
     "end_time": "2019-10-21T16:09:49.846990Z",
     "start_time": "2019-10-21T16:09:49.841827Z"
    }
   },
   "outputs": [],
   "source": [
    "def split_data(dataframe, feature, _value):\n",
    "    dataframe2 = dataframe[dataframe[feature]==_value]\n",
    "    dataframe3 = dataframe2.drop(feature, 1)\n",
    "    \n",
    "    return dataframe3"
   ]
  },
  {
   "cell_type": "code",
   "execution_count": 210,
   "metadata": {
    "ExecuteTime": {
     "end_time": "2019-10-21T15:56:20.889858Z",
     "start_time": "2019-10-21T15:56:20.879861Z"
    }
   },
   "outputs": [],
   "source": [
    "from collections import Counter\n",
    "def get_most_choice_in_training_set(training_data, target):\n",
    "    return list(Counter(training_data[target].values.tolist()).most_common())[0][0]"
   ]
  },
  {
   "cell_type": "code",
   "execution_count": 199,
   "metadata": {
    "ExecuteTime": {
     "end_time": "2019-10-22T01:00:36.659226Z",
     "start_time": "2019-10-22T01:00:36.649266Z"
    }
   },
   "outputs": [],
   "source": [
    "def createDataSet2():\n",
    "\tdataSet = [[0, 0, 0, 0, 'no'],\t\t\t\t\t\t#数据集\n",
    "\t\t\t[0, 0, 0, 1, 'no'],\n",
    "\t\t\t[0, 1, 0, 1, 'yes'],\n",
    "\t\t\t[0, 1, 1, 0, 'yes'],\n",
    "\t\t\t[0, 0, 0, 0, 'no'],\n",
    "\t\t\t[1, 0, 0, 0, 'no'],\n",
    "\t\t\t[1, 0, 0, 1, 'no'],\n",
    "\t\t\t[1, 1, 1, 1, 'yes'],\n",
    "\t\t\t[1, 0, 1, 2, 'yes'],\n",
    "\t\t\t[1, 0, 1, 2, 'yes'],\n",
    "\t\t\t[2, 0, 1, 2, 'yes'],\n",
    "\t\t\t[2, 0, 1, 1, 'yes'],\n",
    "\t\t\t[2, 1, 0, 1, 'yes'],\n",
    "\t\t\t[2, 1, 0, 2, 'yes'],\n",
    "\t\t\t[2, 0, 0, 0, 'no']]\n",
    "\tlabels = ['年龄', '有工作', '有自己的房子', '信贷情况']\t\t#特征标签\n",
    "\treturn dataSet, labels \t\t\t\t\t\t\t#返回数据集和分类属性"
   ]
  },
  {
   "cell_type": "code",
   "execution_count": 253,
   "metadata": {
    "ExecuteTime": {
     "start_time": "2019-10-22T01:05:08.668Z"
    },
    "code_folding": []
   },
   "outputs": [
    {
     "name": "stdout",
     "output_type": "stream",
     "text": [
      "spliter is: ('family_number', 2)\n",
      "the min entropy is: 0.6365141682948128\n",
      "{'income', 'loan', 'family_number', 'gender'}\n",
      "2\n",
      "    income  loan  family_number gender  bought\n",
      "0      -10     0              2      F       0\n",
      "1      -10     1              2      F       0\n",
      "2      -10     1              2      M       1\n",
      "3      -10     0              1      M       1\n",
      "4      -10     0              2      F       0\n",
      "5       10     0              2      F       0\n",
      "6       10     1              2      F       0\n",
      "7       10     1              1      M       1\n",
      "8       10     2              1      F       1\n",
      "9       10     2              1      F       1\n",
      "10      20     2              1      F       1\n",
      "11      20     1              1      F       1\n",
      "12      20     1              2      M       1\n",
      "13      20     2              2      M       1\n",
      "14      20     0              2      F       0\n",
      "spliter is: ('gender', 'F')\n",
      "the min entropy is: -0.0\n",
      "{'income', 'loan', 'gender'}\n",
      "2\n",
      "    income  loan gender  bought\n",
      "0      -10     0      F       0\n",
      "1      -10     1      F       0\n",
      "2      -10     1      M       1\n",
      "4      -10     0      F       0\n",
      "5       10     0      F       0\n",
      "6       10     1      F       0\n",
      "12      20     1      M       1\n",
      "13      20     2      M       1\n",
      "14      20     0      F       0\n"
     ]
    }
   ],
   "source": [
    "def continous_best_feature_selection(training_data, target, labels, featLabels):\n",
    "#     x_fields = set(training_data.columns.tolist()) - {target}\n",
    "\n",
    "#     step = 1\n",
    "    feature_chosen_list = []\n",
    "    feature_entropy_dict = {}\n",
    "    \n",
    "    ClassList = training_data.loc[:, 'bought'].values.tolist()\n",
    "#     return ClassList\n",
    "#     print(ClassList)\n",
    "#     print(labels)\n",
    "    if len(ClassList) == 0:\n",
    "        return get_most_choice_in_training_set(dataset, target)\n",
    "    elif len(ClassList) == ClassList.count(ClassList[0]):\n",
    "        return ClassList[0]\n",
    "    elif len(labels) == 0 or training_data.shape[1] == 1:\n",
    "        return get_most_label(ClassList)\n",
    "    \n",
    "    best_feature_index = best_feature_selection(training_data, target)\n",
    "    best_feature = labels[best_feature_index]\n",
    "    \n",
    "    featLabels.append(best_feature)\n",
    "    myTree = {best_feature:{}}\n",
    "    del labels[best_feature_index]\n",
    "    print(best_feature_index)\n",
    "    print(training_data)\n",
    "    unique_feature_values = set([i[best_feature_index] for i in training_data.values.tolist()])\n",
    "    for value in unique_feature_values:\n",
    "            subLabels = labels[:]\n",
    "#             print(best_feature, value)\n",
    "#             print(split_data(training_data, best_feature, value))\n",
    "            myTree[best_feature][value] = continous_best_feature_selection(split_data(training_data, best_feature, value), target, subLabels, featLabels)\n",
    "    return myTree\n",
    "\n",
    "# print(dataset)\n",
    "Labels = list(set(dataset.columns.tolist()) - {'bought'}) #[i for i in dataset.columns.tolist() if i != 'bought'] #\n",
    "# print(Labels)\n",
    "dataset2 = dataset.loc[:, Labels + ['bought']]\n",
    "# print(dataset2)\n",
    "Tree_model = continous_best_feature_selection(dataset2, 'bought', Labels, [])\n",
    "# dataset\n",
    "\n",
    "# # Another dataSet\n",
    "# dataSet, labels = createDataSet2()\n",
    "# dataSet = pd.DataFrame(dataSet)\n",
    "# dataSet.columns = labels + ['bought']\n",
    "# # print(dataSet)\n",
    "# continous_best_feature_selection(dataSet, 'bought', labels, [])\n"
   ]
  },
  {
   "cell_type": "code",
   "execution_count": null,
   "metadata": {},
   "outputs": [],
   "source": [
    "# def continous_optimal_feature_selection(training_data, target):\n",
    "#     x_fields = set(training_data.columns.tolist()) - {target}\n",
    "    \n",
    "#     training_data1 = training_data\n",
    "#     training_data2 = training_data\n",
    "#     ## 1st step\n",
    "#     best_feature = best_feature_selection(training_data, target)[0] #('family_number', 2)\n",
    "#     cutting_value = best_feature_selection(training_data, target)[1]\n",
    "#     first_step_entropy = best_feature_selection(training_data, target)[2]\n",
    "    \n",
    "#     for i in range(1, len(x_fields)):        \n",
    "#         training_data1 = training_data1[training_data[best_feature]==cutting_value]\n",
    "#         training_data2 = training_data2[training_data[best_feature]!=cutting_value]\n",
    "#         training_data1 = training_data1.drop(best_feature, 1) # remove used feature column\n",
    "#         training_data2 = training_data2.drop(best_feature, 1) # remove used feature column\n",
    "        \n",
    "#         best_feature_list1 = best_feature_selection(training_data1)\n",
    "#         best_feature_list2 = best_feature_selection(training_data1)\n",
    "    "
   ]
  },
  {
   "cell_type": "markdown",
   "metadata": {},
   "source": [
    "#### 4. Finish the K-Means using 2-D matplotlib (8 points)"
   ]
  },
  {
   "cell_type": "markdown",
   "metadata": {},
   "source": [
    "<评阅点>\n",
    "> + 是否完成了KMeans模型，基于scikit-learning (3')\n",
    "+ 是否完成了可视化任务（5'）"
   ]
  },
  {
   "cell_type": "code",
   "execution_count": 39,
   "metadata": {
    "ExecuteTime": {
     "end_time": "2019-10-21T05:20:42.080100Z",
     "start_time": "2019-10-21T05:20:42.077068Z"
    }
   },
   "outputs": [],
   "source": [
    "from sklearn.cluster import KMeans"
   ]
  },
  {
   "cell_type": "markdown",
   "metadata": {},
   "source": [
    "## Part-2 Question and Answer 问答"
   ]
  },
  {
   "cell_type": "code",
   "execution_count": 40,
   "metadata": {
    "ExecuteTime": {
     "end_time": "2019-10-21T05:20:47.372732Z",
     "start_time": "2019-10-21T05:20:47.368824Z"
    }
   },
   "outputs": [],
   "source": [
    "X = [random.randint(0, 100) for i in range(100)]\n",
    "Y = [random.randint(0, 100) for i in range(100)]"
   ]
  },
  {
   "cell_type": "markdown",
   "metadata": {},
   "source": [
    "#### 1. What's the *model*? why  all the models are wrong, but some are useful? (5 points) "
   ]
  },
  {
   "cell_type": "code",
   "execution_count": 41,
   "metadata": {
    "ExecuteTime": {
     "end_time": "2019-10-21T05:21:02.543054Z",
     "start_time": "2019-10-21T05:21:02.297781Z"
    }
   },
   "outputs": [
    {
     "data": {
      "text/plain": [
       "<matplotlib.collections.PathCollection at 0x11ffd8550>"
      ]
     },
     "execution_count": 41,
     "metadata": {},
     "output_type": "execute_result"
    },
    {
     "data": {
      "image/png": "[encoded data removed]",
      "text/plain": [
       "<Figure size 432x288 with 1 Axes>"
      ]
     },
     "metadata": {
      "needs_background": "light"
     },
     "output_type": "display_data"
    }
   ],
   "source": [
    "plt.scatter(X, Y)"
   ]
  },
  {
   "cell_type": "markdown",
   "metadata": {},
   "source": [
    "Ans:"
   ]
  },
  {
   "cell_type": "code",
   "execution_count": 34,
   "metadata": {
    "ExecuteTime": {
     "end_time": "2019-10-21T05:09:40.466391Z",
     "start_time": "2019-10-21T05:09:40.462964Z"
    }
   },
   "outputs": [],
   "source": [
    "training_data = [[i, j] for i, j in zip(X, Y)]"
   ]
  },
  {
   "cell_type": "code",
   "execution_count": 35,
   "metadata": {
    "ExecuteTime": {
     "end_time": "2019-10-21T05:10:40.887167Z",
     "start_time": "2019-10-21T05:10:40.883378Z"
    }
   },
   "outputs": [],
   "source": [
    "cluster = KMeans(n_clusters=5, max_iter=1000)"
   ]
  },
  {
   "cell_type": "markdown",
   "metadata": {},
   "source": [
    "<评阅点>\n",
    "> + 对模型的理解是否正确,对模型的抽象性是否正确(5')"
   ]
  },
  {
   "cell_type": "code",
   "execution_count": 37,
   "metadata": {
    "ExecuteTime": {
     "end_time": "2019-10-21T05:11:30.460757Z",
     "start_time": "2019-10-21T05:11:30.399975Z"
    }
   },
   "outputs": [
    {
     "data": {
      "text/plain": [
       "KMeans(algorithm='auto', copy_x=True, init='k-means++', max_iter=1000,\n",
       "       n_clusters=5, n_init=10, n_jobs=None, precompute_distances='auto',\n",
       "       random_state=None, tol=0.0001, verbose=0)"
      ]
     },
     "execution_count": 37,
     "metadata": {},
     "output_type": "execute_result"
    }
   ],
   "source": [
    "cluster.fit(training_data)"
   ]
  },
  {
   "cell_type": "markdown",
   "metadata": {},
   "source": [
    "#### 2. What's the underfitting and overfitting? List the reasons that could make model overfitting or underfitting. (10 points)"
   ]
  },
  {
   "cell_type": "code",
   "execution_count": 38,
   "metadata": {
    "ExecuteTime": {
     "end_time": "2019-10-21T05:11:47.444086Z",
     "start_time": "2019-10-21T05:11:47.439095Z"
    }
   },
   "outputs": [
    {
     "data": {
      "text/plain": [
       "array([[80.82352941, 15.76470588],\n",
       "       [24.39130435, 61.39130435],\n",
       "       [76.14285714, 76.14285714],\n",
       "       [33.85185185, 23.2962963 ],\n",
       "       [17.25      , 91.83333333]])"
      ]
     },
     "execution_count": 38,
     "metadata": {},
     "output_type": "execute_result"
    }
   ],
   "source": [
    "cluster.cluster_centers_"
   ]
  },
  {
   "cell_type": "code",
   "execution_count": 45,
   "metadata": {
    "ExecuteTime": {
     "end_time": "2019-10-21T05:30:42.958184Z",
     "start_time": "2019-10-21T05:30:42.952732Z"
    }
   },
   "outputs": [
    {
     "data": {
      "text/plain": [
       "array([0, 1, 0, 4, 3, 2, 0, 3, 3, 1, 3, 2, 0, 2, 4, 1, 1, 0, 3, 2, 0, 3,\n",
       "       3, 3, 2, 4, 0, 1, 3, 3, 3, 1, 0, 0, 0, 0, 3, 4, 1, 1, 2, 3, 0, 3,\n",
       "       1, 4, 3, 1, 1, 3, 2, 2, 2, 1, 1, 1, 0, 2, 1, 2, 4, 2, 1, 3, 4, 4,\n",
       "       1, 1, 1, 2, 3, 3, 3, 2, 0, 1, 2, 4, 2, 3, 0, 2, 0, 3, 3, 3, 2, 4,\n",
       "       2, 1, 1, 3, 0, 2, 4, 3, 4, 2, 1, 3], dtype=int32)"
      ]
     },
     "execution_count": 45,
     "metadata": {},
     "output_type": "execute_result"
    }
   ],
   "source": [
    "cluster.labels_"
   ]
  },
  {
   "cell_type": "code",
   "execution_count": 55,
   "metadata": {
    "ExecuteTime": {
     "end_time": "2019-10-21T05:37:08.925431Z",
     "start_time": "2019-10-21T05:37:08.261877Z"
    }
   },
   "outputs": [
    {
     "data": {
      "image/png": "[encoded data removed]",
      "text/plain": [
       "<Figure size 432x288 with 1 Axes>"
      ]
     },
     "metadata": {
      "needs_background": "light"
     },
     "output_type": "display_data"
    }
   ],
   "source": [
    "from collections import defaultdict\n",
    "\n",
    "cluster_label = defaultdict(list)\n",
    "\n",
    "for label, location in zip(cluster.labels_, training_data):\n",
    "    cluster_label[label].append(location)\n",
    "\n",
    "### plot\n",
    "color = ['red', 'green', 'grey', 'black', 'yellow', 'orange']\n",
    "for label, center in enumerate(cluster_label):\n",
    "#     print(label)\n",
    "    for location in cluster_label[center]:\n",
    "#         print(location)\n",
    "        plt.scatter(*location, c = color[label])\n",
    "\n",
    "for i in range(len(cluster.cluster_centers_)):\n",
    "    location = cluster.cluster_centers_[i]\n",
    "    plt.scatter(*location, c = 'purple', s=100)\n",
    "    \n",
    "    "
   ]
  },
  {
   "cell_type": "markdown",
   "metadata": {},
   "source": [
    "Ans:"
   ]
  },
  {
   "cell_type": "markdown",
   "metadata": {},
   "source": [
    "<评阅点>\n",
    "> + 对过拟合和欠拟合的理解是否正确 (3')\n",
    "+ 对欠拟合产生的原因是否理解正确(2')\n",
    "+ 对过拟合产生的原因是否理解正确(5')"
   ]
  },
  {
   "cell_type": "markdown",
   "metadata": {},
   "source": [
    "#### 3. What's the precision, recall, AUC, F1, F2score. What are they mainly target on? (12')"
   ]
  },
  {
   "cell_type": "markdown",
   "metadata": {},
   "source": [
    "Ans: $$ Precision = \\frac{TP}{TP + FP} $$\n",
    "     $$ Recall = \\frac{TP}{TP+FN} $$\n",
    "     $$ F1-score = \\frac{2*Precision*Recall}{Precision + Recall} $$\n",
    "     $$ F2-score = \\frac{5*Precision*Recall}{4*Precision + Recall} $$"
   ]
  },
  {
   "cell_type": "markdown",
   "metadata": {},
   "source": [
    "Ans: \n",
    "   1. **Precision** means how accurate a machine learning model is, namely the true positive divided by all predicted positive samples number.\n",
    "     \n",
    "   2. **Recall** measures the fraction of true positive that are successfully retrieved. Also, it can be understood that the threshold that seperates the true positive and false negative.\n",
    "     \n",
    "   3. **AUC**: Area under curve. This term means the performance of a model.\n",
    "     \n",
    "   4. **F1-score**: Because the precision competes with recall, and it is often hard to measure which model is better just by precision or recall. To balance them, a F1-score is used to give precision and recall same weight in some conditions, so we can judge which model is better.\n",
    "     \n",
    "   5. **F2-score**: Sometimes, the weight of precision and recall is different for we would prefer someone. For example, we prefer recall rather than precision in the epidemic disease detection, while precision is more important than recall in the court trial. Under this circumstance, we add a weight parameter \\beta to adjust the importance of precision and recall. When more importance is on precision, the \\beta would be less than 1, otherwise, it is greater than 1. It is **F2-Score when the \\beta is 2**."
   ]
  },
  {
   "cell_type": "markdown",
   "metadata": {},
   "source": [
    " $$ F-score = (1 + \\beta^2) * \\frac{Precision*Recall}{\\beta^2*Precision + Recall} $$"
   ]
  },
  {
   "cell_type": "markdown",
   "metadata": {},
   "source": [
    "<评阅点>\n",
    "> + 对precision, recall, AUC, F1, F2 理解是否正确(6‘)\n",
    "+ 对precision, recall, AUC, F1, F2的使用侧重点是否理解正确 (6’)"
   ]
  },
  {
   "cell_type": "markdown",
   "metadata": {},
   "source": [
    "#### 4. Based on our course and yourself mind, what's the machine learning?  (8')"
   ]
  },
  {
   "cell_type": "markdown",
   "metadata": {},
   "source": [
    "<评阅点> 开放式问题，是否能说出来机器学习这种思维方式和传统的分析式编程的区别（8'）"
   ]
  },
  {
   "cell_type": "markdown",
   "metadata": {},
   "source": [
    "Ans: **Machine learning** is the scientific study that computers use to perform tasks under algorithms and statistical models without using clear instructions. It can undermine underlying mechanisms of data, which can be then used to predict new results with other new data. Without doubt, it is a part of Artificial Intelligence."
   ]
  },
  {
   "cell_type": "markdown",
   "metadata": {},
   "source": [
    "#### 5. \"正确定义了机器学习模型的评价标准(evaluation)， 问题基本上就已经解决一半\". 这句话是否正确？你是怎么看待的？ (8‘)"
   ]
  },
  {
   "cell_type": "markdown",
   "metadata": {},
   "source": [
    "<评阅点> 开放式问题，主要看能理解评价指标对机器学习模型的重要性."
   ]
  },
  {
   "cell_type": "markdown",
   "metadata": {},
   "source": [
    "Ans: I think it's correct. Through a universal and correct evaluation system and method, we know what a model needs, and we can know a model's performance including precision, recall, etc, under different conditions. From that, the problem that which model is better can be solved.\n",
    "\n",
    "Also, we can understand the advantages and disadvantages, which provides basis of choice when solving problems and should be the direction that we try to move forward. "
   ]
  },
  {
   "cell_type": "markdown",
   "metadata": {},
   "source": [
    "## Part-03 Programming Practice 编程练习"
   ]
  },
  {
   "cell_type": "markdown",
   "metadata": {},
   "source": [
    "1. In our course and previous practice, we complete some importance components of Decision Tree. In this problem, you need to build a **completed** Decision Tree Model. You show finish a `predicate()` function, which accepts three parameters **<gender, income, family_number>**, and outputs the predicated 'bought': 1 or 0.  (20 points)"
   ]
  },
  {
   "cell_type": "markdown",
   "metadata": {},
   "source": [
    "### Decision Tree"
   ]
  },
  {
   "cell_type": "markdown",
   "metadata": {},
   "source": [
    "<评阅点>\n",
    "> + 是否将之前的决策树模型的部分进行合并组装， predicate函数能够顺利运行(8')\n",
    "+ 是够能够输入未曾见过的X变量，例如gender, income, family_number 分别是： <M, -10, 1>, 模型能够预测出结果 (12')"
   ]
  },
  {
   "cell_type": "code",
   "execution_count": 270,
   "metadata": {},
   "outputs": [
    {
     "name": "stdout",
     "output_type": "stream",
     "text": [
      "{'family_number': {1: 1, 2: {'gender': {'M': 1, 'F': 0}}}}\n"
     ]
    },
    {
     "data": {
      "text/plain": [
       "'1'"
      ]
     },
     "execution_count": 270,
     "metadata": {},
     "output_type": "execute_result"
    }
   ],
   "source": [
    "def predict(DT_model, feature_labels, test_var):\n",
    "    firstStr = next(iter(DT_model))\n",
    "    secondDict = DT_model[firstStr]\n",
    "    \n",
    "    feature_label_index = feature_labels.index(firstStr)\n",
    "    for _key in secondDict.keys():\n",
    "        if test_var[feature_label_index] == _key:\n",
    "            if type(secondDict[_key]).__name__ == 'dict':\n",
    "                predict_result = predict(secondDict[_key], feature_labels, test_var)\n",
    "            else:\n",
    "                predict_result = secondDict[_key]\n",
    "    return str(predict_result) #'feature list is ' + ' '.join(np.array(test_var, dtype=str).tolist()) + '. The predicted result is: ' + str(predict_result)\n",
    "\n",
    "# dataset2\n",
    "# income  loan  family_number gender  bought\n",
    "# -10     0              2      F       0\n",
    "# -10     1              2      F       0\n",
    "# -10     1              2      M       1\n",
    "# -10     0              1      M       1\n",
    "# -10     0              2      F       0\n",
    "# 10     0              2      F       0\n",
    "# 10     1              2      F       0\n",
    "# 10     1              1      M       1\n",
    "# 10     2              1      F       1\n",
    "# 10     2              1      F       1\n",
    "# 20     2              1      F       1\n",
    "# 20     1              1      F       1\n",
    "# 20     1              2      M       1\n",
    "# 20     2              2      M       1\n",
    "# 20     0              2      F       0\n",
    "# 20     2      M       1\n",
    "\n",
    "feature_labels = ['income', 'loan', 'family_number', 'gender']\n",
    "print(Tree_model)\n",
    "predict(Tree_model, feature_labels, [10, 0, 1, 'M'])\n"
   ]
  },
  {
   "cell_type": "code",
   "execution_count": 269,
   "metadata": {},
   "outputs": [
    {
     "name": "stdout",
     "output_type": "stream",
     "text": [
      "-10 0 1 M. Predicted result:1\n",
      "-10 0 1 F. Predicted result:1\n",
      "-10 0 2 M. Predicted result:1\n",
      "-10 0 2 F. Predicted result:0\n",
      "-10 1 1 M. Predicted result:1\n",
      "-10 1 1 F. Predicted result:1\n",
      "-10 1 2 M. Predicted result:1\n",
      "-10 1 2 F. Predicted result:0\n",
      "-10 2 1 M. Predicted result:1\n",
      "-10 2 1 F. Predicted result:1\n",
      "-10 2 2 M. Predicted result:1\n",
      "-10 2 2 F. Predicted result:0\n",
      "10 0 1 M. Predicted result:1\n",
      "10 0 1 F. Predicted result:1\n",
      "10 0 2 M. Predicted result:1\n",
      "10 0 2 F. Predicted result:0\n",
      "10 1 1 M. Predicted result:1\n",
      "10 1 1 F. Predicted result:1\n",
      "10 1 2 M. Predicted result:1\n",
      "10 1 2 F. Predicted result:0\n",
      "10 2 1 M. Predicted result:1\n",
      "10 2 1 F. Predicted result:1\n",
      "10 2 2 M. Predicted result:1\n",
      "10 2 2 F. Predicted result:0\n",
      "20 0 1 M. Predicted result:1\n",
      "20 0 1 F. Predicted result:1\n",
      "20 0 2 M. Predicted result:1\n",
      "20 0 2 F. Predicted result:0\n",
      "20 1 1 M. Predicted result:1\n",
      "20 1 1 F. Predicted result:1\n",
      "20 1 2 M. Predicted result:1\n",
      "20 1 2 F. Predicted result:0\n",
      "20 2 1 M. Predicted result:1\n",
      "20 2 1 F. Predicted result:1\n",
      "20 2 2 M. Predicted result:1\n",
      "20 2 2 F. Predicted result:0\n"
     ]
    }
   ],
   "source": [
    "income_list = [-10, 10, 20]\n",
    "loan_list = [0, 1, 2]\n",
    "family_number_list = [1, 2]\n",
    "gender_list = ['M', 'F']\n",
    "\n",
    "generated_testset_list = [[i, j, k, m] for i in income_list for j in loan_list for k in family_number_list for m in gender_list]\n",
    "\n",
    "for _item in generated_testset_list:\n",
    "    print(' '.join(np.array(_item, dtype=str).tolist()) + '. Predicted result:' + predict(Tree_model, feature_labels, _item))\n"
   ]
  },
  {
   "cell_type": "markdown",
   "metadata": {},
   "source": [
    "2. 将上一节课(第二节课)的线性回归问题中的Loss函数改成\"绝对值\"，并且改变其偏导的求值方式，观察其结果的变化。(19 point)"
   ]
  },
  {
   "cell_type": "markdown",
   "metadata": {},
   "source": [
    "### Linear regression"
   ]
  },
  {
   "cell_type": "markdown",
   "metadata": {},
   "source": [
    "<评阅点>\n",
    "+ 是否将Loss改成了“绝对值”(3')\n",
    "+ 是否完成了偏导的重新定义(5')\n",
    "+ 新的模型Loss是否能够收敛 (11’)"
   ]
  },
  {
   "cell_type": "markdown",
   "metadata": {
    "ExecuteTime": {
     "end_time": "2019-10-21T06:36:11.217196Z",
     "start_time": "2019-10-21T06:36:11.211205Z"
    }
   },
   "source": [
    "#### Loss fucntion (L1 norm)\n",
    "$$ loss = \\frac{1}{n} \\sum{\\lvert{(y_i - \\hat{y_i})}\\rvert} $$\n",
    "$$ loss = \\frac{1}{n} \\sum{\\lvert{(y_i - (k*x_i + b_i))}\\rvert} $$"
   ]
  },
  {
   "cell_type": "code",
   "execution_count": 59,
   "metadata": {
    "ExecuteTime": {
     "end_time": "2019-10-21T06:53:01.378181Z",
     "start_time": "2019-10-21T06:53:01.374535Z"
    }
   },
   "outputs": [],
   "source": [
    "def loss(y, y_hat):\n",
    "    return sum(np.abs(y_i - y_hat_i) for y_i, y_hat_i in zip(list(y), list(y_hat))) / len(list(y))"
   ]
  },
  {
   "cell_type": "markdown",
   "metadata": {
    "ExecuteTime": {
     "end_time": "2019-10-21T06:44:26.347721Z",
     "start_time": "2019-10-21T06:44:26.341509Z"
    }
   },
   "source": [
    "#### Define partial derivative\n",
    "$$ if ({y_i - \\hat{y_i}}\\neq{0}) $$\n",
    "$$ \\frac{\\partial{loss}}{\\partial{k}} = -\\frac{2}{n} \\sum(\\frac{y_i - \\hat{y_i}}{|y_i - \\hat{y_i}|})x_i $$\n",
    "$$ \\frac{\\partial{loss}}{\\partial{b}} = -\\frac{2}{n} \\sum(\\frac{y_i - \\hat{y_i}}{|y_i - \\hat{y_i}|}) $$\n",
    "\n"
   ]
  },
  {
   "cell_type": "markdown",
   "metadata": {},
   "source": [
    "$$ if (y_i - \\hat{y_i} = 0), suppose: $$\n",
    "$$ \\frac{\\partial{loss}}{\\partial{k}} = 0 $$\n",
    "$$ \\frac{\\partial{loss}}{\\partial{b}} = 0 $$"
   ]
  },
  {
   "cell_type": "markdown",
   "metadata": {},
   "source": []
  },
  {
   "cell_type": "code",
   "execution_count": 60,
   "metadata": {
    "ExecuteTime": {
     "end_time": "2019-10-21T06:53:03.682940Z",
     "start_time": "2019-10-21T06:53:03.674185Z"
    }
   },
   "outputs": [],
   "source": [
    "def partial_derivative_for_k(x, y, y_hat):\n",
    "    partial_derivative_k = 0\n",
    "    \n",
    "    for i in range(len(list(y))):\n",
    "        if list(y)[i] - list(y_hat)[i] != 0:\n",
    "            partial_derivative_k += (list(y)[i] - list(y_hat)[i]) * list(x)[i]\n",
    "        else:\n",
    "            partial_derivative_k += 0 # when it's not derivatived in 0, so remain the accumulatid partial derivative value\n",
    "        \n",
    "    return -2 * partial_derivative_k / len(y)\n",
    "\n",
    "def partial_derivative_for_b(y, y_hat):\n",
    "    partial_derivative_b = 0\n",
    "    \n",
    "    for i in range(len(list(y))):\n",
    "        if list(y)[i] - list(y_hat)[i] != 0:\n",
    "            partial_derivative_b += (list(y)[i] - list(y_hat)[i])\n",
    "        else:\n",
    "            partial_derivative_b += 0#  when it's not derivatived in 0, so remain the accumulatid partial derivative value\n",
    "        \n",
    "    return -2 * partial_derivative_b / len(y)"
   ]
  },
  {
   "cell_type": "code",
   "execution_count": 61,
   "metadata": {
    "ExecuteTime": {
     "end_time": "2019-10-21T06:53:10.092762Z",
     "start_time": "2019-10-21T06:53:10.089493Z"
    }
   },
   "outputs": [],
   "source": [
    "def linear_function(k, b, x):\n",
    "    return k * x + b"
   ]
  },
  {
   "cell_type": "code",
   "execution_count": 66,
   "metadata": {
    "ExecuteTime": {
     "end_time": "2019-10-21T06:56:57.418043Z",
     "start_time": "2019-10-21T06:56:57.413973Z"
    }
   },
   "outputs": [],
   "source": [
    "from sklearn.datasets import load_boston\n",
    "import random\n",
    "import matplotlib.pyplot as plt"
   ]
  },
  {
   "cell_type": "code",
   "execution_count": 64,
   "metadata": {
    "ExecuteTime": {
     "end_time": "2019-10-21T06:54:47.478237Z",
     "start_time": "2019-10-21T06:54:47.459684Z"
    }
   },
   "outputs": [],
   "source": [
    "dataset = load_boston()\n",
    "x, y = dataset['data'], dataset['target']"
   ]
  },
  {
   "cell_type": "code",
   "execution_count": 67,
   "metadata": {
    "ExecuteTime": {
     "end_time": "2019-10-21T06:56:58.152850Z",
     "start_time": "2019-10-21T06:56:57.915921Z"
    }
   },
   "outputs": [
    {
     "data": {
      "text/plain": [
       "<matplotlib.collections.PathCollection at 0x1229a3908>"
      ]
     },
     "execution_count": 67,
     "metadata": {},
     "output_type": "execute_result"
    },
    {
     "data": {
      "image/png": "[encoded data removed]",
      "text/plain": [
       "<Figure size 432x288 with 1 Axes>"
      ]
     },
     "metadata": {
      "needs_background": "light"
     },
     "output_type": "display_data"
    }
   ],
   "source": [
    "plt.scatter(x[:, 5], y)"
   ]
  },
  {
   "cell_type": "markdown",
   "metadata": {},
   "source": [
    "#### Startting iteration"
   ]
  },
  {
   "cell_type": "code",
   "execution_count": 65,
   "metadata": {
    "ExecuteTime": {
     "end_time": "2019-10-21T06:56:57.411249Z",
     "start_time": "2019-10-21T06:54:51.898071Z"
    }
   },
   "outputs": [
    {
     "name": "stdout",
     "output_type": "stream",
     "text": [
      "<class 'list'>\n",
      "<class 'list'>\n",
      "This is the 1 time's iteration. The loss is 587.9728213298042. The k is -77.39581548329122, and b is -79.03561158226839\n",
      "This is the 2 time's iteration. The loss is 106.39781312911892. The k is -2.6395889763646636, and b is -67.2761551556723\n",
      "This is the 3 time's iteration. The loss is 19.5338939884237. The k is 10.849539694499596, and b is -65.14819889308993\n",
      "This is the 4 time's iteration. The loss is 6.117463692584493. The k is 13.282776923824487, and b is -64.75828659376572\n",
      "This is the 5 time's iteration. The loss is 5.042671964948471. The k is 13.720934760473847, and b is -64.682012667708\n",
      "This is the 6 time's iteration. The loss is 4.974598554821456. The k is 13.799072803246284, and b is -64.6623374563173\n",
      "This is the 7 time's iteration. The loss is 4.966610204292151. The k is 13.812244064698174, and b is -64.65287712976578\n",
      "This is the 8 time's iteration. The loss is 4.96502311654154. The k is 13.813692035287328, and b is -64.6452615409982\n",
      "This is the 9 time's iteration. The loss is 4.964530395252399. The k is 13.813024714737525, and b is -64.63798026332111\n",
      "This is the 10 time's iteration. The loss is 4.96422350545196. The k is 13.811975904787806, and b is -64.63076073388406\n",
      "This is the 11 time's iteration. The loss is 4.963950202100565. The k is 13.810858476809312, and b is -64.62355376729424\n",
      "This is the 12 time's iteration. The loss is 4.963683011962238. The k is 13.809728889632595, and b is -64.61635048751023\n",
      "This is the 13 time's iteration. The loss is 4.963416977369577. The k is 13.80859733142468, and b is -64.60914929247362\n",
      "This is the 14 time's iteration. The loss is 4.963151203679177. The k is 13.807465640627198, and b is -64.60194989274524\n",
      "This is the 15 time's iteration. The loss is 4.962885529436485. The k is 13.80633414894061, and b is -64.5947522357534\n",
      "This is the 16 time's iteration. The loss is 4.9626199254937715. The k is 13.805202916167955, and b is -64.58755631167016\n",
      "This is the 17 time's iteration. The loss is 4.962354386578645. The k is 13.804071953047302, and b is -64.5803621183809\n",
      "This is the 18 time's iteration. The loss is 4.96208891172708. The k is 13.802941261462774, and b is -64.57316965516306\n",
      "This is the 19 time's iteration. The loss is 4.9618235007525335. The k is 13.80181084170077, and b is -64.5659789215453\n",
      "This is the 20 time's iteration. The loss is 4.961558153608766. The k is 13.80068069375939, and b is -64.55878991710172\n",
      "This is the 21 time's iteration. The loss is 4.961292870274855. The k is 13.799550817584722, and b is -64.55160264141472\n",
      "This is the 22 time's iteration. The loss is 4.961027650734451. The k is 13.798421213113482, and b is -64.54441709406824\n",
      "This is the 23 time's iteration. The loss is 4.960762494972033. The k is 13.797291880280703, and b is -64.53723327464661\n",
      "This is the 24 time's iteration. The loss is 4.960497402972222. The k is 13.79616281902113, and b is -64.5300511827343\n",
      "This is the 25 time's iteration. The loss is 4.960232374719683. The k is 13.795034029269473, and b is -64.52287081791589\n",
      "This is the 26 time's iteration. The loss is 4.959967410199094. The k is 13.793905510960442, and b is -64.51569217977605\n",
      "This is the 27 time's iteration. The loss is 4.959702509395117. The k is 13.792777264028764, and b is -64.50851526789958\n",
      "This is the 28 time's iteration. The loss is 4.959437672292447. The k is 13.791649288409179, and b is -64.50134008187136\n",
      "This is the 29 time's iteration. The loss is 4.959172898875744. The k is 13.790521584036444, and b is -64.49416662127636\n",
      "This is the 30 time's iteration. The loss is 4.958908189129712. The k is 13.789394150845332, and b is -64.48699488569967\n",
      "This is the 31 time's iteration. The loss is 4.958643543039024. The k is 13.788266988770632, and b is -64.47982487472646\n",
      "This is the 32 time's iteration. The loss is 4.958378960588389. The k is 13.787140097747146, and b is -64.47265658794203\n",
      "This is the 33 time's iteration. The loss is 4.958114441762489. The k is 13.786013477709696, and b is -64.46549002493174\n",
      "This is the 34 time's iteration. The loss is 4.957849986546026. The k is 13.784887128593118, and b is -64.45832518528108\n",
      "This is the 35 time's iteration. The loss is 4.957585594923714. The k is 13.783761050332261, and b is -64.45116206857563\n",
      "This is the 36 time's iteration. The loss is 4.957321266880252. The k is 13.782635242861991, and b is -64.44400067440107\n",
      "This is the 37 time's iteration. The loss is 4.957057002400357. The k is 13.781509706117193, and b is -64.43684100234317\n",
      "This is the 38 time's iteration. The loss is 4.956792801468739. The k is 13.780384440032762, and b is -64.42968305198782\n",
      "This is the 39 time's iteration. The loss is 4.956528664070111. The k is 13.779259444543614, and b is -64.422526822921\n",
      "This is the 40 time's iteration. The loss is 4.956264590189203. The k is 13.77813471958468, and b is -64.41537231472878\n",
      "This is the 41 time's iteration. The loss is 4.956000579810738. The k is 13.777010265090901, and b is -64.40821952699734\n",
      "This is the 42 time's iteration. The loss is 4.9557366329194465. The k is 13.77588608099724, and b is -64.40106845931295\n",
      "This is the 43 time's iteration. The loss is 4.955472749500066. The k is 13.774762167238672, and b is -64.393919111262\n",
      "This is the 44 time's iteration. The loss is 4.955208929537333. The k is 13.773638523750188, and b is -64.38677148243094\n",
      "This is the 45 time's iteration. The loss is 4.954945173015966. The k is 13.772515150466798, and b is -64.37962557240638\n",
      "This is the 46 time's iteration. The loss is 4.954681479920744. The k is 13.771392047323525, and b is -64.37248138077499\n",
      "This is the 47 time's iteration. The loss is 4.954417850236386. The k is 13.770269214255407, and b is -64.36533890712352\n",
      "This is the 48 time's iteration. The loss is 4.954154283947659. The k is 13.769146651197499, and b is -64.35819815103885\n",
      "This is the 49 time's iteration. The loss is 4.953890781039308. The k is 13.768024358084869, and b is -64.35105911210796\n",
      "This is the 50 time's iteration. The loss is 4.953627341496118. The k is 13.766902334852606, and b is -64.34392178991793\n",
      "This is the 51 time's iteration. The loss is 4.9533639653028185. The k is 13.765780581435807, and b is -64.33678618405592\n",
      "This is the 52 time's iteration. The loss is 4.953100652444182. The k is 13.764659097769595, and b is -64.32965229410921\n",
      "This is the 53 time's iteration. The loss is 4.952837402904986. The k is 13.763537883789096, and b is -64.32252011966516\n",
      "This is the 54 time's iteration. The loss is 4.9525742166700075. The k is 13.762416939429462, and b is -64.31538966031124\n",
      "This is the 55 time's iteration. The loss is 4.952311093724019. The k is 13.761296264625855, and b is -64.30826091563502\n",
      "This is the 56 time's iteration. The loss is 4.952048034051801. The k is 13.760175859313454, and b is -64.30113388522417\n",
      "This is the 57 time's iteration. The loss is 4.951785037638138. The k is 13.759055723427457, and b is -64.29400856866646\n",
      "This is the 58 time's iteration. The loss is 4.951522104467819. The k is 13.75793585690307, and b is -64.28688496554975\n",
      "This is the 59 time's iteration. The loss is 4.951259234525631. The k is 13.75681625967552, and b is -64.279763075462\n",
      "This is the 60 time's iteration. The loss is 4.95099642779638. The k is 13.755696931680053, and b is -64.27264289799129\n",
      "This is the 61 time's iteration. The loss is 4.950733684264843. The k is 13.754577872851922, and b is -64.26552443272577\n",
      "This is the 62 time's iteration. The loss is 4.950471003915857. The k is 13.7534590831264, and b is -64.25840767925371\n",
      "This is the 63 time's iteration. The loss is 4.950208386734197. The k is 13.752340562438775, and b is -64.25129263716346\n",
      "This is the 64 time's iteration. The loss is 4.949945832704686. The k is 13.751222310724351, and b is -64.24417930604349\n",
      "This is the 65 time's iteration. The loss is 4.949683341812141. The k is 13.75010432791845, and b is -64.23706768548236\n",
      "This is the 66 time's iteration. The loss is 4.949420914041366. The k is 13.748986613956404, and b is -64.22995777506871\n",
      "This is the 67 time's iteration. The loss is 4.949158549377197. The k is 13.747869168773565, and b is -64.22284957439132\n",
      "This is the 68 time's iteration. The loss is 4.948896247804456. The k is 13.746751992305297, and b is -64.21574308303903\n"
     ]
    },
    {
     "name": "stdout",
     "output_type": "stream",
     "text": [
      "This is the 69 time's iteration. The loss is 4.948634009307963. The k is 13.745635084486983, and b is -64.20863830060081\n",
      "This is the 70 time's iteration. The loss is 4.948371833872563. The k is 13.744518445254021, and b is -64.2015352266657\n",
      "This is the 71 time's iteration. The loss is 4.94810972148307. The k is 13.743402074541823, and b is -64.19443386082285\n",
      "This is the 72 time's iteration. The loss is 4.94784767212435. The k is 13.742285972285817, and b is -64.18733420266153\n",
      "This is the 73 time's iteration. The loss is 4.94758568578122. The k is 13.741170138421447, and b is -64.18023625177108\n",
      "This is the 74 time's iteration. The loss is 4.947323762438552. The k is 13.740054572884173, and b is -64.17314000774094\n",
      "This is the 75 time's iteration. The loss is 4.947061902081176. The k is 13.738939275609468, and b is -64.16604547016067\n",
      "This is the 76 time's iteration. The loss is 4.9468001046939545. The k is 13.737824246532822, and b is -64.15895263861991\n",
      "This is the 77 time's iteration. The loss is 4.946538370261736. The k is 13.736709485589744, and b is -64.15186151270841\n",
      "This is the 78 time's iteration. The loss is 4.946276698769393. The k is 13.735594992715754, and b is -64.144772092016\n",
      "This is the 79 time's iteration. The loss is 4.946015090201789. The k is 13.734480767846387, and b is -64.13768437613263\n",
      "This is the 80 time's iteration. The loss is 4.945753544543786. The k is 13.733366810917195, and b is -64.13059836464834\n",
      "This is the 81 time's iteration. The loss is 4.945492061780261. The k is 13.732253121863748, and b is -64.12351405715327\n",
      "This is the 82 time's iteration. The loss is 4.945230641896096. The k is 13.731139700621627, and b is -64.11643145323767\n",
      "This is the 83 time's iteration. The loss is 4.9449692848761515. The k is 13.730026547126434, and b is -64.10935055249186\n",
      "This is the 84 time's iteration. The loss is 4.9447079907053215. The k is 13.728913661313783, and b is -64.10227135450629\n",
      "This is the 85 time's iteration. The loss is 4.9444467593685015. The k is 13.727801043119301, and b is -64.09519385887147\n",
      "This is the 86 time's iteration. The loss is 4.944185590850561. The k is 13.726688692478636, and b is -64.08811806517805\n",
      "This is the 87 time's iteration. The loss is 4.943924485136417. The k is 13.725576609327446, and b is -64.08104397301676\n",
      "This is the 88 time's iteration. The loss is 4.943663442210947. The k is 13.72446479360141, and b is -64.07397158197843\n",
      "This is the 89 time's iteration. The loss is 4.943402462059062. The k is 13.723353245236218, and b is -64.06690089165397\n",
      "This is the 90 time's iteration. The loss is 4.943141544665667. The k is 13.722241964167576, and b is -64.05983190163442\n",
      "This is the 91 time's iteration. The loss is 4.942880690015658. The k is 13.72113095033121, and b is -64.05276461151091\n",
      "This is the 92 time's iteration. The loss is 4.942619898093965. The k is 13.720020203662855, and b is -64.04569902087465\n",
      "This is the 93 time's iteration. The loss is 4.942359168885501. The k is 13.718909724098268, and b is -64.03863512931696\n",
      "This is the 94 time's iteration. The loss is 4.9420985023751705. The k is 13.717799511573212, and b is -64.03157293642926\n",
      "This is the 95 time's iteration. The loss is 4.94183789854791. The k is 13.716689566023476, and b is -64.02451244180307\n",
      "This is the 96 time's iteration. The loss is 4.9415773573886455. The k is 13.715579887384859, and b is -64.01745364503\n",
      "This is the 97 time's iteration. The loss is 4.941316878882298. The k is 13.714470475593176, and b is -64.01039654570178\n",
      "This is the 98 time's iteration. The loss is 4.941056463013813. The k is 13.713361330584258, and b is -64.0033411434102\n",
      "This is the 99 time's iteration. The loss is 4.940796109768114. The k is 13.71225245229395, and b is -63.99628743774718\n",
      "This is the 100 time's iteration. The loss is 4.940535819130153. The k is 13.711143840658114, and b is -63.989235428304724\n",
      "This is the 101 time's iteration. The loss is 4.940275591084868. The k is 13.710035495612628, and b is -63.98218511467495\n",
      "This is the 102 time's iteration. The loss is 4.940015425617212. The k is 13.708927417093385, and b is -63.97513649645005\n",
      "This is the 103 time's iteration. The loss is 4.939755738744998. The k is 13.70781960503629, and b is -63.96808957322233\n",
      "This is the 104 time's iteration. The loss is 4.939499585224782. The k is 13.70671205937727, and b is -63.96104434458419\n",
      "This is the 105 time's iteration. The loss is 4.939243493302383. The k is 13.70560478005226, and b is -63.95400081012812\n",
      "This is the 106 time's iteration. The loss is 4.938987462962989. The k is 13.704497766997216, and b is -63.94695896944673\n",
      "This is the 107 time's iteration. The loss is 4.938731494191791. The k is 13.703391020148109, and b is -63.93991882213271\n",
      "This is the 108 time's iteration. The loss is 4.938475586973979. The k is 13.70228453944092, and b is -63.93288036777885\n",
      "This is the 109 time's iteration. The loss is 4.938219741294763. The k is 13.70117832481165, and b is -63.92584360597804\n",
      "This is the 110 time's iteration. The loss is 4.937963957139327. The k is 13.700072376196317, and b is -63.91880853632327\n",
      "This is the 111 time's iteration. The loss is 4.937708234492899. The k is 13.698966693530952, and b is -63.91177515840762\n",
      "This is the 112 time's iteration. The loss is 4.937452573340657. The k is 13.6978612767516, and b is -63.90474347182428\n",
      "This is the 113 time's iteration. The loss is 4.9371969736678505. The k is 13.696756125794323, and b is -63.89771347616653\n",
      "This is the 114 time's iteration. The loss is 4.93694143545966. The k is 13.695651240595199, and b is -63.89068517102775\n",
      "This is the 115 time's iteration. The loss is 4.936685958701331. The k is 13.694546621090318, and b is -63.883658556001414\n",
      "This is the 116 time's iteration. The loss is 4.936430543378071. The k is 13.693442267215792, and b is -63.8766336306811\n",
      "This is the 117 time's iteration. The loss is 4.936175189475117. The k is 13.69233817890774, and b is -63.86961039466048\n",
      "This is the 118 time's iteration. The loss is 4.935919896977688. The k is 13.691234356102303, and b is -63.86258884753332\n",
      "This is the 119 time's iteration. The loss is 4.935664665871019. The k is 13.690130798735636, and b is -63.85556898889349\n",
      "This is the 120 time's iteration. The loss is 4.935409496140364. The k is 13.689027506743905, and b is -63.84855081833496\n",
      "This is the 121 time's iteration. The loss is 4.935154387770943. The k is 13.687924480063296, and b is -63.84153433545178\n",
      "This is the 122 time's iteration. The loss is 4.934899340748015. The k is 13.686821718630013, and b is -63.83451953983813\n",
      "This is the 123 time's iteration. The loss is 4.934644355056825. The k is 13.685719222380264, and b is -63.82750643108827\n",
      "This is the 124 time's iteration. The loss is 4.9343894306826055. The k is 13.684616991250287, and b is -63.820495008796534\n",
      "This is the 125 time's iteration. The loss is 4.934134567610637. The k is 13.683515025176323, and b is -63.813485272557394\n",
      "This is the 126 time's iteration. The loss is 4.933879765826171. The k is 13.682413324094636, and b is -63.80647722196539\n",
      "This is the 127 time's iteration. The loss is 4.933625025314468. The k is 13.681311887941503, and b is -63.79947085661517\n",
      "This is the 128 time's iteration. The loss is 4.933370346060791. The k is 13.680210716653214, and b is -63.79246617610149\n",
      "This is the 129 time's iteration. The loss is 4.93311572805041. The k is 13.679109810166077, and b is -63.78546318001919\n",
      "This is the 130 time's iteration. The loss is 4.932861171268596. The k is 13.678009168416414, and b is -63.77846186796321\n",
      "This is the 131 time's iteration. The loss is 4.932606675700623. The k is 13.676908791340564, and b is -63.77146223952859\n",
      "This is the 132 time's iteration. The loss is 4.932352241331789. The k is 13.675808678874882, and b is -63.76446429431046\n",
      "This is the 133 time's iteration. The loss is 4.932097868147353. The k is 13.674708830955733, and b is -63.757468031904054\n",
      "This is the 134 time's iteration. The loss is 4.931843556132617. The k is 13.673609247519504, and b is -63.75047345190471\n",
      "This is the 135 time's iteration. The loss is 4.931589305272865. The k is 13.672509928502592, and b is -63.74348055390785\n",
      "This is the 136 time's iteration. The loss is 4.931335115553388. The k is 13.671410873841413, and b is -63.736489337509\n",
      "This is the 137 time's iteration. The loss is 4.931080986959492. The k is 13.670312083472396, and b is -63.72949980230378\n"
     ]
    },
    {
     "name": "stdout",
     "output_type": "stream",
     "text": [
      "This is the 138 time's iteration. The loss is 4.9308269194764724. The k is 13.669213557331986, and b is -63.72251194788791\n",
      "This is the 139 time's iteration. The loss is 4.930572913089644. The k is 13.668115295356642, and b is -63.71552577385721\n",
      "This is the 140 time's iteration. The loss is 4.930318967784301. The k is 13.667017297482843, and b is -63.7085412798076\n",
      "This is the 141 time's iteration. The loss is 4.930065083545753. The k is 13.665919563647078, and b is -63.701558465335076\n",
      "This is the 142 time's iteration. The loss is 4.9298112603593385. The k is 13.664822093785853, and b is -63.694577330035756\n",
      "This is the 143 time's iteration. The loss is 4.929557498210343. The k is 13.66372488783569, and b is -63.687597873505844\n",
      "This is the 144 time's iteration. The loss is 4.929303797084113. The k is 13.662627945733124, and b is -63.680620095341645\n",
      "This is the 145 time's iteration. The loss is 4.929050156965978. The k is 13.661531267414711, and b is -63.67364399513956\n",
      "This is the 146 time's iteration. The loss is 4.928796577841241. The k is 13.660434852817014, and b is -63.666669572496076\n",
      "This is the 147 time's iteration. The loss is 4.928543059695255. The k is 13.659338701876617, and b is -63.65969682700779\n",
      "This is the 148 time's iteration. The loss is 4.928289602513355. The k is 13.65824281453012, and b is -63.6527257582714\n",
      "This is the 149 time's iteration. The loss is 4.928036206280871. The k is 13.657147190714133, and b is -63.645756365883685\n",
      "This is the 150 time's iteration. The loss is 4.927782870983158. The k is 13.656051830365284, and b is -63.63878864944153\n",
      "This is the 151 time's iteration. The loss is 4.927529596605555. The k is 13.654956733420216, and b is -63.631822608541924\n",
      "This is the 152 time's iteration. The loss is 4.927276383133413. The k is 13.65386189981559, and b is -63.62485824278194\n",
      "This is the 153 time's iteration. The loss is 4.927023230552091. The k is 13.65276732948808, and b is -63.61789555175876\n",
      "This is the 154 time's iteration. The loss is 4.92677013884694. The k is 13.651673022374375, and b is -63.61093453506964\n",
      "This is the 155 time's iteration. The loss is 4.92651710800333. The k is 13.650578978411177, and b is -63.603975192311964\n",
      "This is the 156 time's iteration. The loss is 4.926264138006618. The k is 13.649485197535208, and b is -63.597017523083196\n",
      "This is the 157 time's iteration. The loss is 4.926011228842175. The k is 13.648391679683202, and b is -63.5900615269809\n",
      "This is the 158 time's iteration. The loss is 4.9257583804953615. The k is 13.647298424791911, and b is -63.58310720360272\n",
      "This is the 159 time's iteration. The loss is 4.9255055929515725. The k is 13.646205432798096, and b is -63.576154552546434\n",
      "This is the 160 time's iteration. The loss is 4.925252866196168. The k is 13.64511270363854, and b is -63.56920357340989\n",
      "This is the 161 time's iteration. The loss is 4.9250002002145505. The k is 13.64402023725004, and b is -63.562254265791026\n",
      "This is the 162 time's iteration. The loss is 4.924747594992085. The k is 13.642928033569405, and b is -63.5553066292879\n",
      "This is the 163 time's iteration. The loss is 4.924495050514168. The k is 13.64183609253346, and b is -63.54836066349864\n",
      "This is the 164 time's iteration. The loss is 4.924242566766201. The k is 13.640744414079048, and b is -63.5414163680215\n",
      "This is the 165 time's iteration. The loss is 4.923990143733566. The k is 13.639652998143026, and b is -63.534473742454814\n",
      "This is the 166 time's iteration. The loss is 4.923737781401668. The k is 13.638561844662263, and b is -63.52753278639701\n",
      "This is the 167 time's iteration. The loss is 4.923485479755915. The k is 13.637470953573647, and b is -63.520593499446626\n",
      "This is the 168 time's iteration. The loss is 4.923233238781708. The k is 13.636380324814082, and b is -63.51365588120228\n",
      "This is the 169 time's iteration. The loss is 4.922981058464457. The k is 13.635289958320485, and b is -63.5067199312627\n",
      "This is the 170 time's iteration. The loss is 4.922728938789578. The k is 13.634199854029784, and b is -63.4997856492267\n",
      "This is the 171 time's iteration. The loss is 4.922476879742497. The k is 13.63311001187893, and b is -63.4928530346932\n",
      "This is the 172 time's iteration. The loss is 4.92222488130861. The k is 13.632020431804886, and b is -63.4859220872612\n",
      "This is the 173 time's iteration. The loss is 4.921972943473369. The k is 13.630931113744628, and b is -63.478992806529824\n",
      "This is the 174 time's iteration. The loss is 4.921721066222188. The k is 13.62984205763515, and b is -63.47206519209827\n",
      "This is the 175 time's iteration. The loss is 4.921469249540494. The k is 13.62875326341346, and b is -63.46513924356584\n",
      "This is the 176 time's iteration. The loss is 4.921217493413728. The k is 13.62766473101658, and b is -63.458214960531926\n",
      "This is the 177 time's iteration. The loss is 4.920965797827335. The k is 13.62657646038155, and b is -63.451292342596034\n",
      "This is the 178 time's iteration. The loss is 4.920714162766742. The k is 13.625488451445422, and b is -63.44437138935774\n",
      "This is the 179 time's iteration. The loss is 4.920462588217402. The k is 13.624400704145266, and b is -63.43745210041674\n",
      "This is the 180 time's iteration. The loss is 4.920211074164777. The k is 13.623313218418167, and b is -63.430534475372816\n",
      "This is the 181 time's iteration. The loss is 4.9199596205942875. The k is 13.622225994201221, and b is -63.42361851382584\n",
      "This is the 182 time's iteration. The loss is 4.919708991082624. The k is 13.621139031431545, and b is -63.4167042153758\n",
      "This is the 183 time's iteration. The loss is 4.919460253278192. The k is 13.620052330046265, and b is -63.409791579622755\n",
      "This is the 184 time's iteration. The loss is 4.9192115752882914. The k is 13.618965889982528, and b is -63.402880606166875\n",
      "This is the 185 time's iteration. The loss is 4.918962957098552. The k is 13.61787971117749, and b is -63.39597129460843\n",
      "This is the 186 time's iteration. The loss is 4.918714398694601. The k is 13.61679379356833, and b is -63.38906364454777\n",
      "This is the 187 time's iteration. The loss is 4.918465900062046. The k is 13.615708137092236, and b is -63.38215765558535\n",
      "This is the 188 time's iteration. The loss is 4.918217461186517. The k is 13.61462274168641, and b is -63.37525332732174\n",
      "This is the 189 time's iteration. The loss is 4.917969082053653. The k is 13.613537607288075, and b is -63.36835065935757\n",
      "This is the 190 time's iteration. The loss is 4.917720762649076. The k is 13.612452733834466, and b is -63.36144965129359\n",
      "This is the 191 time's iteration. The loss is 4.917472502958437. The k is 13.611368121262831, and b is -63.354550302730644\n",
      "This is the 192 time's iteration. The loss is 4.917224302967359. The k is 13.610283769510438, and b is -63.34765261326966\n",
      "This is the 193 time's iteration. The loss is 4.9169761626614985. The k is 13.609199678514564, and b is -63.34075658251167\n",
      "This is the 194 time's iteration. The loss is 4.916728082026491. The k is 13.608115848212506, and b is -63.333862210057816\n",
      "This is the 195 time's iteration. The loss is 4.916480061048005. The k is 13.607032278541574, and b is -63.32696949550931\n",
      "This is the 196 time's iteration. The loss is 4.9162320997116815. The k is 13.605948969439094, and b is -63.32007843846747\n",
      "This is the 197 time's iteration. The loss is 4.915984198003183. The k is 13.604865920842405, and b is -63.313189038533714\n",
      "This is the 198 time's iteration. The loss is 4.91573635590817. The k is 13.603783132688864, and b is -63.30630129530956\n",
      "This is the 199 time's iteration. The loss is 4.915488573412306. The k is 13.60270060491584, and b is -63.2994152083966\n",
      "This is the 200 time's iteration. The loss is 4.915240850501254. The k is 13.601618337460723, and b is -63.29253077739656\n",
      "This is the 201 time's iteration. The loss is 4.914993187160701. The k is 13.600536330260908, and b is -63.28564800191122\n",
      "This is the 202 time's iteration. The loss is 4.914745583376311. The k is 13.599454583253815, and b is -63.27876688154248\n",
      "This is the 203 time's iteration. The loss is 4.914498039133757. The k is 13.598373096376873, and b is -63.27188741589233\n",
      "This is the 204 time's iteration. The loss is 4.914250554418729. The k is 13.597291869567528, and b is -63.265009604562856\n",
      "This is the 205 time's iteration. The loss is 4.914003129216911. The k is 13.596210902763241, and b is -63.25813344715624\n"
     ]
    },
    {
     "name": "stdout",
     "output_type": "stream",
     "text": [
      "This is the 206 time's iteration. The loss is 4.913755763513998. The k is 13.595130195901488, and b is -63.25125894327476\n",
      "This is the 207 time's iteration. The loss is 4.913508457295665. The k is 13.594049748919762, and b is -63.24438609252079\n",
      "This is the 208 time's iteration. The loss is 4.9132612105476205. The k is 13.592969561755565, and b is -63.237514894496805\n",
      "This is the 209 time's iteration. The loss is 4.913014023255569. The k is 13.591889634346423, and b is -63.23064534880535\n",
      "This is the 210 time's iteration. The loss is 4.912766895405197. The k is 13.590809966629868, and b is -63.22377745504911\n",
      "This is the 211 time's iteration. The loss is 4.91251982698222. The k is 13.589730558543453, and b is -63.21691121283082\n",
      "This is the 212 time's iteration. The loss is 4.912272817972354. The k is 13.588651410024744, and b is -63.21004662175334\n",
      "This is the 213 time's iteration. The loss is 4.912025868361296. The k is 13.587572521011321, and b is -63.20318368141962\n",
      "This is the 214 time's iteration. The loss is 4.911778978134767. The k is 13.586493891440782, and b is -63.19632239143269\n",
      "This is the 215 time's iteration. The loss is 4.911532147278494. The k is 13.585415521250738, and b is -63.189462751395695\n",
      "This is the 216 time's iteration. The loss is 4.911285375778198. The k is 13.584337410378813, and b is -63.182604760911865\n",
      "This is the 217 time's iteration. The loss is 4.911038663619593. The k is 13.583259558762652, and b is -63.17574841958453\n",
      "This is the 218 time's iteration. The loss is 4.910792010788432. The k is 13.582181966339906, and b is -63.168893727017114\n",
      "This is the 219 time's iteration. The loss is 4.910545417270433. The k is 13.58110463304825, and b is -63.162040682813135\n",
      "This is the 220 time's iteration. The loss is 4.910298883051326. The k is 13.580027558825371, and b is -63.15518928657621\n",
      "This is the 221 time's iteration. The loss is 4.910052408116869. The k is 13.578950743608967, and b is -63.14833953791005\n",
      "This is the 222 time's iteration. The loss is 4.9098059924528. The k is 13.577874187336755, and b is -63.14149143641845\n",
      "This is the 223 time's iteration. The loss is 4.909559636044857. The k is 13.576797889946468, and b is -63.13464498170532\n",
      "This is the 224 time's iteration. The loss is 4.909313338878798. The k is 13.57572185137585, and b is -63.12780017337465\n",
      "This is the 225 time's iteration. The loss is 4.90906710094038. The k is 13.574646071562663, and b is -63.12095701103054\n",
      "This is the 226 time's iteration. The loss is 4.908820922215353. The k is 13.573570550444682, and b is -63.114115494277165\n",
      "This is the 227 time's iteration. The loss is 4.9085748026894835. The k is 13.5724952879597, and b is -63.10727562271881\n",
      "This is the 228 time's iteration. The loss is 4.908328742348532. The k is 13.571420284045521, and b is -63.10043739595985\n",
      "This is the 229 time's iteration. The loss is 4.908082741178261. The k is 13.570345538639968, and b is -63.09360081360476\n",
      "This is the 230 time's iteration. The loss is 4.907836799164459. The k is 13.569271051680873, and b is -63.0867658752581\n",
      "This is the 231 time's iteration. The loss is 4.907590916292891. The k is 13.56819682310609, and b is -63.07993258052454\n",
      "This is the 232 time's iteration. The loss is 4.907345092549327. The k is 13.567122852853485, and b is -63.07310092900883\n",
      "This is the 233 time's iteration. The loss is 4.907099327919558. The k is 13.566049140860937, and b is -63.06627092031582\n",
      "This is the 234 time's iteration. The loss is 4.906853622389363. The k is 13.564975687066342, and b is -63.05944255405047\n",
      "This is the 235 time's iteration. The loss is 4.9066079759445325. The k is 13.563902491407612, and b is -63.0526158298178\n",
      "This is the 236 time's iteration. The loss is 4.906362388570861. The k is 13.56282955382267, and b is -63.045790747222966\n",
      "This is the 237 time's iteration. The loss is 4.90611686025414. The k is 13.561756874249458, and b is -63.03896730587119\n",
      "This is the 238 time's iteration. The loss is 4.905871390980174. The k is 13.56068445262593, and b is -63.0321455053678\n",
      "This is the 239 time's iteration. The loss is 4.905625980734751. The k is 13.559612288890058, and b is -63.02532534531822\n",
      "This is the 240 time's iteration. The loss is 4.905380629503692. The k is 13.558540382979826, and b is -63.01850682532797\n",
      "This is the 241 time's iteration. The loss is 4.905135337272797. The k is 13.557468734833236, and b is -63.01168994500265\n",
      "This is the 242 time's iteration. The loss is 4.904890104027878. The k is 13.556397344388301, and b is -63.004874703947976\n",
      "This is the 243 time's iteration. The loss is 4.904644929754754. The k is 13.555326211583052, and b is -62.99806110176974\n",
      "This is the 244 time's iteration. The loss is 4.904399814439243. The k is 13.554255336355533, and b is -62.99124913807385\n",
      "This is the 245 time's iteration. The loss is 4.904154758067165. The k is 13.553184718643802, and b is -62.98443881246629\n",
      "This is the 246 time's iteration. The loss is 4.903909760624351. The k is 13.552114358385937, and b is -62.97763012455314\n",
      "This is the 247 time's iteration. The loss is 4.903664822096622. The k is 13.551044255520027, and b is -62.97082307394058\n",
      "This is the 248 time's iteration. The loss is 4.903419942469816. The k is 13.549974409984175, and b is -62.964017660234894\n",
      "This is the 249 time's iteration. The loss is 4.903175121729771. The k is 13.5489048217165, and b is -62.95721388304245\n",
      "This is the 250 time's iteration. The loss is 4.902930359862325. The k is 13.547835490655137, and b is -62.9504117419697\n",
      "This is the 251 time's iteration. The loss is 4.902685656853318. The k is 13.546766416738235, and b is -62.94361123662322\n",
      "This is the 252 time's iteration. The loss is 4.902441012688595. The k is 13.545697599903958, and b is -62.93681236660965\n",
      "This is the 253 time's iteration. The loss is 4.902196427354008. The k is 13.544629040090484, and b is -62.93001513153574\n",
      "This is the 254 time's iteration. The loss is 4.901951900835411. The k is 13.543560737236007, and b is -62.923219531008336\n",
      "This is the 255 time's iteration. The loss is 4.901707433118662. The k is 13.542492691278737, and b is -62.91642556463437\n",
      "This is the 256 time's iteration. The loss is 4.901463024189617. The k is 13.541424902156894, and b is -62.90963323202088\n",
      "This is the 257 time's iteration. The loss is 4.901218674034139. The k is 13.540357369808719, and b is -62.90284253277499\n",
      "This is the 258 time's iteration. The loss is 4.900974382638095. The k is 13.539290094172465, and b is -62.896053466503915\n",
      "This is the 259 time's iteration. The loss is 4.9007301499873535. The k is 13.538223075186398, and b is -62.88926603281497\n",
      "This is the 260 time's iteration. The loss is 4.9004859760678. The k is 13.5371563127888, and b is -62.882480231315576\n",
      "This is the 261 time's iteration. The loss is 4.900241860865295. The k is 13.536089806917973, and b is -62.875696061613226\n",
      "This is the 262 time's iteration. The loss is 4.899997804365727. The k is 13.535023557512227, and b is -62.86891352331552\n",
      "This is the 263 time's iteration. The loss is 4.899753806554979. The k is 13.533957564509889, and b is -62.86213261603015\n",
      "This is the 264 time's iteration. The loss is 4.899509867418937. The k is 13.5328918278493, and b is -62.85535333936491\n",
      "This is the 265 time's iteration. The loss is 4.899265986943485. The k is 13.531826347468819, and b is -62.84857569292767\n",
      "This is the 266 time's iteration. The loss is 4.899022165114523. The k is 13.530761123306815, and b is -62.84179967632641\n",
      "This is the 267 time's iteration. The loss is 4.898778401917956. The k is 13.529696155301679, and b is -62.8350252891692\n",
      "This is the 268 time's iteration. The loss is 4.898534697339672. The k is 13.52863144339181, and b is -62.82825253106421\n",
      "This is the 269 time's iteration. The loss is 4.898291051365584. The k is 13.527566987515623, and b is -62.821481401619685\n",
      "This is the 270 time's iteration. The loss is 4.898047463981593. The k is 13.52650278761155, and b is -62.81471190044399\n",
      "This is the 271 time's iteration. The loss is 4.897803935173602. The k is 13.525438843618037, and b is -62.80794402714556\n",
      "This is the 272 time's iteration. The loss is 4.897560464927548. The k is 13.524375155473544, and b is -62.801177781332946\n",
      "This is the 273 time's iteration. The loss is 4.897317053229332. The k is 13.523311723116548, and b is -62.794413162614774\n",
      "This is the 274 time's iteration. The loss is 4.897073700064873. The k is 13.522248546485535, and b is -62.787650170599775\n"
     ]
    },
    {
     "name": "stdout",
     "output_type": "stream",
     "text": [
      "This is the 275 time's iteration. The loss is 4.896830405420103. The k is 13.521185625519015, and b is -62.780888804896776\n",
      "This is the 276 time's iteration. The loss is 4.896587169280948. The k is 13.520122960155506, and b is -62.77412906511469\n",
      "This is the 277 time's iteration. The loss is 4.896343991633332. The k is 13.519060550333542, and b is -62.767370950862535\n",
      "This is the 278 time's iteration. The loss is 4.896100872463206. The k is 13.517998395991672, and b is -62.76061446174941\n",
      "This is the 279 time's iteration. The loss is 4.89585781175649. The k is 13.516936497068462, and b is -62.75385959738452\n",
      "This is the 280 time's iteration. The loss is 4.895614809499139. The k is 13.515874853502488, and b is -62.74710635737715\n",
      "This is the 281 time's iteration. The loss is 4.89537186567708. The k is 13.514813465232347, and b is -62.74035474133669\n",
      "This is the 282 time's iteration. The loss is 4.895128980276278. The k is 13.513752332196646, and b is -62.73360474887262\n",
      "This is the 283 time's iteration. The loss is 4.894886153282679. The k is 13.512691454334007, and b is -62.72685637959452\n",
      "This is the 284 time's iteration. The loss is 4.894643384682233. The k is 13.51163083158307, and b is -62.72010963311206\n",
      "This is the 285 time's iteration. The loss is 4.894400674460905. The k is 13.510570463882486, and b is -62.713364509034996\n",
      "This is the 286 time's iteration. The loss is 4.894158022604653. The k is 13.509510351170924, and b is -62.70662100697319\n",
      "This is the 287 time's iteration. The loss is 4.893915429099439. The k is 13.508450493387066, and b is -62.69987912653658\n",
      "This is the 288 time's iteration. The loss is 4.893672893931238. The k is 13.507390890469607, and b is -62.69313886733522\n",
      "This is the 289 time's iteration. The loss is 4.893430417086017. The k is 13.506331542357259, and b is -62.68640022897925\n",
      "This is the 290 time's iteration. The loss is 4.893187998549751. The k is 13.505272448988752, and b is -62.6796632110789\n",
      "This is the 291 time's iteration. The loss is 4.892945638308419. The k is 13.504213610302823, and b is -62.6729278132445\n",
      "This is the 292 time's iteration. The loss is 4.89270333634801. The k is 13.50315502623823, and b is -62.666194035086455\n",
      "This is the 293 time's iteration. The loss is 4.8924610926545. The k is 13.502096696733743, and b is -62.65946187621529\n",
      "This is the 294 time's iteration. The loss is 4.8922189072138655. The k is 13.501038621728148, and b is -62.65273133624161\n",
      "This is the 295 time's iteration. The loss is 4.891976780012125. The k is 13.499980801160245, and b is -62.646002414776106\n",
      "This is the 296 time's iteration. The loss is 4.891734711035263. The k is 13.498923234968847, and b is -62.63927511142958\n",
      "This is the 297 time's iteration. The loss is 4.891492700269266. The k is 13.497865923092787, and b is -62.63254942581292\n",
      "This is the 298 time's iteration. The loss is 4.891250747700151. The k is 13.496808865470905, and b is -62.6258253575371\n",
      "This is the 299 time's iteration. The loss is 4.891008853313912. The k is 13.495752062042063, and b is -62.6191029062132\n",
      "This is the 300 time's iteration. The loss is 4.890767017096575. The k is 13.494695512745134, and b is -62.61238207145239\n",
      "This is the 301 time's iteration. The loss is 4.890525239034133. The k is 13.493639217519004, and b is -62.60566285286592\n",
      "This is the 302 time's iteration. The loss is 4.89028351911261. The k is 13.49258317630258, and b is -62.59894525006516\n",
      "This is the 303 time's iteration. The loss is 4.890041857318021. The k is 13.491527389034777, and b is -62.59222926266155\n",
      "This is the 304 time's iteration. The loss is 4.889800253636395. The k is 13.490471855654528, and b is -62.58551489026663\n",
      "This is the 305 time's iteration. The loss is 4.8895587080537535. The k is 13.48941657610078, and b is -62.578802132492044\n",
      "This is the 306 time's iteration. The loss is 4.889317220556123. The k is 13.488361550312497, and b is -62.57209098894951\n",
      "This is the 307 time's iteration. The loss is 4.889075791129539. The k is 13.487306778228652, and b is -62.56538145925086\n",
      "This is the 308 time's iteration. The loss is 4.88883441976003. The k is 13.486252259788237, and b is -62.558673543008\n",
      "This is the 309 time's iteration. The loss is 4.8885931064336505. The k is 13.485197994930259, and b is -62.55196723983294\n",
      "This is the 310 time's iteration. The loss is 4.888351851136425. The k is 13.484143983593738, and b is -62.545262549337785\n",
      "This is the 311 time's iteration. The loss is 4.888110653854409. The k is 13.483090225717708, and b is -62.53855947113473\n",
      "This is the 312 time's iteration. The loss is 4.887869514573647. The k is 13.48203672124122, and b is -62.53185800483607\n",
      "This is the 313 time's iteration. The loss is 4.8876284332802005. The k is 13.480983470103338, and b is -62.525158150054175\n",
      "This is the 314 time's iteration. The loss is 4.887387409960112. The k is 13.479930472243142, and b is -62.518459906401525\n",
      "This is the 315 time's iteration. The loss is 4.88714644459945. The k is 13.478877727599725, and b is -62.511763273490686\n",
      "This is the 316 time's iteration. The loss is 4.886905537184274. The k is 13.477825236112194, and b is -62.50506825093432\n",
      "This is the 317 time's iteration. The loss is 4.88666468770065. The k is 13.476772997719674, and b is -62.498374838345185\n",
      "This is the 318 time's iteration. The loss is 4.886423896134647. The k is 13.475721012361303, and b is -62.49168303533613\n",
      "This is the 319 time's iteration. The loss is 4.886183162472335. The k is 13.474669279976231, and b is -62.48499284152009\n",
      "This is the 320 time's iteration. The loss is 4.885942486699789. The k is 13.473617800503627, and b is -62.4783042565101\n",
      "This is the 321 time's iteration. The loss is 4.885701868803092. The k is 13.472566573882672, and b is -62.471617279919286\n",
      "This is the 322 time's iteration. The loss is 4.8854613087683285. The k is 13.471515600052562, and b is -62.46493191136087\n",
      "This is the 323 time's iteration. The loss is 4.885220806581574. The k is 13.470464878952509, and b is -62.45824815044816\n",
      "This is the 324 time's iteration. The loss is 4.884980362228933. The k is 13.469414410521734, and b is -62.45156599679457\n",
      "This is the 325 time's iteration. The loss is 4.88473997569648. The k is 13.468364194699483, and b is -62.444885450013594\n",
      "This is the 326 time's iteration. The loss is 4.884499646970331. The k is 13.467314231425007, and b is -62.438206509718825\n",
      "This is the 327 time's iteration. The loss is 4.884259376036576. The k is 13.466264520637576, and b is -62.43152917552395\n",
      "This is the 328 time's iteration. The loss is 4.884019162881312. The k is 13.465215062276476, and b is -62.424853447042736\n",
      "This is the 329 time's iteration. The loss is 4.88377900749065. The k is 13.464165856281001, and b is -62.41817932388906\n",
      "This is the 330 time's iteration. The loss is 4.883538909850692. The k is 13.463116902590468, and b is -62.41150680567689\n",
      "This is the 331 time's iteration. The loss is 4.883298869947556. The k is 13.462068201144204, and b is -62.40483589202028\n",
      "This is the 332 time's iteration. The loss is 4.883058887767364. The k is 13.46101975188155, and b is -62.39816658253338\n",
      "This is the 333 time's iteration. The loss is 4.882818963296234. The k is 13.459971554741863, and b is -62.391498876830426\n",
      "This is the 334 time's iteration. The loss is 4.882579096520288. The k is 13.458923609664515, and b is -62.384832774525755\n",
      "This is the 335 time's iteration. The loss is 4.882339287425638. The k is 13.457875916588893, and b is -62.37816827523379\n",
      "This is the 336 time's iteration. The loss is 4.882099535998429. The k is 13.456828475454396, and b is -62.37150537856906\n",
      "This is the 337 time's iteration. The loss is 4.881859842224784. The k is 13.45578128620044, and b is -62.36484408414617\n",
      "This is the 338 time's iteration. The loss is 4.881620206090847. The k is 13.454734348766452, and b is -62.35818439157983\n",
      "This is the 339 time's iteration. The loss is 4.881380627582751. The k is 13.45368766309188, and b is -62.35152630048484\n",
      "This is the 340 time's iteration. The loss is 4.881141106686644. The k is 13.452641229116182, and b is -62.344869810476084\n",
      "This is the 341 time's iteration. The loss is 4.880901643388673. The k is 13.451595046778829, and b is -62.33821492116854\n",
      "This is the 342 time's iteration. The loss is 4.880662237674972. The k is 13.450549116019312, and b is -62.3315616321773\n"
     ]
    },
    {
     "name": "stdout",
     "output_type": "stream",
     "text": [
      "This is the 343 time's iteration. The loss is 4.880422889531711. The k is 13.449503436777132, and b is -62.32490994311752\n",
      "This is the 344 time's iteration. The loss is 4.880183598945041. The k is 13.448458008991807, and b is -62.31825985360447\n",
      "This is the 345 time's iteration. The loss is 4.87994436590113. The k is 13.447412832602867, and b is -62.31161136325349\n",
      "This is the 346 time's iteration. The loss is 4.879705190386116. The k is 13.44636790754986, and b is -62.30496447168004\n",
      "This is the 347 time's iteration. The loss is 4.879466072386177. The k is 13.445323233772344, and b is -62.298319178499646\n",
      "This is the 348 time's iteration. The loss is 4.8792270118874965. The k is 13.444278811209896, and b is -62.29167548332795\n",
      "This is the 349 time's iteration. The loss is 4.8789880088762265. The k is 13.443234639802109, and b is -62.28503338578067\n",
      "This is the 350 time's iteration. The loss is 4.878749063338557. The k is 13.44219071948858, and b is -62.27839288547362\n",
      "This is the 351 time's iteration. The loss is 4.878510175260657. The k is 13.441147050208935, and b is -62.271753982022716\n",
      "This is the 352 time's iteration. The loss is 4.878271344628721. The k is 13.440103631902803, and b is -62.26511667504395\n",
      "This is the 353 time's iteration. The loss is 4.878032571428918. The k is 13.439060464509833, and b is -62.258480964153414\n",
      "This is the 354 time's iteration. The loss is 4.87779385564745. The k is 13.438017547969686, and b is -62.2518468489673\n",
      "This is the 355 time's iteration. The loss is 4.877555197270516. The k is 13.43697488222204, and b is -62.24521432910188\n",
      "This is the 356 time's iteration. The loss is 4.8773165962842935. The k is 13.43593246720659, and b is -62.23858340417352\n",
      "This is the 357 time's iteration. The loss is 4.877078052674996. The k is 13.434890302863034, and b is -62.23195407379869\n",
      "This is the 358 time's iteration. The loss is 4.876839566428813. The k is 13.433848389131098, and b is -62.22532633759394\n",
      "This is the 359 time's iteration. The loss is 4.876601137531958. The k is 13.432806725950517, and b is -62.21870019517592\n",
      "This is the 360 time's iteration. The loss is 4.876362765970641. The k is 13.431765313261037, and b is -62.21207564616137\n",
      "This is the 361 time's iteration. The loss is 4.876124451731074. The k is 13.430724151002424, and b is -62.20545269016711\n",
      "This is the 362 time's iteration. The loss is 4.8758861947994685. The k is 13.429683239114457, and b is -62.198831326810065\n",
      "This is the 363 time's iteration. The loss is 4.8756479951620495. The k is 13.428642577536928, and b is -62.19221155570726\n",
      "This is the 364 time's iteration. The loss is 4.875409852805034. The k is 13.427602166209644, and b is -62.1855933764758\n",
      "This is the 365 time's iteration. The loss is 4.875171767714649. The k is 13.426562005072427, and b is -62.178976788732875\n",
      "This is the 366 time's iteration. The loss is 4.874933739877134. The k is 13.425522094065112, and b is -62.172361792095785\n",
      "This is the 367 time's iteration. The loss is 4.8746957692787065. The k is 13.424482433127551, and b is -62.16574838618191\n",
      "This is the 368 time's iteration. The loss is 4.874457855905601. The k is 13.42344302219961, and b is -62.15913657060872\n",
      "This is the 369 time's iteration. The loss is 4.874219999744074. The k is 13.422403861221166, and b is -62.152526344993795\n",
      "This is the 370 time's iteration. The loss is 4.873982200780355. The k is 13.421364950132117, and b is -62.145917708954784\n",
      "This is the 371 time's iteration. The loss is 4.87374445900068. The k is 13.420326288872369, and b is -62.13931066210944\n",
      "This is the 372 time's iteration. The loss is 4.873506774391315. The k is 13.419287877381844, and b is -62.132705204075606\n",
      "This is the 373 time's iteration. The loss is 4.873269146938509. The k is 13.418249715600481, and b is -62.126101334471215\n",
      "This is the 374 time's iteration. The loss is 4.873031576628508. The k is 13.417211803468232, and b is -62.1194990529143\n",
      "This is the 375 time's iteration. The loss is 4.872794063447591. The k is 13.416174140925062, and b is -62.11289835902297\n",
      "This is the 376 time's iteration. The loss is 4.872556607381997. The k is 13.415136727910953, and b is -62.10629925241545\n",
      "This is the 377 time's iteration. The loss is 4.872319208417998. The k is 13.4140995643659, and b is -62.099701732710024\n",
      "This is the 378 time's iteration. The loss is 4.872081866541868. The k is 13.41306265022991, and b is -62.0931057995251\n",
      "This is the 379 time's iteration. The loss is 4.8718445817398734. The k is 13.412025985443012, and b is -62.08651145247916\n",
      "This is the 380 time's iteration. The loss is 4.871607353998299. The k is 13.410989569945242, and b is -62.07991869119078\n",
      "This is the 381 time's iteration. The loss is 4.871370183303411. The k is 13.409953403676653, and b is -62.07332751527863\n",
      "This is the 382 time's iteration. The loss is 4.8711330696415. The k is 13.40891748657731, and b is -62.06673792436147\n",
      "This is the 383 time's iteration. The loss is 4.870896012998842. The k is 13.407881818587299, and b is -62.06014991805815\n",
      "This is the 384 time's iteration. The loss is 4.870659013361738. The k is 13.406846399646712, and b is -62.053563495987625\n",
      "This is the 385 time's iteration. The loss is 4.870422070716462. The k is 13.405811229695662, and b is -62.04697865776892\n",
      "This is the 386 time's iteration. The loss is 4.870185185049339. The k is 13.404776308674272, and b is -62.040395403021165\n",
      "This is the 387 time's iteration. The loss is 4.869948356346636. The k is 13.403741636522684, and b is -62.03381373136359\n",
      "This is the 388 time's iteration. The loss is 4.869711584594668. The k is 13.402707213181051, and b is -62.02723364241549\n",
      "This is the 389 time's iteration. The loss is 4.869474869779746. The k is 13.40167303858954, and b is -62.020655135796275\n",
      "This is the 390 time's iteration. The loss is 4.869238211888162. The k is 13.400639112688333, and b is -62.01407821112544\n",
      "This is the 391 time's iteration. The loss is 4.869001610906248. The k is 13.399605435417628, and b is -62.00750286802256\n",
      "This is the 392 time's iteration. The loss is 4.868765066820289. The k is 13.398572006717638, and b is -62.00092910610733\n",
      "This is the 393 time's iteration. The loss is 4.868528579616643. The k is 13.397538826528585, and b is -61.9943569249995\n",
      "This is the 394 time's iteration. The loss is 4.868292149281599. The k is 13.396505894790712, and b is -61.98778632431894\n",
      "This is the 395 time's iteration. The loss is 4.8680557758014915. The k is 13.395473211444271, and b is -61.9812173036856\n",
      "This is the 396 time's iteration. The loss is 4.867819459162658. The k is 13.394440776429532, and b is -61.97464986271952\n",
      "This is the 397 time's iteration. The loss is 4.867583199351414. The k is 13.393408589686777, and b is -61.96808400104083\n",
      "This is the 398 time's iteration. The loss is 4.867346996354104. The k is 13.392376651156304, and b is -61.96151971826976\n",
      "This is the 399 time's iteration. The loss is 4.867110850157067. The k is 13.391344960778428, and b is -61.95495701402663\n",
      "This is the 400 time's iteration. The loss is 4.8668747607466365. The k is 13.390313518493471, and b is -61.948395887931845\n",
      "This is the 401 time's iteration. The loss is 4.866638728109163. The k is 13.389282324241774, and b is -61.941836339605906\n",
      "This is the 402 time's iteration. The loss is 4.866402752230989. The k is 13.388251377963694, and b is -61.9352783686694\n",
      "This is the 403 time's iteration. The loss is 4.866166833098471. The k is 13.387220679599599, and b is -61.928721974743006\n",
      "This is the 404 time's iteration. The loss is 4.865930970697958. The k is 13.386190229089873, and b is -61.922167157447504\n",
      "This is the 405 time's iteration. The loss is 4.8656951650158105. The k is 13.385160026374914, and b is -61.91561391640375\n",
      "This is the 406 time's iteration. The loss is 4.865459416038391. The k is 13.384130071395132, and b is -61.909062251232704\n",
      "This is the 407 time's iteration. The loss is 4.865223723752064. The k is 13.383100364090957, and b is -61.902512161555414\n",
      "This is the 408 time's iteration. The loss is 4.8649880881431935. The k is 13.382070904402827, and b is -61.89596364699302\n",
      "This is the 409 time's iteration. The loss is 4.864752509198146. The k is 13.3810416922712, and b is -61.88941670716674\n",
      "This is the 410 time's iteration. The loss is 4.864516986903309. The k is 13.380012727636544, and b is -61.8828713416979\n"
     ]
    },
    {
     "name": "stdout",
     "output_type": "stream",
     "text": [
      "This is the 411 time's iteration. The loss is 4.864281521245051. The k is 13.378984010439341, and b is -61.87632755020791\n",
      "This is the 412 time's iteration. The loss is 4.8640461122097465. The k is 13.377955540620093, and b is -61.86978533231827\n",
      "This is the 413 time's iteration. The loss is 4.863810759783792. The k is 13.376927318119309, and b is -61.86324468765058\n",
      "This is the 414 time's iteration. The loss is 4.863575463953559. The k is 13.375899342877517, and b is -61.85670561582651\n",
      "This is the 415 time's iteration. The loss is 4.863340224705454. The k is 13.374871614835259, and b is -61.85016811646785\n",
      "This is the 416 time's iteration. The loss is 4.8631050420258575. The k is 13.373844133933089, and b is -61.843632189196455\n",
      "This is the 417 time's iteration. The loss is 4.862869915901181. The k is 13.372816900111577, and b is -61.83709783363429\n",
      "This is the 418 time's iteration. The loss is 4.862635187203532. The k is 13.371789913311307, and b is -61.8305650494034\n",
      "This is the 419 time's iteration. The loss is 4.862402198740821. The k is 13.370763173472879, and b is -61.82403383612591\n",
      "This is the 420 time's iteration. The loss is 4.862169266305367. The k is 13.369736680536905, and b is -61.81750419342407\n",
      "This is the 421 time's iteration. The loss is 4.861936389883709. The k is 13.368710434444008, and b is -61.81097612092019\n",
      "This is the 422 time's iteration. The loss is 4.861703569462367. The k is 13.367684435134834, and b is -61.804449618236674\n",
      "This is the 423 time's iteration. The loss is 4.86147080502788. The k is 13.366658682550035, and b is -61.79792468499604\n",
      "This is the 424 time's iteration. The loss is 4.861238096566787. The k is 13.365633176630283, and b is -61.79140132082087\n",
      "This is the 425 time's iteration. The loss is 4.861005444065621. The k is 13.36460791731626, and b is -61.78487952533384\n",
      "This is the 426 time's iteration. The loss is 4.860772847510924. The k is 13.363582904548664, and b is -61.778359298157746\n",
      "This is the 427 time's iteration. The loss is 4.860540306889255. The k is 13.362558138268211, and b is -61.771840638915435\n",
      "This is the 428 time's iteration. The loss is 4.860307822187148. The k is 13.361533618415624, and b is -61.76532354722987\n",
      "This is the 429 time's iteration. The loss is 4.860075393391171. The k is 13.360509344931645, and b is -61.75880802272409\n",
      "This is the 430 time's iteration. The loss is 4.859843020487869. The k is 13.359485317757027, and b is -61.75229406502124\n",
      "This is the 431 time's iteration. The loss is 4.859610703463805. The k is 13.358461536832545, and b is -61.74578167374454\n",
      "This is the 432 time's iteration. The loss is 4.859378442305544. The k is 13.357438002098977, and b is -61.739270848517315\n",
      "This is the 433 time's iteration. The loss is 4.859146236999647. The k is 13.356414713497125, and b is -61.732761588962966\n",
      "This is the 434 time's iteration. The loss is 4.858914087532688. The k is 13.355391670967798, and b is -61.726253894704996\n",
      "This is the 435 time's iteration. The loss is 4.858681993891238. The k is 13.354368874451824, and b is -61.719747765366996\n",
      "This is the 436 time's iteration. The loss is 4.858449956061866. The k is 13.353346323890044, and b is -61.71324320057265\n",
      "This is the 437 time's iteration. The loss is 4.85821797403116. The k is 13.35232401922331, and b is -61.70674019994572\n",
      "This is the 438 time's iteration. The loss is 4.857986047785697. The k is 13.351301960392496, and b is -61.70023876311007\n",
      "This is the 439 time's iteration. The loss is 4.857754177312062. The k is 13.350280147338482, and b is -61.693738889689655\n",
      "This is the 440 time's iteration. The loss is 4.857522362596849. The k is 13.349258580002166, and b is -61.687240579308515\n",
      "This is the 441 time's iteration. The loss is 4.857290603626636. The k is 13.34823725832446, and b is -61.68074383159078\n",
      "This is the 442 time's iteration. The loss is 4.857058900388035. The k is 13.347216182246289, and b is -61.67424864616068\n",
      "This is the 443 time's iteration. The loss is 4.856827252867632. The k is 13.346195351708595, and b is -61.66775502264252\n",
      "This is the 444 time's iteration. The loss is 4.856595661052039. The k is 13.34517476665233, and b is -61.6612629606607\n",
      "This is the 445 time's iteration. The loss is 4.85636412492785. The k is 13.344154427018463, and b is -61.65477245983972\n",
      "This is the 446 time's iteration. The loss is 4.856132644481673. The k is 13.343134332747978, and b is -61.64828351980417\n",
      "This is the 447 time's iteration. The loss is 4.855901219700126. The k is 13.342114483781872, and b is -61.64179614017871\n",
      "This is the 448 time's iteration. The loss is 4.855669850569822. The k is 13.341094880061155, and b is -61.63531032058812\n",
      "This is the 449 time's iteration. The loss is 4.855438537077382. The k is 13.34007552152685, and b is -61.628826060657246\n",
      "This is the 450 time's iteration. The loss is 4.855207279209411. The k is 13.339056408120003, and b is -61.62234336001104\n",
      "This is the 451 time's iteration. The loss is 4.8549760769525445. The k is 13.338037539781661, and b is -61.61586221827452\n",
      "This is the 452 time's iteration. The loss is 4.854744930293404. The k is 13.337018916452896, and b is -61.60938263507283\n",
      "This is the 453 time's iteration. The loss is 4.854513839218638. The k is 13.336000538074789, and b is -61.60290461003118\n",
      "This is the 454 time's iteration. The loss is 4.854282803714851. The k is 13.334982404588434, and b is -61.596428142774876\n",
      "This is the 455 time's iteration. The loss is 4.854051823768702. The k is 13.333964515934944, and b is -61.58995323292931\n",
      "This is the 456 time's iteration. The loss is 4.853820899366822. The k is 13.332946872055443, and b is -61.583479880119974\n",
      "This is the 457 time's iteration. The loss is 4.853590030495857. The k is 13.331929472891069, and b is -61.57700808397244\n",
      "This is the 458 time's iteration. The loss is 4.853359217142457. The k is 13.330912318382973, and b is -61.57053784411237\n",
      "This is the 459 time's iteration. The loss is 4.853128459293258. The k is 13.329895408472327, and b is -61.56406916016553\n",
      "This is the 460 time's iteration. The loss is 4.852897756934919. The k is 13.328878743100306, and b is -61.55760203175776\n",
      "This is the 461 time's iteration. The loss is 4.852667110054105. The k is 13.32786232220811, and b is -61.551136458514996\n",
      "This is the 462 time's iteration. The loss is 4.852436518637467. The k is 13.326846145736948, and b is -61.544672440063266\n",
      "This is the 463 time's iteration. The loss is 4.852205982671669. The k is 13.32583021362804, and b is -61.53820997602869\n",
      "This is the 464 time's iteration. The loss is 4.851975502143377. The k is 13.324814525822628, and b is -61.53174906603746\n",
      "This is the 465 time's iteration. The loss is 4.8517450770392525. The k is 13.32379908226196, and b is -61.525289709715885\n",
      "This is the 466 time's iteration. The loss is 4.851514707345985. The k is 13.322783882887304, and b is -61.518831906690345\n",
      "This is the 467 time's iteration. The loss is 4.851284393050238. The k is 13.321768927639939, and b is -61.51237565658732\n",
      "This is the 468 time's iteration. The loss is 4.851054134138687. The k is 13.320754216461161, and b is -61.50592095903337\n",
      "This is the 469 time's iteration. The loss is 4.850823930598019. The k is 13.319739749292276, and b is -61.499467813655144\n",
      "This is the 470 time's iteration. The loss is 4.850593782414915. The k is 13.318725526074608, and b is -61.4930162200794\n",
      "This is the 471 time's iteration. The loss is 4.850363689576071. The k is 13.317711546749493, and b is -61.486566177932964\n",
      "This is the 472 time's iteration. The loss is 4.850133652068165. The k is 13.316697811258281, and b is -61.48011768684277\n",
      "This is the 473 time's iteration. The loss is 4.84990366987791. The k is 13.315684319542337, and b is -61.473670746435815\n",
      "This is the 474 time's iteration. The loss is 4.849673742991987. The k is 13.31467107154304, and b is -61.46722535633922\n",
      "This is the 475 time's iteration. The loss is 4.849443871397093. The k is 13.313658067201784, and b is -61.46078151618017\n",
      "This is the 476 time's iteration. The loss is 4.84921405507996. The k is 13.312645306459974, and b is -61.45433922558595\n",
      "This is the 477 time's iteration. The loss is 4.848984294027262. The k is 13.311632789259033, and b is -61.44789848418392\n",
      "This is the 478 time's iteration. The loss is 4.848754588225728. The k is 13.310620515540394, and b is -61.44145929160157\n",
      "This is the 479 time's iteration. The loss is 4.848524937662067. The k is 13.309608485245509, and b is -61.43502164746643\n"
     ]
    },
    {
     "name": "stdout",
     "output_type": "stream",
     "text": [
      "This is the 480 time's iteration. The loss is 4.848295342323007. The k is 13.308596698315839, and b is -61.428585551406144\n",
      "This is the 481 time's iteration. The loss is 4.848065802195246. The k is 13.30758515469286, and b is -61.42215100304845\n",
      "This is the 482 time's iteration. The loss is 4.847836317265525. The k is 13.306573854318069, and b is -61.41571800202116\n",
      "This is the 483 time's iteration. The loss is 4.8476068875205645. The k is 13.305562797132966, and b is -61.40928654795219\n",
      "This is the 484 time's iteration. The loss is 4.847377512947094. The k is 13.304551983079074, and b is -61.402856640469544\n",
      "This is the 485 time's iteration. The loss is 4.847148193531854. The k is 13.303541412097927, and b is -61.3964282792013\n",
      "This is the 486 time's iteration. The loss is 4.84691892926156. The k is 13.30253108413107, and b is -61.39000146377565\n",
      "This is the 487 time's iteration. The loss is 4.846689720122968. The k is 13.301520999120067, and b is -61.38357619382084\n",
      "This is the 488 time's iteration. The loss is 4.846460566102811. The k is 13.300511157006492, and b is -61.37715246896525\n",
      "This is the 489 time's iteration. The loss is 4.846231467187846. The k is 13.299501557731935, and b is -61.37073028883731\n",
      "This is the 490 time's iteration. The loss is 4.846002423364817. The k is 13.298492201238002, and b is -61.36430965306556\n",
      "This is the 491 time's iteration. The loss is 4.845773434620473. The k is 13.29748308746631, and b is -61.35789056127863\n",
      "This is the 492 time's iteration. The loss is 4.84554450094157. The k is 13.296474216358488, and b is -61.351473013105235\n",
      "This is the 493 time's iteration. The loss is 4.845315622314871. The k is 13.295465587856189, and b is -61.34505700817417\n",
      "This is the 494 time's iteration. The loss is 4.845086798727136. The k is 13.294457201901066, and b is -61.33864254611434\n",
      "This is the 495 time's iteration. The loss is 4.8448625963376175. The k is 13.293449058434799, and b is -61.33222962655472\n",
      "This is the 496 time's iteration. The loss is 4.844647812979076. The k is 13.292441157399072, and b is -61.32581824912438\n",
      "This is the 497 time's iteration. The loss is 4.844434686567007. The k is 13.291433498735588, and b is -61.319408413452486\n",
      "This is the 498 time's iteration. The loss is 4.844221611405923. The k is 13.290426082386064, and b is -61.31300011916829\n",
      "This is the 499 time's iteration. The loss is 4.84400858748351. The k is 13.28941890829223, and b is -61.306593365901115\n",
      "This is the 500 time's iteration. The loss is 4.843795614787438. The k is 13.28841197639583, and b is -61.3001881532804\n",
      "This is the 501 time's iteration. The loss is 4.843582693305396. The k is 13.287405286638622, and b is -61.29378448093567\n",
      "This is the 502 time's iteration. The loss is 4.843369823025065. The k is 13.286398838962379, and b is -61.28738234849652\n",
      "This is the 503 time's iteration. The loss is 4.843157003934131. The k is 13.285392633308888, and b is -61.28098175559265\n",
      "This is the 504 time's iteration. The loss is 4.8429442360202835. The k is 13.284386669619947, and b is -61.274582701853845\n",
      "This is the 505 time's iteration. The loss is 4.84273151927122. The k is 13.28338094783737, and b is -61.268185186909975\n",
      "This is the 506 time's iteration. The loss is 4.842518853674634. The k is 13.28237546790299, and b is -61.26178921039101\n",
      "This is the 507 time's iteration. The loss is 4.8423062392182254. The k is 13.281370229758643, and b is -61.25539477192699\n",
      "This is the 508 time's iteration. The loss is 4.842093675889697. The k is 13.280365233346188, and b is -61.24900187114806\n",
      "This is the 509 time's iteration. The loss is 4.841881163676749. The k is 13.279360478607495, and b is -61.242610507684454\n",
      "This is the 510 time's iteration. The loss is 4.841668702567103. The k is 13.27835596548445, and b is -61.236220681166486\n",
      "This is the 511 time's iteration. The loss is 4.841456292548453. The k is 13.277351693918948, and b is -61.22983239122457\n",
      "This is the 512 time's iteration. The loss is 4.841243933608528. The k is 13.276347663852905, and b is -61.22344563748919\n",
      "This is the 513 time's iteration. The loss is 4.841031625735028. The k is 13.275343875228241, and b is -61.21706041959094\n",
      "This is the 514 time's iteration. The loss is 4.840819368915687. The k is 13.274340327986902, and b is -61.2106767371605\n",
      "This is the 515 time's iteration. The loss is 4.840607163138227. The k is 13.27333702207084, and b is -61.20429458982861\n",
      "This is the 516 time's iteration. The loss is 4.840395008390368. The k is 13.272333957422022, and b is -61.19791397722614\n",
      "This is the 517 time's iteration. The loss is 4.840182904659845. The k is 13.27133113398243, and b is -61.19153489898403\n",
      "This is the 518 time's iteration. The loss is 4.839970851934381. The k is 13.270328551694062, and b is -61.1851573547333\n",
      "This is the 519 time's iteration. The loss is 4.8397588502017195. The k is 13.269326210498926, and b is -61.17878134410507\n",
      "This is the 520 time's iteration. The loss is 4.839546899449589. The k is 13.268324110339044, and b is -61.17240686673055\n",
      "This is the 521 time's iteration. The loss is 4.839334999665746. The k is 13.267322251156457, and b is -61.166033922241034\n",
      "This is the 522 time's iteration. The loss is 4.839123150837916. The k is 13.266320632893216, and b is -61.15966251026791\n",
      "This is the 523 time's iteration. The loss is 4.838911352953855. The k is 13.265319255491386, and b is -61.153292630442635\n",
      "This is the 524 time's iteration. The loss is 4.83869960600131. The k is 13.264318118893046, and b is -61.14692428239679\n",
      "This is the 525 time's iteration. The loss is 4.838487909968034. The k is 13.263317223040291, and b is -61.14055746576201\n",
      "This is the 526 time's iteration. The loss is 4.838276264841783. The k is 13.262316567875226, and b is -61.13419218017004\n",
      "This is the 527 time's iteration. The loss is 4.838064670610313. The k is 13.261316153339974, and b is -61.1278284252527\n",
      "This is the 528 time's iteration. The loss is 4.837853127261392. The k is 13.260315979376669, and b is -61.12146620064191\n",
      "This is the 529 time's iteration. The loss is 4.837641634782769. The k is 13.259316045927463, and b is -61.11510550596968\n",
      "This is the 530 time's iteration. The loss is 4.837430193162231. The k is 13.258316352934514, and b is -61.108746340868095\n",
      "This is the 531 time's iteration. The loss is 4.83721880238753. The k is 13.257316900340005, and b is -61.102388704969336\n",
      "This is the 532 time's iteration. The loss is 4.837007462446454. The k is 13.256317688086122, and b is -61.09603259790567\n",
      "This is the 533 time's iteration. The loss is 4.836796173326774. The k is 13.255318716115072, and b is -61.08967801930945\n",
      "This is the 534 time's iteration. The loss is 4.836584935016259. The k is 13.254319984369072, and b is -61.08332496881314\n",
      "This is the 535 time's iteration. The loss is 4.836373747502704. The k is 13.253321492790358, and b is -61.07697344604926\n",
      "This is the 536 time's iteration. The loss is 4.836162610773887. The k is 13.252323241321172, and b is -61.07062345065044\n",
      "This is the 537 time's iteration. The loss is 4.835951524817596. The k is 13.251325229903777, and b is -61.06427498224938\n",
      "This is the 538 time's iteration. The loss is 4.835740489621621. The k is 13.250327458480447, and b is -61.05792804047889\n",
      "This is the 539 time's iteration. The loss is 4.8355295051737635. The k is 13.24932992699347, and b is -61.05158262497186\n",
      "This is the 540 time's iteration. The loss is 4.835318571461803. The k is 13.248332635385147, and b is -61.04523873536125\n",
      "This is the 541 time's iteration. The loss is 4.835107688473556. The k is 13.247335583597794, and b is -61.03889637128014\n",
      "This is the 542 time's iteration. The loss is 4.834896856196826. The k is 13.246338771573742, and b is -61.03255553236167\n",
      "This is the 543 time's iteration. The loss is 4.834686074619401. The k is 13.245342199255333, and b is -61.02621621823909\n",
      "This is the 544 time's iteration. The loss is 4.8344753437291. The k is 13.244345866584926, and b is -61.01987842854573\n",
      "This is the 545 time's iteration. The loss is 4.834264663513737. The k is 13.24334977350489, and b is -61.013542162915\n",
      "This is the 546 time's iteration. The loss is 4.834054033961122. The k is 13.242353919957614, and b is -61.007207420980414\n",
      "This is the 547 time's iteration. The loss is 4.833843455059066. The k is 13.241358305885493, and b is -61.000874202375556\n"
     ]
    },
    {
     "name": "stdout",
     "output_type": "stream",
     "text": [
      "This is the 548 time's iteration. The loss is 4.8336329267954055. The k is 13.24036293123094, and b is -60.99454250673411\n",
      "This is the 549 time's iteration. The loss is 4.8334224491579425. The k is 13.239367795936387, and b is -60.98821233368985\n",
      "This is the 550 time's iteration. The loss is 4.8332120221345205. The k is 13.238372899944268, and b is -60.981883682876635\n",
      "This is the 551 time's iteration. The loss is 4.833001645712962. The k is 13.237378243197043, and b is -60.9755565539284\n",
      "This is the 552 time's iteration. The loss is 4.832791319881092. The k is 13.236383825637175, and b is -60.969230946479186\n",
      "This is the 553 time's iteration. The loss is 4.832581044626756. The k is 13.23538964720715, and b is -60.962906860163116\n",
      "This is the 554 time's iteration. The loss is 4.832370819937782. The k is 13.23439570784946, and b is -60.956584294614395\n",
      "This is the 555 time's iteration. The loss is 4.832160645802016. The k is 13.23340200750662, and b is -60.950263249467326\n",
      "This is the 556 time's iteration. The loss is 4.831950522207298. The k is 13.23240854612115, and b is -60.94394372435629\n",
      "This is the 557 time's iteration. The loss is 4.83174044914148. The k is 13.231415323635588, and b is -60.93762571891576\n",
      "This is the 558 time's iteration. The loss is 4.831530426592407. The k is 13.230422339992485, and b is -60.9313092327803\n",
      "This is the 559 time's iteration. The loss is 4.831320454547929. The k is 13.229429595134405, and b is -60.92499426558456\n",
      "This is the 560 time's iteration. The loss is 4.831110532995909. The k is 13.228437089003931, and b is -60.918680816963274\n",
      "This is the 561 time's iteration. The loss is 4.830900661924193. The k is 13.227444821543651, and b is -60.91236888655127\n",
      "This is the 562 time's iteration. The loss is 4.830690841320656. The k is 13.226452792696174, and b is -60.906058473983464\n",
      "This is the 563 time's iteration. The loss is 4.830481071173156. The k is 13.225461002404119, and b is -60.89974957889485\n",
      "This is the 564 time's iteration. The loss is 4.830271351469553. The k is 13.22446945061012, and b is -60.89344220092052\n",
      "This is the 565 time's iteration. The loss is 4.830061682197723. The k is 13.223478137256826, and b is -60.887136339695644\n",
      "This is the 566 time's iteration. The loss is 4.829852063345534. The k is 13.222487062286898, and b is -60.88083199485549\n",
      "This is the 567 time's iteration. The loss is 4.8296424949008685. The k is 13.221496225643012, and b is -60.874529166035416\n",
      "This is the 568 time's iteration. The loss is 4.829432976851601. The k is 13.220505627267856, and b is -60.86822785287085\n",
      "This is the 569 time's iteration. The loss is 4.829223509185614. The k is 13.219515267104134, and b is -60.86192805499733\n",
      "This is the 570 time's iteration. The loss is 4.829014091890789. The k is 13.218525145094562, and b is -60.855629772050456\n",
      "This is the 571 time's iteration. The loss is 4.828804724955019. The k is 13.21753526118187, and b is -60.84933300366594\n",
      "This is the 572 time's iteration. The loss is 4.828595408366183. The k is 13.216545615308805, and b is -60.84303774947957\n",
      "This is the 573 time's iteration. The loss is 4.828386142112187. The k is 13.215556207418121, and b is -60.83674400912723\n",
      "This is the 574 time's iteration. The loss is 4.828176926180911. The k is 13.214567037452593, and b is -60.83045178224488\n",
      "This is the 575 time's iteration. The loss is 4.827967760560278. The k is 13.213578105355007, and b is -60.82416106846856\n",
      "This is the 576 time's iteration. The loss is 4.827758645238159. The k is 13.212589411068159, and b is -60.817871867434434\n",
      "This is the 577 time's iteration. The loss is 4.827549580202491. The k is 13.211600954534864, and b is -60.81158417877871\n",
      "This is the 578 time's iteration. The loss is 4.827340565441159. The k is 13.21061273569795, and b is -60.80529800213771\n",
      "This is the 579 time's iteration. The loss is 4.8271316009420735. The k is 13.209624754500258, and b is -60.799013337147834\n",
      "This is the 580 time's iteration. The loss is 4.826922686693166. The k is 13.208637010884638, and b is -60.79273018344558\n",
      "This is the 581 time's iteration. The loss is 4.826713822682334. The k is 13.207649504793963, and b is -60.786448540667514\n",
      "This is the 582 time's iteration. The loss is 4.826505008897498. The k is 13.206662236171113, and b is -60.78016840845031\n",
      "This is the 583 time's iteration. The loss is 4.826296245326595. The k is 13.205675204958983, and b is -60.77388978643071\n",
      "This is the 584 time's iteration. The loss is 4.826087531957531. The k is 13.20468841110048, and b is -60.76761267424556\n",
      "This is the 585 time's iteration. The loss is 4.825878868778253. The k is 13.203701854538533, and b is -60.76133707153179\n",
      "This is the 586 time's iteration. The loss is 4.825670255776676. The k is 13.202715535216075, and b is -60.75506297792641\n",
      "This is the 587 time's iteration. The loss is 4.825461692940748. The k is 13.201729453076059, and b is -60.748790393066514\n",
      "This is the 588 time's iteration. The loss is 4.825253180258386. The k is 13.200743608061444, and b is -60.7425193165893\n",
      "This is the 589 time's iteration. The loss is 4.825044717717543. The k is 13.199758000115212, and b is -60.736249748132046\n",
      "This is the 590 time's iteration. The loss is 4.824836305306167. The k is 13.198772629180356, and b is -60.729981687332106\n",
      "This is the 591 time's iteration. The loss is 4.8246279430121914. The k is 13.197787495199876, and b is -60.723715133826936\n",
      "This is the 592 time's iteration. The loss is 4.824419630823564. The k is 13.196802598116795, and b is -60.71745008725407\n",
      "This is the 593 time's iteration. The loss is 4.824211368728247. The k is 13.195817937874146, and b is -60.71118654725114\n",
      "This is the 594 time's iteration. The loss is 4.824003156714178. The k is 13.194833514414974, and b is -60.70492451345585\n",
      "This is the 595 time's iteration. The loss is 4.823794994769326. The k is 13.19384932768234, and b is -60.698663985506\n",
      "This is the 596 time's iteration. The loss is 4.823586882881656. The k is 13.192865377619317, and b is -60.69240496303948\n",
      "This is the 597 time's iteration. The loss is 4.823378821039119. The k is 13.191881664168992, and b is -60.68614744569426\n",
      "This is the 598 time's iteration. The loss is 4.8231708092296826. The k is 13.190898187274469, and b is -60.6798914331084\n",
      "This is the 599 time's iteration. The loss is 4.82296284744131. The k is 13.18991494687886, and b is -60.67363692492005\n",
      "This is the 600 time's iteration. The loss is 4.822754935661997. The k is 13.188931942925294, and b is -60.667383920767435\n",
      "This is the 601 time's iteration. The loss is 4.8225470738796865. The k is 13.187949175356914, and b is -60.66113242028889\n",
      "This is the 602 time's iteration. The loss is 4.822339262082372. The k is 13.186966644116877, and b is -60.65488242312281\n",
      "This is the 603 time's iteration. The loss is 4.822131500258029. The k is 13.18598434914835, and b is -60.64863392890769\n",
      "This is the 604 time's iteration. The loss is 4.8219237883946455. The k is 13.185002290394518, and b is -60.642386937282126\n",
      "This is the 605 time's iteration. The loss is 4.821716126480201. The k is 13.184020467798577, and b is -60.636141447884775\n",
      "This is the 606 time's iteration. The loss is 4.821508514502691. The k is 13.183038881303737, and b is -60.6298974603544\n",
      "This is the 607 time's iteration. The loss is 4.821300952450102. The k is 13.182057530853225, and b is -60.62365497432984\n",
      "This is the 608 time's iteration. The loss is 4.821093440310427. The k is 13.181076416390278, and b is -60.61741398945002\n",
      "This is the 609 time's iteration. The loss is 4.820885978071666. The k is 13.180095537858145, and b is -60.611174505353965\n",
      "This is the 610 time's iteration. The loss is 4.820678565721817. The k is 13.179114895200094, and b is -60.60493652168077\n",
      "This is the 611 time's iteration. The loss is 4.8204712032488946. The k is 13.178134488359401, and b is -60.59870003806963\n",
      "This is the 612 time's iteration. The loss is 4.82026389064089. The k is 13.177154317279362, and b is -60.592465054159824\n",
      "This is the 613 time's iteration. The loss is 4.820056627885821. The k is 13.17617438190328, and b is -60.58623156959071\n",
      "This is the 614 time's iteration. The loss is 4.819849414971692. The k is 13.175194682174476, and b is -60.57999958400174\n",
      "This is the 615 time's iteration. The loss is 4.8196422518865205. The k is 13.174215218036284, and b is -60.573769097032454\n"
     ]
    },
    {
     "name": "stdout",
     "output_type": "stream",
     "text": [
      "This is the 616 time's iteration. The loss is 4.819435138618332. The k is 13.173235989432051, and b is -60.56754010832247\n",
      "This is the 617 time's iteration. The loss is 4.81922807515513. The k is 13.172256996305137, and b is -60.5613126175115\n",
      "This is the 618 time's iteration. The loss is 4.819021061484949. The k is 13.171278238598916, and b is -60.55508662423934\n",
      "This is the 619 time's iteration. The loss is 4.818814097595817. The k is 13.170299716256775, and b is -60.54886212814588\n",
      "This is the 620 time's iteration. The loss is 4.81860718347576. The k is 13.169321429222117, and b is -60.54263912887108\n",
      "This is the 621 time's iteration. The loss is 4.81840031911281. The k is 13.168343377438358, and b is -60.536417626055005\n",
      "This is the 622 time's iteration. The loss is 4.8181935044949995. The k is 13.167365560848923, and b is -60.5301976193378\n",
      "This is the 623 time's iteration. The loss is 4.817986739610373. The k is 13.166387979397259, and b is -60.52397910835968\n",
      "This is the 624 time's iteration. The loss is 4.817780024446959. The k is 13.165410633026818, and b is -60.517762092760975\n",
      "This is the 625 time's iteration. The loss is 4.817573358992814. The k is 13.16443352168107, and b is -60.511546572182084\n",
      "This is the 626 time's iteration. The loss is 4.8173667432359775. The k is 13.163456645303501, and b is -60.505332546263496\n",
      "This is the 627 time's iteration. The loss is 4.8171601771645. The k is 13.162480003837606, and b is -60.49912001464578\n",
      "This is the 628 time's iteration. The loss is 4.816953660766433. The k is 13.161503597226893, and b is -60.492908976969616\n",
      "This is the 629 time's iteration. The loss is 4.816747194029834. The k is 13.16052742541489, and b is -60.48669943287574\n",
      "This is the 630 time's iteration. The loss is 4.81654077694275. The k is 13.159551488345132, and b is -60.480491382004985\n",
      "This is the 631 time's iteration. The loss is 4.816334409493264. The k is 13.158575785961169, and b is -60.474284823998275\n",
      "This is the 632 time's iteration. The loss is 4.816128091669415. The k is 13.157600318206569, and b is -60.468079758496614\n",
      "This is the 633 time's iteration. The loss is 4.815921823459282. The k is 13.156625085024906, and b is -60.4618761851411\n",
      "This is the 634 time's iteration. The loss is 4.815715604850934. The k is 13.155650086359774, and b is -60.45567410357292\n",
      "This is the 635 time's iteration. The loss is 4.8155094358324355. The k is 13.154675322154777, and b is -60.449473513433325\n",
      "This is the 636 time's iteration. The loss is 4.815303316391875. The k is 13.153700792353536, and b is -60.44327441436368\n",
      "This is the 637 time's iteration. The loss is 4.815097672493727. The k is 13.152726496899682, and b is -60.43707680600542\n",
      "This is the 638 time's iteration. The loss is 4.814894512301698. The k is 13.151752435736862, and b is -60.43088068800007\n",
      "This is the 639 time's iteration. The loss is 4.814691400964071. The k is 13.150778608808734, and b is -60.42468605998925\n",
      "This is the 640 time's iteration. The loss is 4.814488338469079. The k is 13.149805016058972, and b is -60.41849292161464\n",
      "This is the 641 time's iteration. The loss is 4.814285324804984. The k is 13.148831657431261, and b is -60.412301272518036\n",
      "This is the 642 time's iteration. The loss is 4.814082359960046. The k is 13.147858532869304, and b is -60.40611111234131\n",
      "This is the 643 time's iteration. The loss is 4.813879443922529. The k is 13.146885642316812, and b is -60.39992244072641\n",
      "This is the 644 time's iteration. The loss is 4.81367657668068. The k is 13.145912985717514, and b is -60.39373525731538\n",
      "This is the 645 time's iteration. The loss is 4.813473758222781. The k is 13.14494056301515, and b is -60.38754956175035\n",
      "This is the 646 time's iteration. The loss is 4.813270988537092. The k is 13.143968374153474, and b is -60.38136535367353\n",
      "This is the 647 time's iteration. The loss is 4.813068267611899. The k is 13.142996419076255, and b is -60.37518263272723\n",
      "This is the 648 time's iteration. The loss is 4.8128655954354596. The k is 13.142024697727273, and b is -60.369001398553834\n",
      "This is the 649 time's iteration. The loss is 4.81266297199606. The k is 13.141053210050323, and b is -60.36282165079581\n",
      "This is the 650 time's iteration. The loss is 4.8124620668702205. The k is 13.140081955989215, and b is -60.356643389095716\n",
      "This is the 651 time's iteration. The loss is 4.812263270977794. The k is 13.139110935487768, and b is -60.350466613096195\n",
      "This is the 652 time's iteration. The loss is 4.812064522890256. The k is 13.13814014848982, and b is -60.34429132243998\n",
      "This is the 653 time's iteration. The loss is 4.811865822596122. The k is 13.137169594939218, and b is -60.33811751676989\n",
      "This is the 654 time's iteration. The loss is 4.811667170083911. The k is 13.136199274779825, and b is -60.33194519572883\n",
      "This is the 655 time's iteration. The loss is 4.811468565342102. The k is 13.135229187955519, and b is -60.32577435895978\n",
      "This is the 656 time's iteration. The loss is 4.811270008359234. The k is 13.134259334410187, and b is -60.31960500610581\n",
      "This is the 657 time's iteration. The loss is 4.811071499123808. The k is 13.13328971408773, and b is -60.31343713681009\n",
      "This is the 658 time's iteration. The loss is 4.81087303762435. The k is 13.132320326932069, and b is -60.30727075071586\n",
      "This is the 659 time's iteration. The loss is 4.810674623849375. The k is 13.131351172887133, and b is -60.301105847466445\n",
      "This is the 660 time's iteration. The loss is 4.810476257787413. The k is 13.13038225189686, and b is -60.294942426705276\n",
      "This is the 661 time's iteration. The loss is 4.810277939426994. The k is 13.129413563905214, and b is -60.288780488075844\n",
      "This is the 662 time's iteration. The loss is 4.810079668756634. The k is 13.128445108856159, and b is -60.28262003122175\n",
      "This is the 663 time's iteration. The loss is 4.809881445764868. The k is 13.127476886693684, and b is -60.276461055786655\n",
      "This is the 664 time's iteration. The loss is 4.8096832704402335. The k is 13.126508897361784, and b is -60.27030356141432\n",
      "This is the 665 time's iteration. The loss is 4.809485142771268. The k is 13.125541140804469, and b is -60.2641475477486\n",
      "This is the 666 time's iteration. The loss is 4.809287062746517. The k is 13.124573616965764, and b is -60.25799301443342\n",
      "This is the 667 time's iteration. The loss is 4.80908903035451. The k is 13.123606325789705, and b is -60.25183996111279\n",
      "This is the 668 time's iteration. The loss is 4.808891045583805. The k is 13.122639267220347, and b is -60.24568838743083\n",
      "This is the 669 time's iteration. The loss is 4.808693108422945. The k is 13.121672441201751, and b is -60.239538293031714\n",
      "This is the 670 time's iteration. The loss is 4.808495218860482. The k is 13.120705847677996, and b is -60.23338967755972\n",
      "This is the 671 time's iteration. The loss is 4.808297376884965. The k is 13.119739486593176, and b is -60.227242540659205\n",
      "This is the 672 time's iteration. The loss is 4.808099582484969. The k is 13.11877335789139, and b is -60.22109688197462\n",
      "This is the 673 time's iteration. The loss is 4.807901835649032. The k is 13.117807461516762, and b is -60.21495270115048\n",
      "This is the 674 time's iteration. The loss is 4.807704136365725. The k is 13.11684179741342, and b is -60.208809997831416\n",
      "This is the 675 time's iteration. The loss is 4.807506484623614. The k is 13.115876365525512, and b is -60.202668771662125\n",
      "This is the 676 time's iteration. The loss is 4.80730888041126. The k is 13.114911165797196, and b is -60.19652902228739\n",
      "This is the 677 time's iteration. The loss is 4.807111323717235. The k is 13.113946198172643, and b is -60.19039074935209\n",
      "This is the 678 time's iteration. The loss is 4.806913814530126. The k is 13.11298146259604, and b is -60.18425395250117\n",
      "This is the 679 time's iteration. The loss is 4.806716352838499. The k is 13.112016959011582, and b is -60.17811863137969\n",
      "This is the 680 time's iteration. The loss is 4.806518938630919. The k is 13.111052687363486, and b is -60.17198478563276\n",
      "This is the 681 time's iteration. The loss is 4.806321571895992. The k is 13.110088647595976, and b is -60.1658524149056\n",
      "This is the 682 time's iteration. The loss is 4.806124252622283. The k is 13.10912483965329, and b is -60.15972151884351\n",
      "This is the 683 time's iteration. The loss is 4.805926980798392. The k is 13.108161263479682, and b is -60.153592097091874\n",
      "This is the 684 time's iteration. The loss is 4.805729756412899. The k is 13.107197919019418, and b is -60.14746414929616\n"
     ]
    },
    {
     "name": "stdout",
     "output_type": "stream",
     "text": [
      "This is the 685 time's iteration. The loss is 4.805532579454403. The k is 13.106234806216776, and b is -60.14133767510193\n",
      "This is the 686 time's iteration. The loss is 4.805335449911496. The k is 13.105271925016051, and b is -60.135212674154815\n",
      "This is the 687 time's iteration. The loss is 4.805138367772772. The k is 13.104309275361548, and b is -60.12908914610054\n",
      "This is the 688 time's iteration. The loss is 4.804941333026844. The k is 13.103346857197586, and b is -60.122967090584915\n",
      "This is the 689 time's iteration. The loss is 4.8047443456623045. The k is 13.102384670468497, and b is -60.11684650725384\n",
      "This is the 690 time's iteration. The loss is 4.804547405667761. The k is 13.10142271511863, and b is -60.110727395753294\n",
      "This is the 691 time's iteration. The loss is 4.804350513031823. The k is 13.100460991092344, and b is -60.10460975572934\n",
      "This is the 692 time's iteration. The loss is 4.8041536677431065. The k is 13.09949949833401, and b is -60.098493586828134\n",
      "This is the 693 time's iteration. The loss is 4.80395686979022. The k is 13.098538236788018, and b is -60.092378888695904\n",
      "This is the 694 time's iteration. The loss is 4.80376011916178. The k is 13.097577206398764, and b is -60.086265660978974\n",
      "This is the 695 time's iteration. The loss is 4.803563415846409. The k is 13.096616407110664, and b is -60.080153903323755\n",
      "This is the 696 time's iteration. The loss is 4.8033667598327305. The k is 13.095655838868144, and b is -60.07404361537673\n",
      "This is the 697 time's iteration. The loss is 4.803170151109376. The k is 13.094695501615643, and b is -60.06793479678448\n",
      "This is the 698 time's iteration. The loss is 4.802973589664958. The k is 13.093735395297614, and b is -60.061827447193664\n",
      "This is the 699 time's iteration. The loss is 4.80277707548812. The k is 13.092775519858526, and b is -60.05572156625103\n",
      "This is the 700 time's iteration. The loss is 4.802580608567487. The k is 13.091815875242858, and b is -60.04961715360341\n",
      "This is the 701 time's iteration. The loss is 4.8023841888917. The k is 13.090856461395102, and b is -60.04351420889771\n",
      "This is the 702 time's iteration. The loss is 4.802187816449398. The k is 13.089897278259766, and b is -60.03741273178094\n",
      "This is the 703 time's iteration. The loss is 4.80199149122922. The k is 13.088938325781369, and b is -60.031312721900186\n",
      "This is the 704 time's iteration. The loss is 4.801795213219815. The k is 13.087979603904445, and b is -60.025214178902615\n",
      "This is the 705 time's iteration. The loss is 4.801598982409829. The k is 13.087021112573542, and b is -60.01911710243548\n",
      "This is the 706 time's iteration. The loss is 4.8014027987879. The k is 13.086062851733217, and b is -60.01302149214612\n",
      "This is the 707 time's iteration. The loss is 4.801206662342704. The k is 13.085104821328047, and b is -60.00692734768197\n",
      "This is the 708 time's iteration. The loss is 4.801010573062872. The k is 13.084147021302616, and b is -60.00083466869054\n",
      "This is the 709 time's iteration. The loss is 4.800814530937078. The k is 13.083189451601527, and b is -59.99474345481941\n",
      "This is the 710 time's iteration. The loss is 4.800618535953982. The k is 13.08223211216939, and b is -59.98865370571627\n",
      "This is the 711 time's iteration. The loss is 4.800422588102231. The k is 13.081275002950834, and b is -59.98256542102888\n",
      "This is the 712 time's iteration. The loss is 4.800226687370521. The k is 13.080318123890498, and b is -59.97647860040509\n",
      "This is the 713 time's iteration. The loss is 4.80003083374749. The k is 13.079361474933036, and b is -59.97039324349283\n",
      "This is the 714 time's iteration. The loss is 4.79983502722182. The k is 13.078405056023113, and b is -59.96430934994012\n",
      "This is the 715 time's iteration. The loss is 4.799639267782198. The k is 13.07744886710541, and b is -59.958226919395074\n",
      "This is the 716 time's iteration. The loss is 4.799443555417289. The k is 13.07649290812462, and b is -59.95214595150586\n",
      "This is the 717 time's iteration. The loss is 4.799247890115777. The k is 13.075537179025453, and b is -59.94606644592076\n",
      "This is the 718 time's iteration. The loss is 4.799052271866337. The k is 13.074581679752624, and b is -59.93998840228814\n",
      "This is the 719 time's iteration. The loss is 4.798856700657662. The k is 13.073626410250869, and b is -59.93391182025642\n",
      "This is the 720 time's iteration. The loss is 4.798661176478449. The k is 13.072671370464931, and b is -59.927836699474135\n",
      "This is the 721 time's iteration. The loss is 4.798465699317366. The k is 13.071716560339574, and b is -59.9217630395899\n",
      "This is the 722 time's iteration. The loss is 4.79827026916312. The k is 13.070761979819569, and b is -59.9156908402524\n",
      "This is the 723 time's iteration. The loss is 4.798074886004405. The k is 13.069807628849702, and b is -59.90962010111043\n",
      "This is the 724 time's iteration. The loss is 4.797879549829923. The k is 13.068853507374772, and b is -59.903550821812836\n",
      "This is the 725 time's iteration. The loss is 4.797684260628375. The k is 13.067899615339593, and b is -59.89748300200857\n",
      "This is the 726 time's iteration. The loss is 4.797489018388459. The k is 13.066945952688993, and b is -59.89141664134667\n",
      "This is the 727 time's iteration. The loss is 4.79729382309889. The k is 13.065992519367807, and b is -59.885351739476256\n",
      "This is the 728 time's iteration. The loss is 4.797098674748373. The k is 13.065039315320892, and b is -59.87928829604652\n",
      "This is the 729 time's iteration. The loss is 4.79690357332562. The k is 13.06408634049311, and b is -59.87322631070675\n",
      "This is the 730 time's iteration. The loss is 4.796708518819346. The k is 13.063133594829344, and b is -59.867165783106316\n",
      "This is the 731 time's iteration. The loss is 4.796513511218276. The k is 13.062181078274483, and b is -59.861106712894674\n",
      "This is the 732 time's iteration. The loss is 4.7963185505111205. The k is 13.061228790773434, and b is -59.855049099721356\n",
      "This is the 733 time's iteration. The loss is 4.796123636686609. The k is 13.060276732271117, and b is -59.84899294323599\n",
      "This is the 734 time's iteration. The loss is 4.795928769733469. The k is 13.059324902712461, and b is -59.842938243088284\n",
      "This is the 735 time's iteration. The loss is 4.795733949640421. The k is 13.058373302042414, and b is -59.83688499892803\n",
      "This is the 736 time's iteration. The loss is 4.7955391763962085. The k is 13.057421930205935, and b is -59.830833210405096\n",
      "This is the 737 time's iteration. The loss is 4.795344449989552. The k is 13.056470787147994, and b is -59.82478287716945\n",
      "This is the 738 time's iteration. The loss is 4.795149770409199. The k is 13.055519872813578, and b is -59.81873399887113\n",
      "This is the 739 time's iteration. The loss is 4.7949551376438855. The k is 13.054569187147685, and b is -59.81268657516027\n",
      "This is the 740 time's iteration. The loss is 4.794760551682353. The k is 13.053618730095325, and b is -59.80664060568708\n",
      "This is the 741 time's iteration. The loss is 4.7945660125133465. The k is 13.052668501601524, and b is -59.80059609010185\n",
      "This is the 742 time's iteration. The loss is 4.794371520125618. The k is 13.051718501611319, and b is -59.79455302805496\n",
      "This is the 743 time's iteration. The loss is 4.794177074507912. The k is 13.050768730069763, and b is -59.78851141919689\n",
      "This is the 744 time's iteration. The loss is 4.793982675648982. The k is 13.04981918692192, and b is -59.782471263178174\n",
      "This is the 745 time's iteration. The loss is 4.793788323537588. The k is 13.048869872112865, and b is -59.77643255964945\n",
      "This is the 746 time's iteration. The loss is 4.793594018162482. The k is 13.047920785587694, and b is -59.77039530826143\n",
      "This is the 747 time's iteration. The loss is 4.793399759512434. The k is 13.046971927291505, and b is -59.76435950866492\n",
      "This is the 748 time's iteration. The loss is 4.793205547576198. The k is 13.04602329716942, and b is -59.75832516051079\n",
      "This is the 749 time's iteration. The loss is 4.7930113823425495. The k is 13.045074895166568, and b is -59.75229226345003\n",
      "This is the 750 time's iteration. The loss is 4.792817263800255. The k is 13.044126721228091, and b is -59.74626081713368\n",
      "This is the 751 time's iteration. The loss is 4.7926231919380875. The k is 13.043178775299149, and b is -59.740230821212876\n",
      "This is the 752 time's iteration. The loss is 4.792429166744818. The k is 13.042231057324909, and b is -59.734202275338845\n"
     ]
    },
    {
     "name": "stdout",
     "output_type": "stream",
     "text": [
      "This is the 753 time's iteration. The loss is 4.792235188209221. The k is 13.041283567250556, and b is -59.72817517916288\n",
      "This is the 754 time's iteration. The loss is 4.792041256320091. The k is 13.040336305021285, and b is -59.72214953233638\n",
      "This is the 755 time's iteration. The loss is 4.791847978620749. The k is 13.039389270582307, and b is -59.716125334510814\n",
      "This is the 756 time's iteration. The loss is 4.791655509238005. The k is 13.038442463878845, and b is -59.71010258533773\n",
      "This is the 757 time's iteration. The loss is 4.791463086138805. The k is 13.037495884856133, and b is -59.70408128446877\n",
      "This is the 758 time's iteration. The loss is 4.791270709312019. The k is 13.036549533459421, and b is -59.698061431555665\n",
      "This is the 759 time's iteration. The loss is 4.791078378746528. The k is 13.035603409633971, and b is -59.69204302625022\n",
      "This is the 760 time's iteration. The loss is 4.7908860944312. The k is 13.034657513325062, and b is -59.68602606820431\n",
      "This is the 761 time's iteration. The loss is 4.790693856354917. The k is 13.033711844477976, and b is -59.680010557069934\n",
      "This is the 762 time's iteration. The loss is 4.790501664506563. The k is 13.032766403038021, and b is -59.67399649249913\n",
      "This is the 763 time's iteration. The loss is 4.790309518875013. The k is 13.031821188950508, and b is -59.66798387414405\n",
      "This is the 764 time's iteration. The loss is 4.790117419449163. The k is 13.030876202160766, and b is -59.661972701656914\n",
      "This is the 765 time's iteration. The loss is 4.789925366217895. The k is 13.029931442614137, and b is -59.655962974690034\n",
      "This is the 766 time's iteration. The loss is 4.789733359170098. The k is 13.028986910255973, and b is -59.6499546928958\n",
      "This is the 767 time's iteration. The loss is 4.789541398294673. The k is 13.028042605031645, and b is -59.64394785592668\n",
      "This is the 768 time's iteration. The loss is 4.789349483580519. The k is 13.027098526886531, and b is -59.63794246343525\n",
      "This is the 769 time's iteration. The loss is 4.789157615016529. The k is 13.026154675766024, and b is -59.63193851507415\n",
      "This is the 770 time's iteration. The loss is 4.788965792591597. The k is 13.025211051615535, and b is -59.6259360104961\n",
      "This is the 771 time's iteration. The loss is 4.788774016294652. The k is 13.02426765438048, and b is -59.61993494935391\n",
      "This is the 772 time's iteration. The loss is 4.788582286114582. The k is 13.023324484006295, and b is -59.61393533130048\n",
      "This is the 773 time's iteration. The loss is 4.788390602040301. The k is 13.022381540438424, and b is -59.607937155988786\n",
      "This is the 774 time's iteration. The loss is 4.788198964060719. The k is 13.021438823622328, and b is -59.60194042307188\n",
      "This is the 775 time's iteration. The loss is 4.788007372164763. The k is 13.020496333503477, and b is -59.595945132202914\n",
      "This is the 776 time's iteration. The loss is 4.7878158263413395. The k is 13.019554070027358, and b is -59.58995128303511\n",
      "This is the 777 time's iteration. The loss is 4.787624326579369. The k is 13.01861203313947, and b is -59.58395887522179\n",
      "This is the 778 time's iteration. The loss is 4.78743386522183. The k is 13.017670222785325, and b is -59.57796790841634\n",
      "This is the 779 time's iteration. The loss is 4.78724418112446. The k is 13.016728638910449, and b is -59.57197838227224\n",
      "This is the 780 time's iteration. The loss is 4.787054542640853. The k is 13.015787281460378, and b is -59.56599029644305\n",
      "This is the 781 time's iteration. The loss is 4.786864949760032. The k is 13.014846150380665, and b is -59.56000365058241\n",
      "This is the 782 time's iteration. The loss is 4.786675402471052. The k is 13.013905245616872, and b is -59.55401844434405\n",
      "This is the 783 time's iteration. The loss is 4.7864859007629255. The k is 13.012964567114578, and b is -59.548034677381786\n",
      "This is the 784 time's iteration. The loss is 4.786296444624712. The k is 13.01202411481937, and b is -59.542052349349504\n",
      "This is the 785 time's iteration. The loss is 4.786107034045447. The k is 13.011083888676856, and b is -59.53607145990119\n",
      "This is the 786 time's iteration. The loss is 4.785917669014163. The k is 13.010143888632651, and b is -59.53009200869089\n",
      "This is the 787 time's iteration. The loss is 4.785728349519925. The k is 13.009204114632384, and b is -59.524113995372765\n",
      "This is the 788 time's iteration. The loss is 4.7855390755517675. The k is 13.008264566621698, and b is -59.51813741960103\n",
      "This is the 789 time's iteration. The loss is 4.785349847098761. The k is 13.00732524454625, and b is -59.51216228103001\n",
      "This is the 790 time's iteration. The loss is 4.785160664149943. The k is 13.006386148351707, and b is -59.50618857931408\n",
      "This is the 791 time's iteration. The loss is 4.784971526694374. The k is 13.005447277983752, and b is -59.500216314107725\n",
      "This is the 792 time's iteration. The loss is 4.784782434721118. The k is 13.00450863338808, and b is -59.494245485065505\n",
      "This is the 793 time's iteration. The loss is 4.784593388219239. The k is 13.003570214510397, and b is -59.48827609184206\n",
      "This is the 794 time's iteration. The loss is 4.784404387177802. The k is 13.002632021296426, and b is -59.482308134092115\n",
      "This is the 795 time's iteration. The loss is 4.78421543158587. The k is 13.001694053691903, and b is -59.476341611470474\n",
      "This is the 796 time's iteration. The loss is 4.784026521432517. The k is 13.00075631164257, and b is -59.470376523632034\n",
      "This is the 797 time's iteration. The loss is 4.783837656706816. The k is 12.99981879509419, and b is -59.46441287023177\n",
      "This is the 798 time's iteration. The loss is 4.783648837397844. The k is 12.99888150399254, and b is -59.45845065092474\n",
      "This is the 799 time's iteration. The loss is 4.783460063494673. The k is 12.997944438283401, and b is -59.45248986536608\n",
      "This is the 800 time's iteration. The loss is 4.783271334986402. The k is 12.997007597912575, and b is -59.44653051321102\n",
      "This is the 801 time's iteration. The loss is 4.783082651862095. The k is 12.996070982825872, and b is -59.44057259411486\n",
      "This is the 802 time's iteration. The loss is 4.782894014110845. The k is 12.99513459296912, and b is -59.43461610773299\n",
      "This is the 803 time's iteration. The loss is 4.782705421721739. The k is 12.994198428288156, and b is -59.42866105372089\n",
      "This is the 804 time's iteration. The loss is 4.782517275893561. The k is 12.993262488728831, and b is -59.422707431734096\n",
      "This is the 805 time's iteration. The loss is 4.7823318850510175. The k is 12.99232677423701, and b is -59.41675524142826\n",
      "This is the 806 time's iteration. The loss is 4.782146538789826. The k is 12.991391284758572, and b is -59.410804482459106\n",
      "This is the 807 time's iteration. The loss is 4.781961237099272. The k is 12.990456020239408, and b is -59.404855154482426\n",
      "This is the 808 time's iteration. The loss is 4.781775979968634. The k is 12.989520980625418, and b is -59.398907257154114\n",
      "This is the 809 time's iteration. The loss is 4.781590767387195. The k is 12.988586165862522, and b is -59.39296079013014\n",
      "This is the 810 time's iteration. The loss is 4.781405599344244. The k is 12.987651575896647, and b is -59.38701575306655\n",
      "This is the 811 time's iteration. The loss is 4.781220475829082. The k is 12.986717210673737, and b is -59.38107214561948\n",
      "This is the 812 time's iteration. The loss is 4.781035396830985. The k is 12.985783070139748, and b is -59.37512996744514\n",
      "This is the 813 time's iteration. The loss is 4.780850362339249. The k is 12.984849154240646, and b is -59.36918921819984\n",
      "This is the 814 time's iteration. The loss is 4.780665372343174. The k is 12.983915462922415, and b is -59.36324989753996\n",
      "This is the 815 time's iteration. The loss is 4.78048042683207. The k is 12.982981996131048, and b is -59.35731200512196\n",
      "This is the 816 time's iteration. The loss is 4.780295525795234. The k is 12.982048753812554, and b is -59.35137554060239\n",
      "This is the 817 time's iteration. The loss is 4.7801106692219655. The k is 12.981115735912953, and b is -59.34544050363788\n",
      "This is the 818 time's iteration. The loss is 4.779925857101563. The k is 12.980182942378278, and b is -59.339506893885144\n",
      "This is the 819 time's iteration. The loss is 4.779741089423369. The k is 12.979250373154574, and b is -59.33357471100098\n",
      "This is the 820 time's iteration. The loss is 4.7795563661766645. The k is 12.978318028187903, and b is -59.327643954642255\n"
     ]
    },
    {
     "name": "stdout",
     "output_type": "stream",
     "text": [
      "This is the 821 time's iteration. The loss is 4.77937168735078. The k is 12.977385907424338, and b is -59.32171462446594\n",
      "This is the 822 time's iteration. The loss is 4.779187052935034. The k is 12.976454010809963, and b is -59.315786720129076\n",
      "This is the 823 time's iteration. The loss is 4.779002462918741. The k is 12.975522338290874, and b is -59.30986024128878\n",
      "This is the 824 time's iteration. The loss is 4.77881791729123. The k is 12.974590889813186, and b is -59.30393518760227\n",
      "This is the 825 time's iteration. The loss is 4.778633416041821. The k is 12.973659665323021, and b is -59.298011558726834\n",
      "This is the 826 time's iteration. The loss is 4.778448959159848. The k is 12.97272866476652, and b is -59.29208935431984\n",
      "This is the 827 time's iteration. The loss is 4.778264546634628. The k is 12.971797888089828, and b is -59.28616857403875\n",
      "This is the 828 time's iteration. The loss is 4.7780801784555145. The k is 12.97086733523911, and b is -59.28024921754109\n",
      "This is the 829 time's iteration. The loss is 4.777895854611836. The k is 12.969937006160542, and b is -59.27433128448449\n",
      "This is the 830 time's iteration. The loss is 4.777711575092931. The k is 12.969006900800315, and b is -59.26841477452665\n",
      "This is the 831 time's iteration. The loss is 4.777527339888134. The k is 12.96807701910463, and b is -59.262499687325345\n",
      "This is the 832 time's iteration. The loss is 4.777343148986793. The k is 12.9671473610197, and b is -59.25658602253845\n",
      "This is the 833 time's iteration. The loss is 4.7771590023782595. The k is 12.966217926491753, and b is -59.25067377982391\n",
      "This is the 834 time's iteration. The loss is 4.776974900051872. The k is 12.96528871546703, and b is -59.244762958839765\n",
      "This is the 835 time's iteration. The loss is 4.77679084199699. The k is 12.964359727891788, and b is -59.23885355924412\n",
      "This is the 836 time's iteration. The loss is 4.776606828202967. The k is 12.963430963712291, and b is -59.23294558069517\n",
      "This is the 837 time's iteration. The loss is 4.776422858659155. The k is 12.962502422874818, and b is -59.227039022851194\n",
      "This is the 838 time's iteration. The loss is 4.776238933354918. The k is 12.961574105325662, and b is -59.221133885370556\n",
      "This is the 839 time's iteration. The loss is 4.776055052279616. The k is 12.960646011011127, and b is -59.21523016791169\n",
      "This is the 840 time's iteration. The loss is 4.775871215422615. The k is 12.959718139877534, and b is -59.20932787013313\n",
      "This is the 841 time's iteration. The loss is 4.775687422773269. The k is 12.958790491871213, and b is -59.203426991693476\n",
      "This is the 842 time's iteration. The loss is 4.775503674320963. The k is 12.957863066938506, and b is -59.197527532251414\n",
      "This is the 843 time's iteration. The loss is 4.775319970055066. The k is 12.956935865025773, and b is -59.19162949146572\n",
      "This is the 844 time's iteration. The loss is 4.775136309964947. The k is 12.956008886079383, and b is -59.18573286899524\n",
      "This is the 845 time's iteration. The loss is 4.774952694039985. The k is 12.955082130045717, and b is -59.17983766449891\n",
      "This is the 846 time's iteration. The loss is 4.7747691222695625. The k is 12.954155596871175, and b is -59.17394387763576\n",
      "This is the 847 time's iteration. The loss is 4.774585594643057. The k is 12.953229286502161, and b is -59.16805150806487\n",
      "This is the 848 time's iteration. The loss is 4.774402111149856. The k is 12.952303198885097, and b is -59.16216055544543\n",
      "This is the 849 time's iteration. The loss is 4.774218671779347. The k is 12.95137733396642, and b is -59.1562710194367\n",
      "This is the 850 time's iteration. The loss is 4.774035276520911. The k is 12.950451691692576, and b is -59.15038289969803\n",
      "This is the 851 time's iteration. The loss is 4.773851925363958. The k is 12.949526272010024, and b is -59.14449619588884\n",
      "This is the 852 time's iteration. The loss is 4.773668618297869. The k is 12.94860107486524, and b is -59.13861090766864\n",
      "This is the 853 time's iteration. The loss is 4.773485355312044. The k is 12.947676100204704, and b is -59.13272703469702\n",
      "This is the 854 time's iteration. The loss is 4.773302136395886. The k is 12.94675134797492, and b is -59.12684457663365\n",
      "This is the 855 time's iteration. The loss is 4.773118961538796. The k is 12.945826818122399, and b is -59.12096353313829\n",
      "This is the 856 time's iteration. The loss is 4.772935830730175. The k is 12.944902510593664, and b is -59.11508390387077\n",
      "This is the 857 time's iteration. The loss is 4.772752743959438. The k is 12.943978425335253, and b is -59.10920568849101\n",
      "This is the 858 time's iteration. The loss is 4.772569701215985. The k is 12.943054562293716, and b is -59.10332888665901\n",
      "This is the 859 time's iteration. The loss is 4.772386702489237. The k is 12.942130921415615, and b is -59.09745349803484\n",
      "This is the 860 time's iteration. The loss is 4.772203747768613. The k is 12.941207502647526, and b is -59.09157952227867\n",
      "This is the 861 time's iteration. The loss is 4.77202083704352. The k is 12.940284305936038, and b is -59.08570695905075\n",
      "This is the 862 time's iteration. The loss is 4.771837970303387. The k is 12.939361331227754, and b is -59.07983580801141\n",
      "This is the 863 time's iteration. The loss is 4.771655147537627. The k is 12.938438578469286, and b is -59.07396606882104\n",
      "This is the 864 time's iteration. The loss is 4.771472368735673. The k is 12.937516047607264, and b is -59.06809774114015\n",
      "This is the 865 time's iteration. The loss is 4.771289633886958. The k is 12.936593738588327, and b is -59.062230824629296\n",
      "This is the 866 time's iteration. The loss is 4.771106942980898. The k is 12.935671651359126, and b is -59.05636531894913\n",
      "This is the 867 time's iteration. The loss is 4.770924296006934. The k is 12.93474978586633, and b is -59.0505012237604\n",
      "This is the 868 time's iteration. The loss is 4.7707416929545055. The k is 12.933828142056614, and b is -59.04463853872391\n",
      "This is the 869 time's iteration. The loss is 4.770559133813046. The k is 12.932906719876671, and b is -59.03877726350056\n",
      "This is the 870 time's iteration. The loss is 4.770376618571991. The k is 12.931985519273207, and b is -59.03291739775133\n",
      "This is the 871 time's iteration. The loss is 4.770194147220796. The k is 12.931064540192937, and b is -59.027058941137284\n",
      "This is the 872 time's iteration. The loss is 4.770011719748896. The k is 12.93014378258259, and b is -59.02120189331956\n",
      "This is the 873 time's iteration. The loss is 4.769829336145745. The k is 12.92922324638891, and b is -59.01534625395938\n",
      "This is the 874 time's iteration. The loss is 4.769646996400786. The k is 12.928302931558653, and b is -59.00949202271805\n",
      "This is the 875 time's iteration. The loss is 4.769464700503486. The k is 12.927382838038586, and b is -59.00363919925696\n",
      "This is the 876 time's iteration. The loss is 4.769282448443287. The k is 12.926462965775489, and b is -58.99778778323758\n",
      "This is the 877 time's iteration. The loss is 4.769100240209658. The k is 12.925543314716158, and b is -58.99193777432145\n",
      "This is the 878 time's iteration. The loss is 4.768918075792056. The k is 12.924623884807401, and b is -58.98608917217021\n",
      "This is the 879 time's iteration. The loss is 4.768735955179941. The k is 12.923704675996033, and b is -58.98024197644557\n",
      "This is the 880 time's iteration. The loss is 4.768553878362782. The k is 12.92278568822889, and b is -58.974396186809315\n",
      "This is the 881 time's iteration. The loss is 4.768371845330046. The k is 12.921866921452816, and b is -58.96855180292333\n",
      "This is the 882 time's iteration. The loss is 4.768189856071202. The k is 12.920948375614667, and b is -58.962708824449564\n",
      "This is the 883 time's iteration. The loss is 4.768007910575739. The k is 12.920030050661314, and b is -58.95686725105006\n",
      "This is the 884 time's iteration. The loss is 4.767826008833113. The k is 12.919111946539644, and b is -58.951027082386936\n",
      "This is the 885 time's iteration. The loss is 4.767644150832814. The k is 12.918194063196548, and b is -58.94518831812239\n",
      "This is the 886 time's iteration. The loss is 4.767462336564317. The k is 12.917276400578938, and b is -58.9393509579187\n",
      "This is the 887 time's iteration. The loss is 4.767280566017109. The k is 12.916358958633735, and b is -58.93351500143823\n",
      "This is the 888 time's iteration. The loss is 4.767098839180678. The k is 12.915441737307873, and b is -58.92768044834343\n",
      "This is the 889 time's iteration. The loss is 4.766917156044506. The k is 12.9145247365483, and b is -58.92184729829682\n"
     ]
    },
    {
     "name": "stdout",
     "output_type": "stream",
     "text": [
      "This is the 890 time's iteration. The loss is 4.766735516598091. The k is 12.913607956301975, and b is -58.916015550961\n",
      "This is the 891 time's iteration. The loss is 4.766553920830929. The k is 12.912691396515871, and b is -58.910185205998665\n",
      "This is the 892 time's iteration. The loss is 4.766372368732509. The k is 12.911775057136973, and b is -58.90435626307258\n",
      "This is the 893 time's iteration. The loss is 4.7661908602923315. The k is 12.91085893811228, and b is -58.898528721845594\n",
      "This is the 894 time's iteration. The loss is 4.766009395499904. The k is 12.909943039388802, and b is -58.892702581980636\n",
      "This is the 895 time's iteration. The loss is 4.765827974344726. The k is 12.909027360913564, and b is -58.886877843140724\n",
      "This is the 896 time's iteration. The loss is 4.7656465968163015. The k is 12.908111902633602, and b is -58.881054504988946\n",
      "This is the 897 time's iteration. The loss is 4.765465262904141. The k is 12.907196664495963, and b is -58.87523256718847\n",
      "This is the 898 time's iteration. The loss is 4.76528397259776. The k is 12.906281646447711, and b is -58.869412029402554\n",
      "This is the 899 time's iteration. The loss is 4.765102725886662. The k is 12.905366848435921, and b is -58.86359289129454\n",
      "This is the 900 time's iteration. The loss is 4.764921522760376. The k is 12.904452270407681, and b is -58.857775152527836\n",
      "This is the 901 time's iteration. The loss is 4.7647403632084195. The k is 12.903537912310089, and b is -58.85195881276594\n",
      "This is the 902 time's iteration. The loss is 4.764559247220307. The k is 12.902623774090257, and b is -58.84614387167244\n",
      "This is the 903 time's iteration. The loss is 4.764378174785565. The k is 12.901709855695312, and b is -58.84033032891098\n",
      "This is the 904 time's iteration. The loss is 4.764197145893723. The k is 12.900796157072394, and b is -58.83451818414531\n",
      "This is the 905 time's iteration. The loss is 4.764016160534306. The k is 12.89988267816865, and b is -58.82870743703925\n",
      "This is the 906 time's iteration. The loss is 4.763835218696846. The k is 12.898969418931248, and b is -58.822898087256696\n",
      "This is the 907 time's iteration. The loss is 4.763654320370887. The k is 12.89805637930736, and b is -58.81709013446164\n",
      "This is the 908 time's iteration. The loss is 4.763473465545952. The k is 12.897143559244178, and b is -58.81128357831813\n",
      "This is the 909 time's iteration. The loss is 4.7632926542115825. The k is 12.896230958688903, and b is -58.805478418490324\n",
      "This is the 910 time's iteration. The loss is 4.763111886357338. The k is 12.895318577588748, and b is -58.799674654642445\n",
      "This is the 911 time's iteration. The loss is 4.762931161972737. The k is 12.894406415890943, and b is -58.79387228643879\n",
      "This is the 912 time's iteration. The loss is 4.7627504810473384. The k is 12.893494473542725, and b is -58.78807131354375\n",
      "This is the 913 time's iteration. The loss is 4.762569843570697. The k is 12.892582750491348, and b is -58.7822717356218\n",
      "This is the 914 time's iteration. The loss is 4.762389249532353. The k is 12.891671246684076, and b is -58.77647355233747\n",
      "This is the 915 time's iteration. The loss is 4.762208698921865. The k is 12.89075996206819, and b is -58.770676763355404\n",
      "This is the 916 time's iteration. The loss is 4.762028191728789. The k is 12.889848896590976, and b is -58.764881368340305\n",
      "This is the 917 time's iteration. The loss is 4.761847727942694. The k is 12.88893805019974, and b is -58.75908736695697\n",
      "This is the 918 time's iteration. The loss is 4.761667307553137. The k is 12.888027422841798, and b is -58.753294758870254\n",
      "This is the 919 time's iteration. The loss is 4.761486930549669. The k is 12.887117014464478, and b is -58.74750354374512\n",
      "This is the 920 time's iteration. The loss is 4.761306596921876. The k is 12.88620682501512, and b is -58.7417137212466\n",
      "This is the 921 time's iteration. The loss is 4.7611263066593095. The k is 12.885296854441082, and b is -58.7359252910398\n",
      "This is the 922 time's iteration. The loss is 4.760946059751554. The k is 12.884387102689727, and b is -58.730138252789914\n",
      "This is the 923 time's iteration. The loss is 4.760765856188187. The k is 12.883477569708434, and b is -58.72435260616221\n",
      "This is the 924 time's iteration. The loss is 4.760585695958774. The k is 12.882568255444596, and b is -58.71856835082205\n",
      "This is the 925 time's iteration. The loss is 4.760405579052899. The k is 12.881659159845617, and b is -58.71278548643487\n",
      "This is the 926 time's iteration. The loss is 4.760225505460141. The k is 12.880750282858914, and b is -58.707004012666175\n",
      "This is the 927 time's iteration. The loss is 4.760045475170095. The k is 12.879841624431918, and b is -58.701223929181566\n",
      "This is the 928 time's iteration. The loss is 4.759865488172337. The k is 12.878933184512071, and b is -58.695445235646716\n",
      "This is the 929 time's iteration. The loss is 4.759685544456453. The k is 12.878024963046828, and b is -58.68966793172738\n",
      "This is the 930 time's iteration. The loss is 4.759505644012049. The k is 12.877116959983656, and b is -58.68389201708939\n",
      "This is the 931 time's iteration. The loss is 4.75932578682871. The k is 12.876209175270038, and b is -58.67811749139867\n",
      "This is the 932 time's iteration. The loss is 4.759145972896031. The k is 12.875301608853462, and b is -58.67234435432122\n",
      "This is the 933 time's iteration. The loss is 4.758966202203622. The k is 12.874394260681438, and b is -58.6665726055231\n",
      "This is the 934 time's iteration. The loss is 4.7587864747410755. The k is 12.873487130701482, and b is -58.660802244670485\n",
      "This is the 935 time's iteration. The loss is 4.7586067904980025. The k is 12.872580218861126, and b is -58.6550332714296\n",
      "This is the 936 time's iteration. The loss is 4.758427149464. The k is 12.871673525107912, and b is -58.64926568546677\n",
      "This is the 937 time's iteration. The loss is 4.7582475516286875. The k is 12.870767049389398, and b is -58.6434994864484\n",
      "This is the 938 time's iteration. The loss is 4.758067996981672. The k is 12.869860791653153, and b is -58.637734674040956\n",
      "This is the 939 time's iteration. The loss is 4.757888485512568. The k is 12.868954751846756, and b is -58.631971247911\n",
      "This is the 940 time's iteration. The loss is 4.757709017210996. The k is 12.868048929917803, and b is -58.62620920772517\n",
      "This is the 941 time's iteration. The loss is 4.757529592066569. The k is 12.867143325813899, and b is -58.62044855315018\n",
      "This is the 942 time's iteration. The loss is 4.757350210068914. The k is 12.866237939482664, and b is -58.61468928385285\n",
      "This is the 943 time's iteration. The loss is 4.757170871207661. The k is 12.86533277087173, and b is -58.60893139950004\n",
      "This is the 944 time's iteration. The loss is 4.756991575472416. The k is 12.86442781992874, and b is -58.603174899758706\n",
      "This is the 945 time's iteration. The loss is 4.7568123228528325. The k is 12.86352308660135, and b is -58.5974197842959\n",
      "This is the 946 time's iteration. The loss is 4.7566331133385304. The k is 12.862618570837235, and b is -58.591666052778734\n",
      "This is the 947 time's iteration. The loss is 4.756453946919144. The k is 12.86171427258407, and b is -58.585913704874415\n",
      "This is the 948 time's iteration. The loss is 4.756274823584313. The k is 12.860810191789554, and b is -58.580162740250216\n",
      "This is the 949 time's iteration. The loss is 4.756095743323674. The k is 12.859906328401394, and b is -58.5744131585735\n",
      "This is the 950 time's iteration. The loss is 4.755916706126876. The k is 12.859002682367308, and b is -58.5686649595117\n",
      "This is the 951 time's iteration. The loss is 4.755737711983556. The k is 12.85809925363503, and b is -58.56291814273234\n",
      "This is the 952 time's iteration. The loss is 4.755558760883355. The k is 12.857196042152305, and b is -58.55717270790302\n",
      "This is the 953 time's iteration. The loss is 4.755379852815939. The k is 12.856293047866888, and b is -58.55142865469142\n",
      "This is the 954 time's iteration. The loss is 4.755200987770952. The k is 12.85539027072655, and b is -58.5456859827653\n",
      "This is the 955 time's iteration. The loss is 4.755022165738042. The k is 12.854487710679077, and b is -58.53994469179249\n",
      "This is the 956 time's iteration. The loss is 4.754843386706875. The k is 12.85358536767226, and b is -58.53420478144092\n",
      "This is the 957 time's iteration. The loss is 4.754664650667099. The k is 12.852683241653908, and b is -58.52846625137858\n",
      "This is the 958 time's iteration. The loss is 4.754485957608391. The k is 12.851781332571843, and b is -58.522729101273555\n"
     ]
    },
    {
     "name": "stdout",
     "output_type": "stream",
     "text": [
      "This is the 959 time's iteration. The loss is 4.754307307520401. The k is 12.850879640373893, and b is -58.516993330794\n",
      "This is the 960 time's iteration. The loss is 4.754128700392805. The k is 12.84997816500791, and b is -58.51125893960816\n",
      "This is the 961 time's iteration. The loss is 4.753950136215272. The k is 12.849076906421748, and b is -58.50552592738435\n",
      "This is the 962 time's iteration. The loss is 4.7537716149774605. The k is 12.848175864563279, and b is -58.49979429379096\n",
      "This is the 963 time's iteration. The loss is 4.75359313666907. The k is 12.847275039380385, and b is -58.49406403849648\n",
      "This is the 964 time's iteration. The loss is 4.753414701279754. The k is 12.846374430820962, and b is -58.48833516116946\n",
      "This is the 965 time's iteration. The loss is 4.753236308799202. The k is 12.845474038832917, and b is -58.48260766147854\n",
      "This is the 966 time's iteration. The loss is 4.753057959217097. The k is 12.844573863364172, and b is -58.47688153909243\n",
      "This is the 967 time's iteration. The loss is 4.752879652523114. The k is 12.843673904362658, and b is -58.47115679367994\n",
      "This is the 968 time's iteration. The loss is 4.752701388706947. The k is 12.842774161776324, and b is -58.46543342490993\n",
      "This is the 969 time's iteration. The loss is 4.752523167758279. The k is 12.841874635553127, and b is -58.45971143245137\n",
      "This is the 970 time's iteration. The loss is 4.752344989666813. The k is 12.840975325641036, and b is -58.453990815973285\n",
      "This is the 971 time's iteration. The loss is 4.752166854422232. The k is 12.840076231988036, and b is -58.448271575144794\n",
      "This is the 972 time's iteration. The loss is 4.7519887620142365. The k is 12.839177354542121, and b is -58.44255370963509\n",
      "This is the 973 time's iteration. The loss is 4.751810712432525. The k is 12.8382786932513, and b is -58.43683721911345\n",
      "This is the 974 time's iteration. The loss is 4.75163270566681. The k is 12.837380248063594, and b is -58.43112210324922\n",
      "This is the 975 time's iteration. The loss is 4.7514547417067705. The k is 12.836482018927036, and b is -58.425408361711845\n",
      "This is the 976 time's iteration. The loss is 4.7512768205421345. The k is 12.835584005789672, and b is -58.41969599417083\n",
      "This is the 977 time's iteration. The loss is 4.751098942162608. The k is 12.83468620859956, and b is -58.41398500029577\n",
      "This is the 978 time's iteration. The loss is 4.750921106557889. The k is 12.83378862730477, and b is -58.408275379756326\n",
      "This is the 979 time's iteration. The loss is 4.750743313717699. The k is 12.832891261853385, and b is -58.40256713222226\n",
      "This is the 980 time's iteration. The loss is 4.75056556363176. The k is 12.831994112193502, and b is -58.3968602573634\n",
      "This is the 981 time's iteration. The loss is 4.75038785628979. The k is 12.831097178273229, and b is -58.39115475484966\n",
      "This is the 982 time's iteration. The loss is 4.750210191681497. The k is 12.830200460040686, and b is -58.385450624351016\n",
      "This is the 983 time's iteration. The loss is 4.7500325697966215. The k is 12.829303957444006, and b is -58.379747865537546\n",
      "This is the 984 time's iteration. The loss is 4.749854990624887. The k is 12.828407670431334, and b is -58.3740464780794\n",
      "This is the 985 time's iteration. The loss is 4.749677454156017. The k is 12.82751159895083, and b is -58.3683464616468\n",
      "This is the 986 time's iteration. The loss is 4.749499960379738. The k is 12.826615742950661, and b is -58.36264781591006\n",
      "This is the 987 time's iteration. The loss is 4.749322509285791. The k is 12.825720102379014, and b is -58.35695054053955\n",
      "This is the 988 time's iteration. The loss is 4.749145100863903. The k is 12.824824677184083, and b is -58.35125463520575\n",
      "This is the 989 time's iteration. The loss is 4.748967735103834. The k is 12.823929467314073, and b is -58.345560099579195\n",
      "This is the 990 time's iteration. The loss is 4.748790411995299. The k is 12.82303447271721, and b is -58.33986693333051\n",
      "This is the 991 time's iteration. The loss is 4.748613131528058. The k is 12.822139693341722, and b is -58.334175136130405\n",
      "This is the 992 time's iteration. The loss is 4.748435893691854. The k is 12.821245129135855, and b is -58.32848470764966\n",
      "This is the 993 time's iteration. The loss is 4.748258698476431. The k is 12.82035078004787, and b is -58.322795647559126\n",
      "This is the 994 time's iteration. The loss is 4.748081545871545. The k is 12.819456646026032, and b is -58.31710795552975\n",
      "This is the 995 time's iteration. The loss is 4.747904435866946. The k is 12.818562727018627, and b is -58.31142163123255\n",
      "This is the 996 time's iteration. The loss is 4.747727368452388. The k is 12.817669022973949, and b is -58.305736674338625\n",
      "This is the 997 time's iteration. The loss is 4.747550343617634. The k is 12.816775533840305, and b is -58.300053084519156\n",
      "This is the 998 time's iteration. The loss is 4.747373361352449. The k is 12.815882259566017, and b is -58.294370861445394\n",
      "This is the 999 time's iteration. The loss is 4.747196421646579. The k is 12.814989200099415, and b is -58.28869000478868\n",
      "This is the 1000 time's iteration. The loss is 4.747019524489805. The k is 12.814096355388845, and b is -58.28301051422042\n"
     ]
    }
   ],
   "source": [
    "import random\n",
    "\n",
    "k = random.random() * 100 - 100\n",
    "b = random.random() * 100 - 100\n",
    "\n",
    "learning_rate = 1e-2\n",
    "iteration_time = 1000\n",
    "losses = []\n",
    "\n",
    "X = x[:, 5]\n",
    "print(type(list(X)))\n",
    "print(type(list(y)))\n",
    "for i in range(iteration_time):\n",
    "    fitting_value = [linear_function(k, b, x) for x in X]\n",
    "    \n",
    "    loss_now = loss(list(y), fitting_value)\n",
    "    losses.append(loss_now)\n",
    "    \n",
    "    print('This is the {0} time\\'s iteration. The loss is {1}. The k is {2}, and b is {3}'.format(i + 1, loss_now, k, b))\n",
    "    \n",
    "    k = k - partial_derivative_for_k(X, y, fitting_value) * learning_rate\n",
    "    b = b - partial_derivative_for_b(y, fitting_value) * learning_rate\n",
    "    \n",
    "best_k = k\n",
    "best_b = b"
   ]
  },
  {
   "cell_type": "code",
   "execution_count": 68,
   "metadata": {
    "ExecuteTime": {
     "end_time": "2019-10-21T07:00:06.858031Z",
     "start_time": "2019-10-21T07:00:06.594655Z"
    }
   },
   "outputs": [
    {
     "data": {
      "text/plain": [
       "<matplotlib.collections.PathCollection at 0x122b0bf60>"
      ]
     },
     "execution_count": 68,
     "metadata": {},
     "output_type": "execute_result"
    },
    {
     "data": {
      "image/png": "[encoded data removed]",
      "text/plain": [
       "<Figure size 432x288 with 1 Axes>"
      ]
     },
     "metadata": {
      "needs_background": "light"
     },
     "output_type": "display_data"
    }
   ],
   "source": [
    "plt.scatter(X, linear_function(best_k, best_b, X))"
   ]
  },
  {
   "cell_type": "markdown",
   "metadata": {},
   "source": [
    "#### Summary for changing L2-norm to L1-norm\n",
    "Finally it shows convergence reaching a loss of 4.74. However, the convergence loss is related to the randomlt selected initial k and b."
   ]
  }
 ],
 "metadata": {
  "kernelspec": {
   "display_name": "Python 3",
   "language": "python",
   "name": "python3"
  },
  "language_info": {
   "codemirror_mode": {
    "name": "ipython",
    "version": 3
   },
   "file_extension": ".py",
   "mimetype": "text/x-python",
   "name": "python",
   "nbconvert_exporter": "python",
   "pygments_lexer": "ipython3",
   "version": "3.6.5"
  },
  "toc": {
   "base_numbering": 1,
   "nav_menu": {},
   "number_sections": true,
   "sideBar": true,
   "skip_h1_title": false,
   "title_cell": "Table of Contents",
   "title_sidebar": "Contents",
   "toc_cell": false,
   "toc_position": {},
   "toc_section_display": true,
   "toc_window_display": false
  }
 },
 "nbformat": 4,
 "nbformat_minor": 2
}
